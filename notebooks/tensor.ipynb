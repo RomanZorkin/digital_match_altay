{
 "cells": [
  {
   "cell_type": "code",
   "execution_count": 1,
   "metadata": {},
   "outputs": [],
   "source": [
    "# Importing the libraries\n",
    "from pathlib import Path\n",
    "\n",
    "import pandas as pd\n",
    "import numpy as np\n",
    "#from tensorflow import keras\n",
    "#from tensorflow.keras import layers\n",
    "from sklearn.model_selection import train_test_split"
   ]
  },
  {
   "cell_type": "code",
   "execution_count": null,
   "metadata": {},
   "outputs": [],
   "source": [
    "base_csv = Path('data/clean_frame.csv')"
   ]
  },
  {
   "cell_type": "code",
   "execution_count": 423,
   "metadata": {},
   "outputs": [
    {
     "data": {
      "text/plain": [
       "Index(['Код_группы', 'Год_Поступления', 'Пособие', 'Общежитие',\n",
       "       'Наличие_Матери', 'Наличие_Отца', 'Опекунство', 'Село', 'Иностранец',\n",
       "       'КодФакультета', 'СрБаллАттестата', 'Статус', 'male', 'female',\n",
       "       'birth_year_int', 'basis', 'language', 'country', 'region', 'city',\n",
       "       'parents_country'],\n",
       "      dtype='object')"
      ]
     },
     "execution_count": 423,
     "metadata": {},
     "output_type": "execute_result"
    }
   ],
   "source": [
    "base_df = pd.read_csv(base_csv, index_col='ind')\n",
    "base_df.columns"
   ]
  },
  {
   "cell_type": "code",
   "execution_count": 424,
   "metadata": {},
   "outputs": [],
   "source": [
    "base_df = base_df.fillna(0)"
   ]
  },
  {
   "cell_type": "code",
   "execution_count": 425,
   "metadata": {},
   "outputs": [
    {
     "data": {
      "text/plain": [
       "12"
      ]
     },
     "execution_count": 425,
     "metadata": {},
     "output_type": "execute_result"
    }
   ],
   "source": [
    "columns = ['Наличие_Матери', 'Село', 'Иностранец', 'СрБаллАттестата', 'Статус', 'male', 'basis','language','country', 'КодФакультета', 'Общежитие', 'parents_country']\n",
    "#columns = base_df.columns.to_list()\n",
    "priznaki = len(columns)\n",
    "priznaki"
   ]
  },
  {
   "cell_type": "code",
   "execution_count": 426,
   "metadata": {},
   "outputs": [],
   "source": [
    "frame_to_train = base_df.loc[:, columns]"
   ]
  },
  {
   "cell_type": "code",
   "execution_count": 427,
   "metadata": {},
   "outputs": [],
   "source": [
    "result_key = {\n",
    "    -1: 0,\n",
    "    3: 1,\n",
    "    4: 2,\n",
    "}"
   ]
  },
  {
   "cell_type": "code",
   "execution_count": 428,
   "metadata": {},
   "outputs": [
    {
     "data": {
      "text/html": [
       "<div>\n",
       "<style scoped>\n",
       "    .dataframe tbody tr th:only-of-type {\n",
       "        vertical-align: middle;\n",
       "    }\n",
       "\n",
       "    .dataframe tbody tr th {\n",
       "        vertical-align: top;\n",
       "    }\n",
       "\n",
       "    .dataframe thead th {\n",
       "        text-align: right;\n",
       "    }\n",
       "</style>\n",
       "<table border=\"1\" class=\"dataframe\">\n",
       "  <thead>\n",
       "    <tr style=\"text-align: right;\">\n",
       "      <th></th>\n",
       "      <th>Наличие_Матери</th>\n",
       "      <th>Село</th>\n",
       "      <th>Иностранец</th>\n",
       "      <th>СрБаллАттестата</th>\n",
       "      <th>male</th>\n",
       "      <th>basis</th>\n",
       "      <th>language</th>\n",
       "      <th>country</th>\n",
       "      <th>КодФакультета</th>\n",
       "      <th>Общежитие</th>\n",
       "      <th>parents_country</th>\n",
       "    </tr>\n",
       "    <tr>\n",
       "      <th>Статус</th>\n",
       "      <th></th>\n",
       "      <th></th>\n",
       "      <th></th>\n",
       "      <th></th>\n",
       "      <th></th>\n",
       "      <th></th>\n",
       "      <th></th>\n",
       "      <th></th>\n",
       "      <th></th>\n",
       "      <th></th>\n",
       "      <th></th>\n",
       "    </tr>\n",
       "  </thead>\n",
       "  <tbody>\n",
       "    <tr>\n",
       "      <th>0</th>\n",
       "      <td>603</td>\n",
       "      <td>603</td>\n",
       "      <td>603</td>\n",
       "      <td>603</td>\n",
       "      <td>603</td>\n",
       "      <td>603</td>\n",
       "      <td>603</td>\n",
       "      <td>603</td>\n",
       "      <td>603</td>\n",
       "      <td>603</td>\n",
       "      <td>603</td>\n",
       "    </tr>\n",
       "    <tr>\n",
       "      <th>1</th>\n",
       "      <td>4660</td>\n",
       "      <td>4660</td>\n",
       "      <td>4660</td>\n",
       "      <td>4660</td>\n",
       "      <td>4660</td>\n",
       "      <td>4660</td>\n",
       "      <td>4660</td>\n",
       "      <td>4660</td>\n",
       "      <td>4660</td>\n",
       "      <td>4660</td>\n",
       "      <td>4660</td>\n",
       "    </tr>\n",
       "    <tr>\n",
       "      <th>2</th>\n",
       "      <td>8181</td>\n",
       "      <td>8181</td>\n",
       "      <td>8181</td>\n",
       "      <td>8181</td>\n",
       "      <td>8181</td>\n",
       "      <td>8181</td>\n",
       "      <td>8181</td>\n",
       "      <td>8181</td>\n",
       "      <td>8181</td>\n",
       "      <td>8181</td>\n",
       "      <td>8181</td>\n",
       "    </tr>\n",
       "  </tbody>\n",
       "</table>\n",
       "</div>"
      ],
      "text/plain": [
       "        Наличие_Матери  Село  Иностранец  СрБаллАттестата  male  basis  \\\n",
       "Статус                                                                   \n",
       "0                  603   603         603              603   603    603   \n",
       "1                 4660  4660        4660             4660  4660   4660   \n",
       "2                 8181  8181        8181             8181  8181   8181   \n",
       "\n",
       "        language  country  КодФакультета  Общежитие  parents_country  \n",
       "Статус                                                                \n",
       "0            603      603            603        603              603  \n",
       "1           4660     4660           4660       4660             4660  \n",
       "2           8181     8181           8181       8181             8181  "
      ]
     },
     "execution_count": 428,
     "metadata": {},
     "output_type": "execute_result"
    }
   ],
   "source": [
    "for key, value in result_key.items():\n",
    "    frame_to_train.loc[frame_to_train['Статус'] == key, 'Статус'] = value\n",
    "\n",
    "frame_to_train.groupby('Статус').count()"
   ]
  },
  {
   "cell_type": "code",
   "execution_count": 429,
   "metadata": {},
   "outputs": [],
   "source": [
    "train, test = train_test_split(frame_to_train, test_size=0.20)"
   ]
  },
  {
   "cell_type": "code",
   "execution_count": 430,
   "metadata": {},
   "outputs": [],
   "source": [
    "train_input = train.drop('Статус', axis=1)\n",
    "train_output = train['Статус']"
   ]
  },
  {
   "cell_type": "code",
   "execution_count": null,
   "metadata": {},
   "outputs": [],
   "source": []
  },
  {
   "cell_type": "code",
   "execution_count": 431,
   "metadata": {},
   "outputs": [],
   "source": [
    "test_input = test.drop('Статус', axis=1)\n",
    "test_output = test['Статус']"
   ]
  },
  {
   "cell_type": "code",
   "execution_count": null,
   "metadata": {},
   "outputs": [],
   "source": []
  },
  {
   "cell_type": "code",
   "execution_count": 432,
   "metadata": {},
   "outputs": [
    {
     "data": {
      "text/plain": [
       "<bound method Series.info of ind\n",
       "5330    2\n",
       "1409    1\n",
       "7708    1\n",
       "6959    2\n",
       "2935    2\n",
       "       ..\n",
       "9618    2\n",
       "5634    2\n",
       "1506    2\n",
       "2662    2\n",
       "6530    2\n",
       "Name: Статус, Length: 10755, dtype: int64>"
      ]
     },
     "execution_count": 432,
     "metadata": {},
     "output_type": "execute_result"
    }
   ],
   "source": [
    "train_output.info"
   ]
  },
  {
   "cell_type": "code",
   "execution_count": 433,
   "metadata": {},
   "outputs": [],
   "source": [
    "input_df_size = train_input.shape[0]"
   ]
  },
  {
   "cell_type": "code",
   "execution_count": 434,
   "metadata": {},
   "outputs": [],
   "source": [
    "# Constructing the input\n",
    "x = train_input.to_numpy()\n",
    "y = train_output.values\n",
    "arr = np.transpose(x)"
   ]
  },
  {
   "cell_type": "code",
   "execution_count": 435,
   "metadata": {},
   "outputs": [
    {
     "data": {
      "text/plain": [
       "array([[2.],\n",
       "       [1.],\n",
       "       [1.],\n",
       "       ...,\n",
       "       [2.],\n",
       "       [2.],\n",
       "       [2.]])"
      ]
     },
     "execution_count": 435,
     "metadata": {},
     "output_type": "execute_result"
    }
   ],
   "source": [
    "output = np.ones((1,input_df_size))\n",
    "output[0] = y\n",
    "arr_y = output.reshape(input_df_size,1)\n",
    "arr_y"
   ]
  },
  {
   "cell_type": "code",
   "execution_count": 436,
   "metadata": {},
   "outputs": [],
   "source": [
    "# Definig the model\n",
    "model_better = keras.Sequential([\n",
    "    keras.layers.Dense(150, input_shape=(priznaki-1,), activation='relu'),\n",
    "    keras.layers.Dense(32, activation='relu'),\n",
    "    keras.layers.Dense(250, activation='relu'),    \n",
    "    keras.layers.Dense(3, activation='softmax'),\n",
    "])"
   ]
  },
  {
   "cell_type": "code",
   "execution_count": 437,
   "metadata": {},
   "outputs": [],
   "source": [
    "# Compiling the model\n",
    "model_better.compile(optimizer='Nadam',\n",
    "                     loss='sparse_categorical_crossentropy',\n",
    "                     metrics=['accuracy'])"
   ]
  },
  {
   "cell_type": "code",
   "execution_count": 438,
   "metadata": {},
   "outputs": [
    {
     "name": "stdout",
     "output_type": "stream",
     "text": [
      "Epoch 1/100\n",
      "154/154 [==============================] - 1s 839us/step - loss: 0.8037 - accuracy: 0.6077\n",
      "Epoch 2/100\n",
      "154/154 [==============================] - 0s 848us/step - loss: 0.7824 - accuracy: 0.6206\n",
      "Epoch 3/100\n",
      "154/154 [==============================] - 0s 840us/step - loss: 0.7683 - accuracy: 0.6320\n",
      "Epoch 4/100\n",
      "154/154 [==============================] - 0s 830us/step - loss: 0.7597 - accuracy: 0.6421\n",
      "Epoch 5/100\n",
      "154/154 [==============================] - 0s 849us/step - loss: 0.7532 - accuracy: 0.6461\n",
      "Epoch 6/100\n",
      "154/154 [==============================] - 0s 921us/step - loss: 0.7427 - accuracy: 0.6536\n",
      "Epoch 7/100\n",
      "154/154 [==============================] - 0s 824us/step - loss: 0.7377 - accuracy: 0.6576\n",
      "Epoch 8/100\n",
      "154/154 [==============================] - 0s 891us/step - loss: 0.7308 - accuracy: 0.6623\n",
      "Epoch 9/100\n",
      "154/154 [==============================] - 0s 1ms/step - loss: 0.7258 - accuracy: 0.6663\n",
      "Epoch 10/100\n",
      "154/154 [==============================] - 0s 1ms/step - loss: 0.7248 - accuracy: 0.6647\n",
      "Epoch 11/100\n",
      "154/154 [==============================] - 0s 906us/step - loss: 0.7181 - accuracy: 0.6713\n",
      "Epoch 12/100\n",
      "154/154 [==============================] - 0s 862us/step - loss: 0.7169 - accuracy: 0.6695\n",
      "Epoch 13/100\n",
      "154/154 [==============================] - 0s 885us/step - loss: 0.7128 - accuracy: 0.6761\n",
      "Epoch 14/100\n",
      "154/154 [==============================] - 0s 882us/step - loss: 0.7103 - accuracy: 0.6769\n",
      "Epoch 15/100\n",
      "154/154 [==============================] - 0s 877us/step - loss: 0.7058 - accuracy: 0.6815\n",
      "Epoch 16/100\n",
      "154/154 [==============================] - 0s 874us/step - loss: 0.7049 - accuracy: 0.6788\n",
      "Epoch 17/100\n",
      "154/154 [==============================] - 0s 952us/step - loss: 0.7041 - accuracy: 0.6840\n",
      "Epoch 18/100\n",
      "154/154 [==============================] - 0s 856us/step - loss: 0.7016 - accuracy: 0.6823\n",
      "Epoch 19/100\n",
      "154/154 [==============================] - 0s 849us/step - loss: 0.6978 - accuracy: 0.6857\n",
      "Epoch 20/100\n",
      "154/154 [==============================] - 0s 857us/step - loss: 0.6953 - accuracy: 0.6881\n",
      "Epoch 21/100\n",
      "154/154 [==============================] - 0s 882us/step - loss: 0.6964 - accuracy: 0.6850\n",
      "Epoch 22/100\n",
      "154/154 [==============================] - 0s 856us/step - loss: 0.6935 - accuracy: 0.6891\n",
      "Epoch 23/100\n",
      "154/154 [==============================] - 0s 833us/step - loss: 0.6927 - accuracy: 0.6882\n",
      "Epoch 24/100\n",
      "154/154 [==============================] - 0s 837us/step - loss: 0.6911 - accuracy: 0.6876\n",
      "Epoch 25/100\n",
      "154/154 [==============================] - 0s 862us/step - loss: 0.6915 - accuracy: 0.6916\n",
      "Epoch 26/100\n",
      "154/154 [==============================] - 0s 839us/step - loss: 0.6877 - accuracy: 0.6885\n",
      "Epoch 27/100\n",
      "154/154 [==============================] - 0s 863us/step - loss: 0.6886 - accuracy: 0.6893\n",
      "Epoch 28/100\n",
      "154/154 [==============================] - 0s 867us/step - loss: 0.6869 - accuracy: 0.6888\n",
      "Epoch 29/100\n",
      "154/154 [==============================] - 0s 884us/step - loss: 0.6837 - accuracy: 0.6907\n",
      "Epoch 30/100\n",
      "154/154 [==============================] - 0s 867us/step - loss: 0.6827 - accuracy: 0.6921\n",
      "Epoch 31/100\n",
      "154/154 [==============================] - 0s 873us/step - loss: 0.6837 - accuracy: 0.6942\n",
      "Epoch 32/100\n",
      "154/154 [==============================] - 0s 887us/step - loss: 0.6801 - accuracy: 0.6962\n",
      "Epoch 33/100\n",
      "154/154 [==============================] - 0s 862us/step - loss: 0.6791 - accuracy: 0.6961\n",
      "Epoch 34/100\n",
      "154/154 [==============================] - 0s 886us/step - loss: 0.6778 - accuracy: 0.6966\n",
      "Epoch 35/100\n",
      "154/154 [==============================] - 0s 868us/step - loss: 0.6776 - accuracy: 0.6976\n",
      "Epoch 36/100\n",
      "154/154 [==============================] - 0s 871us/step - loss: 0.6758 - accuracy: 0.6949\n",
      "Epoch 37/100\n",
      "154/154 [==============================] - 0s 877us/step - loss: 0.6750 - accuracy: 0.6948\n",
      "Epoch 38/100\n",
      "154/154 [==============================] - 0s 832us/step - loss: 0.6745 - accuracy: 0.6976\n",
      "Epoch 39/100\n",
      "154/154 [==============================] - 0s 889us/step - loss: 0.6725 - accuracy: 0.6991\n",
      "Epoch 40/100\n",
      "154/154 [==============================] - 0s 843us/step - loss: 0.6716 - accuracy: 0.7012\n",
      "Epoch 41/100\n",
      "154/154 [==============================] - 0s 851us/step - loss: 0.6719 - accuracy: 0.6974\n",
      "Epoch 42/100\n",
      "154/154 [==============================] - 0s 870us/step - loss: 0.6698 - accuracy: 0.7003\n",
      "Epoch 43/100\n",
      "154/154 [==============================] - 0s 877us/step - loss: 0.6691 - accuracy: 0.7000\n",
      "Epoch 44/100\n",
      "154/154 [==============================] - 0s 873us/step - loss: 0.6674 - accuracy: 0.7014\n",
      "Epoch 45/100\n",
      "154/154 [==============================] - 0s 853us/step - loss: 0.6682 - accuracy: 0.7011\n",
      "Epoch 46/100\n",
      "154/154 [==============================] - 0s 886us/step - loss: 0.6659 - accuracy: 0.7027\n",
      "Epoch 47/100\n",
      "154/154 [==============================] - 0s 865us/step - loss: 0.6655 - accuracy: 0.7026\n",
      "Epoch 48/100\n",
      "154/154 [==============================] - 0s 852us/step - loss: 0.6685 - accuracy: 0.7008\n",
      "Epoch 49/100\n",
      "154/154 [==============================] - 0s 876us/step - loss: 0.6640 - accuracy: 0.7019\n",
      "Epoch 50/100\n",
      "154/154 [==============================] - 0s 849us/step - loss: 0.6632 - accuracy: 0.7049\n",
      "Epoch 51/100\n",
      "154/154 [==============================] - 0s 885us/step - loss: 0.6636 - accuracy: 0.7045\n",
      "Epoch 52/100\n",
      "154/154 [==============================] - 0s 851us/step - loss: 0.6640 - accuracy: 0.7026\n",
      "Epoch 53/100\n",
      "154/154 [==============================] - 0s 858us/step - loss: 0.6620 - accuracy: 0.7034\n",
      "Epoch 54/100\n",
      "154/154 [==============================] - 0s 839us/step - loss: 0.6623 - accuracy: 0.7040\n",
      "Epoch 55/100\n",
      "154/154 [==============================] - 0s 870us/step - loss: 0.6594 - accuracy: 0.7045\n",
      "Epoch 56/100\n",
      "154/154 [==============================] - 0s 871us/step - loss: 0.6598 - accuracy: 0.7053\n",
      "Epoch 57/100\n",
      "154/154 [==============================] - 0s 859us/step - loss: 0.6566 - accuracy: 0.7066\n",
      "Epoch 58/100\n",
      "154/154 [==============================] - 0s 855us/step - loss: 0.6579 - accuracy: 0.7043\n",
      "Epoch 59/100\n",
      "154/154 [==============================] - 0s 877us/step - loss: 0.6584 - accuracy: 0.7036\n",
      "Epoch 60/100\n",
      "154/154 [==============================] - 0s 866us/step - loss: 0.6575 - accuracy: 0.7046\n",
      "Epoch 61/100\n",
      "154/154 [==============================] - 0s 852us/step - loss: 0.6561 - accuracy: 0.7050\n",
      "Epoch 62/100\n",
      "154/154 [==============================] - 0s 855us/step - loss: 0.6557 - accuracy: 0.7088\n",
      "Epoch 63/100\n",
      "154/154 [==============================] - 0s 873us/step - loss: 0.6532 - accuracy: 0.7055\n",
      "Epoch 64/100\n",
      "154/154 [==============================] - 0s 885us/step - loss: 0.6555 - accuracy: 0.7034\n",
      "Epoch 65/100\n",
      "154/154 [==============================] - 0s 887us/step - loss: 0.6521 - accuracy: 0.7103\n",
      "Epoch 66/100\n",
      "154/154 [==============================] - 0s 840us/step - loss: 0.6520 - accuracy: 0.7103\n",
      "Epoch 67/100\n",
      "154/154 [==============================] - 0s 875us/step - loss: 0.6511 - accuracy: 0.7069\n",
      "Epoch 68/100\n",
      "154/154 [==============================] - 0s 866us/step - loss: 0.6504 - accuracy: 0.7081\n",
      "Epoch 69/100\n",
      "154/154 [==============================] - 0s 887us/step - loss: 0.6468 - accuracy: 0.7116\n",
      "Epoch 70/100\n",
      "154/154 [==============================] - 0s 830us/step - loss: 0.6494 - accuracy: 0.7077\n",
      "Epoch 71/100\n",
      "154/154 [==============================] - 0s 859us/step - loss: 0.6486 - accuracy: 0.7093\n",
      "Epoch 72/100\n",
      "154/154 [==============================] - 0s 861us/step - loss: 0.6495 - accuracy: 0.7092\n",
      "Epoch 73/100\n",
      "154/154 [==============================] - 0s 840us/step - loss: 0.6492 - accuracy: 0.7058\n",
      "Epoch 74/100\n",
      "154/154 [==============================] - 0s 854us/step - loss: 0.6477 - accuracy: 0.7111\n",
      "Epoch 75/100\n",
      "154/154 [==============================] - 0s 864us/step - loss: 0.6461 - accuracy: 0.7103\n",
      "Epoch 76/100\n",
      "154/154 [==============================] - 0s 850us/step - loss: 0.6487 - accuracy: 0.7119\n",
      "Epoch 77/100\n",
      "154/154 [==============================] - 0s 839us/step - loss: 0.6473 - accuracy: 0.7098\n",
      "Epoch 78/100\n",
      "154/154 [==============================] - 0s 873us/step - loss: 0.6458 - accuracy: 0.7099\n",
      "Epoch 79/100\n",
      "154/154 [==============================] - 0s 883us/step - loss: 0.6465 - accuracy: 0.7100\n",
      "Epoch 80/100\n",
      "154/154 [==============================] - 0s 855us/step - loss: 0.6431 - accuracy: 0.7141\n",
      "Epoch 81/100\n",
      "154/154 [==============================] - 0s 862us/step - loss: 0.6451 - accuracy: 0.7115\n",
      "Epoch 82/100\n",
      "154/154 [==============================] - 0s 852us/step - loss: 0.6441 - accuracy: 0.7116\n",
      "Epoch 83/100\n",
      "154/154 [==============================] - 0s 896us/step - loss: 0.6423 - accuracy: 0.7088\n",
      "Epoch 84/100\n",
      "154/154 [==============================] - 0s 887us/step - loss: 0.6439 - accuracy: 0.7123\n",
      "Epoch 85/100\n",
      "154/154 [==============================] - 0s 840us/step - loss: 0.6424 - accuracy: 0.7118\n",
      "Epoch 86/100\n",
      "154/154 [==============================] - 0s 886us/step - loss: 0.6405 - accuracy: 0.7151\n",
      "Epoch 87/100\n",
      "154/154 [==============================] - 0s 871us/step - loss: 0.6414 - accuracy: 0.7120\n",
      "Epoch 88/100\n",
      "154/154 [==============================] - 0s 858us/step - loss: 0.6388 - accuracy: 0.7156\n",
      "Epoch 89/100\n",
      "154/154 [==============================] - 0s 842us/step - loss: 0.6400 - accuracy: 0.7134\n",
      "Epoch 90/100\n",
      "154/154 [==============================] - 0s 879us/step - loss: 0.6397 - accuracy: 0.7113\n",
      "Epoch 91/100\n",
      "154/154 [==============================] - 0s 849us/step - loss: 0.6375 - accuracy: 0.7153\n",
      "Epoch 92/100\n",
      "154/154 [==============================] - 0s 850us/step - loss: 0.6386 - accuracy: 0.7144\n",
      "Epoch 93/100\n",
      "154/154 [==============================] - 0s 878us/step - loss: 0.6397 - accuracy: 0.7134\n",
      "Epoch 94/100\n",
      "154/154 [==============================] - 0s 858us/step - loss: 0.6391 - accuracy: 0.7119\n",
      "Epoch 95/100\n",
      "154/154 [==============================] - 0s 913us/step - loss: 0.6355 - accuracy: 0.7154\n",
      "Epoch 96/100\n",
      "154/154 [==============================] - 0s 839us/step - loss: 0.6363 - accuracy: 0.7154\n",
      "Epoch 97/100\n",
      "154/154 [==============================] - 0s 865us/step - loss: 0.6351 - accuracy: 0.7150\n",
      "Epoch 98/100\n",
      "154/154 [==============================] - 0s 880us/step - loss: 0.6350 - accuracy: 0.7148\n",
      "Epoch 99/100\n",
      "154/154 [==============================] - 0s 867us/step - loss: 0.6333 - accuracy: 0.7086\n",
      "Epoch 100/100\n",
      "154/154 [==============================] - 0s 837us/step - loss: 0.6341 - accuracy: 0.7165\n"
     ]
    },
    {
     "data": {
      "text/plain": [
       "<keras.callbacks.History at 0x7f66f13abd00>"
      ]
     },
     "execution_count": 438,
     "metadata": {},
     "output_type": "execute_result"
    }
   ],
   "source": [
    "# fitting the model\n",
    "model_better.fit(x, y, epochs=100, batch_size=70)"
   ]
  },
  {
   "cell_type": "code",
   "execution_count": 439,
   "metadata": {},
   "outputs": [
    {
     "name": "stdout",
     "output_type": "stream",
     "text": [
      "337/337 [==============================] - 0s 526us/step - loss: 0.6803 - accuracy: 0.7047\n"
     ]
    },
    {
     "data": {
      "text/plain": [
       "[0.6803385019302368, 0.7047229409217834]"
      ]
     },
     "execution_count": 439,
     "metadata": {},
     "output_type": "execute_result"
    }
   ],
   "source": [
    "# Evaluating the model\n",
    "x_t = test_input.to_numpy()\n",
    "y_t = test_output.values\n",
    "\n",
    "model_better.evaluate(x_t, y_t, batch_size=8)"
   ]
  },
  {
   "cell_type": "code",
   "execution_count": 440,
   "metadata": {},
   "outputs": [
    {
     "name": "stdout",
     "output_type": "stream",
     "text": [
      "85/85 [==============================] - 0s 479us/step\n"
     ]
    }
   ],
   "source": [
    "tusa = model_better.predict(x_t)"
   ]
  },
  {
   "cell_type": "code",
   "execution_count": 441,
   "metadata": {},
   "outputs": [],
   "source": [
    "def get_result(answer_arr: np.array) -> int:\n",
    "    answer_code = np.argmax(answer_arr)\n",
    "\n",
    "    # list out keys and values separately\n",
    "    key_list = list(result_key.keys())\n",
    "    val_list = list(result_key.values())\n",
    "    \n",
    "    # print key with val 100\n",
    "    position = val_list.index(answer_code)\n",
    "    return  key_list[position], answer_code"
   ]
  },
  {
   "cell_type": "code",
   "execution_count": 442,
   "metadata": {},
   "outputs": [],
   "source": [
    "answers = []\n",
    "for answer_arr in tusa:\n",
    "    answers.append(get_result(answer_arr)[1])"
   ]
  },
  {
   "cell_type": "code",
   "execution_count": 443,
   "metadata": {},
   "outputs": [
    {
     "data": {
      "text/plain": [
       "ind\n",
       "6125     2\n",
       "5803     2\n",
       "976      2\n",
       "5452     2\n",
       "4474     2\n",
       "        ..\n",
       "13042    2\n",
       "8030     2\n",
       "10807    1\n",
       "11190    2\n",
       "6085     1\n",
       "Name: Статус, Length: 2689, dtype: int64"
      ]
     },
     "execution_count": 443,
     "metadata": {},
     "output_type": "execute_result"
    }
   ],
   "source": [
    "test_output"
   ]
  },
  {
   "cell_type": "code",
   "execution_count": 444,
   "metadata": {},
   "outputs": [
    {
     "data": {
      "text/html": [
       "<div>\n",
       "<style scoped>\n",
       "    .dataframe tbody tr th:only-of-type {\n",
       "        vertical-align: middle;\n",
       "    }\n",
       "\n",
       "    .dataframe tbody tr th {\n",
       "        vertical-align: top;\n",
       "    }\n",
       "\n",
       "    .dataframe thead th {\n",
       "        text-align: right;\n",
       "    }\n",
       "</style>\n",
       "<table border=\"1\" class=\"dataframe\">\n",
       "  <thead>\n",
       "    <tr style=\"text-align: right;\">\n",
       "      <th></th>\n",
       "      <th>real</th>\n",
       "      <th>calculation</th>\n",
       "    </tr>\n",
       "  </thead>\n",
       "  <tbody>\n",
       "    <tr>\n",
       "      <th>0</th>\n",
       "      <td>2</td>\n",
       "      <td>2</td>\n",
       "    </tr>\n",
       "    <tr>\n",
       "      <th>1</th>\n",
       "      <td>2</td>\n",
       "      <td>2</td>\n",
       "    </tr>\n",
       "    <tr>\n",
       "      <th>2</th>\n",
       "      <td>2</td>\n",
       "      <td>2</td>\n",
       "    </tr>\n",
       "    <tr>\n",
       "      <th>3</th>\n",
       "      <td>2</td>\n",
       "      <td>1</td>\n",
       "    </tr>\n",
       "    <tr>\n",
       "      <th>4</th>\n",
       "      <td>2</td>\n",
       "      <td>2</td>\n",
       "    </tr>\n",
       "    <tr>\n",
       "      <th>...</th>\n",
       "      <td>...</td>\n",
       "      <td>...</td>\n",
       "    </tr>\n",
       "    <tr>\n",
       "      <th>2684</th>\n",
       "      <td>2</td>\n",
       "      <td>2</td>\n",
       "    </tr>\n",
       "    <tr>\n",
       "      <th>2685</th>\n",
       "      <td>2</td>\n",
       "      <td>2</td>\n",
       "    </tr>\n",
       "    <tr>\n",
       "      <th>2686</th>\n",
       "      <td>1</td>\n",
       "      <td>2</td>\n",
       "    </tr>\n",
       "    <tr>\n",
       "      <th>2687</th>\n",
       "      <td>2</td>\n",
       "      <td>2</td>\n",
       "    </tr>\n",
       "    <tr>\n",
       "      <th>2688</th>\n",
       "      <td>1</td>\n",
       "      <td>2</td>\n",
       "    </tr>\n",
       "  </tbody>\n",
       "</table>\n",
       "<p>2689 rows × 2 columns</p>\n",
       "</div>"
      ],
      "text/plain": [
       "      real  calculation\n",
       "0        2            2\n",
       "1        2            2\n",
       "2        2            2\n",
       "3        2            1\n",
       "4        2            2\n",
       "...    ...          ...\n",
       "2684     2            2\n",
       "2685     2            2\n",
       "2686     1            2\n",
       "2687     2            2\n",
       "2688     1            2\n",
       "\n",
       "[2689 rows x 2 columns]"
      ]
     },
     "execution_count": 444,
     "metadata": {},
     "output_type": "execute_result"
    }
   ],
   "source": [
    "compare_df = pd.DataFrame(columns=['real', 'calculation'])\n",
    "compare_df['real'] = y_t\n",
    "compare_df['calculation'] = answers\n",
    "compare_df"
   ]
  },
  {
   "cell_type": "code",
   "execution_count": 445,
   "metadata": {},
   "outputs": [
    {
     "data": {
      "text/html": [
       "<div>\n",
       "<style scoped>\n",
       "    .dataframe tbody tr th:only-of-type {\n",
       "        vertical-align: middle;\n",
       "    }\n",
       "\n",
       "    .dataframe tbody tr th {\n",
       "        vertical-align: top;\n",
       "    }\n",
       "\n",
       "    .dataframe thead th {\n",
       "        text-align: right;\n",
       "    }\n",
       "</style>\n",
       "<table border=\"1\" class=\"dataframe\">\n",
       "  <thead>\n",
       "    <tr style=\"text-align: right;\">\n",
       "      <th></th>\n",
       "      <th>real</th>\n",
       "      <th>calculation</th>\n",
       "    </tr>\n",
       "    <tr>\n",
       "      <th>new</th>\n",
       "      <th></th>\n",
       "      <th></th>\n",
       "    </tr>\n",
       "  </thead>\n",
       "  <tbody>\n",
       "    <tr>\n",
       "      <th>0</th>\n",
       "      <td>2</td>\n",
       "      <td>2</td>\n",
       "    </tr>\n",
       "    <tr>\n",
       "      <th>1</th>\n",
       "      <td>493</td>\n",
       "      <td>493</td>\n",
       "    </tr>\n",
       "    <tr>\n",
       "      <th>2</th>\n",
       "      <td>1400</td>\n",
       "      <td>1400</td>\n",
       "    </tr>\n",
       "    <tr>\n",
       "      <th>100</th>\n",
       "      <td>794</td>\n",
       "      <td>794</td>\n",
       "    </tr>\n",
       "  </tbody>\n",
       "</table>\n",
       "</div>"
      ],
      "text/plain": [
       "     real  calculation\n",
       "new                   \n",
       "0       2            2\n",
       "1     493          493\n",
       "2    1400         1400\n",
       "100   794          794"
      ]
     },
     "execution_count": 445,
     "metadata": {},
     "output_type": "execute_result"
    }
   ],
   "source": [
    "compare_df['new'] = np.where((compare_df['real'] == compare_df['calculation']), compare_df['real'], 100)\n",
    "compare_df.groupby('new').count()"
   ]
  },
  {
   "cell_type": "code",
   "execution_count": 446,
   "metadata": {},
   "outputs": [
    {
     "data": {
      "text/plain": [
       "0.28523614726664187"
      ]
     },
     "execution_count": 446,
     "metadata": {},
     "output_type": "execute_result"
    }
   ],
   "source": [
    "r = 1 + 503 + 1418 + 767\n",
    "767 / r"
   ]
  },
  {
   "cell_type": "code",
   "execution_count": null,
   "metadata": {},
   "outputs": [],
   "source": []
  }
 ],
 "metadata": {
  "kernelspec": {
   "name": "Python 3.8.5 32-bit",
   "display_name": "Python 3.8.5 32-bit",
   "metadata": {
    "interpreter": {
     "hash": "8886abb10cce8c3f6558295c47ca7bc0e50621cd0179a6645cc0c7c145b2909f"
    }
   }
  },
  "language_info": {
   "codemirror_mode": {
    "name": "ipython",
    "version": 3
   },
   "file_extension": ".py",
   "mimetype": "text/x-python",
   "name": "python",
   "nbconvert_exporter": "python",
   "pygments_lexer": "ipython3",
   "version": "3.8.5-final"
  },
  "orig_nbformat": 4,
  "vscode": {
   "interpreter": {
    "hash": "51c73a6595d20bbc39952c03157596619c73f94de3e8d7812583abf83cf493bf"
   }
  }
 },
 "nbformat": 4,
 "nbformat_minor": 2
}
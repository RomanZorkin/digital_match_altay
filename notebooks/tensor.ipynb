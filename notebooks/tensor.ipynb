{
 "cells": [
  {
   "cell_type": "code",
   "execution_count": 1,
   "metadata": {},
   "outputs": [],
   "source": [
    "# Importing the libraries\n",
    "from pathlib import Path\n",
    "\n",
    "import pandas as pd\n",
    "import numpy as np\n",
    "#from tensorflow import keras\n",
    "#from tensorflow.keras import layers\n",
    "from sklearn.model_selection import train_test_split"
   ]
  },
  {
   "cell_type": "code",
   "execution_count": 2,
   "metadata": {},
   "outputs": [],
   "source": [
    "base_csv = Path('data/clean_frame.csv')\n",
    "test_csv = Path('data/test_frame.csv')"
   ]
  },
  {
   "cell_type": "code",
   "execution_count": 7,
   "metadata": {},
   "outputs": [
    {
     "output_type": "execute_result",
     "data": {
      "text/plain": "Index([&#39;ID&#39;, &#39;Код_группы&#39;, &#39;Год_Поступления&#39;, &#39;Год_Окончания_УЗ&#39;, &#39;Пособие&#39;,\n       &#39;Общежитие&#39;, &#39;Наличие_Матери&#39;, &#39;Наличие_Отца&#39;, &#39;Опекунство&#39;, &#39;Село&#39;,\n       &#39;Иностранец&#39;, &#39;КодФакультета&#39;, &#39;СрБаллАттестата&#39;, &#39;Статус&#39;, &#39;male&#39;,\n       &#39;female&#39;, &#39;sex_summ&#39;, &#39;birth_year_int&#39;, &#39;basis&#39;, &#39;language&#39;, &#39;country&#39;,\n       &#39;region&#39;, &#39;city&#39;, &#39;parents_country&#39;],\n      dtype=&#39;object&#39;)"
     },
     "metadata": {},
     "execution_count": 7
    }
   ],
   "source": [
    "base_df = pd.read_csv(base_csv, index_col='ind')\n",
    "base_df.columns"
   ]
  },
  {
   "cell_type": "code",
   "execution_count": 3,
   "metadata": {},
   "outputs": [
    {
     "output_type": "execute_result",
     "data": {
      "text/plain": "Index([&#39;ID&#39;, &#39;Код_группы&#39;, &#39;Год_Поступления&#39;, &#39;Год_Окончания_УЗ&#39;, &#39;Пособие&#39;,\n       &#39;Общежитие&#39;, &#39;Наличие_Матери&#39;, &#39;Наличие_Отца&#39;, &#39;Опекунство&#39;, &#39;Село&#39;,\n       &#39;Иностранец&#39;, &#39;КодФакультета&#39;, &#39;СрБаллАттестата&#39;, &#39;male&#39;, &#39;female&#39;,\n       &#39;sex_summ&#39;, &#39;birth_year_int&#39;, &#39;Статус&#39;, &#39;basis&#39;, &#39;language&#39;, &#39;country&#39;,\n       &#39;parents_country&#39;],\n      dtype=&#39;object&#39;)"
     },
     "metadata": {},
     "execution_count": 3
    }
   ],
   "source": [
    "test_df = pd.read_csv(test_csv, index_col='ind')\n",
    "test_df.columns"
   ]
  },
  {
   "cell_type": "code",
   "execution_count": null,
   "metadata": {},
   "outputs": [],
   "source": [
    "base_df = base_df.fillna(0)\n"
   ]
  },
  {
   "cell_type": "code",
   "execution_count": 4,
   "metadata": {},
   "outputs": [],
   "source": [
    "#test_df.isna().any()\n",
    "test_df = test_df.fillna(0)"
   ]
  },
  {
   "cell_type": "code",
   "execution_count": 5,
   "metadata": {},
   "outputs": [
    {
     "output_type": "execute_result",
     "data": {
      "text/plain": "12"
     },
     "metadata": {},
     "execution_count": 5
    }
   ],
   "source": [
    "columns = ['Наличие_Матери', 'Село', 'Иностранец', 'СрБаллАттестата', 'Статус', 'male', 'basis','language','country', 'КодФакультета', 'Общежитие', 'parents_country']\n",
    "#columns = base_df.columns.to_list()\n",
    "priznaki = len(columns)\n",
    "priznaki"
   ]
  },
  {
   "cell_type": "code",
   "execution_count": 8,
   "metadata": {},
   "outputs": [],
   "source": [
    "frame_to_train = base_df.loc[:, columns]\n",
    "frame_to_test = test_df.loc[:, columns]"
   ]
  },
  {
   "cell_type": "code",
   "execution_count": 9,
   "metadata": {},
   "outputs": [],
   "source": [
    "result_key = {\n",
    "    -1: 0,\n",
    "    3: 1,\n",
    "    4: 2,\n",
    "}"
   ]
  },
  {
   "cell_type": "code",
   "execution_count": 10,
   "metadata": {},
   "outputs": [
    {
     "output_type": "execute_result",
     "data": {
      "text/plain": "        Наличие_Матери  Село  Иностранец  СрБаллАттестата  male  basis  \\\nСтатус                                                                   \n0                  614   614         614              614   614    614   \n1                 4721  4721        4721             4721  4721   4721   \n2                 8249  8249        8249             8249  8249   8249   \n\n        language  country  КодФакультета  Общежитие  parents_country  \nСтатус                                                                \n0            614      614            614        614              614  \n1           4721     4721           4721       4721             4721  \n2           8249     8249           8249       8249             8249  ",
      "text/html": "<div>\n<style scoped>\n    .dataframe tbody tr th:only-of-type {\n        vertical-align: middle;\n    }\n\n    .dataframe tbody tr th {\n        vertical-align: top;\n    }\n\n    .dataframe thead th {\n        text-align: right;\n    }\n</style>\n<table border=\"1\" class=\"dataframe\">\n  <thead>\n    <tr style=\"text-align: right;\">\n      <th></th>\n      <th>Наличие_Матери</th>\n      <th>Село</th>\n      <th>Иностранец</th>\n      <th>СрБаллАттестата</th>\n      <th>male</th>\n      <th>basis</th>\n      <th>language</th>\n      <th>country</th>\n      <th>КодФакультета</th>\n      <th>Общежитие</th>\n      <th>parents_country</th>\n    </tr>\n    <tr>\n      <th>Статус</th>\n      <th></th>\n      <th></th>\n      <th></th>\n      <th></th>\n      <th></th>\n      <th></th>\n      <th></th>\n      <th></th>\n      <th></th>\n      <th></th>\n      <th></th>\n    </tr>\n  </thead>\n  <tbody>\n    <tr>\n      <th>0</th>\n      <td>614</td>\n      <td>614</td>\n      <td>614</td>\n      <td>614</td>\n      <td>614</td>\n      <td>614</td>\n      <td>614</td>\n      <td>614</td>\n      <td>614</td>\n      <td>614</td>\n      <td>614</td>\n    </tr>\n    <tr>\n      <th>1</th>\n      <td>4721</td>\n      <td>4721</td>\n      <td>4721</td>\n      <td>4721</td>\n      <td>4721</td>\n      <td>4721</td>\n      <td>4721</td>\n      <td>4721</td>\n      <td>4721</td>\n      <td>4721</td>\n      <td>4721</td>\n    </tr>\n    <tr>\n      <th>2</th>\n      <td>8249</td>\n      <td>8249</td>\n      <td>8249</td>\n      <td>8249</td>\n      <td>8249</td>\n      <td>8249</td>\n      <td>8249</td>\n      <td>8249</td>\n      <td>8249</td>\n      <td>8249</td>\n      <td>8249</td>\n    </tr>\n  </tbody>\n</table>\n</div>"
     },
     "metadata": {},
     "execution_count": 10
    }
   ],
   "source": [
    "for key, value in result_key.items():\n",
    "    frame_to_train.loc[frame_to_train['Статус'] == key, 'Статус'] = value\n",
    "\n",
    "frame_to_train.groupby('Статус').count()"
   ]
  },
  {
   "cell_type": "code",
   "execution_count": 11,
   "metadata": {},
   "outputs": [],
   "source": [
    "train, test = train_test_split(frame_to_train, test_size=0.20)"
   ]
  },
  {
   "cell_type": "code",
   "execution_count": null,
   "metadata": {},
   "outputs": [],
   "source": [
    "train_input = train.drop('Статус', axis=1)\n",
    "train_output = train['Статус']"
   ]
  },
  {
   "cell_type": "code",
   "execution_count": null,
   "metadata": {},
   "outputs": [],
   "source": []
  },
  {
   "cell_type": "code",
   "execution_count": null,
   "metadata": {},
   "outputs": [],
   "source": [
    "test_input = test.drop('Статус', axis=1)\n",
    "test_output = test['Статус']"
   ]
  },
  {
   "cell_type": "code",
   "execution_count": null,
   "metadata": {},
   "outputs": [],
   "source": []
  },
  {
   "cell_type": "code",
   "execution_count": null,
   "metadata": {},
   "outputs": [],
   "source": [
    "train_output.info"
   ]
  },
  {
   "cell_type": "code",
   "execution_count": null,
   "metadata": {},
   "outputs": [],
   "source": [
    "input_df_size = train_input.shape[0]"
   ]
  },
  {
   "cell_type": "code",
   "execution_count": null,
   "metadata": {},
   "outputs": [],
   "source": [
    "# Constructing the input\n",
    "x = train_input.to_numpy()\n",
    "y = train_output.values\n",
    "arr = np.transpose(x)"
   ]
  },
  {
   "cell_type": "code",
   "execution_count": null,
   "metadata": {},
   "outputs": [],
   "source": [
    "output = np.ones((1,input_df_size))\n",
    "output[0] = y\n",
    "arr_y = output.reshape(input_df_size,1)\n",
    "arr_y"
   ]
  },
  {
   "cell_type": "code",
   "execution_count": null,
   "metadata": {},
   "outputs": [],
   "source": [
    "# Definig the model\n",
    "model_better = keras.Sequential([\n",
    "    keras.layers.Dense(150, input_shape=(priznaki-1,), activation='relu'),\n",
    "    keras.layers.Dense(32, activation='relu'),\n",
    "    keras.layers.Dense(250, activation='relu'),    \n",
    "    keras.layers.Dense(3, activation='softmax'),\n",
    "])"
   ]
  },
  {
   "cell_type": "code",
   "execution_count": null,
   "metadata": {},
   "outputs": [],
   "source": [
    "# Compiling the model\n",
    "model_better.compile(optimizer='Nadam',\n",
    "                     loss='sparse_categorical_crossentropy',\n",
    "                     metrics=['accuracy'])"
   ]
  },
  {
   "cell_type": "code",
   "execution_count": null,
   "metadata": {},
   "outputs": [],
   "source": [
    "# fitting the model\n",
    "model_better.fit(x, y, epochs=100, batch_size=70)"
   ]
  },
  {
   "cell_type": "code",
   "execution_count": null,
   "metadata": {},
   "outputs": [],
   "source": [
    "# Evaluating the model\n",
    "x_t = test_input.to_numpy()\n",
    "y_t = test_output.values\n",
    "\n",
    "model_better.evaluate(x_t, y_t, batch_size=8)"
   ]
  },
  {
   "cell_type": "code",
   "execution_count": null,
   "metadata": {},
   "outputs": [],
   "source": [
    "bet = model_better.evaluate(x_t, y_t, batch_size=8)\n",
    "bet"
   ]
  },
  {
   "cell_type": "code",
   "execution_count": null,
   "metadata": {},
   "outputs": [],
   "source": [
    "tusa = model_better.predict(x_t)\n",
    "tusa"
   ]
  },
  {
   "cell_type": "code",
   "execution_count": null,
   "metadata": {},
   "outputs": [],
   "source": [
    "def get_result(answer_arr: np.array) -> int:\n",
    "    answer_code = np.argmax(answer_arr)\n",
    "\n",
    "    # list out keys and values separately\n",
    "    key_list = list(result_key.keys())\n",
    "    val_list = list(result_key.values())\n",
    "    \n",
    "    # print key with val 100\n",
    "    position = val_list.index(answer_code)\n",
    "    return  key_list[position], answer_code"
   ]
  },
  {
   "cell_type": "code",
   "execution_count": null,
   "metadata": {},
   "outputs": [],
   "source": [
    "answers = []\n",
    "for answer_arr in tusa:\n",
    "    answers.append(get_result(answer_arr)[1])"
   ]
  },
  {
   "cell_type": "code",
   "execution_count": null,
   "metadata": {},
   "outputs": [],
   "source": [
    "test_output"
   ]
  },
  {
   "cell_type": "code",
   "execution_count": null,
   "metadata": {},
   "outputs": [],
   "source": [
    "compare_df = pd.DataFrame(columns=['real', 'calculation'])\n",
    "compare_df['real'] = y_t\n",
    "compare_df['calculation'] = answers\n",
    "compare_df"
   ]
  },
  {
   "cell_type": "code",
   "execution_count": null,
   "metadata": {},
   "outputs": [],
   "source": [
    "compare_df['new'] = np.where((compare_df['real'] == compare_df['calculation']), compare_df['real'], 100)\n",
    "compare_df.groupby('new').count()"
   ]
  },
  {
   "cell_type": "code",
   "execution_count": null,
   "metadata": {},
   "outputs": [],
   "source": [
    "r = 1 + 386 + 1032 + 320\n",
    "620 / r"
   ]
  },
  {
   "cell_type": "code",
   "execution_count": null,
   "metadata": {},
   "outputs": [],
   "source": []
  },
  {
   "cell_type": "markdown",
   "metadata": {},
   "source": [
    "# Чтение и предсказие test dataset"
   ]
  },
  {
   "cell_type": "code",
   "execution_count": 12,
   "metadata": {},
   "outputs": [],
   "source": [
    "train_input = train.drop('Статус', axis=1)\n",
    "input_df_size = train_input.shape[0]"
   ]
  },
  {
   "cell_type": "code",
   "execution_count": 13,
   "metadata": {},
   "outputs": [],
   "source": [
    "# Constructing the input\n",
    "x_test = train_input.to_numpy()"
   ]
  },
  {
   "cell_type": "code",
   "execution_count": null,
   "metadata": {},
   "outputs": [],
   "source": [
    "predict_arr = model_better.predict(x)\n",
    "predict_arr"
   ]
  },
  {
   "cell_type": "code",
   "execution_count": null,
   "metadata": {},
   "outputs": [],
   "source": [
    "answers = []\n",
    "for answer_arr in predict_arr:\n",
    "    answers.append(get_result(answer_arr)[1])\n",
    "answers"
   ]
  },
  {
   "cell_type": "code",
   "execution_count": null,
   "metadata": {},
   "outputs": [],
   "source": []
  },
  {
   "cell_type": "code",
   "execution_count": null,
   "metadata": {},
   "outputs": [],
   "source": [
    "compare_df = pd.DataFrame(columns=['real', 'calculation'])\n",
    "compare_df['real'] = y\n",
    "compare_df['calculation'] = answers\n",
    "compare_df"
   ]
  }
 ],
 "metadata": {
  "kernelspec": {
   "name": "Python 3.8.5 32-bit ('env')",
   "display_name": "Python 3.8.5 32-bit ('env')",
   "metadata": {
    "interpreter": {
     "hash": "8886abb10cce8c3f6558295c47ca7bc0e50621cd0179a6645cc0c7c145b2909f"
    }
   }
  },
  "language_info": {
   "codemirror_mode": {
    "name": "ipython",
    "version": 3
   },
   "file_extension": ".py",
   "mimetype": "text/x-python",
   "name": "python",
   "nbconvert_exporter": "python",
   "pygments_lexer": "ipython3",
   "version": "3.8.5-final"
  },
  "orig_nbformat": 4,
  "vscode": {
   "interpreter": {
    "hash": "51c73a6595d20bbc39952c03157596619c73f94de3e8d7812583abf83cf493bf"
   }
  }
 },
 "nbformat": 4,
 "nbformat_minor": 2
}
{
 "cells": [
  {
   "cell_type": "code",
   "execution_count": 251,
   "metadata": {},
   "outputs": [],
   "source": [
    "import datetime\n",
    "from pathlib import Path\n",
    "\n",
    "import matplotlib.pyplot as plt\n",
    "import matplotlib as mpl\n",
    "import numpy as np\n",
    "import pandas as pd\n",
    "import seaborn as sns\n",
    "from sklearn.preprocessing import MinMaxScaler\n",
    "import yaml"
   ]
  },
  {
   "cell_type": "markdown",
   "metadata": {},
   "source": [
    "ССылки на файлы"
   ]
  },
  {
   "cell_type": "code",
   "execution_count": 252,
   "metadata": {},
   "outputs": [],
   "source": [
    "ASU_dataset = Path('data/test_dataset_test.csv')"
   ]
  },
  {
   "cell_type": "markdown",
   "metadata": {},
   "source": [
    "Загрузка баового датасета"
   ]
  },
  {
   "cell_type": "code",
   "execution_count": 253,
   "metadata": {},
   "outputs": [
    {
     "output_type": "execute_result",
     "data": {
      "text/plain": "      ID  Код_группы  Год_Поступления  Пол Основания   Изучаемый_Язык  \\\n0  64996       20608             2014  Жен        ДН  Английский язык   \n1  71837       20613             2015  Жен        ДН    Немецкий язык   \n\n             Дата_Рождения    Уч_Заведение            Где_Находится_УЗ  \\\n0  1995-11-03 00:00:00.000  МБОУ &quot;СОШ №55&quot;   Алтайский край, Барнаул г   \n1  1995-12-10 00:00:00.000   МБОУ &quot;СОШ №1&quot;  Алтайский край, Рубцовск г   \n\n   Год_Окончания_УЗ  ...    Город_ПП Общежитие Наличие_Матери Наличие_Отца  \\\n0            2014.0  ...   Барнаул г       0.0              0          0.0   \n1            2014.0  ...  Барнаул  г       0.0              0          0.0   \n\n   Страна_Родители  Опекунство  Село Иностранец  КодФакультета  \\\n0           Россия         0.0   0.0        0.0           40.0   \n1           Россия         0.0   1.0        0.0           26.0   \n\n   СрБаллАттестата  \n0             49.0  \n1             77.0  \n\n[2 rows x 23 columns]",
      "text/html": "<div>\n<style scoped>\n    .dataframe tbody tr th:only-of-type {\n        vertical-align: middle;\n    }\n\n    .dataframe tbody tr th {\n        vertical-align: top;\n    }\n\n    .dataframe thead th {\n        text-align: right;\n    }\n</style>\n<table border=\"1\" class=\"dataframe\">\n  <thead>\n    <tr style=\"text-align: right;\">\n      <th></th>\n      <th>ID</th>\n      <th>Код_группы</th>\n      <th>Год_Поступления</th>\n      <th>Пол</th>\n      <th>Основания</th>\n      <th>Изучаемый_Язык</th>\n      <th>Дата_Рождения</th>\n      <th>Уч_Заведение</th>\n      <th>Где_Находится_УЗ</th>\n      <th>Год_Окончания_УЗ</th>\n      <th>...</th>\n      <th>Город_ПП</th>\n      <th>Общежитие</th>\n      <th>Наличие_Матери</th>\n      <th>Наличие_Отца</th>\n      <th>Страна_Родители</th>\n      <th>Опекунство</th>\n      <th>Село</th>\n      <th>Иностранец</th>\n      <th>КодФакультета</th>\n      <th>СрБаллАттестата</th>\n    </tr>\n  </thead>\n  <tbody>\n    <tr>\n      <th>0</th>\n      <td>64996</td>\n      <td>20608</td>\n      <td>2014</td>\n      <td>Жен</td>\n      <td>ДН</td>\n      <td>Английский язык</td>\n      <td>1995-11-03 00:00:00.000</td>\n      <td>МБОУ \"СОШ №55\"</td>\n      <td>Алтайский край, Барнаул г</td>\n      <td>2014.0</td>\n      <td>...</td>\n      <td>Барнаул г</td>\n      <td>0.0</td>\n      <td>0</td>\n      <td>0.0</td>\n      <td>Россия</td>\n      <td>0.0</td>\n      <td>0.0</td>\n      <td>0.0</td>\n      <td>40.0</td>\n      <td>49.0</td>\n    </tr>\n    <tr>\n      <th>1</th>\n      <td>71837</td>\n      <td>20613</td>\n      <td>2015</td>\n      <td>Жен</td>\n      <td>ДН</td>\n      <td>Немецкий язык</td>\n      <td>1995-12-10 00:00:00.000</td>\n      <td>МБОУ \"СОШ №1\"</td>\n      <td>Алтайский край, Рубцовск г</td>\n      <td>2014.0</td>\n      <td>...</td>\n      <td>Барнаул  г</td>\n      <td>0.0</td>\n      <td>0</td>\n      <td>0.0</td>\n      <td>Россия</td>\n      <td>0.0</td>\n      <td>1.0</td>\n      <td>0.0</td>\n      <td>26.0</td>\n      <td>77.0</td>\n    </tr>\n  </tbody>\n</table>\n<p>2 rows × 23 columns</p>\n</div>"
     },
     "metadata": {},
     "execution_count": 253
    }
   ],
   "source": [
    "\n",
    "asu_frame = pd.read_csv(ASU_dataset, encoding='')\n",
    "asu_frame.head(2)"
   ]
  },
  {
   "cell_type": "markdown",
   "metadata": {},
   "source": [
    "Очистка значений датафрейма"
   ]
  },
  {
   "cell_type": "code",
   "execution_count": null,
   "metadata": {},
   "outputs": [],
   "source": []
  },
  {
   "cell_type": "code",
   "execution_count": 254,
   "metadata": {},
   "outputs": [
    {
     "output_type": "execute_result",
     "data": {
      "text/plain": "3"
     },
     "metadata": {},
     "execution_count": 254
    }
   ],
   "source": [
    "asu_frame['male'] = 0\n",
    "asu_frame['female'] = 0\n",
    "\n",
    "asu_frame.loc[asu_frame['Пол'] == 'муж', 'Пол'] = 'Муж'\n",
    "asu_frame.loc[asu_frame['Пол'] == 'жен', 'Пол'] = 'Жен'\n",
    "\n",
    "asu_frame.loc[asu_frame['Пол'] == 'Муж', 'male'] = 1\n",
    "asu_frame.loc[asu_frame['Пол'] == 'Жен', 'female'] = 1\n",
    "asu_frame['sex_summ'] = asu_frame['male'] + asu_frame['female']\n",
    "asu_frame.loc[asu_frame['sex_summ'] != 1].shape[0]"
   ]
  },
  {
   "cell_type": "code",
   "execution_count": 255,
   "metadata": {},
   "outputs": [
    {
     "output_type": "execute_result",
     "data": {
      "text/plain": "3915   2006-01-01\n3871   2007-01-01\n5156   2007-01-01\n1454   2009-01-01\n5141   2009-01-01\n          ...    \n4100   2020-01-01\n2328   2020-01-01\n2729   2020-01-01\n1791   2020-01-01\n424    2020-01-01\nName: entrance, Length: 6691, dtype: datetime64[ns]"
     },
     "metadata": {},
     "execution_count": 255
    }
   ],
   "source": [
    "#asu_frame['birth_year'] = asu_frame['Дата_Рождения'].dt.to_period('Y')\n",
    "asu_frame['Дата_Рождения']\n",
    "asu_frame['birth_year'] = pd.to_datetime(asu_frame['Дата_Рождения'])\n",
    "asu_frame['birth_year'].dt.to_period('Y')\n",
    "asu_frame['birth_year'].all()\n",
    "\n",
    "asu_frame['entrance'] = pd.to_datetime(asu_frame['Год_Поступления'], format='%Y')\n",
    "asu_frame['entrance'].sort_values()\n",
    "\n"
   ]
  },
  {
   "cell_type": "code",
   "execution_count": 256,
   "metadata": {},
   "outputs": [
    {
     "output_type": "execute_result",
     "data": {
      "text/plain": "0       1995\n1       1995\n2       1973\n3       1983\n4       1994\n        ... \n6686    1992\n6687    1995\n6688    1996\n6689    1996\n6690    1992\nName: birth_year_int, Length: 6691, dtype: int64"
     },
     "metadata": {},
     "execution_count": 256
    }
   ],
   "source": [
    "asu_frame['birth_year_int'] = asu_frame['Дата_Рождения'].str.slice(start=0, stop=4).astype('int64')\n",
    "asu_frame['birth_year_int']"
   ]
  },
  {
   "cell_type": "code",
   "execution_count": 257,
   "metadata": {},
   "outputs": [
    {
     "output_type": "execute_result",
     "data": {
      "text/plain": "(6691, 29)"
     },
     "metadata": {},
     "execution_count": 257
    }
   ],
   "source": [
    "frame_size = asu_frame.shape\n",
    "frame_size"
   ]
  },
  {
   "cell_type": "code",
   "execution_count": 258,
   "metadata": {},
   "outputs": [
    {
     "output_type": "execute_result",
     "data": {
      "text/plain": "Index([&#39;ID&#39;, &#39;Код_группы&#39;, &#39;Год_Поступления&#39;, &#39;Пол&#39;, &#39;Основания&#39;,\n       &#39;Изучаемый_Язык&#39;, &#39;Дата_Рождения&#39;, &#39;Уч_Заведение&#39;, &#39;Где_Находится_УЗ&#39;,\n       &#39;Год_Окончания_УЗ&#39;, &#39;Пособие&#39;, &#39;Страна_ПП&#39;, &#39;Регион_ПП&#39;, &#39;Город_ПП&#39;,\n       &#39;Общежитие&#39;, &#39;Наличие_Матери&#39;, &#39;Наличие_Отца&#39;, &#39;Страна_Родители&#39;,\n       &#39;Опекунство&#39;, &#39;Село&#39;, &#39;Иностранец&#39;, &#39;КодФакультета&#39;, &#39;СрБаллАттестата&#39;,\n       &#39;male&#39;, &#39;female&#39;, &#39;sex_summ&#39;, &#39;birth_year&#39;, &#39;entrance&#39;,\n       &#39;birth_year_int&#39;],\n      dtype=&#39;object&#39;)"
     },
     "metadata": {},
     "execution_count": 258
    }
   ],
   "source": [
    "asu_frame.columns"
   ]
  },
  {
   "cell_type": "code",
   "execution_count": 259,
   "metadata": {},
   "outputs": [],
   "source": [
    "asu_frame['Статус'] = 0"
   ]
  },
  {
   "cell_type": "code",
   "execution_count": 260,
   "metadata": {},
   "outputs": [
    {
     "output_type": "execute_result",
     "data": {
      "text/plain": "         count       mean         std  min   25%   50%   75%     max\nСтатус                                                              \n0       6691.0  71.681369  250.386989  0.0  47.0  61.0  76.0  7232.0",
      "text/html": "<div>\n<style scoped>\n    .dataframe tbody tr th:only-of-type {\n        vertical-align: middle;\n    }\n\n    .dataframe tbody tr th {\n        vertical-align: top;\n    }\n\n    .dataframe thead th {\n        text-align: right;\n    }\n</style>\n<table border=\"1\" class=\"dataframe\">\n  <thead>\n    <tr style=\"text-align: right;\">\n      <th></th>\n      <th>count</th>\n      <th>mean</th>\n      <th>std</th>\n      <th>min</th>\n      <th>25%</th>\n      <th>50%</th>\n      <th>75%</th>\n      <th>max</th>\n    </tr>\n    <tr>\n      <th>Статус</th>\n      <th></th>\n      <th></th>\n      <th></th>\n      <th></th>\n      <th></th>\n      <th></th>\n      <th></th>\n      <th></th>\n    </tr>\n  </thead>\n  <tbody>\n    <tr>\n      <th>0</th>\n      <td>6691.0</td>\n      <td>71.681369</td>\n      <td>250.386989</td>\n      <td>0.0</td>\n      <td>47.0</td>\n      <td>61.0</td>\n      <td>76.0</td>\n      <td>7232.0</td>\n    </tr>\n  </tbody>\n</table>\n</div>"
     },
     "metadata": {},
     "execution_count": 260
    }
   ],
   "source": [
    "asu_frame.groupby('Статус')['СрБаллАттестата'].describe()"
   ]
  },
  {
   "cell_type": "code",
   "execution_count": 261,
   "metadata": {},
   "outputs": [
    {
     "output_type": "execute_result",
     "data": {
      "text/plain": "Статус  Село\n0       0.0     5170\n        1.0     1484\nName: Село, dtype: int64"
     },
     "metadata": {},
     "execution_count": 261
    }
   ],
   "source": [
    "asu_frame.groupby('Статус')['Село'].value_counts()"
   ]
  },
  {
   "cell_type": "code",
   "execution_count": 262,
   "metadata": {},
   "outputs": [
    {
     "output_type": "execute_result",
     "data": {
      "text/plain": "                  ID birth_year_int female male sex_summ Год_Окончания_УЗ  \\\nСтатус             0              0      0    0        0                0   \nПол                                                                         \nЖен     69852.612579    1993.969560      1    0        1      2013.759388   \nМуж     70708.725028    1994.086251      0    1        1      2013.861066   \n\n       Год_Поступления Иностранец    Код_группы КодФакультета Наличие_Матери  \\\nСтатус               0          0             0             0              0   \nПол                                                                            \nЖен        2014.925786   0.059759  18300.450566     33.318239       0.499119   \nМуж        2015.088463   0.086499  18327.166605     31.448950       0.504607   \n\n       Наличие_Отца Общежитие Опекунство Пособие      Село СрБаллАттестата  \nСтатус            0         0          0       0         0               0  \nПол                                                                         \nЖен        0.498868  0.219722   0.000503     0.0  0.238938       72.881648  \nМуж        0.503502  0.227947   0.001474     0.0  0.199926       69.960004  ",
      "text/html": "<div>\n<style scoped>\n    .dataframe tbody tr th:only-of-type {\n        vertical-align: middle;\n    }\n\n    .dataframe tbody tr th {\n        vertical-align: top;\n    }\n\n    .dataframe thead tr th {\n        text-align: left;\n    }\n\n    .dataframe thead tr:last-of-type th {\n        text-align: right;\n    }\n</style>\n<table border=\"1\" class=\"dataframe\">\n  <thead>\n    <tr>\n      <th></th>\n      <th>ID</th>\n      <th>birth_year_int</th>\n      <th>female</th>\n      <th>male</th>\n      <th>sex_summ</th>\n      <th>Год_Окончания_УЗ</th>\n      <th>Год_Поступления</th>\n      <th>Иностранец</th>\n      <th>Код_группы</th>\n      <th>КодФакультета</th>\n      <th>Наличие_Матери</th>\n      <th>Наличие_Отца</th>\n      <th>Общежитие</th>\n      <th>Опекунство</th>\n      <th>Пособие</th>\n      <th>Село</th>\n      <th>СрБаллАттестата</th>\n    </tr>\n    <tr>\n      <th>Статус</th>\n      <th>0</th>\n      <th>0</th>\n      <th>0</th>\n      <th>0</th>\n      <th>0</th>\n      <th>0</th>\n      <th>0</th>\n      <th>0</th>\n      <th>0</th>\n      <th>0</th>\n      <th>0</th>\n      <th>0</th>\n      <th>0</th>\n      <th>0</th>\n      <th>0</th>\n      <th>0</th>\n      <th>0</th>\n    </tr>\n    <tr>\n      <th>Пол</th>\n      <th></th>\n      <th></th>\n      <th></th>\n      <th></th>\n      <th></th>\n      <th></th>\n      <th></th>\n      <th></th>\n      <th></th>\n      <th></th>\n      <th></th>\n      <th></th>\n      <th></th>\n      <th></th>\n      <th></th>\n      <th></th>\n      <th></th>\n    </tr>\n  </thead>\n  <tbody>\n    <tr>\n      <th>Жен</th>\n      <td>69852.612579</td>\n      <td>1993.969560</td>\n      <td>1</td>\n      <td>0</td>\n      <td>1</td>\n      <td>2013.759388</td>\n      <td>2014.925786</td>\n      <td>0.059759</td>\n      <td>18300.450566</td>\n      <td>33.318239</td>\n      <td>0.499119</td>\n      <td>0.498868</td>\n      <td>0.219722</td>\n      <td>0.000503</td>\n      <td>0.0</td>\n      <td>0.238938</td>\n      <td>72.881648</td>\n    </tr>\n    <tr>\n      <th>Муж</th>\n      <td>70708.725028</td>\n      <td>1994.086251</td>\n      <td>0</td>\n      <td>1</td>\n      <td>1</td>\n      <td>2013.861066</td>\n      <td>2015.088463</td>\n      <td>0.086499</td>\n      <td>18327.166605</td>\n      <td>31.448950</td>\n      <td>0.504607</td>\n      <td>0.503502</td>\n      <td>0.227947</td>\n      <td>0.001474</td>\n      <td>0.0</td>\n      <td>0.199926</td>\n      <td>69.960004</td>\n    </tr>\n  </tbody>\n</table>\n</div>"
     },
     "metadata": {},
     "execution_count": 262
    }
   ],
   "source": [
    "asu_frame.pivot_table(index='Пол', columns='Статус')"
   ]
  },
  {
   "cell_type": "code",
   "execution_count": 263,
   "metadata": {},
   "outputs": [
    {
     "output_type": "execute_result",
     "data": {
      "text/plain": "&#39;Всего позиций 6691 закончили ВУЗ 0, отчислено 0, каникулы 0. Отклонение по сумме 6691&#39;"
     },
     "metadata": {},
     "execution_count": 263
    }
   ],
   "source": [
    "graduate = asu_frame.loc[asu_frame['Статус'] == 4]['Статус'].count()\n",
    "expelled = asu_frame.loc[asu_frame['Статус'] == 3]['Статус'].count()\n",
    "vacation = asu_frame.loc[asu_frame['Статус'] == -1]['Статус'].count()\n",
    "all_students = frame_size[0]\n",
    "delta = all_students - graduate - expelled - vacation\n",
    "f'Всего позиций {all_students} закончили ВУЗ {graduate}, отчислено {expelled}, каникулы {vacation}. Отклонение по сумме {delta}'"
   ]
  },
  {
   "cell_type": "code",
   "execution_count": 264,
   "metadata": {},
   "outputs": [
    {
     "output_type": "execute_result",
     "data": {
      "text/plain": "Empty DataFrame\nColumns: [ID, Код_группы, Год_Поступления, Пол, Основания, Изучаемый_Язык, Дата_Рождения, Уч_Заведение, Где_Находится_УЗ, Год_Окончания_УЗ, Пособие, Страна_ПП, Регион_ПП, Город_ПП, Общежитие, Наличие_Матери, Наличие_Отца, Страна_Родители, Опекунство, Село, Иностранец, КодФакультета, СрБаллАттестата, male, female, sex_summ, birth_year, entrance, birth_year_int, Статус]\nIndex: []\n\n[0 rows x 30 columns]",
      "text/html": "<div>\n<style scoped>\n    .dataframe tbody tr th:only-of-type {\n        vertical-align: middle;\n    }\n\n    .dataframe tbody tr th {\n        vertical-align: top;\n    }\n\n    .dataframe thead th {\n        text-align: right;\n    }\n</style>\n<table border=\"1\" class=\"dataframe\">\n  <thead>\n    <tr style=\"text-align: right;\">\n      <th></th>\n      <th>ID</th>\n      <th>Код_группы</th>\n      <th>Год_Поступления</th>\n      <th>Пол</th>\n      <th>Основания</th>\n      <th>Изучаемый_Язык</th>\n      <th>Дата_Рождения</th>\n      <th>Уч_Заведение</th>\n      <th>Где_Находится_УЗ</th>\n      <th>Год_Окончания_УЗ</th>\n      <th>...</th>\n      <th>Иностранец</th>\n      <th>КодФакультета</th>\n      <th>СрБаллАттестата</th>\n      <th>male</th>\n      <th>female</th>\n      <th>sex_summ</th>\n      <th>birth_year</th>\n      <th>entrance</th>\n      <th>birth_year_int</th>\n      <th>Статус</th>\n    </tr>\n  </thead>\n  <tbody>\n  </tbody>\n</table>\n<p>0 rows × 30 columns</p>\n</div>"
     },
     "metadata": {},
     "execution_count": 264
    }
   ],
   "source": [
    "graduate_frame = asu_frame.loc[asu_frame['Статус'] == 4]\n",
    "graduate_frame"
   ]
  },
  {
   "cell_type": "code",
   "execution_count": null,
   "metadata": {},
   "outputs": [],
   "source": []
  },
  {
   "cell_type": "code",
   "execution_count": 265,
   "metadata": {
    "tags": []
   },
   "outputs": [
    {
     "output_type": "stream",
     "name": "stdout",
     "text": "0.5940816021521447\n0.40547003437453294\n"
    },
    {
     "output_type": "execute_result",
     "data": {
      "text/plain": "Пол  Статус\nЖен  0         0.594082\nМуж  0         0.405470\ndtype: float64"
     },
     "metadata": {},
     "execution_count": 265
    }
   ],
   "source": [
    "def doly(x):\n",
    "    \n",
    "    gh = x['ID'].count() / frame_size[0]\n",
    "    print(gh)\n",
    "    return gh\n",
    "\n",
    "asu_frame.groupby(['Пол', 'Статус']).apply(doly)"
   ]
  },
  {
   "cell_type": "code",
   "execution_count": 266,
   "metadata": {},
   "outputs": [
    {
     "output_type": "execute_result",
     "data": {
      "text/plain": "           count unique        top freq      first       last\nbirth_year                                                   \n1948           1      1 2015-01-01    1 2015-01-01 2015-01-01\n1969           1      1 2013-01-01    1 2013-01-01 2013-01-01\n1975           1      1 2014-01-01    1 2014-01-01 2014-01-01\n1977           2      2 2015-01-01    1 2013-01-01 2015-01-01\n1978           1      1 2013-01-01    1 2013-01-01 2013-01-01\n1979           1      1 2015-01-01    1 2015-01-01 2015-01-01\n1980           1      1 2013-01-01    1 2013-01-01 2013-01-01\n1981           1      1 2014-01-01    1 2014-01-01 2014-01-01\n1982           1      1 2015-01-01    1 2015-01-01 2015-01-01\n1985           2      2 2013-01-01    1 2013-01-01 2014-01-01\n1986           1      1 2017-01-01    1 2017-01-01 2017-01-01\n1987           5      4 2014-01-01    2 2013-01-01 2016-01-01\n1988           4      4 2015-01-01    1 2013-01-01 2016-01-01\n1989           9      5 2014-01-01    3 2013-01-01 2017-01-01\n1990           9      4 2015-01-01    3 2013-01-01 2016-01-01\n1991          17      5 2015-01-01    6 2013-01-01 2018-01-01\n1992          11      5 2013-01-01    4 2013-01-01 2020-01-01\n1993          13      5 2014-01-01    5 2011-01-01 2016-01-01\n1994          19      5 2014-01-01    6 2013-01-01 2017-01-01\n1995          34      6 2014-01-01   16 2012-01-01 2018-01-01\n1996          80      7 2014-01-01   54 2013-01-01 2019-01-01\n1997         105      5 2015-01-01   51 2013-01-01 2017-01-01\n1998         136      6 2016-01-01   69 2013-01-01 2018-01-01\n1999         127      5 2017-01-01   64 2014-01-01 2018-01-01\n2000         123      7 2018-01-01   51 2012-01-01 2020-01-01\n2001          65      4 2017-01-01   43 2016-01-01 2019-01-01\n2002          34      4 2018-01-01   17 2017-01-01 2020-01-01\n2003          10      3 2019-01-01    6 2018-01-01 2020-01-01\n2004           4      2 2020-01-01    3 2019-01-01 2020-01-01\n2005           1      1 2020-01-01    1 2020-01-01 2020-01-01",
      "text/html": "<div>\n<style scoped>\n    .dataframe tbody tr th:only-of-type {\n        vertical-align: middle;\n    }\n\n    .dataframe tbody tr th {\n        vertical-align: top;\n    }\n\n    .dataframe thead th {\n        text-align: right;\n    }\n</style>\n<table border=\"1\" class=\"dataframe\">\n  <thead>\n    <tr style=\"text-align: right;\">\n      <th></th>\n      <th>count</th>\n      <th>unique</th>\n      <th>top</th>\n      <th>freq</th>\n      <th>first</th>\n      <th>last</th>\n    </tr>\n    <tr>\n      <th>birth_year</th>\n      <th></th>\n      <th></th>\n      <th></th>\n      <th></th>\n      <th></th>\n      <th></th>\n    </tr>\n  </thead>\n  <tbody>\n    <tr>\n      <th>1948</th>\n      <td>1</td>\n      <td>1</td>\n      <td>2015-01-01</td>\n      <td>1</td>\n      <td>2015-01-01</td>\n      <td>2015-01-01</td>\n    </tr>\n    <tr>\n      <th>1969</th>\n      <td>1</td>\n      <td>1</td>\n      <td>2013-01-01</td>\n      <td>1</td>\n      <td>2013-01-01</td>\n      <td>2013-01-01</td>\n    </tr>\n    <tr>\n      <th>1975</th>\n      <td>1</td>\n      <td>1</td>\n      <td>2014-01-01</td>\n      <td>1</td>\n      <td>2014-01-01</td>\n      <td>2014-01-01</td>\n    </tr>\n    <tr>\n      <th>1977</th>\n      <td>2</td>\n      <td>2</td>\n      <td>2015-01-01</td>\n      <td>1</td>\n      <td>2013-01-01</td>\n      <td>2015-01-01</td>\n    </tr>\n    <tr>\n      <th>1978</th>\n      <td>1</td>\n      <td>1</td>\n      <td>2013-01-01</td>\n      <td>1</td>\n      <td>2013-01-01</td>\n      <td>2013-01-01</td>\n    </tr>\n    <tr>\n      <th>1979</th>\n      <td>1</td>\n      <td>1</td>\n      <td>2015-01-01</td>\n      <td>1</td>\n      <td>2015-01-01</td>\n      <td>2015-01-01</td>\n    </tr>\n    <tr>\n      <th>1980</th>\n      <td>1</td>\n      <td>1</td>\n      <td>2013-01-01</td>\n      <td>1</td>\n      <td>2013-01-01</td>\n      <td>2013-01-01</td>\n    </tr>\n    <tr>\n      <th>1981</th>\n      <td>1</td>\n      <td>1</td>\n      <td>2014-01-01</td>\n      <td>1</td>\n      <td>2014-01-01</td>\n      <td>2014-01-01</td>\n    </tr>\n    <tr>\n      <th>1982</th>\n      <td>1</td>\n      <td>1</td>\n      <td>2015-01-01</td>\n      <td>1</td>\n      <td>2015-01-01</td>\n      <td>2015-01-01</td>\n    </tr>\n    <tr>\n      <th>1985</th>\n      <td>2</td>\n      <td>2</td>\n      <td>2013-01-01</td>\n      <td>1</td>\n      <td>2013-01-01</td>\n      <td>2014-01-01</td>\n    </tr>\n    <tr>\n      <th>1986</th>\n      <td>1</td>\n      <td>1</td>\n      <td>2017-01-01</td>\n      <td>1</td>\n      <td>2017-01-01</td>\n      <td>2017-01-01</td>\n    </tr>\n    <tr>\n      <th>1987</th>\n      <td>5</td>\n      <td>4</td>\n      <td>2014-01-01</td>\n      <td>2</td>\n      <td>2013-01-01</td>\n      <td>2016-01-01</td>\n    </tr>\n    <tr>\n      <th>1988</th>\n      <td>4</td>\n      <td>4</td>\n      <td>2015-01-01</td>\n      <td>1</td>\n      <td>2013-01-01</td>\n      <td>2016-01-01</td>\n    </tr>\n    <tr>\n      <th>1989</th>\n      <td>9</td>\n      <td>5</td>\n      <td>2014-01-01</td>\n      <td>3</td>\n      <td>2013-01-01</td>\n      <td>2017-01-01</td>\n    </tr>\n    <tr>\n      <th>1990</th>\n      <td>9</td>\n      <td>4</td>\n      <td>2015-01-01</td>\n      <td>3</td>\n      <td>2013-01-01</td>\n      <td>2016-01-01</td>\n    </tr>\n    <tr>\n      <th>1991</th>\n      <td>17</td>\n      <td>5</td>\n      <td>2015-01-01</td>\n      <td>6</td>\n      <td>2013-01-01</td>\n      <td>2018-01-01</td>\n    </tr>\n    <tr>\n      <th>1992</th>\n      <td>11</td>\n      <td>5</td>\n      <td>2013-01-01</td>\n      <td>4</td>\n      <td>2013-01-01</td>\n      <td>2020-01-01</td>\n    </tr>\n    <tr>\n      <th>1993</th>\n      <td>13</td>\n      <td>5</td>\n      <td>2014-01-01</td>\n      <td>5</td>\n      <td>2011-01-01</td>\n      <td>2016-01-01</td>\n    </tr>\n    <tr>\n      <th>1994</th>\n      <td>19</td>\n      <td>5</td>\n      <td>2014-01-01</td>\n      <td>6</td>\n      <td>2013-01-01</td>\n      <td>2017-01-01</td>\n    </tr>\n    <tr>\n      <th>1995</th>\n      <td>34</td>\n      <td>6</td>\n      <td>2014-01-01</td>\n      <td>16</td>\n      <td>2012-01-01</td>\n      <td>2018-01-01</td>\n    </tr>\n    <tr>\n      <th>1996</th>\n      <td>80</td>\n      <td>7</td>\n      <td>2014-01-01</td>\n      <td>54</td>\n      <td>2013-01-01</td>\n      <td>2019-01-01</td>\n    </tr>\n    <tr>\n      <th>1997</th>\n      <td>105</td>\n      <td>5</td>\n      <td>2015-01-01</td>\n      <td>51</td>\n      <td>2013-01-01</td>\n      <td>2017-01-01</td>\n    </tr>\n    <tr>\n      <th>1998</th>\n      <td>136</td>\n      <td>6</td>\n      <td>2016-01-01</td>\n      <td>69</td>\n      <td>2013-01-01</td>\n      <td>2018-01-01</td>\n    </tr>\n    <tr>\n      <th>1999</th>\n      <td>127</td>\n      <td>5</td>\n      <td>2017-01-01</td>\n      <td>64</td>\n      <td>2014-01-01</td>\n      <td>2018-01-01</td>\n    </tr>\n    <tr>\n      <th>2000</th>\n      <td>123</td>\n      <td>7</td>\n      <td>2018-01-01</td>\n      <td>51</td>\n      <td>2012-01-01</td>\n      <td>2020-01-01</td>\n    </tr>\n    <tr>\n      <th>2001</th>\n      <td>65</td>\n      <td>4</td>\n      <td>2017-01-01</td>\n      <td>43</td>\n      <td>2016-01-01</td>\n      <td>2019-01-01</td>\n    </tr>\n    <tr>\n      <th>2002</th>\n      <td>34</td>\n      <td>4</td>\n      <td>2018-01-01</td>\n      <td>17</td>\n      <td>2017-01-01</td>\n      <td>2020-01-01</td>\n    </tr>\n    <tr>\n      <th>2003</th>\n      <td>10</td>\n      <td>3</td>\n      <td>2019-01-01</td>\n      <td>6</td>\n      <td>2018-01-01</td>\n      <td>2020-01-01</td>\n    </tr>\n    <tr>\n      <th>2004</th>\n      <td>4</td>\n      <td>2</td>\n      <td>2020-01-01</td>\n      <td>3</td>\n      <td>2019-01-01</td>\n      <td>2020-01-01</td>\n    </tr>\n    <tr>\n      <th>2005</th>\n      <td>1</td>\n      <td>1</td>\n      <td>2020-01-01</td>\n      <td>1</td>\n      <td>2020-01-01</td>\n      <td>2020-01-01</td>\n    </tr>\n  </tbody>\n</table>\n</div>"
     },
     "metadata": {},
     "execution_count": 266
    }
   ],
   "source": [
    "asu_frame.loc[asu_frame['СрБаллАттестата'] < 5].groupby(asu_frame['birth_year'].dt.to_period('Y'))['entrance'].describe()"
   ]
  },
  {
   "cell_type": "code",
   "execution_count": 267,
   "metadata": {},
   "outputs": [
    {
     "output_type": "execute_result",
     "data": {
      "text/plain": "         ID  Код_группы  Год_Поступления  Пол Основания   Изучаемый_Язык  \\\n2     86587       21210             2018  Жен        ОО  Английский язык   \n3     73673       22254             2015  Жен        ОО  Английский язык   \n6     77774       18616             2016  Жен        СН  Английский язык   \n20    75272       21670             2016  Жен        БН  Английский язык   \n39    58345       15234             2013  Муж        ОО    Немецкий язык   \n...     ...         ...              ...  ...       ...              ...   \n6608  86325       21005             2018  Жен        БН  Английский язык   \n6614  86326       21005             2018  Муж        ОО  Английский язык   \n6657  70541       17380             2015  Жен        ОО    Немецкий язык   \n6673  58310       15233             2013  Муж        ОО  Английский язык   \n6680  78563       19612             2016  Муж        ДН  Английский язык   \n\n                Дата_Рождения  \\\n2     1973-08-09 00:00:00.000   \n3     1983-12-07 00:00:00.000   \n6     1981-11-30 00:00:00.000   \n20    1981-03-09 00:00:00.000   \n39    1984-02-14 00:00:00.000   \n...                       ...   \n6608  1971-10-14 00:00:00.000   \n6614  1960-03-15 00:00:00.000   \n6657  1973-08-01 00:00:00.000   \n6673  1985-11-25 00:00:00.000   \n6680  1977-08-01 00:00:00.000   \n\n                                           Уч_Заведение  \\\n2     Алтайский государственный медицинский университет   \n3       ГОУ ВПО &quot;Алтайский государственный университет&quot;   \n6     Бийский педагогический государственный универс...   \n20    Барнаульский государственный педагогический ун...   \n39              МОСШ с. Березовка Солонешенского района   \n...                                                 ...   \n6608                    Восточный гуманитарный институт   \n6614              Алтайский государственный университет   \n6657              Алтайский государственный университет   \n6673                                               КГОШ   \n6680     Алтайский государственный аграрный университет   \n\n                                       Где_Находится_УЗ  Год_Окончания_УЗ  \\\n2                            Алтайский край, г. Барнаул            1997.0   \n3                             Алтайский край, Барнаул г            2006.0   \n6                       Россия, Алтайский край, г Бийск            2003.0   \n20                    Россия, Алтайский край, г Барнаул            2003.0   \n39                   с. Березовка Солонешенского района            2001.0   \n...                                                 ...               ...   \n6608  Казахстан, Восточно-Казахстанская область, г. ...            2003.0   \n6614                         Алтайский край, г. Барнаул            1982.0   \n6657                          Алтайский край, Барнаул г            1995.0   \n6673                          г. Барнаул Алтайский край            2003.0   \n6680                  Россия, Алтайский край, г.Барнаул            2000.0   \n\n      ...  Иностранец КодФакультета СрБаллАттестата male  female  sex_summ  \\\n2     ...         0.0          34.0            74.0    0       1         1   \n3     ...         0.0          53.0            57.0    0       1         1   \n6     ...         0.0          26.0            56.0    0       1         1   \n20    ...         0.0          51.0            94.0    0       1         1   \n39    ...         0.0          48.0            46.0    1       0         1   \n...   ...         ...           ...             ...  ...     ...       ...   \n6608  ...         1.0          27.0            73.0    0       1         1   \n6614  ...         0.0          27.0            99.0    1       0         1   \n6657  ...         0.0          31.0            85.0    0       1         1   \n6673  ...         0.0          48.0            43.0    1       0         1   \n6680  ...         0.0          26.0            72.0    1       0         1   \n\n      birth_year   entrance  birth_year_int  Статус  \n2     1973-08-09 2018-01-01            1973       0  \n3     1983-12-07 2015-01-01            1983       0  \n6     1981-11-30 2016-01-01            1981       0  \n20    1981-03-09 2016-01-01            1981       0  \n39    1984-02-14 2013-01-01            1984       0  \n...          ...        ...             ...     ...  \n6608  1971-10-14 2018-01-01            1971       0  \n6614  1960-03-15 2018-01-01            1960       0  \n6657  1973-08-01 2015-01-01            1973       0  \n6673  1985-11-25 2013-01-01            1985       0  \n6680  1977-08-01 2016-01-01            1977       0  \n\n[478 rows x 30 columns]",
      "text/html": "<div>\n<style scoped>\n    .dataframe tbody tr th:only-of-type {\n        vertical-align: middle;\n    }\n\n    .dataframe tbody tr th {\n        vertical-align: top;\n    }\n\n    .dataframe thead th {\n        text-align: right;\n    }\n</style>\n<table border=\"1\" class=\"dataframe\">\n  <thead>\n    <tr style=\"text-align: right;\">\n      <th></th>\n      <th>ID</th>\n      <th>Код_группы</th>\n      <th>Год_Поступления</th>\n      <th>Пол</th>\n      <th>Основания</th>\n      <th>Изучаемый_Язык</th>\n      <th>Дата_Рождения</th>\n      <th>Уч_Заведение</th>\n      <th>Где_Находится_УЗ</th>\n      <th>Год_Окончания_УЗ</th>\n      <th>...</th>\n      <th>Иностранец</th>\n      <th>КодФакультета</th>\n      <th>СрБаллАттестата</th>\n      <th>male</th>\n      <th>female</th>\n      <th>sex_summ</th>\n      <th>birth_year</th>\n      <th>entrance</th>\n      <th>birth_year_int</th>\n      <th>Статус</th>\n    </tr>\n  </thead>\n  <tbody>\n    <tr>\n      <th>2</th>\n      <td>86587</td>\n      <td>21210</td>\n      <td>2018</td>\n      <td>Жен</td>\n      <td>ОО</td>\n      <td>Английский язык</td>\n      <td>1973-08-09 00:00:00.000</td>\n      <td>Алтайский государственный медицинский университет</td>\n      <td>Алтайский край, г. Барнаул</td>\n      <td>1997.0</td>\n      <td>...</td>\n      <td>0.0</td>\n      <td>34.0</td>\n      <td>74.0</td>\n      <td>0</td>\n      <td>1</td>\n      <td>1</td>\n      <td>1973-08-09</td>\n      <td>2018-01-01</td>\n      <td>1973</td>\n      <td>0</td>\n    </tr>\n    <tr>\n      <th>3</th>\n      <td>73673</td>\n      <td>22254</td>\n      <td>2015</td>\n      <td>Жен</td>\n      <td>ОО</td>\n      <td>Английский язык</td>\n      <td>1983-12-07 00:00:00.000</td>\n      <td>ГОУ ВПО \"Алтайский государственный университет\"</td>\n      <td>Алтайский край, Барнаул г</td>\n      <td>2006.0</td>\n      <td>...</td>\n      <td>0.0</td>\n      <td>53.0</td>\n      <td>57.0</td>\n      <td>0</td>\n      <td>1</td>\n      <td>1</td>\n      <td>1983-12-07</td>\n      <td>2015-01-01</td>\n      <td>1983</td>\n      <td>0</td>\n    </tr>\n    <tr>\n      <th>6</th>\n      <td>77774</td>\n      <td>18616</td>\n      <td>2016</td>\n      <td>Жен</td>\n      <td>СН</td>\n      <td>Английский язык</td>\n      <td>1981-11-30 00:00:00.000</td>\n      <td>Бийский педагогический государственный универс...</td>\n      <td>Россия, Алтайский край, г Бийск</td>\n      <td>2003.0</td>\n      <td>...</td>\n      <td>0.0</td>\n      <td>26.0</td>\n      <td>56.0</td>\n      <td>0</td>\n      <td>1</td>\n      <td>1</td>\n      <td>1981-11-30</td>\n      <td>2016-01-01</td>\n      <td>1981</td>\n      <td>0</td>\n    </tr>\n    <tr>\n      <th>20</th>\n      <td>75272</td>\n      <td>21670</td>\n      <td>2016</td>\n      <td>Жен</td>\n      <td>БН</td>\n      <td>Английский язык</td>\n      <td>1981-03-09 00:00:00.000</td>\n      <td>Барнаульский государственный педагогический ун...</td>\n      <td>Россия, Алтайский край, г Барнаул</td>\n      <td>2003.0</td>\n      <td>...</td>\n      <td>0.0</td>\n      <td>51.0</td>\n      <td>94.0</td>\n      <td>0</td>\n      <td>1</td>\n      <td>1</td>\n      <td>1981-03-09</td>\n      <td>2016-01-01</td>\n      <td>1981</td>\n      <td>0</td>\n    </tr>\n    <tr>\n      <th>39</th>\n      <td>58345</td>\n      <td>15234</td>\n      <td>2013</td>\n      <td>Муж</td>\n      <td>ОО</td>\n      <td>Немецкий язык</td>\n      <td>1984-02-14 00:00:00.000</td>\n      <td>МОСШ с. Березовка Солонешенского района</td>\n      <td>с. Березовка Солонешенского района</td>\n      <td>2001.0</td>\n      <td>...</td>\n      <td>0.0</td>\n      <td>48.0</td>\n      <td>46.0</td>\n      <td>1</td>\n      <td>0</td>\n      <td>1</td>\n      <td>1984-02-14</td>\n      <td>2013-01-01</td>\n      <td>1984</td>\n      <td>0</td>\n    </tr>\n    <tr>\n      <th>...</th>\n      <td>...</td>\n      <td>...</td>\n      <td>...</td>\n      <td>...</td>\n      <td>...</td>\n      <td>...</td>\n      <td>...</td>\n      <td>...</td>\n      <td>...</td>\n      <td>...</td>\n      <td>...</td>\n      <td>...</td>\n      <td>...</td>\n      <td>...</td>\n      <td>...</td>\n      <td>...</td>\n      <td>...</td>\n      <td>...</td>\n      <td>...</td>\n      <td>...</td>\n      <td>...</td>\n    </tr>\n    <tr>\n      <th>6608</th>\n      <td>86325</td>\n      <td>21005</td>\n      <td>2018</td>\n      <td>Жен</td>\n      <td>БН</td>\n      <td>Английский язык</td>\n      <td>1971-10-14 00:00:00.000</td>\n      <td>Восточный гуманитарный институт</td>\n      <td>Казахстан, Восточно-Казахстанская область, г. ...</td>\n      <td>2003.0</td>\n      <td>...</td>\n      <td>1.0</td>\n      <td>27.0</td>\n      <td>73.0</td>\n      <td>0</td>\n      <td>1</td>\n      <td>1</td>\n      <td>1971-10-14</td>\n      <td>2018-01-01</td>\n      <td>1971</td>\n      <td>0</td>\n    </tr>\n    <tr>\n      <th>6614</th>\n      <td>86326</td>\n      <td>21005</td>\n      <td>2018</td>\n      <td>Муж</td>\n      <td>ОО</td>\n      <td>Английский язык</td>\n      <td>1960-03-15 00:00:00.000</td>\n      <td>Алтайский государственный университет</td>\n      <td>Алтайский край, г. Барнаул</td>\n      <td>1982.0</td>\n      <td>...</td>\n      <td>0.0</td>\n      <td>27.0</td>\n      <td>99.0</td>\n      <td>1</td>\n      <td>0</td>\n      <td>1</td>\n      <td>1960-03-15</td>\n      <td>2018-01-01</td>\n      <td>1960</td>\n      <td>0</td>\n    </tr>\n    <tr>\n      <th>6657</th>\n      <td>70541</td>\n      <td>17380</td>\n      <td>2015</td>\n      <td>Жен</td>\n      <td>ОО</td>\n      <td>Немецкий язык</td>\n      <td>1973-08-01 00:00:00.000</td>\n      <td>Алтайский государственный университет</td>\n      <td>Алтайский край, Барнаул г</td>\n      <td>1995.0</td>\n      <td>...</td>\n      <td>0.0</td>\n      <td>31.0</td>\n      <td>85.0</td>\n      <td>0</td>\n      <td>1</td>\n      <td>1</td>\n      <td>1973-08-01</td>\n      <td>2015-01-01</td>\n      <td>1973</td>\n      <td>0</td>\n    </tr>\n    <tr>\n      <th>6673</th>\n      <td>58310</td>\n      <td>15233</td>\n      <td>2013</td>\n      <td>Муж</td>\n      <td>ОО</td>\n      <td>Английский язык</td>\n      <td>1985-11-25 00:00:00.000</td>\n      <td>КГОШ</td>\n      <td>г. Барнаул Алтайский край</td>\n      <td>2003.0</td>\n      <td>...</td>\n      <td>0.0</td>\n      <td>48.0</td>\n      <td>43.0</td>\n      <td>1</td>\n      <td>0</td>\n      <td>1</td>\n      <td>1985-11-25</td>\n      <td>2013-01-01</td>\n      <td>1985</td>\n      <td>0</td>\n    </tr>\n    <tr>\n      <th>6680</th>\n      <td>78563</td>\n      <td>19612</td>\n      <td>2016</td>\n      <td>Муж</td>\n      <td>ДН</td>\n      <td>Английский язык</td>\n      <td>1977-08-01 00:00:00.000</td>\n      <td>Алтайский государственный аграрный университет</td>\n      <td>Россия, Алтайский край, г.Барнаул</td>\n      <td>2000.0</td>\n      <td>...</td>\n      <td>0.0</td>\n      <td>26.0</td>\n      <td>72.0</td>\n      <td>1</td>\n      <td>0</td>\n      <td>1</td>\n      <td>1977-08-01</td>\n      <td>2016-01-01</td>\n      <td>1977</td>\n      <td>0</td>\n    </tr>\n  </tbody>\n</table>\n<p>478 rows × 30 columns</p>\n</div>"
     },
     "metadata": {},
     "execution_count": 267
    }
   ],
   "source": [
    "old_year = datetime.datetime.strptime('1986', '%Y')\n",
    "asu_frame.loc[(asu_frame['birth_year'] < old_year) & (asu_frame['СрБаллАттестата'] > 20)]"
   ]
  },
  {
   "cell_type": "code",
   "execution_count": 268,
   "metadata": {},
   "outputs": [],
   "source": [
    "old_year = datetime.datetime.strptime('2004', \"%Y\")\n"
   ]
  },
  {
   "cell_type": "code",
   "execution_count": 269,
   "metadata": {},
   "outputs": [
    {
     "output_type": "execute_result",
     "data": {
      "text/plain": "15"
     },
     "metadata": {},
     "execution_count": 269
    }
   ],
   "source": [
    "asu_frame.groupby('Код_группы')['ID'].count().max()"
   ]
  },
  {
   "cell_type": "markdown",
   "metadata": {},
   "source": [
    "# Очистка первичного фрейма"
   ]
  },
  {
   "cell_type": "code",
   "execution_count": 270,
   "metadata": {},
   "outputs": [],
   "source": [
    "clean_frame = pd.DataFrame()"
   ]
  },
  {
   "cell_type": "code",
   "execution_count": 271,
   "metadata": {},
   "outputs": [],
   "source": [
    "clean_frame = asu_frame.copy()"
   ]
  },
  {
   "cell_type": "code",
   "execution_count": 272,
   "metadata": {},
   "outputs": [
    {
     "output_type": "execute_result",
     "data": {
      "text/plain": "Основания\nБН     873\nДН     973\nОО    2565\nСН    2177\nЦН     103\nName: ID, dtype: int64"
     },
     "metadata": {},
     "execution_count": 272
    }
   ],
   "source": [
    "clean_frame.loc[clean_frame['Основания'] == 'ЛН', 'Основания'] = 'ДН'\n",
    "clean_frame.groupby('Основания')['ID'].count()"
   ]
  },
  {
   "cell_type": "markdown",
   "metadata": {},
   "source": [
    "Колонка иностранный язык"
   ]
  },
  {
   "cell_type": "code",
   "execution_count": 273,
   "metadata": {},
   "outputs": [
    {
     "output_type": "execute_result",
     "data": {
      "text/plain": "Изучаемый_Язык\n-                    397\nАнглийский язык     5219\nНемецкий язык       1047\nФранцузский язык      28\nName: ID, dtype: int64"
     },
     "metadata": {},
     "execution_count": 273
    }
   ],
   "source": [
    "clean_frame.loc[clean_frame['Изучаемый_Язык'].isnull(), 'Изучаемый_Язык'] = '-'\n",
    "clean_frame.loc[clean_frame['Изучаемый_Язык'] == 'Англиийский', 'Изучаемый_Язык'] = 'Английский язык'\n",
    "clean_frame.loc[clean_frame['Изучаемый_Язык'] == 'Иностранный язык (Английский)', 'Изучаемый_Язык'] = 'Английский язык'\n",
    "clean_frame.loc[clean_frame['Изучаемый_Язык'] == 'Английский, немецкий языки', 'Изучаемый_Язык'] = 'Английский язык'\n",
    "clean_frame.loc[clean_frame['Изучаемый_Язык'] == 'Иностранный язык (Немецкий)', 'Изучаемый_Язык'] = 'Немецкий язык'\n",
    "clean_frame.loc[clean_frame['Изучаемый_Язык'] == 'Русский язык', 'Изучаемый_Язык'] = '-'\n",
    "clean_frame.groupby('Изучаемый_Язык')['ID'].count()"
   ]
  },
  {
   "cell_type": "code",
   "execution_count": 274,
   "metadata": {},
   "outputs": [
    {
     "output_type": "execute_result",
     "data": {
      "text/plain": "Пол\n-         3\nЖен    3975\nМуж    2713\nName: ID, dtype: int64"
     },
     "metadata": {},
     "execution_count": 274
    }
   ],
   "source": [
    "clean_frame.loc[clean_frame['Пол'].isnull(), 'Пол'] = '-'\n",
    "clean_frame.groupby('Пол')['ID'].count()"
   ]
  },
  {
   "cell_type": "code",
   "execution_count": 275,
   "metadata": {},
   "outputs": [
    {
     "output_type": "execute_result",
     "data": {
      "text/plain": "         ID  Код_группы  Год_Поступления Пол Основания   Изучаемый_Язык  \\\n2887  73077       16010             2015   -        СН  Английский язык   \n3545  73286       17194             2015   -        СН  Английский язык   \n4326  78542       18499             2016   -        СН  Английский язык   \n\n                Дата_Рождения                               Уч_Заведение  \\\n2887  1993-02-15 00:00:00.000  средняя школа № 1 городского округа Хэган   \n3545  1995-01-20 00:00:00.000                                СШ &quot;Пингун&quot;   \n4326  1995-08-23 00:00:00.000                         СШ №3 уезда Юйчжоу   \n\n                            Где_Находится_УЗ  Год_Окончания_УЗ  ...  \\\n2887                          Китай, Хэйхэ г            2013.0  ...   \n3545                         Китай, Харбин г            2015.0  ...   \n4326  Китай, провинция Хэнань, г Уезд Юйчжоу            2014.0  ...   \n\n      Иностранец КодФакультета СрБаллАттестата male  female  sex_summ  \\\n2887         1.0          51.0            36.0    0       0         0   \n3545         1.0          24.0            38.0    0       0         0   \n4326         1.0          24.0            40.0    0       0         0   \n\n      birth_year   entrance  birth_year_int  Статус  \n2887  1993-02-15 2015-01-01            1993       0  \n3545  1995-01-20 2015-01-01            1995       0  \n4326  1995-08-23 2016-01-01            1995       0  \n\n[3 rows x 30 columns]",
      "text/html": "<div>\n<style scoped>\n    .dataframe tbody tr th:only-of-type {\n        vertical-align: middle;\n    }\n\n    .dataframe tbody tr th {\n        vertical-align: top;\n    }\n\n    .dataframe thead th {\n        text-align: right;\n    }\n</style>\n<table border=\"1\" class=\"dataframe\">\n  <thead>\n    <tr style=\"text-align: right;\">\n      <th></th>\n      <th>ID</th>\n      <th>Код_группы</th>\n      <th>Год_Поступления</th>\n      <th>Пол</th>\n      <th>Основания</th>\n      <th>Изучаемый_Язык</th>\n      <th>Дата_Рождения</th>\n      <th>Уч_Заведение</th>\n      <th>Где_Находится_УЗ</th>\n      <th>Год_Окончания_УЗ</th>\n      <th>...</th>\n      <th>Иностранец</th>\n      <th>КодФакультета</th>\n      <th>СрБаллАттестата</th>\n      <th>male</th>\n      <th>female</th>\n      <th>sex_summ</th>\n      <th>birth_year</th>\n      <th>entrance</th>\n      <th>birth_year_int</th>\n      <th>Статус</th>\n    </tr>\n  </thead>\n  <tbody>\n    <tr>\n      <th>2887</th>\n      <td>73077</td>\n      <td>16010</td>\n      <td>2015</td>\n      <td>-</td>\n      <td>СН</td>\n      <td>Английский язык</td>\n      <td>1993-02-15 00:00:00.000</td>\n      <td>средняя школа № 1 городского округа Хэган</td>\n      <td>Китай, Хэйхэ г</td>\n      <td>2013.0</td>\n      <td>...</td>\n      <td>1.0</td>\n      <td>51.0</td>\n      <td>36.0</td>\n      <td>0</td>\n      <td>0</td>\n      <td>0</td>\n      <td>1993-02-15</td>\n      <td>2015-01-01</td>\n      <td>1993</td>\n      <td>0</td>\n    </tr>\n    <tr>\n      <th>3545</th>\n      <td>73286</td>\n      <td>17194</td>\n      <td>2015</td>\n      <td>-</td>\n      <td>СН</td>\n      <td>Английский язык</td>\n      <td>1995-01-20 00:00:00.000</td>\n      <td>СШ \"Пингун\"</td>\n      <td>Китай, Харбин г</td>\n      <td>2015.0</td>\n      <td>...</td>\n      <td>1.0</td>\n      <td>24.0</td>\n      <td>38.0</td>\n      <td>0</td>\n      <td>0</td>\n      <td>0</td>\n      <td>1995-01-20</td>\n      <td>2015-01-01</td>\n      <td>1995</td>\n      <td>0</td>\n    </tr>\n    <tr>\n      <th>4326</th>\n      <td>78542</td>\n      <td>18499</td>\n      <td>2016</td>\n      <td>-</td>\n      <td>СН</td>\n      <td>Английский язык</td>\n      <td>1995-08-23 00:00:00.000</td>\n      <td>СШ №3 уезда Юйчжоу</td>\n      <td>Китай, провинция Хэнань, г Уезд Юйчжоу</td>\n      <td>2014.0</td>\n      <td>...</td>\n      <td>1.0</td>\n      <td>24.0</td>\n      <td>40.0</td>\n      <td>0</td>\n      <td>0</td>\n      <td>0</td>\n      <td>1995-08-23</td>\n      <td>2016-01-01</td>\n      <td>1995</td>\n      <td>0</td>\n    </tr>\n  </tbody>\n</table>\n<p>3 rows × 30 columns</p>\n</div>"
     },
     "metadata": {},
     "execution_count": 275
    }
   ],
   "source": [
    "clean_frame.loc[clean_frame['Пол'] == '-']"
   ]
  },
  {
   "cell_type": "code",
   "execution_count": 276,
   "metadata": {},
   "outputs": [
    {
     "output_type": "execute_result",
     "data": {
      "text/plain": "Уч_Заведение\n-                                                           578\nАГТУ им.И.И.Ползунова                                         1\nАГТУ им.Ползунова                                             1\nАГУ СПО                                                       1\nАКПЛ                                                          1\n                                                           ... \nшкола Дуньсия                                                 1\nшкола иностранных языков города Цзинань                       1\nшкола-гимназия №4 г. Майлуу-Суу                               1\nшкола-гимназия №4 им. С.М. Кирова                             1\nшкола-гимназия №5 им. Бекмамата Осмонова гор. Жалал-Абад      1\nName: ID, Length: 2245, dtype: int64"
     },
     "metadata": {},
     "execution_count": 276
    }
   ],
   "source": [
    "clean_frame.loc[clean_frame['Уч_Заведение'].isnull(), 'Уч_Заведение'] = '-'\n",
    "clean_frame.groupby('Уч_Заведение')['ID'].count()"
   ]
  },
  {
   "cell_type": "code",
   "execution_count": 277,
   "metadata": {},
   "outputs": [],
   "source": [
    "clean_frame.loc[clean_frame['Где_Находится_УЗ'].isnull(), 'Где_Находится_УЗ'] = '-'"
   ]
  },
  {
   "cell_type": "code",
   "execution_count": 278,
   "metadata": {},
   "outputs": [
    {
     "output_type": "execute_result",
     "data": {
      "text/plain": "Пособие\n0.0    6691\nName: ID, dtype: int64"
     },
     "metadata": {},
     "execution_count": 278
    }
   ],
   "source": [
    "clean_frame.loc[clean_frame['Пособие'].isnull(), 'Пособие'] = 0\n",
    "clean_frame.groupby('Пособие')['ID'].count()\n"
   ]
  },
  {
   "cell_type": "code",
   "execution_count": 279,
   "metadata": {},
   "outputs": [],
   "source": [
    "clean_frame.loc[clean_frame['Город_ПП'].isnull(), 'Город_ПП'] = '-'"
   ]
  },
  {
   "cell_type": "code",
   "execution_count": 280,
   "metadata": {},
   "outputs": [
    {
     "output_type": "execute_result",
     "data": {
      "text/plain": "Регион_ПП\n-                      290\nАлайский край           18\nАлматинская обл          6\nАлматинская область      1\nАлтай Респ              76\n                      ... \nпров. Цзилинь            1\nпров. Цзянси             1\nпров. Шаньдун            1\nпровинция Хайнань        8\nпровинция Цзунци         1\nName: ID, Length: 134, dtype: int64"
     },
     "metadata": {},
     "execution_count": 280
    }
   ],
   "source": [
    "clean_frame.loc[clean_frame['Регион_ПП'].isnull(), 'Регион_ПП'] = '-'\n",
    "clean_frame.groupby('Регион_ПП')['ID'].count()"
   ]
  },
  {
   "cell_type": "code",
   "execution_count": 281,
   "metadata": {},
   "outputs": [
    {
     "output_type": "execute_result",
     "data": {
      "text/plain": "Страна_ПП\n-                           81\nКитай                       82\nКыргызская Республика       37\nМонголия                     1\nРеспублика Казахстан       203\nРеспублика Таджикистан      42\nРоссия                    6240\nТуркменистан                 1\nУзбекистан                   4\nName: ID, dtype: int64"
     },
     "metadata": {},
     "execution_count": 281
    }
   ],
   "source": [
    "clean_frame.loc[clean_frame['Страна_ПП'].isnull(), 'Страна_ПП'] = '-'\n",
    "clean_frame.loc[clean_frame['Страна_ПП'] == 'Афганистан', 'Страна_ПП'] = '-'\n",
    "clean_frame.loc[clean_frame['Страна_ПП'] == 'Кыргызия', 'Страна_ПП'] = 'Кыргызская Республика'\n",
    "clean_frame.loc[clean_frame['Страна_ПП'] == 'Киргизия', 'Страна_ПП'] = 'Кыргызская Республика'\n",
    "clean_frame.loc[clean_frame['Страна_ПП'] == 'Кыргызстан', 'Страна_ПП'] = 'Кыргызская Республика'\n",
    "\n",
    "clean_frame.loc[clean_frame['Страна_ПП'] == 'Казахстан', 'Страна_ПП'] = 'Республика Казахстан'\n",
    "clean_frame.loc[clean_frame['Страна_ПП'] == 'Казахстан ВКО', 'Страна_ПП'] = 'Республика Казахстан'\n",
    "clean_frame.loc[clean_frame['Страна_ПП'] == 'Казахстан Респ', 'Страна_ПП'] = 'Республика Казахстан'\n",
    "clean_frame.loc[clean_frame['Страна_ПП'] == 'Казахстан респ', 'Страна_ПП'] = 'Республика Казахстан'\n",
    "clean_frame.loc[clean_frame['Страна_ПП'] == 'КАЗАХСТАН', 'Страна_ПП'] = 'Республика Казахстан'\n",
    "\n",
    "clean_frame.loc[clean_frame['Страна_ПП'] == 'Таджикистан', 'Страна_ПП'] = 'Республика Таджикистан'\n",
    "clean_frame.loc[clean_frame['Страна_ПП'] == 'Таджикистан Респ', 'Страна_ПП'] = 'Республика Таджикистан'\n",
    "\n",
    "clean_frame.loc[clean_frame['Страна_ПП'] == 'РОССИЯ', 'Страна_ПП'] = 'Россия'\n",
    "clean_frame.loc[clean_frame['Страна_ПП'] == 'Росссия', 'Страна_ПП'] = 'Россия'\n",
    "\n",
    "clean_frame.loc[clean_frame['Страна_ПП'] == 'КИТАЙ', 'Страна_ПП'] = 'Китай'\n",
    "\n",
    "\n",
    "russia_city = ['Барнаул', 'г. Барнаул' , 'Славгород', 'Рубцовск', 'Г.Барнаул', 'Г. Новоалтайск', 'Бийск', 'Белокуриха', 'Барнаул г', 'Новоалтайск', 'Благовещенка РП', 'с. Подсосново', 'Среднекрасилово с', 'с. Повалиха']\n",
    "clean_frame.loc[(clean_frame['Страна_ПП'] == '-') & (clean_frame['Город_ПП'].isin(russia_city)), ['Страна_ПП']] = 'Россия'\n",
    "turkmen_city = ['Туркменабат']\n",
    "clean_frame.loc[(clean_frame['Страна_ПП'] == '-') & (clean_frame['Город_ПП'].isin(turkmen_city)), ['Страна_ПП']] = 'Туркменистан'\n",
    "\n",
    "clean_frame.loc[(clean_frame['Страна_ПП'] == '-') & (clean_frame['Регион_ПП'] == 'Хайнань пров'), 'Страна_ПП'] = 'Китай'\n",
    "\n",
    "clean_frame.loc[(clean_frame['Страна_ПП'] == '-') & (clean_frame['Страна_Родители'] == 'Россия'), 'Страна_ПП'] = 'Россия'\n",
    "clean_frame.loc[(clean_frame['Страна_ПП'] == '-') & (clean_frame['Страна_Родители'] == 'Республика Казахстан'), 'Страна_ПП'] = 'Республика Казахстан'\n",
    "clean_frame.loc[(clean_frame['Страна_ПП'] == '-') & (clean_frame['Страна_Родители'] == 'Республика Таджикистан'), 'Страна_ПП'] = 'Республика Таджикистан'\n",
    "\n",
    "clean_frame.loc[(clean_frame['Страна_ПП'] == '-') & (clean_frame['Где_Находится_УЗ'].str.contains('россия', case=False)), 'Страна_ПП'] = 'Россия'\n",
    "clean_frame.loc[(clean_frame['Страна_ПП'] == '-') & (clean_frame['Где_Находится_УЗ'].str.contains('барнаул', case=False)), 'Страна_ПП'] = 'Россия'\n",
    "clean_frame.loc[(clean_frame['Страна_ПП'] == '-') & (clean_frame['Где_Находится_УЗ'].str.contains('москва', case=False)), 'Страна_ПП'] = 'Россия'\n",
    "clean_frame.loc[(clean_frame['Страна_ПП'] == '-') & (clean_frame['Где_Находится_УЗ'].str.contains('рубцовск', case=False)), 'Страна_ПП'] = 'Россия'\n",
    "clean_frame.loc[(clean_frame['Страна_ПП'] == '-') & (clean_frame['Где_Находится_УЗ'].str.contains('славгород', case=False)), 'Страна_ПП'] = 'Россия'\n",
    "\n",
    "clean_frame.loc[(clean_frame['Страна_ПП'] == '-') & (clean_frame['Уч_Заведение'].str.contains('АлтГУ', case=False)), 'Страна_ПП'] = 'Россия'\n",
    "clean_frame.loc[(clean_frame['Страна_ПП'] == '-') & (clean_frame['Уч_Заведение'].str.contains('островского', case=False)), 'Страна_ПП'] = 'Республика Казахстан'\n",
    "russia_school = ['ГКУ СОШ №9', 'ГОУ лицей №3', 'КГУ \"СОШ №3\"']\n",
    "clean_frame.loc[(clean_frame['Страна_ПП'] == '-') & (clean_frame['Уч_Заведение'].isin(russia_school)), ['Страна_ПП']] = 'Россия'\n",
    "\n",
    "\n",
    "clean_frame.groupby('Страна_ПП')['ID'].count()"
   ]
  },
  {
   "cell_type": "code",
   "execution_count": 282,
   "metadata": {},
   "outputs": [],
   "source": []
  },
  {
   "cell_type": "code",
   "execution_count": 313,
   "metadata": {},
   "outputs": [
    {
     "output_type": "execute_result",
     "data": {
      "text/plain": "          Регион_ПП   Город_ПП\n434  Чарей Марастун  Нангархан",
      "text/html": "<div>\n<style scoped>\n    .dataframe tbody tr th:only-of-type {\n        vertical-align: middle;\n    }\n\n    .dataframe tbody tr th {\n        vertical-align: top;\n    }\n\n    .dataframe thead th {\n        text-align: right;\n    }\n</style>\n<table border=\"1\" class=\"dataframe\">\n  <thead>\n    <tr style=\"text-align: right;\">\n      <th></th>\n      <th>Регион_ПП</th>\n      <th>Город_ПП</th>\n    </tr>\n  </thead>\n  <tbody>\n    <tr>\n      <th>434</th>\n      <td>Чарей Марастун</td>\n      <td>Нангархан</td>\n    </tr>\n  </tbody>\n</table>\n</div>"
     },
     "metadata": {},
     "execution_count": 313
    }
   ],
   "source": [
    "clean_frame.loc[(clean_frame['Страна_ПП'] == '-') & (clean_frame['Страна_Родители'] != '-'), ['Регион_ПП', 'Город_ПП', 'Страна_Родители']]"
   ]
  },
  {
   "cell_type": "code",
   "execution_count": 284,
   "metadata": {},
   "outputs": [],
   "source": [
    "clean_frame.loc[clean_frame['Город_ПП'].isnull(), 'Город_ПП'] = '-'"
   ]
  },
  {
   "cell_type": "code",
   "execution_count": 285,
   "metadata": {},
   "outputs": [
    {
     "output_type": "execute_result",
     "data": {
      "text/plain": "Общежитие\n0.0    5204\n1.0    1487\nName: ID, dtype: int64"
     },
     "metadata": {},
     "execution_count": 285
    }
   ],
   "source": [
    "clean_frame.loc[clean_frame['Общежитие'].isnull(), 'Общежитие'] = 0\n",
    "clean_frame.groupby('Общежитие')['ID'].count()"
   ]
  },
  {
   "cell_type": "code",
   "execution_count": 286,
   "metadata": {},
   "outputs": [
    {
     "output_type": "execute_result",
     "data": {
      "text/plain": "Страна_Родители\n-                           80\nКитай                       83\nКыргызская Республика       42\nМонголия                     1\nРеспублика Казахстан       241\nРеспублика Таджикистан      46\nРоссия                    6193\nТуркменистан                 2\nУзбекистан                   3\nName: ID, dtype: int64"
     },
     "metadata": {},
     "execution_count": 286
    }
   ],
   "source": [
    "clean_frame.loc[clean_frame['Страна_Родители'].isnull(), 'Страна_Родители'] = '-'\n",
    "clean_frame.loc[clean_frame['Страна_Родители'] == 'Афганистан', 'Страна_Родители'] = '-'\n",
    "\n",
    "clean_frame.loc[clean_frame['Страна_Родители'] == 'Кыргызия', 'Страна_Родители'] = 'Кыргызская Республика'\n",
    "clean_frame.loc[clean_frame['Страна_Родители'] == 'Киргизия', 'Страна_Родители'] = 'Кыргызская Республика'\n",
    "clean_frame.loc[clean_frame['Страна_Родители'] == 'Кыргызстан', 'Страна_Родители'] = 'Кыргызская Республика'\n",
    "\n",
    "clean_frame.loc[clean_frame['Страна_Родители'] == 'Казахстан', 'Страна_Родители'] = 'Республика Казахстан'\n",
    "clean_frame.loc[clean_frame['Страна_Родители'] == 'Казахстан ВКО', 'Страна_Родители'] = 'Республика Казахстан'\n",
    "clean_frame.loc[clean_frame['Страна_Родители'] == 'Казахстан Респ', 'Страна_Родители'] = 'Республика Казахстан'\n",
    "clean_frame.loc[clean_frame['Страна_Родители'] == 'Казахстан респ', 'Страна_Родители'] = 'Республика Казахстан'\n",
    "clean_frame.loc[clean_frame['Страна_Родители'] == 'КАЗАХСТАН', 'Страна_Родители'] = 'Республика Казахстан'\n",
    "\n",
    "clean_frame.loc[clean_frame['Страна_Родители'] == 'Таджикистан', 'Страна_Родители'] = 'Республика Таджикистан'\n",
    "clean_frame.loc[clean_frame['Страна_Родители'] == 'Таджикистан Респ', 'Страна_Родители'] = 'Республика Таджикистан'\n",
    "\n",
    "clean_frame.loc[clean_frame['Страна_Родители'] == 'РОССИЯ', 'Страна_Родители'] = 'Россия'\n",
    "clean_frame.loc[clean_frame['Страна_Родители'] == 'Росссия', 'Страна_Родители'] = 'Россия'\n",
    "clean_frame.loc[clean_frame['Страна_Родители'] == 'Чеченская республика', 'Страна_Родители'] = 'Россия'\n",
    "\n",
    "clean_frame.loc[clean_frame['Страна_Родители'] == 'КИТАЙ', 'Страна_Родители'] = 'Китай'\n",
    "\n",
    "clean_frame.loc[(clean_frame['Страна_Родители'] == '-') & (clean_frame['Страна_ПП'] != '-'), 'Страна_Родители'] = clean_frame.loc[(clean_frame['Страна_Родители'] == '-') & (clean_frame['Страна_ПП'] != '-'), 'Страна_ПП']\n",
    "\n",
    "clean_frame.groupby('Страна_Родители')['ID'].count()\n"
   ]
  },
  {
   "cell_type": "code",
   "execution_count": 287,
   "metadata": {},
   "outputs": [
    {
     "output_type": "execute_result",
     "data": {
      "text/plain": "Опекунство\n0.0    6685\n1.0       6\nName: ID, dtype: int64"
     },
     "metadata": {},
     "execution_count": 287
    }
   ],
   "source": [
    "clean_frame.loc[clean_frame['Опекунство'].isnull()]\n",
    "clean_frame.groupby('Опекунство')['ID'].count()"
   ]
  },
  {
   "cell_type": "code",
   "execution_count": 288,
   "metadata": {},
   "outputs": [
    {
     "output_type": "execute_result",
     "data": {
      "text/plain": "Село\n0.0    5178\n1.0    1513\nName: ID, dtype: int64"
     },
     "metadata": {},
     "execution_count": 288
    }
   ],
   "source": [
    "\n",
    "clean_frame.loc[(clean_frame['Село'].isnull()) & (~clean_frame['Город_ПП'].isin(['Барнаул', 'Барнаул г',])), 'Село'] = 1\n",
    "clean_frame.loc[(clean_frame['Село'].isnull()) & (clean_frame['Город_ПП'].isin(['Барнаул', 'Барнаул г',])), 'Село'] = 0\n",
    "clean_frame.loc[(clean_frame['Село'].isnull())]\n",
    "clean_frame.groupby('Село')['ID'].count()"
   ]
  },
  {
   "cell_type": "code",
   "execution_count": 289,
   "metadata": {},
   "outputs": [
    {
     "output_type": "execute_result",
     "data": {
      "text/plain": "Иностранец\n0.0    6095\n1.0     596\nName: ID, dtype: int64"
     },
     "metadata": {},
     "execution_count": 289
    }
   ],
   "source": [
    "\n",
    "clean_frame.loc[(clean_frame['Иностранец'].isnull()) & (~clean_frame['Иностранец'].isin(['Россия'])), 'Иностранец'] = 1\n",
    "clean_frame.loc[(clean_frame['Иностранец'].isnull()) & (clean_frame['Иностранец'].isin(['Россия'])), 'Иностранец'] = 0\n",
    "clean_frame.loc[(clean_frame['Иностранец'].isnull())]\n",
    "clean_frame.groupby('Иностранец')['ID'].count()"
   ]
  },
  {
   "cell_type": "code",
   "execution_count": 290,
   "metadata": {},
   "outputs": [
    {
     "output_type": "execute_result",
     "data": {
      "text/plain": "КодФакультета\n24.0     356\n25.0    1060\n26.0    1335\n27.0     384\n28.0     314\n30.0     211\n31.0     280\n34.0     456\n35.0     275\n36.0     220\n37.0       1\n40.0     223\n41.0     741\n45.0      50\n46.0      16\n47.0      60\n48.0     114\n49.0      41\n51.0     550\n53.0       4\nName: ID, dtype: int64"
     },
     "metadata": {},
     "execution_count": 290
    }
   ],
   "source": [
    "clean_frame.loc[(clean_frame['КодФакультета'].isnull())]\n",
    "clean_frame.groupby('КодФакультета')['ID'].count()"
   ]
  },
  {
   "cell_type": "code",
   "execution_count": 291,
   "metadata": {},
   "outputs": [
    {
     "output_type": "execute_result",
     "data": {
      "text/plain": "Empty DataFrame\nColumns: [ID, Код_группы, Год_Поступления, Пол, Основания, Изучаемый_Язык, Дата_Рождения, Уч_Заведение, Где_Находится_УЗ, Год_Окончания_УЗ, Пособие, Страна_ПП, Регион_ПП, Город_ПП, Общежитие, Наличие_Матери, Наличие_Отца, Страна_Родители, Опекунство, Село, Иностранец, КодФакультета, СрБаллАттестата, male, female, sex_summ, birth_year, entrance, birth_year_int, Статус]\nIndex: []\n\n[0 rows x 30 columns]",
      "text/html": "<div>\n<style scoped>\n    .dataframe tbody tr th:only-of-type {\n        vertical-align: middle;\n    }\n\n    .dataframe tbody tr th {\n        vertical-align: top;\n    }\n\n    .dataframe thead th {\n        text-align: right;\n    }\n</style>\n<table border=\"1\" class=\"dataframe\">\n  <thead>\n    <tr style=\"text-align: right;\">\n      <th></th>\n      <th>ID</th>\n      <th>Код_группы</th>\n      <th>Год_Поступления</th>\n      <th>Пол</th>\n      <th>Основания</th>\n      <th>Изучаемый_Язык</th>\n      <th>Дата_Рождения</th>\n      <th>Уч_Заведение</th>\n      <th>Где_Находится_УЗ</th>\n      <th>Год_Окончания_УЗ</th>\n      <th>...</th>\n      <th>Иностранец</th>\n      <th>КодФакультета</th>\n      <th>СрБаллАттестата</th>\n      <th>male</th>\n      <th>female</th>\n      <th>sex_summ</th>\n      <th>birth_year</th>\n      <th>entrance</th>\n      <th>birth_year_int</th>\n      <th>Статус</th>\n    </tr>\n  </thead>\n  <tbody>\n  </tbody>\n</table>\n<p>0 rows × 30 columns</p>\n</div>"
     },
     "metadata": {},
     "execution_count": 291
    }
   ],
   "source": [
    "clean_frame.loc[(clean_frame['КодФакультета'].isnull())]"
   ]
  },
  {
   "cell_type": "code",
   "execution_count": 292,
   "metadata": {},
   "outputs": [
    {
     "output_type": "execute_result",
     "data": {
      "text/plain": "614     5000.0\n805     4118.0\n1520     787.0\n1651    1040.0\n1686    2468.0\n1789    4400.0\n1988    4846.0\n2154    3688.0\n2698    4350.0\n2729    4764.0\n2812    4053.0\n3191    4286.0\n3399    3940.0\n3505    2506.0\n3788    5000.0\n4073    7232.0\n4239    3600.0\n4528    3444.0\n4889    4533.0\n4966    3400.0\n5342    4947.0\n5355    5000.0\n5432    4928.0\n6503    3866.0\nName: СрБаллАттестата, dtype: float64"
     },
     "metadata": {},
     "execution_count": 292
    }
   ],
   "source": [
    "clean_frame.loc[(clean_frame['СрБаллАттестата'].isnull())]\n",
    "big_atestat = clean_frame.loc[clean_frame['СрБаллАттестата'] > 100, 'ID'].to_list()\n",
    "small_atestat = clean_frame.loc[clean_frame['СрБаллАттестата'] < 5, 'ID'].to_list()\n",
    "#clean_frame.loc[clean_frame['СрБаллАттестата'] > 100, 'СрБаллАттестата'] = clean_frame.loc[clean_frame['СрБаллАттестата'] > 100, 'СрБаллАттестата'] / 100\n",
    "#clean_frame.loc[clean_frame['СрБаллАттестата'] > 100, 'СрБаллАттестата']\n",
    "clean_frame.loc[clean_frame['ID'].isin(big_atestat), 'СрБаллАттестата']"
   ]
  },
  {
   "cell_type": "code",
   "execution_count": 293,
   "metadata": {},
   "outputs": [
    {
     "output_type": "execute_result",
     "data": {
      "text/plain": "Empty DataFrame\nColumns: [ID, Код_группы, Год_Поступления, Пол, Основания, Изучаемый_Язык, Дата_Рождения, Уч_Заведение, Где_Находится_УЗ, Год_Окончания_УЗ, Пособие, Страна_ПП, Регион_ПП, Город_ПП, Общежитие, Наличие_Матери, Наличие_Отца, Страна_Родители, Опекунство, Село, Иностранец, КодФакультета, СрБаллАттестата, male, female, sex_summ, birth_year, entrance, birth_year_int, Статус]\nIndex: []\n\n[0 rows x 30 columns]",
      "text/html": "<div>\n<style scoped>\n    .dataframe tbody tr th:only-of-type {\n        vertical-align: middle;\n    }\n\n    .dataframe tbody tr th {\n        vertical-align: top;\n    }\n\n    .dataframe thead th {\n        text-align: right;\n    }\n</style>\n<table border=\"1\" class=\"dataframe\">\n  <thead>\n    <tr style=\"text-align: right;\">\n      <th></th>\n      <th>ID</th>\n      <th>Код_группы</th>\n      <th>Год_Поступления</th>\n      <th>Пол</th>\n      <th>Основания</th>\n      <th>Изучаемый_Язык</th>\n      <th>Дата_Рождения</th>\n      <th>Уч_Заведение</th>\n      <th>Где_Находится_УЗ</th>\n      <th>Год_Окончания_УЗ</th>\n      <th>...</th>\n      <th>Иностранец</th>\n      <th>КодФакультета</th>\n      <th>СрБаллАттестата</th>\n      <th>male</th>\n      <th>female</th>\n      <th>sex_summ</th>\n      <th>birth_year</th>\n      <th>entrance</th>\n      <th>birth_year_int</th>\n      <th>Статус</th>\n    </tr>\n  </thead>\n  <tbody>\n  </tbody>\n</table>\n<p>0 rows × 30 columns</p>\n</div>"
     },
     "metadata": {},
     "execution_count": 293
    }
   ],
   "source": [
    "clean_frame.loc[(clean_frame['Статус'].isnull())]"
   ]
  },
  {
   "cell_type": "code",
   "execution_count": 294,
   "metadata": {},
   "outputs": [
    {
     "output_type": "execute_result",
     "data": {
      "text/plain": "СрБаллАттестата\n0.000       1\n3.000       4\n3.052       1\n3.067       1\n3.100       2\n           ..\n4846.000    1\n4928.000    1\n4947.000    1\n5000.000    3\n7232.000    1\nName: ID, Length: 343, dtype: int64"
     },
     "metadata": {},
     "execution_count": 294
    }
   ],
   "source": [
    "clean_frame.groupby('СрБаллАттестата')['ID'].count()"
   ]
  },
  {
   "cell_type": "code",
   "execution_count": 295,
   "metadata": {},
   "outputs": [
    {
     "output_type": "execute_result",
     "data": {
      "text/plain": "Index([&#39;ID&#39;, &#39;Код_группы&#39;, &#39;Год_Поступления&#39;, &#39;Пол&#39;, &#39;Основания&#39;,\n       &#39;Изучаемый_Язык&#39;, &#39;Дата_Рождения&#39;, &#39;Уч_Заведение&#39;, &#39;Где_Находится_УЗ&#39;,\n       &#39;Год_Окончания_УЗ&#39;, &#39;Пособие&#39;, &#39;Страна_ПП&#39;, &#39;Регион_ПП&#39;, &#39;Город_ПП&#39;,\n       &#39;Общежитие&#39;, &#39;Наличие_Матери&#39;, &#39;Наличие_Отца&#39;, &#39;Страна_Родители&#39;,\n       &#39;Опекунство&#39;, &#39;Село&#39;, &#39;Иностранец&#39;, &#39;КодФакультета&#39;, &#39;СрБаллАттестата&#39;,\n       &#39;male&#39;, &#39;female&#39;, &#39;sex_summ&#39;, &#39;birth_year&#39;, &#39;entrance&#39;,\n       &#39;birth_year_int&#39;, &#39;Статус&#39;],\n      dtype=&#39;object&#39;)"
     },
     "metadata": {},
     "execution_count": 295
    }
   ],
   "source": [
    "asu_frame.columns"
   ]
  },
  {
   "cell_type": "code",
   "execution_count": 296,
   "metadata": {},
   "outputs": [],
   "source": [
    "columns_to_csv = ['Год_Поступления', 'Пол', 'Основания', 'Изучаемый_Язык', 'Дата_Рождения', 'Страна_ПП', 'Общежитие', 'Наличие_Матери', 'Наличие_Отца', 'Страна_Родители',\n",
    "       'Опекунство', 'Село', 'Иностранец', 'КодФакультета', 'СрБаллАттестата',\n",
    "       'Статус', 'male', 'female', 'sex_summ', 'birth_year', 'entrance']"
   ]
  },
  {
   "cell_type": "code",
   "execution_count": 297,
   "metadata": {},
   "outputs": [
    {
     "output_type": "execute_result",
     "data": {
      "text/plain": "[&#39;Год_Окончания_УЗ&#39;]"
     },
     "metadata": {},
     "execution_count": 297
    }
   ],
   "source": [
    "clean_frame.columns[clean_frame.isna().any()].tolist()"
   ]
  },
  {
   "cell_type": "code",
   "execution_count": 298,
   "metadata": {},
   "outputs": [
    {
     "output_type": "execute_result",
     "data": {
      "text/plain": "  Основания  male  female\n0        ДН     0       1\n1        ДН     0       1\n2        ОО     0       1\n3        ОО     0       1\n4        ОО     0       1\n5        ОО     0       1\n6        СН     0       1\n7        ОО     0       1\n8        ДН     0       1\n9        БН     0       1",
      "text/html": "<div>\n<style scoped>\n    .dataframe tbody tr th:only-of-type {\n        vertical-align: middle;\n    }\n\n    .dataframe tbody tr th {\n        vertical-align: top;\n    }\n\n    .dataframe thead th {\n        text-align: right;\n    }\n</style>\n<table border=\"1\" class=\"dataframe\">\n  <thead>\n    <tr style=\"text-align: right;\">\n      <th></th>\n      <th>Основания</th>\n      <th>male</th>\n      <th>female</th>\n    </tr>\n  </thead>\n  <tbody>\n    <tr>\n      <th>0</th>\n      <td>ДН</td>\n      <td>0</td>\n      <td>1</td>\n    </tr>\n    <tr>\n      <th>1</th>\n      <td>ДН</td>\n      <td>0</td>\n      <td>1</td>\n    </tr>\n    <tr>\n      <th>2</th>\n      <td>ОО</td>\n      <td>0</td>\n      <td>1</td>\n    </tr>\n    <tr>\n      <th>3</th>\n      <td>ОО</td>\n      <td>0</td>\n      <td>1</td>\n    </tr>\n    <tr>\n      <th>4</th>\n      <td>ОО</td>\n      <td>0</td>\n      <td>1</td>\n    </tr>\n    <tr>\n      <th>5</th>\n      <td>ОО</td>\n      <td>0</td>\n      <td>1</td>\n    </tr>\n    <tr>\n      <th>6</th>\n      <td>СН</td>\n      <td>0</td>\n      <td>1</td>\n    </tr>\n    <tr>\n      <th>7</th>\n      <td>ОО</td>\n      <td>0</td>\n      <td>1</td>\n    </tr>\n    <tr>\n      <th>8</th>\n      <td>ДН</td>\n      <td>0</td>\n      <td>1</td>\n    </tr>\n    <tr>\n      <th>9</th>\n      <td>БН</td>\n      <td>0</td>\n      <td>1</td>\n    </tr>\n  </tbody>\n</table>\n</div>"
     },
     "metadata": {},
     "execution_count": 298
    }
   ],
   "source": [
    "clean_frame.loc[:, ['Основания', 'male', 'female']].head(10)"
   ]
  },
  {
   "cell_type": "code",
   "execution_count": null,
   "metadata": {},
   "outputs": [],
   "source": []
  },
  {
   "cell_type": "markdown",
   "metadata": {},
   "source": [
    "# Составление справочников кодов для текстовых колонок"
   ]
  },
  {
   "cell_type": "code",
   "execution_count": 299,
   "metadata": {
    "tags": []
   },
   "outputs": [
    {
     "output_type": "stream",
     "name": "stdout",
     "text": "&lt;class &#39;pandas.core.frame.DataFrame&#39;&gt;\nRangeIndex: 6691 entries, 0 to 6690\nData columns (total 30 columns):\n #   Column            Non-Null Count  Dtype         \n---  ------            --------------  -----         \n 0   ID                6691 non-null   int64         \n 1   Код_группы        6691 non-null   int64         \n 2   Год_Поступления   6691 non-null   int64         \n 3   Пол               6691 non-null   object        \n 4   Основания         6691 non-null   object        \n 5   Изучаемый_Язык    6691 non-null   object        \n 6   Дата_Рождения     6691 non-null   object        \n 7   Уч_Заведение      6691 non-null   object        \n 8   Где_Находится_УЗ  6691 non-null   object        \n 9   Год_Окончания_УЗ  6074 non-null   float64       \n 10  Пособие           6691 non-null   float64       \n 11  Страна_ПП         6691 non-null   object        \n 12  Регион_ПП         6691 non-null   object        \n 13  Город_ПП          6691 non-null   object        \n 14  Общежитие         6691 non-null   float64       \n 15  Наличие_Матери    6691 non-null   int64         \n 16  Наличие_Отца      6691 non-null   float64       \n 17  Страна_Родители   6691 non-null   object        \n 18  Опекунство        6691 non-null   float64       \n 19  Село              6691 non-null   float64       \n 20  Иностранец        6691 non-null   float64       \n 21  КодФакультета     6691 non-null   float64       \n 22  СрБаллАттестата   6691 non-null   float64       \n 23  male              6691 non-null   int64         \n 24  female            6691 non-null   int64         \n 25  sex_summ          6691 non-null   int64         \n 26  birth_year        6691 non-null   datetime64[ns]\n 27  entrance          6691 non-null   datetime64[ns]\n 28  birth_year_int    6691 non-null   int64         \n 29  Статус            6691 non-null   int64         \ndtypes: datetime64[ns](2), float64(9), int64(9), object(10)\nmemory usage: 1.3+ MB\n"
    }
   ],
   "source": [
    "clean_frame.info()"
   ]
  },
  {
   "cell_type": "code",
   "execution_count": 300,
   "metadata": {},
   "outputs": [
    {
     "output_type": "execute_result",
     "data": {
      "text/plain": "0"
     },
     "metadata": {},
     "execution_count": 300
    }
   ],
   "source": [
    "# проверка полноты формирования спика колонок по форматам\n",
    "non_digit_columns_num = clean_frame.dtypes[(clean_frame.dtypes == \"datetime64[ns]\") | (clean_frame.dtypes == \"object\")].count()\n",
    "digit_columns_num = clean_frame.dtypes[(clean_frame.dtypes == \"int64\") | (clean_frame.dtypes == \"float64\")].count()\n",
    "clean_frame.shape[1] - (non_digit_columns_num + digit_columns_num)"
   ]
  },
  {
   "cell_type": "code",
   "execution_count": 301,
   "metadata": {},
   "outputs": [
    {
     "output_type": "execute_result",
     "data": {
      "text/plain": "[&#39;Пол&#39;,\n &#39;Основания&#39;,\n &#39;Изучаемый_Язык&#39;,\n &#39;Дата_Рождения&#39;,\n &#39;Уч_Заведение&#39;,\n &#39;Где_Находится_УЗ&#39;,\n &#39;Страна_ПП&#39;,\n &#39;Регион_ПП&#39;,\n &#39;Город_ПП&#39;,\n &#39;Страна_Родители&#39;,\n &#39;birth_year&#39;,\n &#39;entrance&#39;]"
     },
     "metadata": {},
     "execution_count": 301
    }
   ],
   "source": [
    "# список не числовых колонок\n",
    "non_digit_columns = clean_frame.dtypes[(clean_frame.dtypes == \"datetime64[ns]\") | (clean_frame.dtypes == \"object\")].index.to_list()\n",
    "non_digit_columns"
   ]
  },
  {
   "cell_type": "code",
   "execution_count": 302,
   "metadata": {},
   "outputs": [
    {
     "output_type": "execute_result",
     "data": {
      "text/plain": "[&#39;ID&#39;,\n &#39;Код_группы&#39;,\n &#39;Год_Поступления&#39;,\n &#39;Год_Окончания_УЗ&#39;,\n &#39;Пособие&#39;,\n &#39;Общежитие&#39;,\n &#39;Наличие_Матери&#39;,\n &#39;Наличие_Отца&#39;,\n &#39;Опекунство&#39;,\n &#39;Село&#39;,\n &#39;Иностранец&#39;,\n &#39;КодФакультета&#39;,\n &#39;СрБаллАттестата&#39;,\n &#39;male&#39;,\n &#39;female&#39;,\n &#39;sex_summ&#39;,\n &#39;birth_year_int&#39;,\n &#39;Статус&#39;]"
     },
     "metadata": {},
     "execution_count": 302
    }
   ],
   "source": [
    "# список числовых колонок\n",
    "\n",
    "digit_columns = clean_frame.dtypes[(clean_frame.dtypes == \"int64\") | (clean_frame.dtypes == \"float64\")].index.to_list()\n",
    "digit_columns"
   ]
  },
  {
   "cell_type": "code",
   "execution_count": 303,
   "metadata": {},
   "outputs": [
    {
     "output_type": "execute_result",
     "data": {
      "text/plain": "\n  &#39;Западный Угол с&#39;: 359,\n  &#39;Заречное с&#39;: 360,\n  &#39;Заречный п&#39;: 361,\n  &#39;Заринск&#39;: 362,\n  &#39;Заринск г&#39;: 363,\n  &#39;Заря п&#39;: 364,\n  &#39;Зафарабад&#39;: 365,\n  &#39;Зеленая Поляна с&#39;: 366,\n  &#39;Зеленоград&#39;: 367,\n  &#39;Зеленый Дол с&#39;: 368,\n  &#39;Зелёная Поляна с&#39;: 369,\n  &#39;Зима г&#39;: 370,\n  &#39;Зимари с&#39;: 371,\n  &#39;Зимино с&#39;: 372,\n  &#39;Зимник д&#39;: 373,\n  &#39;Златополь с&#39;: 374,\n  &#39;Златоуст г&#39;: 375,\n  &#39;Змеиногорск&#39;: 376,\n  &#39;Змеиногорск г&#39;: 377,\n  &#39;Знаменка с&#39;: 378,\n  &#39;Золотуха с&#39;: 379,\n  &#39;Зональное с&#39;: 380,\n  &#39;Зудилово&#39;: 381,\n  &#39;Зудилово с&#39;: 382,\n  &#39;Зырянка п&#39;: 383,\n  &#39;Зыряновск&#39;: 384,\n  &#39;Зыряновск г&#39;: 385,\n  &#39;Ивановка с&#39;: 386,\n  &#39;Ильинка с&#39;: 387,\n  &#39;Инин г&#39;: 388,\n  &#39;Инкоу&#39;: 389,\n  &#39;Инта г.&#39;: 390,\n  &#39;Иня с&#39;: 391,\n  &#39;Иогач с&#39;: 392,\n  &#39;Искра п&#39;: 393,\n  &#39;Истаравшан&#39;: 394,\n  &#39;Истимис с&#39;: 395,\n  &#39;Исфана&#39;: 396,\n  &#39;Исфара г&#39;: 397,\n  &#39;Ичунь&#39;: 398,\n  &#39;Ишимбай г&#39;: 399,\n  &#39;Йонко&#39;: 400,\n  &#39;Каа-Хем пгт&#39;: 401,\n  &#39;Кабаково с&#39;: 402,\n  &#39;Кадамжай с&#39;: 403,\n  &#39;Казачий п&#39;: 404,\n  &#39;Казенная Заимка п&#39;: 405,\n  &#39;Казенная Заимка п.&#39;: 406,\n  &#39;Казыбек с&#39;: 407,\n  &#39;Кайырма-Арык&#39;: 408,\n  &#39;Калиновка п&#39;: 409,\n  &#39;Калистратиха с&#39;: 410,\n  &#39;Калманка&#39;: 411,\n  &#39;Калманка с&#39;: 412,\n  &#39;Калмыцкие Мысы с&#39;: 413,\n  &#39;Калтан&#39;: 414,\n  &#39;Каменушка п&#39;: 415,\n  &#39;Камень-на- Оби&#39;: 416,\n  &#39;Камень-на-Оби&#39;: 417,\n  &#39;Камень-на-Оби г&#39;: 418,\n  &#39;Камень-на-Оби г, Плотинная ст&#39;: 419,\n  &#39;Камышенка с&#39;: 420,\n  &#39;Камыши с&#39;: 421,\n  &#39;Камышинка с.&#39;: 422,\n  &#39;Канибадам&#39;: 423,\n  &#39;Канск г&#39;: 424,\n  &#39;Карабинка с&#39;: 425,\n  &#39;Карагай с&#39;: 426,\n  &#39;Караганда&#39;: 427,\n  &#39;Каракокша с&#39;: 428,\n  &#39;Каракол&#39;: 429,\n  &#39;Карамышево с&#39;: 430,\n  &#39;Карасук&#39;: 431,\n  &#39;Каркавино с&#39;: 432,\n  &#39;Карлушка п&#39;: 433,\n  &#39;Карпово второе с&#39;: 434,\n  &#39;Карпово с&#39;: 435,\n  &#39;Карповский п&#39;: 436,\n  &#39;Каскелен&#39;: 437,\n  &#39;Касли&#39;: 438,\n  &#39;Касмалинка с&#39;: 439,\n  &#39;Катанда с&#39;: 440,\n  &#39;Катунское с&#39;: 441,\n  &#39;Качусово п&#39;: 442,\n  &#39;Кашино&#39;: 443,\n  &#39;Кашино с&#39;: 444,\n  &#39;Кашкар&#39;: 445,\n  &#39;Кашкарагаиха с&#39;: 446,\n  &#39;Каярлык с&#39;: 447,\n  &#39;Каяшкан с&#39;: 448,\n  &#39;Кебезень с&#39;: 449,\n  &#39;Кемерово&#39;: 450,\n  &#39;Кемерово г&#39;: 451,\n  &#39;Кибраи п&#39;: 452,\n  &#39;Киприно с&#39;: 453,\n  &#39;Киприно с.&#39;: 454,\n  &#39;Кирей с&#39;: 455,\n  &#39;Кировский п&#39;: 456,\n  &#39;Киселевск&#39;: 457,\n  &#39;Кисилёвск г&#39;: 458,\n  &#39;Кичек п&#39;: 459,\n  &#39;Клепечиха с&#39;: 460,\n  &#39;Клепиково с&#39;: 461,\n  &#39;Клочки с&#39;: 462,\n  &#39;Ключи с&#39;: 463,\n  &#39;Ключи с.&#39;: 464,\n  &#39;Ключики с&#39;: 465,\n  &#39;Кокорский п&#39;: 466,\n  &#39;Коктобе с&#39;: 467,\n  &#39;Кокшетау&#39;: 468,\n  &#39;Кокшетау г&#39;: 469,\n  &#39;Кокши с&#39;: 470,\n  &#39;Коловый мыс с&#39;: 471,\n  &#39;Колпаково с&#39;: 472,\n  &#39;Колыванское с&#39;: 473,\n  &#39;Колывань с&#39;: 474,\n  &#39;Колывань с.&#39;: 475,\n  &#39;Кольцово рп&#39;: 476,\n  &#39;Комариха&#39;: 477,\n  &#39;Комариха с&#39;: 478,\n  &#39;Комарское с&#39;: 479,\n  &#39;Комендантка с&#39;: 480,\n  &#39;Коминтерн п&#39;: 481,\n  &#39;Комсомольск-на-Амуре г&#39;: 482,\n  &#39;Комсомольский п&#39;: 483,\n  &#39;Константиновка с&#39;: 484,\n  &#39;Контошино с&#39;: 485,\n  &#39;Коныр-Озек с&#39;: 486,\n  &#39;Корболиха с&#39;: 487,\n  &#39;Корнилово с&#39;: 488,\n  &#39;Коробейниково с&#39;: 489,\n  &#39;Королевский п&#39;: 490,\n  &#39;Королёвский п&#39;: 491,\n  &#39;Коротояк с&#39;: 492,\n  &#39;Косиха&#39;: 493,\n  &#39;Косиха с&#39;: 494,\n  &#39;Костин Лог с&#39;: 495,\n  &#39;Котляровка п&#39;: 496,\n  &#39;Кочки с&#39;: 497,\n  &#39;Кош-Агач с&#39;: 498,\n  &#39;Кошмамбет&#39;: 499,\n  &#39;Красная Орловка с&#39;: 500,\n  &#39;Красногорское&#39;: 501,\n  &#39;Красногорское c&#39;: 502,\n  &#39;Красногорское с&#39;: 503,\n  &#39;Краснодарское с&#39;: 504,\n  &#39;Краснодубровский п&#39;: 505,\n  &#39;Краснознаменка с&#39;: 506,\n  &#39;Краснощеково с&#39;: 507,\n  &#39;Краснощёково с&#39;: 508,\n  &#39;Красноярка&#39;: 509,\n  &#39;Красноярка п&#39;: 510,\n  &#39;Красноярка с&#39;: 511,\n  &#39;Красноярск&#39;: 512,\n  &#39;Красноярск г&#39;: 513,\n  &#39;Красноярское с&#39;: 514,\n  &#39;Краснояры с&#39;: 515,\n  &#39;Красный Партизан&#39;: 516,\n  &#39;Красный Партизан с&#39;: 517,\n  &#39;Красный Яр с&#39;: 518,\n  &#39;Красный яр&#39;: 519,\n  &#39;Красный яр с&#39;: 520,\n  &#39;Крестьянка с&#39;: 521,\n  &#39;Кривошеино с&#39;: 522,\n  &#39;Кропоткин&#39;: 523,\n  &#39;Крутиха&#39;: 524,\n  &#39;Крутиха с&#39;: 525,\n  &#39;Крутиха с.&#39;: 526,\n  &#39;Крутишка&#39;: 527,\n  &#39;Крутишка с&#39;: 528,\n  &#39;Кубанка п&#39;: 529,\n  &#39;Кузнецово с&#39;: 530,\n  &#39;Кузьминка с&#39;: 531,\n  &#39;Куйбышево п&#39;: 532,\n  &#39;Куйбышево с&#39;: 533,\n  &#39;Куликово с&#39;: 534,\n  &#39;Кулунда&#39;: 535,\n  &#39;Кулунда с&#39;: 536,\n  &#39;Кулундинский п&#39;: 537,\n  &#39;Кулундинский пос&#39;: 538,\n  &#39;Куляба г&#39;: 539,\n  &#39;Кумуш-Азис с&#39;: 540,\n  &#39;Кунгуртуг с&#39;: 541,\n  &#39;Курай с&#39;: 542,\n  &#39;Курган-Тюбе&#39;: 543,\n  &#39;Кургантюба г&#39;: 544,\n  &#39;Кургантюбе&#39;: 545,\n  &#39;Курлек&#39;: 546,\n  &#39;Курочкино с&#39;: 547,\n  &#39;Курск&#39;: 548,\n  &#39;Курчатов г&#39;: 549,\n  &#39;Курья&#39;: 550,\n  &#39;Курья с&#39;: 551,\n  &#39;Кусак с&#39;: 552,\n  &#39;Кучук с&#39;: 553,\n  &#39;Куяган с&#39;: 554,\n  &#39;Куяча с&#39;: 555,\n  &#39;Кызыл г&#39;: 556,\n  &#39;Кызыл-Озек с&#39;: 557,\n  &#39;Кызыл-Озёк с&#39;: 558,\n  &#39;Кызыл-Сецгир А.&#39;: 559,\n  &#39;Кытманово с&#39;: 560,\n  &#39;Лаптев Лог с&#39;: 561,\n  &#39;Ларичиха с&#39;: 562,\n  &#39;Лебедино с&#39;: 563,\n  &#39;Лебяжье&#39;: 564,\n  &#39;Лебяжье с&#39;: 565,\n  &#39;Лебяжье с Барнаул г&#39;: 566,\n  &#39;Лебяжье с, Барнаул г&#39;: 567,\n  &#39;Ленина с&#39;: 568,\n  &#39;Ленинск-Кузнецкий&#39;: 569,\n  &#39;Ленинск-Кузнецкий г&#39;: 570,\n  &#39;Ленск г&#39;: 571,\n  &#39;Леньки с&#39;: 572,\n  &#39;Лесное с&#39;: 573,\n  &#39;Лесной г.&#39;: 574,\n  &#39;Лесной п&#39;: 575,\n  &#39;Линево рп&#39;: 576,\n  &#39;Линевский п&#39;: 577,\n  &#39;Линьфэнь&#39;: 578,\n  &#39;Листвянка с&#39;: 579,\n  &#39;Литвиновка п&#39;: 580,\n  &#39;Логовское с&#39;: 581,\n  &#39;Логовской п&#39;: 582,\n  &#39;Локоть с&#39;: 583,\n  &#39;Локтевский&#39;: 584,\n  &#39;Лохэ&#39;: 585,\n  &#39;Луговое&#39;: 586,\n  &#39;Луговое с&#39;: 587,\n  &#39;Луговское с&#39;: 588,\n  &#39;Луковка с&#39;: 589,\n  &#39;Ляонин&#39;: 590,\n  &#39;Магадан г&#39;: 591,\n  &#39;Магнитогорск г&#39;: 592,\n  &#39;Майкота с&#39;: 593,\n  &#39;Майла-Суу&#39;: 594,\n  &#39;Майлуу-Суу&#39;: 595,\n  &#39;Майлуу-Суу г&#39;: 596,\n  &#39;Майма с&#39;: 597,\n  &#39;Майорка с&#39;: 598,\n  &#39;Майрамкан&#39;: 599,\n  &#39;Майский п&#39;: 600,\n  &#39;Макарово с&#39;: 601,\n  &#39;Макарьевка с&#39;: 602,\n  &#39;Малахово с&#39;: 603,\n  &#39;Малая Черга с&#39;: 604,\n  &#39;Малиновое Озеро РП&#39;: 605,\n  &#39;Малиновое Озеро рп&#39;: 606,\n  &#39;Малиновое озеро РП&#39;: 607,\n  &#39;Малиновое озеро рп&#39;: 608,\n  &#39;Малиновский п&#39;: 609,\n  &#39;Маловолчанка с&#39;: 610,\n  &#39;Малоенисейское с&#39;: 611,\n  &#39;Малоугренево с&#39;: 612,\n  &#39;Малые Бутырки&#39;: 613,\n  &#39;Малые Бутырки с&#39;: 614,\n  &#39;Малый Бащелак с&#39;: 615,\n  &#39;Малышев Лог с&#39;: 616,\n  &#39;Мамонтово с&#39;: 617,\n  &#39;Маомин&#39;: 618,\n  &#39;Маралиха с&#39;: 619,\n  &#39;Мараловодка п&#39;: 620,\n  &#39;Маральи Рожки с&#39;: 621,\n  &#39;Маргилан г.&#39;: 622,\n  &#39;Маркаколь п&#39;: 623,\n  &#39;Марковка с&#39;: 624,\n  &#39;Мартыново&#39;: 625,\n  &#39;Мартыново с&#39;: 626,\n  &#39;Марушка&#39;: 627,\n  &#39;Марушка с&#39;: 628,\n  &#39;Масальский п&#39;: 629,\n  &#39;Маслянино рп&#39;: 630,\n  &#39;Маточный п&#39;: 631,\n  &#39;Машенка с&#39;: 632,\n  &#39;Междуреченск&#39;: 633,\n  &#39;Междуреченск г&#39;: 634,\n  &#39;Мельниковка п&#39;: 635,\n  &#39;Мельниково с&#39;: 636,\n  &#39;Металлургов п&#39;: 637,\n  &#39;Миасс г&#39;: 638,\n  &#39;Мирабилит п&#39;: 639,\n  &#39;Мирный г&#39;: 640,\n  &#39;Мирный п&#39;: 641,\n  &#39;Михайловка с&#39;: 642,\n  &#39;Михайловское&#39;: 643,\n  &#39;Михайловское с&#39;: 644,\n  &#39;Мичуринское с&#39;: 645,\n  &#39;Многоозерный п&#39;: 646,\n  &#39;Москва&#39;: 647,\n  &#39;Москва г&#39;: 648,\n  &#39;Моховское&#39;: 649,\n  &#39;Мочище дп&#39;: 650,\n  &#39;Муданьцзян&#39;: 651,\n  &#39;Мульта с&#39;: 652,\n  &#39;Муравей с&#39;: 653,\n  &#39;Мухор-Тархата с&#39;: 654,\n  &#39;Мыски&#39;: 655,\n  &#39;Мыски г&#39;: 656,\n  &#39;Мытищи&#39;: 657,\n  &#39;Мышланка с&#39;: 658,\n  &#39;Мяньян городской округ&#39;: 659,\n  &#39;Навобод с&#39;: 660,\n  &#39;Налобиха с&#39;: 661,\n  &#39;Наньнин городской округ&#39;: 662,\n  &#39;Наньчун&#39;: 663,\n  &#39;Наньян&#39;: 664,\n  &#39;Неводное с&#39;: 665,\n  &#39;Невьянск г&#39;: 666,\n  &#39;Ненинка с&#39;: 667,\n  &#39;Нечунаево с&#39;: 668,\n  &#39;Нижневартовск г&#39;: 669,\n  &#39;Нижнекаменка с&#39;: 670,\n  &#39;Нижнеозерное с&#39;: 671,\n  &#39;Нижнечуманка с&#39;: 672,\n  &#39;Нижний Кучук с&#39;: 673,\n  &#39;Нижняя Петровка п&#39;: 674,\n  &#39;Нижняя Суетка с&#39;: 675,\n  &#39;Нижняя Тура г&#39;: 676,\n  &#39;Николаевка с&#39;: 677,\n  &#39;Никольск с&#39;: 678,\n  &#39;Никольский п&#39;: 679,\n  &#39;Никольское&#39;: 680,\n  &#39;Новалтайск г&#39;: 681,\n  &#39;Новая Бухтарма п&#39;: 682,\n  &#39;Новая Михайловка с&#39;: 683,\n  &#39;Новая Тараба с&#39;: 684,\n  &#39;Новая Чемровка с&#39;: 685,\n  &#39;Новиково с&#39;: 686,\n  &#39;Новичиха с&#39;: 687,\n  &#39;Ново-Тырышкино с&#39;: 688,\n  &#39;Новоалейское с&#39;: 689,\n  &#39;Новоалександровка с&#39;: 690,\n  &#39;Новоалексеевка с&#39;: 691,\n  &#39;Новоалтайск&#39;: 692,\n  &#39;Новоалтайск г&#39;: 693,\n  &#39;Новоалтайск г Новый п&#39;: 694,\n  &#39;Новобураново с&#39;: 695,\n  &#39;Новодраченино с&#39;: 696,\n  &#39;Новоегорьевское&#39;: 697,\n  &#39;Новоегорьевское с&#39;: 698,\n  &#39;Новоеловка с&#39;: 699,\n  &#39;Новозыково с&#39;: 700,\n  &#39;Новоивановка с&#39;: 701,\n  &#39;Новоильинка с&#39;: 702,\n  &#39;Новоильинка с.&#39;: 703,\n  &#39;Новокопылово с&#39;: 704,\n  &#39;Новокормиха с&#39;: 705,\n  &#39;Новокузнецк&#39;: 706,\n  &#39;Новокузнецк г&#39;: 707,\n  &#39;Новоманошкино с&#39;: 708,\n  &#39;Новомихайловка п&#39;: 709,\n  &#39;Новомоношкино с&#39;: 710,\n  &#39;Новониколаевка с&#39;: 711,\n  &#39;Новообинцево&#39;: 712,\n  &#39;Новообинцево с&#39;: 713,\n  &#39;Новоперуново&#39;: 714,\n  &#39;Новоперуново с&#39;: 715,\n  &#39;Новопесчаное с&#39;: 716,\n  &#39;Новопокровка&#39;: 717,\n  &#39;Новопокровка с&#39;: 718,\n  &#39;Новополтава с&#39;: 719,\n  &#39;Новороманово с&#39;: 720,\n  &#39;Новороссийский п&#39;: 721,\n  &#39;Новосельское с&#39;: 722,\n  &#39;Новосибирск&#39;: 723,\n  &#39;Новосибирск г&#39;: 724,\n  &#39;Новотроицк п&#39;: 725,\n  &#39;Новотырышкино с&#39;: 726,\n  &#39;Новоугловский п&#39;: 727,\n  &#39;Новофирсово с&#39;: 728,\n  &#39;Новошипуново с&#39;: 729,\n  &#39;Новоярки&#39;: 730,\n  &#39;Новоярки с&#39;: 731,\n  &#39;Новые Зори п&#39;: 732,\n  &#39;Новые Зори с&#39;: 733,\n  &#39;Новый Бельтир с&#39;: 734,\n  &#39;Новый Уренгой&#39;: 735,\n  &#39;Новый Уренгой г&#39;: 736,\n  &#39;Новый Чарыш п&#39;: 737,\n  &#39;Новый Шарап д&#39;: 738,\n  &#39;Новый п&#39;: 739,\n  &#39;Норильск&#39;: 740,\n  &#39;Норильск г&#39;: 741,\n  &#39;Ноябрьск&#39;: 742,\n  &#39;Нурек&#39;: 743,\n  &#39;Овсянниково с&#39;: 744,\n  &#39;Огневка с&#39;: 745,\n  &#39;Огни с&#39;: 746,\n  &#39;Озерки с&#39;: 747,\n  &#39;Озерки ст&#39;: 748,\n  &#39;Озерное с&#39;: 749,\n  &#39;Озерный пгт&#39;: 750,\n  &#39;Озеро-Красилово с&#39;: 751,\n  &#39;Озеро-Петровское с&#39;: 752,\n  &#39;Озимая ст&#39;: 753,\n  &#39;Озёрки ст&#39;: 754,\n  &#39;Октябрь п&#39;: 755,\n  &#39;Октябрьский п&#39;: 756,\n  &#39;Октябрьский пос&#39;: 757,\n  &#39;Октябрьский с&#39;: 758,\n  &#39;Омск&#39;: 759,\n  &#39;Омск г&#39;: 760,\n  &#39;Омск г, Крутая Горка м-н&#39;: 761,\n  &#39;Онгудай&#39;: 762,\n  &#39;Онгудай с&#39;: 763,\n  &#39;Опытное поле пос&#39;: 764,\n  &#39;Орехово с&#39;: 765,\n  &#39;Орлеан с.&#39;: 766,\n  &#39;Орлово с&#39;: 767,\n  &#39;Ороктой с&#39;: 768,\n  &#39;Ортолык с&#39;: 769,\n  &#39;Осинники г&#39;: 770,\n  &#39;Осколково с&#39;: 771,\n  &#39;Островное&#39;: 772,\n  &#39;Островное с&#39;: 773,\n  &#39;Отрадное с&#39;: 774,\n  &#39;Ош&#39;: 775,\n  &#39;Ош г&#39;: 776,\n  &#39;П.Урожайный&#39;: 777,\n  &#39;Павловка с&#39;: 778,\n  &#39;Павловск&#39;: 779,\n  &#39;Павловск с&#39;: 780,\n  &#39;Павлодар&#39;: 781,\n  &#39;Павлодар г&#39;: 782,\n  &#39;Павлодар г.&#39;: 783,\n  &#39;Паклино с&#39;: 784,\n  &#39;Палатка п&#39;: 785,\n  &#39;Панкрушиха с&#39;: 786,\n  &#39;Панкрушиха ст.&#39;: 787,\n  &#39;Партизанское с&#39;: 788,\n  &#39;Парфеново с&#39;: 789,\n  &#39;Паспарта с&#39;: 790,\n  &#39;Паспаул с&#39;: 791,\n  &#39;Паспул с&#39;: 792,\n  &#39;Пастхуф с&#39;: 793,\n  &#39;Паутово с&#39;: 794,\n  &#39;Пеледуй п&#39;: 795,\n  &#39;Пенджекент&#39;: 796,\n  &#39;Первокаменка&#39;: 797,\n  &#39;Первокаменка с&#39;: 798,\n  &#39;Первомайский п&#39;: 799,\n  &#39;Первомайское с&#39;: 800,\n  &#39;Первомайское с.&#39;: 801,\n  &#39;Первые Коростели с&#39;: 802,\n  &#39;Перешеечный п&#39;: 803,\n  &#39;Песчаное с&#39;: 804,\n  &#39;Песьянка с&#39;: 805,\n  &#39;Петрапавловск г&#39;: 806,\n  &#39;Петропавловск г&#39;: 807,\n  &#39;Петропавловское&#39;: 808,\n  &#39;Петропавловское с&#39;: 809,\n  &#39;Петрушиха с&#39;: 810,\n  &#39;Петухи с&#39;: 811,\n  &#39;Пещерка с&#39;: 812,\n  &#39;Пещёрка с&#39;: 813,\n  &#39;Плешково с&#39;: 814,\n  &#39;Плоское с&#39;: 815,\n  &#39;Плотава с&#39;: 816,\n  &#39;Плотниково с&#39;: 817,\n  &#39;Победа с&#39;: 818,\n  &#39;Победим п&#39;: 819,\n  &#39;Повалиха с&#39;: 820,\n  &#39;Подборный п.&#39;: 821,\n  &#39;Подгорное с&#39;: 822,\n  &#39;Подойниково с&#39;: 823,\n  &#39;Подсосново с.&#39;: 824,\n  &#39;Подсосново ул.&#39;: 825,\n  &#39;Покровка с&#39;: 826,\n  &#39;Полевое с&#39;: 827,\n  &#39;Полевое с.&#39;: 828,\n  &#39;Полковниково с&#39;: 829,\n  &#39;Поломошное с&#39;: 830,\n  &#39;Полуямки&#39;: 831,\n  &#39;Полуямки п&#39;: 832,\n  &#39;Полуямки с&#39;: 833,\n  &#39;Пономарево с&#39;: 834,\n  &#39;Поперечное с&#39;: 835,\n  &#39;Поперечное с.&#39;: 836,\n  &#39;Поповка&#39;: 837,\n  &#39;Порожнее с&#39;: 838,\n  &#39;Порт-Хархорт&#39;: 839,\n  &#39;Пос.Зато Сибирский&#39;: 840,\n  &#39;Поспелиха с&#39;: 841,\n  &#39;Поспелихинский&#39;: 842,\n  &#39;Поспелихинский п&#39;: 843,\n  &#39;Правда п&#39;: 844,\n  &#39;Правда пос&#39;: 845,\n  &#39;Прапорщиково с&#39;: 846,\n  &#39;Пригородное с&#39;: 847,\n  &#39;Приобское с&#39;: 848,\n  &#39;Прокопьевск&#39;: 849,\n  &#39;Прокопьевск г&#39;: 850,\n  &#39;Прослауха с&#39;: 851,\n  &#39;Протасово с&#39;: 852,\n  &#39;Протасово с.&#39;: 853,\n  &#39;Прудской п&#39;: 854,\n  &#39;Прутской п&#39;: 855,\n  &#39;Прыганка с&#39;: 856,\n  &#39;Пурпе п&#39;: 857,\n  &#39;Пустынь с&#39;: 858,\n  &#39;Пуштулим&#39;: 859,\n  &#39;Пятилетка п&#39;: 860,\n  &#39;РП Благовещенка&#39;: 861,\n  &#39;РП Степное Озеро&#39;: 862,\n  &#39;Радужный г&#39;: 863,\n  &#39;Раздольное с&#39;: 864,\n  &#39;Ракиты с&#39;: 865,\n  &#39;Ребриха&#39;: 866,\n  &#39;Ребриха с&#39;: 867,\n  &#39;Ребриха ст&#39;: 868,\n  &#39;Редкая Дубрава с&#39;: 869,\n  &#39;Редкая Дубрава с.&#39;: 870,\n  &#39;Редккая Дубрава с.&#39;: 871,\n  &#39;Речкуново с&#39;: 872,\n  &#39;Риддер&#39;: 873,\n  &#39;Риддер г&#39;: 874,\n  &#39;Риддер г.&#39;: 875,\n  &#39;Рогозиха с&#39;: 876,\n  &#39;Родино с&#39;: 877,\n  &#39;Родинский&#39;: 878,\n  &#39;Рожнев Лог с&#39;: 879,\n  &#39;Романово с&#39;: 880,\n  &#39;Россоши с&#39;: 881,\n  &#39;Рошни-Чу с&#39;: 882,\n  &#39;Рубцовск&#39;: 883,\n  &#39;Рубцовск г&#39;: 884,\n  &#39;Ручьёво с&#39;: 885,\n  &#39;Рыбное&#39;: 886,\n  &#39;Рыбное с&#39;: 887,\n  &#39;С. Борисово&#39;: 888,\n  &#39;С. Бурла&#39;: 889,\n  &#39;С. Завьялово&#39;: 890,\n  &#39;С.Боровиха&#39;: 891,\n  &#39;С.Ельцовка&#39;: 892,\n  &#39;С.Залесово&#39;: 893,\n  &#39;С.Камышинка&#39;: 894,\n  &#39;С/С Поршенев&#39;: 895,\n  &#39;СЕЛО сОРОЧИЙ-лОГ&#39;: 896,\n  &#39;Саввушка с&#39;: 897,\n  &#39;Савинка с&#39;: 898,\n  &#39;Савкино с&#39;: 899,\n  &#39;Садовый п&#39;: 900,\n  &#39;Сайдып с&#39;: 901,\n  &#39;Салаир&#39;: 902,\n  &#39;Самагалтай с&#39;: 903,\n  &#39;Самарка с&#39;: 904,\n  &#39;Самсоново с&#39;: 905,\n  &#39;Сангар п&#39;: 906,\n  &#39;Санкт-Петербург г&#39;: 907,\n  &#39;Санникова с&#39;: 908,\n  &#39;Санниково с&#39;: 909,\n  &#39;Санья&#39;: 910,\n  &#39;Сараи с&#39;: 911,\n  &#39;Сарань&#39;: 912,\n  &#39;Сараса&#39;: 913,\n  &#39;Сараса с&#39;: 914,\n  &#39;Саратан с&#39;: 915,\n  &#39;Саратовка с&#39;: 916,\n  &#39;Сарбанд г&#39;: 917,\n  &#39;Сарыг-Сеп с&#39;: 918,\n  &#39;Сафроново с&#39;: 919,\n  &#39;Саяногорск г&#39;: 920,\n  &#39;Свекловичный п&#39;: 921,\n  &#39;Свердловское с&#39;: 922,\n  &#39;Сверчково с&#39;: 923,\n  &#39;Светлое с&#39;: 924,\n  &#39;Светлоозерское с&#39;: 925,\n  &#39;Северка&#39;: 926,\n  &#39;Северка с&#39;: 927,\n  &#39;Северный п&#39;: 928,\n  &#39;Северобайкальск&#39;: 929,\n  &#39;Селекционное с&#39;: 930,\n  &#39;Селекционное с.&#39;: 931,\n  &#39;Селиверстово с&#39;: 932,\n  &#39;Село Гоньба&#39;: 933,\n  &#39;Село Урлапово&#39;: 934,\n  &#39;Село Шипуново&#39;: 935,\n  &#39;Семей&#39;: 936,\n  &#39;Семей г&#39;: 937,\n  &#39;Семей г, Восточный п&#39;: 938,\n  &#39;Семей, Западный п&#39;: 939,\n  &#39;Семей, Мукур с&#39;: 940,\n  &#39;Семеновка с&#39;: 941,\n  &#39;Семеновка с.&#39;: 942,\n  &#39;Семипалатинск г&#39;: 943,\n  &#39;Сентелек с&#39;: 944,\n  &#39;Серноводск с&#39;: 945,\n  &#39;Сибирские Огни п&#39;: 946,\n  &#39;Сибирский&#39;: 947,\n  &#39;Сибирский ЗАТО&#39;: 948,\n  &#39;Сибирский п&#39;: 949,\n  &#39;Сибирский с&#39;: 950,\n  &#39;Сидоровка с&#39;: 951,\n  &#39;Ситников с&#39;: 952,\n  &#39;Ситниково с&#39;: 953,\n  &#39;Славгород&#39;: 954,\n  &#39;Славгород г&#39;: 955,\n  &#39;Славгород г, Знаменка с&#39;: 956,\n  &#39;Славгород г.&#39;: 957,\n  &#39;Славгород, Екатериновка с.&#39;: 958,\n  &#39;Славгород, Славгородское с&#39;: 959,\n  &#39;Славгородское с&#39;: 960,\n  &#39;Славгородское с.&#39;: 961,\n  &#39;Смазнево ст&#39;: 962,\n  &#39;Смоленский п&#39;: 963,\n  &#39;Смоленское&#39;: 964,\n  &#39;Смоленское с&#39;: 965,\n  &#39;Соболи п&#39;: 966,\n  &#39;Советский Путь с&#39;: 967,\n  &#39;Советское с&#39;: 968,\n  &#39;Совхозный п&#39;: 969,\n  &#39;Соколово с&#39;: 970,\n  &#39;Солнечное с&#39;: 971,\n  &#39;Солнечный п&#39;: 972,\n  &#39;Солонешное с&#39;: 973,\n  &#39;Солоновка с&#39;: 974,\n  &#39;Солтон с&#39;: 975,\n  &#39;Сомони п&#39;: 976,\n  &#39;Сорочий Лог с&#39;: 977,\n  &#39;Сорочий лог с&#39;: 978,\n  &#39;Сосновка с&#39;: 979,\n  &#39;Соузга с&#39;: 980,\n  &#39;Соусканиха с&#39;: 981,\n  &#39;Спетное с&#39;: 982,\n  &#39;Спирино с&#39;: 983,\n  &#39;Среднекрасилово с&#39;: 984,\n  &#39;Среднесибирский п&#39;: 985,\n  &#39;Сростки с&#39;: 986,\n  &#39;Сросты с&#39;: 987,\n  &#39;Стан-Бехтемир с&#39;: 988,\n  &#39;Старая Суртайка п&#39;: 989,\n  &#39;Старая Тараба с&#39;: 990,\n  &#39;Старая Чемровка с&#39;: 991,\n  &#39;Староалейское с&#39;: 992,\n  &#39;Старобелокуриха с&#39;: 993,\n  &#39;Стародраченино с&#39;: 994,\n  &#39;Степное Озеро РП&#39;: 995,\n  &#39;Степное Озеро рп&#39;: 996,\n  &#39;Степное озеро РП&#39;: 997,\n  &#39;Степное озеро р.п.&#39;: 998,\n  &#39;Степное озеро рп&#39;: 999,\n  ...},\n &#39;Изучаемый_Язык&#39;: {&#39;-&#39;: 0,\n  &#39;Английский язык&#39;: 1,\n  &#39;Немецкий язык&#39;: 2,\n  &#39;Французский язык&#39;: 3},\n &#39;Основания&#39;: {&#39;БН&#39;: 0, &#39;ДН&#39;: 1, &#39;ОО&#39;: 2, &#39;СН&#39;: 3, &#39;ЦН&#39;: 4},\n &#39;Регион_ПП&#39;: {&#39;-&#39;: 0,\n  &#39;АО Чукотский&#39;: 1,\n  &#39;Акмолинская обл&#39;: 2,\n  &#39;Акмолинская обл.&#39;: 3,\n  &#39;Алайский край&#39;: 4,\n  &#39;Алматинская&#39;: 5,\n  &#39;Алматинская обл&#39;: 6,\n  &#39;Алматинская область&#39;: 7,\n  &#39;Алтай Респ&#39;: 8,\n  &#39;Алтай респ&#39;: 9,\n  &#39;Алтайски край&#39;: 10,\n  &#39;Алтайский карй&#39;: 11,\n  &#39;Алтайский кр&#39;: 12,\n  &#39;Алтайский кра&#39;: 13,\n  &#39;Алтайский край&#39;: 14,\n  &#39;Алтайский край &#39;: 15,\n  &#39;Алтайский край, Барнаул г&#39;: 16,\n  &#39;Алтайский крайай&#39;: 17,\n  &#39;Алтайский края&#39;: 18,\n  &#39;Алтаский край&#39;: 19,\n  &#39;Амурская область&#39;: 20,\n  &#39;Аньхой провинция&#39;: 21,\n  &#39;Араратская обл.&#39;: 22,\n  &#39;Баткенская обл&#39;: 23,\n  &#39;Баткенская область&#39;: 24,\n  &#39;Башкортостан Респ&#39;: 25,\n  &#39;Бурятия Респ&#39;: 26,\n  &#39;В-КАЗАХСТАНСКАЯ ОБЛАСТЬ&#39;: 27,\n  &#39;В-Казахстанская&#39;: 28,\n  &#39;В-Казахстанская обл&#39;: 29,\n  &#39;В-Казахстанская обл.&#39;: 30,\n  &#39;ВКО&#39;: 31,\n  &#39;Волгоградская обл&#39;: 32,\n  &#39;Воронежская обл&#39;: 33,\n  &#39;Восточно-Казастанская обл.&#39;: 34,\n  &#39;Восточно-Казахстанская&#39;: 35,\n  &#39;Восточно-Казахстанская обл&#39;: 36,\n  &#39;Восточно-Казахстанская обл.&#39;: 37,\n  &#39;Восточно-Казахстанская область&#39;: 38,\n  &#39;Восточно-Кзахстанская обл&#39;: 39,\n  &#39;ГБАО&#39;: 40,\n  &#39;Ганьсу провинция&#39;: 41,\n  &#39;Горно Бадахшанская АО&#39;: 42,\n  &#39;Горно-Бадахшанская АО&#39;: 43,\n  &#39;Горно-Бадахшанская Аобл&#39;: 44,\n  &#39;Горно-Бадахшанская обл&#39;: 45,\n  &#39;Гуандун&#39;: 46,\n  &#39;Гуандун пров.&#39;: 47,\n  &#39;Джалал-Абадская&#39;: 48,\n  &#39;Джалал-Абадская область&#39;: 49,\n  &#39;Донецкая обл&#39;: 50,\n  &#39;Жалал-Абад обл&#39;: 51,\n  &#39;Жалал-Абадская&#39;: 52,\n  &#39;Жалал-Абадская обл&#39;: 53,\n  &#39;Жалал-Абадская обл.&#39;: 54,\n  &#39;Жалал-Абадская область&#39;: 55,\n  &#39;Желал-Абадская обл&#39;: 56,\n  &#39;Забайкальский край&#39;: 57,\n  &#39;Западно-Казахстанская обл&#39;: 58,\n  &#39;Иркутская обл&#39;: 59,\n  &#39;Иркутская область&#39;: 60,\n  &#39;Иссык-Кульская&#39;: 61,\n  &#39;Иссык-Кульская обл&#39;: 62,\n  &#39;Иссык-Кульская обл.&#39;: 63,\n  &#39;Казахстан Респ&#39;: 64,\n  &#39;Казахстан респ&#39;: 65,\n  &#39;Казыбекбийский р-н&#39;: 66,\n  &#39;Камчатский край&#39;: 67,\n  &#39;Карагандинская обл&#39;: 68,\n  &#39;Кемеровская обл&#39;: 69,\n  &#39;Кемеровская область&#39;: 70,\n  &#39;Коми Респ&#39;: 71,\n  &#39;Краснодарский край&#39;: 72,\n  &#39;Красноярский край&#39;: 73,\n  &#39;Курганская область&#39;: 74,\n  &#39;Курская обл&#39;: 75,\n  &#39;Лебапская обл&#39;: 76,\n  &#39;Лебапская обл.&#39;: 77,\n  &#39;Ленинабадская обл&#39;: 78,\n  &#39;Ленинградская обл&#39;: 79,\n  &#39;Ляонин провинция&#39;: 80,\n  &#39;Магаданская Обл&#39;: 81,\n  &#39;Магаданская обл&#39;: 82,\n  &#39;Магаданская область&#39;: 83,\n  &#39;Мангистауская обл&#39;: 84,\n  &#39;Москва г&#39;: 85,\n  &#39;Московкая обл&#39;: 86,\n  &#39;Московская обл&#39;: 87,\n  &#39;Мурманская область&#39;: 88,\n  &#39;Нарын&#39;: 89,\n  &#39;Нарынская&#39;: 90,\n  &#39;Новосибирская обл&#39;: 91,\n  &#39;Новосибирская область&#39;: 92,\n  &#39;Омская обл&#39;: 93,\n  &#39;Омская область&#39;: 94,\n  &#39;Ошская обл&#39;: 95,\n  &#39;Ошская область&#39;: 96,\n  &#39;Павлодарская обл&#39;: 97,\n  &#39;Павлодарская обл.&#39;: 98,\n  &#39;Павлодарская область&#39;: 99,\n  &#39;Приморский край&#39;: 100,\n  &#39;Респ Алтай&#39;: 101,\n  &#39;Респ Кыргыстан&#39;: 102,\n  &#39;Респ Саха (Якутия)&#39;: 103,\n  &#39;Республика Алтай&#39;: 104,\n  &#39;Республика Башкортостан&#39;: 105,\n  &#39;Республика Бурятия&#39;: 106,\n  &#39;Республика Крым&#39;: 107,\n  &#39;Республика Саха /Якутия/&#39;: 108,\n  &#39;Республика Тыва&#39;: 109,\n  &#39;Республика Хакасия&#39;: 110,\n  &#39;Рязанская&#39;: 111,\n  &#39;Самарская область&#39;: 112,\n  &#39;Саха (Якутия) Респ&#39;: 113,\n  &#39;Саха /Якутия/ Респ&#39;: 114,\n  &#39;Саха Респ (Якутия)&#39;: 115,\n  &#39;Сахалинская область&#39;: 116,\n  &#39;Свердловская обл&#39;: 117,\n  &#39;Свердловская область&#39;: 118,\n  &#39;Северо-Казахстанская обл&#39;: 119,\n  &#39;Синьцзян провинция&#39;: 120,\n  &#39;Согдийская обл&#39;: 121,\n  &#39;Согдийская обл.&#39;: 122,\n  &#39;Согдийская область&#39;: 123,\n  &#39;Сычуань&#39;: 124,\n  &#39;Сычуань провинция&#39;: 125,\n  &#39;Тверская обл&#39;: 126,\n  &#39;Томская обл&#39;: 127,\n  &#39;Томская область&#39;: 128,\n  &#39;Тульская обл&#39;: 129,\n  &#39;Тыва Респ&#39;: 130,\n  &#39;Тыва респ&#39;: 131,\n  &#39;Тюменская область&#39;: 132,\n  &#39;Удмуртская респ&#39;: 133,\n  &#39;Уйгурская АО&#39;: 134,\n  &#39;Ферганская обл&#39;: 135,\n  &#39;Хабаровский край&#39;: 136,\n  &#39;Хайнань пров&#39;: 137,\n  &#39;Хайнань пров.&#39;: 138,\n  &#39;Хакасия&#39;: 139,\n  &#39;Хакасия Респ&#39;: 140,\n  &#39;Ханты-Мансийский АО&#39;: 141,\n  &#39;Ханты-Мансийский Автономный округ - Югра АО&#39;: 142,\n  &#39;Хатлонская&#39;: 143,\n  &#39;Хатлонская обл&#39;: 144,\n  &#39;Хатлонская обл.&#39;: 145,\n  &#39;Хубэй провинция&#39;: 146,\n  &#39;Хунань провинция&#39;: 147,\n  &#39;Хэбэй&#39;: 148,\n  &#39;Хэбэй провинция&#39;: 149,\n  &#39;Хэйбэй провинция&#39;: 150,\n  &#39;Хэйлунцзян&#39;: 151,\n  &#39;Хэйлунцзян провинция&#39;: 152,\n  &#39;Хэнань провинция&#39;: 153,\n  &#39;Цзилинь провинция&#39;: 154,\n  &#39;Цзянси пров.&#39;: 155,\n  &#39;Цзянсу провинция&#39;: 156,\n  &#39;Челябинская обл&#39;: 157,\n  &#39;Челябинская область&#39;: 158,\n  &#39;Чеченская Республика&#39;: 159,\n  &#39;Чеченская респ&#39;: 160,\n  &#39;Чжэцзян провинция&#39;: 161,\n  &#39;Чорякарон&#39;: 162,\n  &#39;Чуйская обл&#39;: 163,\n  &#39;Чуйская обл.&#39;: 164,\n  &#39;Чукотский АО&#39;: 165,\n  &#39;Шаньдун провинция&#39;: 166,\n  &#39;Шохмансур&#39;: 167,\n  &#39;Шэньси провинция&#39;: 168,\n  &#39;Южно-Казахстанская область&#39;: 169,\n  &#39;Ямало-Ненецкий АО&#39;: 170,\n  &#39;Ярославская обл&#39;: 171,\n  &#39;алтайский край&#39;: 172,\n  &#39;г Москва&#39;: 173,\n  &#39;г Санкт-Петербург&#39;: 174,\n  &#39;г. Барнаул&#39;: 175,\n  &#39;пр.Хэйлунцзян&#39;: 176,\n  &#39;пров. Ганьсу&#39;: 177,\n  &#39;пров. Ляолин&#39;: 178,\n  &#39;пров. Синьцзян&#39;: 179,\n  &#39;пров. Хэбэй&#39;: 180,\n  &#39;пров. Хэйлунцзян&#39;: 181,\n  &#39;пров. Хэнань&#39;: 182,\n  &#39;пров. Цзилинь&#39;: 183,\n  &#39;провинция Ганьсу&#39;: 184,\n  &#39;провинция Ляонин&#39;: 185,\n  &#39;провинция Синьцзян&#39;: 186,\n  &#39;провинция Сычуань&#39;: 187,\n  &#39;провинция Хайнань&#39;: 188,\n  &#39;провинция Хунань&#39;: 189,\n  &#39;провинция Хэйлунцзян&#39;: 190,\n  &#39;республика Алтай&#39;: 191,\n  &#39;уезд Чжунсянь&#39;: 192},\n &#39;Страна_ПП&#39;: {&#39;-&#39;: 0,\n  &#39;Армения&#39;: 1,\n  &#39;Китай&#39;: 2,\n  &#39;Кыргызская Республика&#39;: 3,\n  &#39;Монголия&#39;: 4,\n  &#39;Нигерия&#39;: 5,\n  &#39;Республика Казахстан&#39;: 6,\n  &#39;Республика Таджикистан&#39;: 7,\n  &#39;Россия&#39;: 8,\n  &#39;Туркменистан&#39;: 9,\n  &#39;Узбекистан&#39;: 10,\n  &#39;Украина&#39;: 11,\n  &#39;Франция&#39;: 12},\n &#39;Страна_Родители&#39;: {&#39;-&#39;: 0,\n  &#39;Армения&#39;: 1,\n  &#39;Германия&#39;: 2,\n  &#39;Китай&#39;: 3,\n  &#39;Кыргызская Республика&#39;: 4,\n  &#39;Монголия&#39;: 5,\n  &#39;Нигерия&#39;: 6,\n  &#39;Республика Казахстан&#39;: 7,\n  &#39;Республика Молдова&#39;: 8,\n  &#39;Республика Таджикистан&#39;: 9,\n  &#39;Россия&#39;: 10,\n  &#39;Туркменистан&#39;: 11,\n  &#39;Узбекистан&#39;: 12,\n  &#39;Украина&#39;: 13}}"
     },
     "metadata": {},
     "execution_count": 303
    }
   ],
   "source": [
    "with open('data/codes.yaml', 'r') as file:\n",
    "    codes_rule = yaml.load(file, Loader=yaml.FullLoader)\n",
    "codes_rule"
   ]
  },
  {
   "cell_type": "code",
   "execution_count": 304,
   "metadata": {},
   "outputs": [],
   "source": [
    "columns_to_code = {\n",
    "    'Основания': 'basis',\n",
    "    'Изучаемый_Язык': 'language',    \n",
    "    'Страна_ПП': 'country',\n",
    "    #'Регион_ПП': 'region',\n",
    "    #'Город_ПП': 'city',\n",
    "    'Страна_Родители': 'parents_country',\n",
    "}"
   ]
  },
  {
   "cell_type": "code",
   "execution_count": null,
   "metadata": {},
   "outputs": [],
   "source": []
  },
  {
   "cell_type": "code",
   "execution_count": 305,
   "metadata": {},
   "outputs": [
    {
     "output_type": "execute_result",
     "data": {
      "text/plain": "[&#39;basis&#39;, &#39;language&#39;, &#39;country&#39;, &#39;parents_country&#39;]"
     },
     "metadata": {},
     "execution_count": 305
    }
   ],
   "source": [
    "list(columns_to_code.values())"
   ]
  },
  {
   "cell_type": "code",
   "execution_count": 306,
   "metadata": {},
   "outputs": [
    {
     "output_type": "execute_result",
     "data": {
      "text/plain": "[&#39;ID&#39;,\n &#39;Код_группы&#39;,\n &#39;Год_Поступления&#39;,\n &#39;Год_Окончания_УЗ&#39;,\n &#39;Пособие&#39;,\n &#39;Общежитие&#39;,\n &#39;Наличие_Матери&#39;,\n &#39;Наличие_Отца&#39;,\n &#39;Опекунство&#39;,\n &#39;Село&#39;,\n &#39;Иностранец&#39;,\n &#39;КодФакультета&#39;,\n &#39;СрБаллАттестата&#39;,\n &#39;male&#39;,\n &#39;female&#39;,\n &#39;sex_summ&#39;,\n &#39;birth_year_int&#39;,\n &#39;Статус&#39;,\n &#39;basis&#39;,\n &#39;language&#39;,\n &#39;country&#39;,\n &#39;parents_country&#39;]"
     },
     "metadata": {},
     "execution_count": 306
    }
   ],
   "source": [
    "columns_to_model = digit_columns + list(columns_to_code.values())\n",
    "columns_to_model"
   ]
  },
  {
   "cell_type": "code",
   "execution_count": 307,
   "metadata": {},
   "outputs": [],
   "source": [
    "# Функция для преобразования слова в код по заданному правилу\n",
    "\n",
    "def get_code(x: pd.Series, code_dict) -> pd.Series:    \n",
    "    return code_dict[x]"
   ]
  },
  {
   "cell_type": "code",
   "execution_count": 308,
   "metadata": {},
   "outputs": [
    {
     "output_type": "execute_result",
     "data": {
      "text/plain": "Основания\nБН     873\nДН     973\nОО    2565\nСН    2177\nЦН     103\nName: ID, dtype: int64"
     },
     "metadata": {},
     "execution_count": 308
    }
   ],
   "source": [
    "clean_frame.groupby('Основания')['ID'].count()"
   ]
  },
  {
   "cell_type": "code",
   "execution_count": 309,
   "metadata": {},
   "outputs": [
    {
     "output_type": "execute_result",
     "data": {
      "text/plain": "         ID  Код_группы  Год_Поступления  Пол Основания   Изучаемый_Язык  \\\n0     64996       20608             2014  Жен        ДН  Английский язык   \n1     71837       20613             2015  Жен        ДН    Немецкий язык   \n2     86587       21210             2018  Жен        ОО  Английский язык   \n3     73673       22254             2015  Жен        ОО  Английский язык   \n4     54709       15040             2012  Жен        ОО                -   \n...     ...         ...              ...  ...       ...              ...   \n6686  74342       20680             2016  Муж        БН  Английский язык   \n6687  54876       16921             2013  Жен        ОО                -   \n6688  66879       19400             2014  Жен        СН  Английский язык   \n6689  64982       18152             2014  Муж        ОО    Немецкий язык   \n6690  69975       17312             2015  Муж        ОО  Английский язык   \n\n                Дата_Рождения  \\\n0     1995-11-03 00:00:00.000   \n1     1995-12-10 00:00:00.000   \n2     1973-08-09 00:00:00.000   \n3     1983-12-07 00:00:00.000   \n4     1994-05-21 00:00:00.000   \n...                       ...   \n6686  1992-03-06 00:00:00.000   \n6687  1995-11-08 00:00:00.000   \n6688  1996-03-31 00:00:00.000   \n6689  1996-08-22 00:00:00.000   \n6690  1992-06-29 00:00:00.000   \n\n                                           Уч_Заведение  \\\n0                                        МБОУ &quot;СОШ №55&quot;   \n1                                         МБОУ &quot;СОШ №1&quot;   \n2     Алтайский государственный медицинский университет   \n3       ГОУ ВПО &quot;Алтайский государственный университет&quot;   \n4                                                     -   \n...                                                 ...   \n6686          ГУ Павлодарский профессиональный лицей №7   \n6687                                                  -   \n6688                                МБОУ &quot;Гимназия №42&quot;   \n6689                            МБОУ &quot;Ребрихинская СОШ&quot;   \n6690  ФГБОУ ВПО &quot;Алтайский государственный университет&quot;   \n\n                                  Где_Находится_УЗ  Год_Окончания_УЗ  ...  \\\n0                        Алтайский край, Барнаул г            2014.0  ...   \n1                       Алтайский край, Рубцовск г            2014.0  ...   \n2                       Алтайский край, г. Барнаул            1997.0  ...   \n3                        Алтайский край, Барнаул г            2006.0  ...   \n4                                                -               NaN  ...   \n...                                            ...               ...  ...   \n6686       Казахстан, Павлодарская обл, г Павлодар            2011.0  ...   \n6687                                             -               NaN  ...   \n6688                     Алтайский край, Барнаул г            2014.0  ...   \n6689  Алтайский край, Ребрихинский р-н, Ребриха ст            2014.0  ...   \n6690                     Алтайский край, Барнаул г            2014.0  ...   \n\n      female sex_summ birth_year   entrance  birth_year_int  Статус  basis  \\\n0          1        1 1995-11-03 2014-01-01            1995       0      1   \n1          1        1 1995-12-10 2015-01-01            1995       0      1   \n2          1        1 1973-08-09 2018-01-01            1973       0      2   \n3          1        1 1983-12-07 2015-01-01            1983       0      2   \n4          1        1 1994-05-21 2012-01-01            1994       0      2   \n...      ...      ...        ...        ...             ...     ...    ...   \n6686       0        1 1992-03-06 2016-01-01            1992       0      0   \n6687       1        1 1995-11-08 2013-01-01            1995       0      2   \n6688       1        1 1996-03-31 2014-01-01            1996       0      3   \n6689       0        1 1996-08-22 2014-01-01            1996       0      2   \n6690       0        1 1992-06-29 2015-01-01            1992       0      2   \n\n     language  country  parents_country  \n0           1        8               10  \n1           2        8               10  \n2           1        8               10  \n3           1        8               10  \n4           0        8               10  \n...       ...      ...              ...  \n6686        1        6                7  \n6687        0        8               10  \n6688        1        8               10  \n6689        2        8               10  \n6690        1        8               10  \n\n[6691 rows x 34 columns]",
      "text/html": "<div>\n<style scoped>\n    .dataframe tbody tr th:only-of-type {\n        vertical-align: middle;\n    }\n\n    .dataframe tbody tr th {\n        vertical-align: top;\n    }\n\n    .dataframe thead th {\n        text-align: right;\n    }\n</style>\n<table border=\"1\" class=\"dataframe\">\n  <thead>\n    <tr style=\"text-align: right;\">\n      <th></th>\n      <th>ID</th>\n      <th>Код_группы</th>\n      <th>Год_Поступления</th>\n      <th>Пол</th>\n      <th>Основания</th>\n      <th>Изучаемый_Язык</th>\n      <th>Дата_Рождения</th>\n      <th>Уч_Заведение</th>\n      <th>Где_Находится_УЗ</th>\n      <th>Год_Окончания_УЗ</th>\n      <th>...</th>\n      <th>female</th>\n      <th>sex_summ</th>\n      <th>birth_year</th>\n      <th>entrance</th>\n      <th>birth_year_int</th>\n      <th>Статус</th>\n      <th>basis</th>\n      <th>language</th>\n      <th>country</th>\n      <th>parents_country</th>\n    </tr>\n  </thead>\n  <tbody>\n    <tr>\n      <th>0</th>\n      <td>64996</td>\n      <td>20608</td>\n      <td>2014</td>\n      <td>Жен</td>\n      <td>ДН</td>\n      <td>Английский язык</td>\n      <td>1995-11-03 00:00:00.000</td>\n      <td>МБОУ \"СОШ №55\"</td>\n      <td>Алтайский край, Барнаул г</td>\n      <td>2014.0</td>\n      <td>...</td>\n      <td>1</td>\n      <td>1</td>\n      <td>1995-11-03</td>\n      <td>2014-01-01</td>\n      <td>1995</td>\n      <td>0</td>\n      <td>1</td>\n      <td>1</td>\n      <td>8</td>\n      <td>10</td>\n    </tr>\n    <tr>\n      <th>1</th>\n      <td>71837</td>\n      <td>20613</td>\n      <td>2015</td>\n      <td>Жен</td>\n      <td>ДН</td>\n      <td>Немецкий язык</td>\n      <td>1995-12-10 00:00:00.000</td>\n      <td>МБОУ \"СОШ №1\"</td>\n      <td>Алтайский край, Рубцовск г</td>\n      <td>2014.0</td>\n      <td>...</td>\n      <td>1</td>\n      <td>1</td>\n      <td>1995-12-10</td>\n      <td>2015-01-01</td>\n      <td>1995</td>\n      <td>0</td>\n      <td>1</td>\n      <td>2</td>\n      <td>8</td>\n      <td>10</td>\n    </tr>\n    <tr>\n      <th>2</th>\n      <td>86587</td>\n      <td>21210</td>\n      <td>2018</td>\n      <td>Жен</td>\n      <td>ОО</td>\n      <td>Английский язык</td>\n      <td>1973-08-09 00:00:00.000</td>\n      <td>Алтайский государственный медицинский университет</td>\n      <td>Алтайский край, г. Барнаул</td>\n      <td>1997.0</td>\n      <td>...</td>\n      <td>1</td>\n      <td>1</td>\n      <td>1973-08-09</td>\n      <td>2018-01-01</td>\n      <td>1973</td>\n      <td>0</td>\n      <td>2</td>\n      <td>1</td>\n      <td>8</td>\n      <td>10</td>\n    </tr>\n    <tr>\n      <th>3</th>\n      <td>73673</td>\n      <td>22254</td>\n      <td>2015</td>\n      <td>Жен</td>\n      <td>ОО</td>\n      <td>Английский язык</td>\n      <td>1983-12-07 00:00:00.000</td>\n      <td>ГОУ ВПО \"Алтайский государственный университет\"</td>\n      <td>Алтайский край, Барнаул г</td>\n      <td>2006.0</td>\n      <td>...</td>\n      <td>1</td>\n      <td>1</td>\n      <td>1983-12-07</td>\n      <td>2015-01-01</td>\n      <td>1983</td>\n      <td>0</td>\n      <td>2</td>\n      <td>1</td>\n      <td>8</td>\n      <td>10</td>\n    </tr>\n    <tr>\n      <th>4</th>\n      <td>54709</td>\n      <td>15040</td>\n      <td>2012</td>\n      <td>Жен</td>\n      <td>ОО</td>\n      <td>-</td>\n      <td>1994-05-21 00:00:00.000</td>\n      <td>-</td>\n      <td>-</td>\n      <td>NaN</td>\n      <td>...</td>\n      <td>1</td>\n      <td>1</td>\n      <td>1994-05-21</td>\n      <td>2012-01-01</td>\n      <td>1994</td>\n      <td>0</td>\n      <td>2</td>\n      <td>0</td>\n      <td>8</td>\n      <td>10</td>\n    </tr>\n    <tr>\n      <th>...</th>\n      <td>...</td>\n      <td>...</td>\n      <td>...</td>\n      <td>...</td>\n      <td>...</td>\n      <td>...</td>\n      <td>...</td>\n      <td>...</td>\n      <td>...</td>\n      <td>...</td>\n      <td>...</td>\n      <td>...</td>\n      <td>...</td>\n      <td>...</td>\n      <td>...</td>\n      <td>...</td>\n      <td>...</td>\n      <td>...</td>\n      <td>...</td>\n      <td>...</td>\n      <td>...</td>\n    </tr>\n    <tr>\n      <th>6686</th>\n      <td>74342</td>\n      <td>20680</td>\n      <td>2016</td>\n      <td>Муж</td>\n      <td>БН</td>\n      <td>Английский язык</td>\n      <td>1992-03-06 00:00:00.000</td>\n      <td>ГУ Павлодарский профессиональный лицей №7</td>\n      <td>Казахстан, Павлодарская обл, г Павлодар</td>\n      <td>2011.0</td>\n      <td>...</td>\n      <td>0</td>\n      <td>1</td>\n      <td>1992-03-06</td>\n      <td>2016-01-01</td>\n      <td>1992</td>\n      <td>0</td>\n      <td>0</td>\n      <td>1</td>\n      <td>6</td>\n      <td>7</td>\n    </tr>\n    <tr>\n      <th>6687</th>\n      <td>54876</td>\n      <td>16921</td>\n      <td>2013</td>\n      <td>Жен</td>\n      <td>ОО</td>\n      <td>-</td>\n      <td>1995-11-08 00:00:00.000</td>\n      <td>-</td>\n      <td>-</td>\n      <td>NaN</td>\n      <td>...</td>\n      <td>1</td>\n      <td>1</td>\n      <td>1995-11-08</td>\n      <td>2013-01-01</td>\n      <td>1995</td>\n      <td>0</td>\n      <td>2</td>\n      <td>0</td>\n      <td>8</td>\n      <td>10</td>\n    </tr>\n    <tr>\n      <th>6688</th>\n      <td>66879</td>\n      <td>19400</td>\n      <td>2014</td>\n      <td>Жен</td>\n      <td>СН</td>\n      <td>Английский язык</td>\n      <td>1996-03-31 00:00:00.000</td>\n      <td>МБОУ \"Гимназия №42\"</td>\n      <td>Алтайский край, Барнаул г</td>\n      <td>2014.0</td>\n      <td>...</td>\n      <td>1</td>\n      <td>1</td>\n      <td>1996-03-31</td>\n      <td>2014-01-01</td>\n      <td>1996</td>\n      <td>0</td>\n      <td>3</td>\n      <td>1</td>\n      <td>8</td>\n      <td>10</td>\n    </tr>\n    <tr>\n      <th>6689</th>\n      <td>64982</td>\n      <td>18152</td>\n      <td>2014</td>\n      <td>Муж</td>\n      <td>ОО</td>\n      <td>Немецкий язык</td>\n      <td>1996-08-22 00:00:00.000</td>\n      <td>МБОУ \"Ребрихинская СОШ\"</td>\n      <td>Алтайский край, Ребрихинский р-н, Ребриха ст</td>\n      <td>2014.0</td>\n      <td>...</td>\n      <td>0</td>\n      <td>1</td>\n      <td>1996-08-22</td>\n      <td>2014-01-01</td>\n      <td>1996</td>\n      <td>0</td>\n      <td>2</td>\n      <td>2</td>\n      <td>8</td>\n      <td>10</td>\n    </tr>\n    <tr>\n      <th>6690</th>\n      <td>69975</td>\n      <td>17312</td>\n      <td>2015</td>\n      <td>Муж</td>\n      <td>ОО</td>\n      <td>Английский язык</td>\n      <td>1992-06-29 00:00:00.000</td>\n      <td>ФГБОУ ВПО \"Алтайский государственный университет\"</td>\n      <td>Алтайский край, Барнаул г</td>\n      <td>2014.0</td>\n      <td>...</td>\n      <td>0</td>\n      <td>1</td>\n      <td>1992-06-29</td>\n      <td>2015-01-01</td>\n      <td>1992</td>\n      <td>0</td>\n      <td>2</td>\n      <td>1</td>\n      <td>8</td>\n      <td>10</td>\n    </tr>\n  </tbody>\n</table>\n<p>6691 rows × 34 columns</p>\n</div>"
     },
     "metadata": {},
     "execution_count": 309
    }
   ],
   "source": [
    "\n",
    "for name, code in columns_to_code.items():     \n",
    "    clean_frame[columns_to_code[name]] = clean_frame[name].apply(get_code, args=(codes_rule[name],))\n",
    "\n",
    "clean_frame"
   ]
  },
  {
   "cell_type": "code",
   "execution_count": 310,
   "metadata": {},
   "outputs": [],
   "source": [
    "frame_to_csv = clean_frame.loc[clean_frame['СрБаллАттестата'] < 100]"
   ]
  },
  {
   "cell_type": "code",
   "execution_count": 311,
   "metadata": {},
   "outputs": [],
   "source": [
    "\n",
    "frame_to_csv.loc[:, columns_to_model].to_csv('data/test_frame.csv', index_label='ind')"
   ]
  },
  {
   "cell_type": "code",
   "execution_count": 312,
   "metadata": {},
   "outputs": [
    {
     "output_type": "execute_result",
     "data": {
      "text/plain": "ID                  False\nКод_группы          False\nГод_Поступления     False\nПол                 False\nОснования           False\nИзучаемый_Язык      False\nДата_Рождения       False\nУч_Заведение        False\nГде_Находится_УЗ    False\nГод_Окончания_УЗ     True\nПособие             False\nСтрана_ПП           False\nРегион_ПП           False\nГород_ПП            False\nОбщежитие           False\nНаличие_Матери      False\nНаличие_Отца        False\nСтрана_Родители     False\nОпекунство          False\nСело                False\nИностранец          False\nКодФакультета       False\nСрБаллАттестата     False\nmale                False\nfemale              False\nsex_summ            False\nbirth_year          False\nentrance            False\nbirth_year_int      False\nСтатус              False\nbasis               False\nlanguage            False\ncountry             False\nparents_country     False\ndtype: bool"
     },
     "metadata": {},
     "execution_count": 312
    }
   ],
   "source": [
    "clean_frame.isna().any()"
   ]
  },
  {
   "cell_type": "code",
   "execution_count": null,
   "metadata": {},
   "outputs": [],
   "source": []
  }
 ],
 "metadata": {
  "kernelspec": {
   "display_name": "Python 3 (ipykernel)",
   "language": "python",
   "name": "python3"
  },
  "language_info": {
   "codemirror_mode": {
    "name": "ipython",
    "version": 3
   },
   "file_extension": ".py",
   "mimetype": "text/x-python",
   "name": "python",
   "nbconvert_exporter": "python",
   "pygments_lexer": "ipython3",
   "version": "3.8.5-final"
  },
  "orig_nbformat": 4,
  "vscode": {
   "interpreter": {
    "hash": "51c73a6595d20bbc39952c03157596619c73f94de3e8d7812583abf83cf493bf"
   }
  }
 },
 "nbformat": 4,
 "nbformat_minor": 2
}
{
 "cells": [
  {
   "cell_type": "code",
   "execution_count": 73,
   "metadata": {},
   "outputs": [],
   "source": [
    "import matplotlib.pyplot as plt\n",
    "import numpy as np\n",
    "import pandas as pd\n",
    "from sklearn.ensemble import RandomForestClassifier\n",
    "from sklearn.metrics import f1_score\n",
    "from sklearn.model_selection import train_test_split\n",
    "from sklearn.preprocessing import MinMaxScaler\n"
   ]
  },
  {
   "source": [
    "# Подготовка датасета для загрузки в сеть"
   ],
   "cell_type": "markdown",
   "metadata": {}
  },
  {
   "cell_type": "code",
   "execution_count": 74,
   "metadata": {},
   "outputs": [
    {
     "output_type": "execute_result",
     "data": {
      "text/plain": "Index([&#39;ID&#39;, &#39;Код_группы&#39;, &#39;Год_Поступления&#39;, &#39;Год_Окончания_УЗ&#39;, &#39;Пособие&#39;,\n       &#39;Общежитие&#39;, &#39;Наличие_Матери&#39;, &#39;Наличие_Отца&#39;, &#39;Опекунство&#39;, &#39;Село&#39;,\n       &#39;Иностранец&#39;, &#39;КодФакультета&#39;, &#39;СрБаллАттестата&#39;, &#39;Статус&#39;, &#39;male&#39;,\n       &#39;female&#39;, &#39;sex_summ&#39;, &#39;birth_year_int&#39;, &#39;basis&#39;, &#39;language&#39;, &#39;country&#39;,\n       &#39;region&#39;, &#39;city&#39;, &#39;parents_country&#39;],\n      dtype=&#39;object&#39;)"
     },
     "metadata": {},
     "execution_count": 74
    }
   ],
   "source": [
    "base_df = pd.read_csv('data/clean_frame.csv', index_col='ind')\n",
    "base_df.columns"
   ]
  },
  {
   "source": [
    "### Проверка и удаление отрицательных значений"
   ],
   "cell_type": "markdown",
   "metadata": {}
  },
  {
   "cell_type": "code",
   "execution_count": 75,
   "metadata": {},
   "outputs": [
    {
     "output_type": "execute_result",
     "data": {
      "text/plain": "False"
     },
     "metadata": {},
     "execution_count": 75
    }
   ],
   "source": [
    "base_df.isna().any().all()"
   ]
  },
  {
   "cell_type": "code",
   "execution_count": 76,
   "metadata": {},
   "outputs": [],
   "source": [
    "base_df = base_df.fillna(0)"
   ]
  },
  {
   "cell_type": "code",
   "execution_count": 77,
   "metadata": {},
   "outputs": [
    {
     "output_type": "execute_result",
     "data": {
      "text/plain": "19"
     },
     "metadata": {},
     "execution_count": 77
    }
   ],
   "source": [
    "columns = ['Код_группы', 'Год_Поступления', 'Год_Окончания_УЗ', 'Пособие',\n",
    "       'Общежитие', 'Наличие_Матери', 'Наличие_Отца', 'Опекунство', 'Село',\n",
    "       'Иностранец', 'КодФакультета', 'СрБаллАттестата', 'Статус', 'male',\n",
    "        'birth_year_int', 'basis', 'language', 'country', 'parents_country']\n",
    "#columns = base_df.columns.to_list()\n",
    "priznaki = len(columns)\n",
    "priznaki"
   ]
  },
  {
   "cell_type": "code",
   "execution_count": 78,
   "metadata": {},
   "outputs": [
    {
     "output_type": "execute_result",
     "data": {
      "text/plain": "     Код_группы  Год_Поступления  Год_Окончания_УЗ  Пособие  Общежитие  \\\nind                                                                      \n0         16019             2015            2014.0      0.0        0.0   \n1         14895             2010               0.0      0.0        0.0   \n\n     Наличие_Матери  Наличие_Отца  Опекунство  Село  Иностранец  \\\nind                                                               \n0                 0           0.0         0.0   0.0         0.0   \n1                 1           1.0         0.0   0.0         0.0   \n\n     КодФакультета  СрБаллАттестата  Статус  male  birth_year_int  basis  \\\nind                                                                        \n0             41.0            4.294       3     0            1998      2   \n1             28.0           67.000       4     1            1992      4   \n\n     language  country  parents_country  \nind                                      \n0           1        8               10  \n1           0        8               10  ",
      "text/html": "<div>\n<style scoped>\n    .dataframe tbody tr th:only-of-type {\n        vertical-align: middle;\n    }\n\n    .dataframe tbody tr th {\n        vertical-align: top;\n    }\n\n    .dataframe thead th {\n        text-align: right;\n    }\n</style>\n<table border=\"1\" class=\"dataframe\">\n  <thead>\n    <tr style=\"text-align: right;\">\n      <th></th>\n      <th>Код_группы</th>\n      <th>Год_Поступления</th>\n      <th>Год_Окончания_УЗ</th>\n      <th>Пособие</th>\n      <th>Общежитие</th>\n      <th>Наличие_Матери</th>\n      <th>Наличие_Отца</th>\n      <th>Опекунство</th>\n      <th>Село</th>\n      <th>Иностранец</th>\n      <th>КодФакультета</th>\n      <th>СрБаллАттестата</th>\n      <th>Статус</th>\n      <th>male</th>\n      <th>birth_year_int</th>\n      <th>basis</th>\n      <th>language</th>\n      <th>country</th>\n      <th>parents_country</th>\n    </tr>\n    <tr>\n      <th>ind</th>\n      <th></th>\n      <th></th>\n      <th></th>\n      <th></th>\n      <th></th>\n      <th></th>\n      <th></th>\n      <th></th>\n      <th></th>\n      <th></th>\n      <th></th>\n      <th></th>\n      <th></th>\n      <th></th>\n      <th></th>\n      <th></th>\n      <th></th>\n      <th></th>\n      <th></th>\n    </tr>\n  </thead>\n  <tbody>\n    <tr>\n      <th>0</th>\n      <td>16019</td>\n      <td>2015</td>\n      <td>2014.0</td>\n      <td>0.0</td>\n      <td>0.0</td>\n      <td>0</td>\n      <td>0.0</td>\n      <td>0.0</td>\n      <td>0.0</td>\n      <td>0.0</td>\n      <td>41.0</td>\n      <td>4.294</td>\n      <td>3</td>\n      <td>0</td>\n      <td>1998</td>\n      <td>2</td>\n      <td>1</td>\n      <td>8</td>\n      <td>10</td>\n    </tr>\n    <tr>\n      <th>1</th>\n      <td>14895</td>\n      <td>2010</td>\n      <td>0.0</td>\n      <td>0.0</td>\n      <td>0.0</td>\n      <td>1</td>\n      <td>1.0</td>\n      <td>0.0</td>\n      <td>0.0</td>\n      <td>0.0</td>\n      <td>28.0</td>\n      <td>67.000</td>\n      <td>4</td>\n      <td>1</td>\n      <td>1992</td>\n      <td>4</td>\n      <td>0</td>\n      <td>8</td>\n      <td>10</td>\n    </tr>\n  </tbody>\n</table>\n</div>"
     },
     "metadata": {},
     "execution_count": 78
    }
   ],
   "source": [
    "frame_to_train = base_df.loc[:, columns]\n",
    "frame_to_train.head(2)"
   ]
  },
  {
   "source": [
    "## Создание тренировочного и тестового датафремов"
   ],
   "cell_type": "markdown",
   "metadata": {}
  },
  {
   "cell_type": "code",
   "execution_count": 79,
   "metadata": {},
   "outputs": [],
   "source": [
    "train, test = train_test_split(frame_to_train, test_size=0.20)"
   ]
  },
  {
   "cell_type": "code",
   "execution_count": 80,
   "metadata": {},
   "outputs": [],
   "source": [
    "train_input = train.drop('Статус', axis=1)\n",
    "train_output = train['Статус']\n"
   ]
  },
  {
   "cell_type": "code",
   "execution_count": 81,
   "metadata": {},
   "outputs": [],
   "source": [
    "input_arr = train_input.to_numpy()\n",
    "input_df_size = len(input_arr)"
   ]
  },
  {
   "cell_type": "code",
   "execution_count": 82,
   "metadata": {},
   "outputs": [
    {
     "output_type": "execute_result",
     "data": {
      "text/plain": "array([[4.],\n       [4.],\n       [4.],\n       ...,\n       [4.],\n       [4.],\n       [3.]])"
     },
     "metadata": {},
     "execution_count": 82
    }
   ],
   "source": [
    "output = np.ones((1,input_df_size))\n",
    "output[0] = train_output.to_numpy()\n",
    "output_arr = output.reshape(input_df_size,1)\n",
    "output_arr"
   ]
  },
  {
   "cell_type": "code",
   "execution_count": 83,
   "metadata": {},
   "outputs": [],
   "source": [
    "test_input = test.drop('Статус', axis=1)\n",
    "test_output = test['Статус']"
   ]
  },
  {
   "cell_type": "code",
   "execution_count": 84,
   "metadata": {},
   "outputs": [],
   "source": [
    "test_arr = test_input.to_numpy()\n",
    "test_arr_size = len(test_arr)"
   ]
  },
  {
   "cell_type": "code",
   "execution_count": 85,
   "metadata": {},
   "outputs": [
    {
     "output_type": "execute_result",
     "data": {
      "text/plain": "array([[4.],\n       [4.],\n       [4.],\n       ...,\n       [3.],\n       [3.],\n       [4.]])"
     },
     "metadata": {},
     "execution_count": 85
    }
   ],
   "source": [
    "test = np.ones((1,test_arr_size))\n",
    "test[0] = test_output.to_numpy()\n",
    "test_out = test.reshape(test_arr_size,1)\n",
    "test_out"
   ]
  },
  {
   "source": [
    "# SKlearn модель обучения"
   ],
   "cell_type": "markdown",
   "metadata": {}
  },
  {
   "cell_type": "code",
   "execution_count": 86,
   "metadata": {},
   "outputs": [],
   "source": [
    "clf = RandomForestClassifier(random_state=0)"
   ]
  },
  {
   "cell_type": "code",
   "execution_count": 87,
   "metadata": {},
   "outputs": [
    {
     "output_type": "execute_result",
     "data": {
      "text/plain": "      Код_группы  Год_Поступления  Год_Окончания_УЗ  Пособие  Общежитие  \\\nind                                                                       \n3357       17674             2013               0.0      0.0        0.0   \n9760       18191             2014            2014.0      0.0        1.0   \n\n      Наличие_Матери  Наличие_Отца  Опекунство  Село  Иностранец  \\\nind                                                                \n3357               1           1.0         0.0   0.0         0.0   \n9760               0           0.0         0.0   1.0         0.0   \n\n      КодФакультета  СрБаллАттестата  male  birth_year_int  basis  language  \\\nind                                                                           \n3357           51.0             49.0     0            1995      4         1   \n9760           40.0             73.0     0            1996      2         2   \n\n      country  parents_country  \nind                             \n3357        8               10  \n9760        8               10  ",
      "text/html": "<div>\n<style scoped>\n    .dataframe tbody tr th:only-of-type {\n        vertical-align: middle;\n    }\n\n    .dataframe tbody tr th {\n        vertical-align: top;\n    }\n\n    .dataframe thead th {\n        text-align: right;\n    }\n</style>\n<table border=\"1\" class=\"dataframe\">\n  <thead>\n    <tr style=\"text-align: right;\">\n      <th></th>\n      <th>Код_группы</th>\n      <th>Год_Поступления</th>\n      <th>Год_Окончания_УЗ</th>\n      <th>Пособие</th>\n      <th>Общежитие</th>\n      <th>Наличие_Матери</th>\n      <th>Наличие_Отца</th>\n      <th>Опекунство</th>\n      <th>Село</th>\n      <th>Иностранец</th>\n      <th>КодФакультета</th>\n      <th>СрБаллАттестата</th>\n      <th>male</th>\n      <th>birth_year_int</th>\n      <th>basis</th>\n      <th>language</th>\n      <th>country</th>\n      <th>parents_country</th>\n    </tr>\n    <tr>\n      <th>ind</th>\n      <th></th>\n      <th></th>\n      <th></th>\n      <th></th>\n      <th></th>\n      <th></th>\n      <th></th>\n      <th></th>\n      <th></th>\n      <th></th>\n      <th></th>\n      <th></th>\n      <th></th>\n      <th></th>\n      <th></th>\n      <th></th>\n      <th></th>\n      <th></th>\n    </tr>\n  </thead>\n  <tbody>\n    <tr>\n      <th>3357</th>\n      <td>17674</td>\n      <td>2013</td>\n      <td>0.0</td>\n      <td>0.0</td>\n      <td>0.0</td>\n      <td>1</td>\n      <td>1.0</td>\n      <td>0.0</td>\n      <td>0.0</td>\n      <td>0.0</td>\n      <td>51.0</td>\n      <td>49.0</td>\n      <td>0</td>\n      <td>1995</td>\n      <td>4</td>\n      <td>1</td>\n      <td>8</td>\n      <td>10</td>\n    </tr>\n    <tr>\n      <th>9760</th>\n      <td>18191</td>\n      <td>2014</td>\n      <td>2014.0</td>\n      <td>0.0</td>\n      <td>1.0</td>\n      <td>0</td>\n      <td>0.0</td>\n      <td>0.0</td>\n      <td>1.0</td>\n      <td>0.0</td>\n      <td>40.0</td>\n      <td>73.0</td>\n      <td>0</td>\n      <td>1996</td>\n      <td>2</td>\n      <td>2</td>\n      <td>8</td>\n      <td>10</td>\n    </tr>\n  </tbody>\n</table>\n</div>"
     },
     "metadata": {},
     "execution_count": 87
    }
   ],
   "source": [
    "train_input.head(2)"
   ]
  },
  {
   "cell_type": "code",
   "execution_count": 88,
   "metadata": {},
   "outputs": [
    {
     "output_type": "execute_result",
     "data": {
      "text/plain": "(10867, 18)"
     },
     "metadata": {},
     "execution_count": 88
    }
   ],
   "source": [
    "train_input.shape"
   ]
  },
  {
   "cell_type": "code",
   "execution_count": 89,
   "metadata": {},
   "outputs": [
    {
     "output_type": "execute_result",
     "data": {
      "text/plain": "RandomForestClassifier(random_state=0)",
      "text/html": "<style>#sk-container-id-3 {color: black;background-color: white;}#sk-container-id-3 pre{padding: 0;}#sk-container-id-3 div.sk-toggleable {background-color: white;}#sk-container-id-3 label.sk-toggleable__label {cursor: pointer;display: block;width: 100%;margin-bottom: 0;padding: 0.3em;box-sizing: border-box;text-align: center;}#sk-container-id-3 label.sk-toggleable__label-arrow:before {content: \"▸\";float: left;margin-right: 0.25em;color: #696969;}#sk-container-id-3 label.sk-toggleable__label-arrow:hover:before {color: black;}#sk-container-id-3 div.sk-estimator:hover label.sk-toggleable__label-arrow:before {color: black;}#sk-container-id-3 div.sk-toggleable__content {max-height: 0;max-width: 0;overflow: hidden;text-align: left;background-color: #f0f8ff;}#sk-container-id-3 div.sk-toggleable__content pre {margin: 0.2em;color: black;border-radius: 0.25em;background-color: #f0f8ff;}#sk-container-id-3 input.sk-toggleable__control:checked~div.sk-toggleable__content {max-height: 200px;max-width: 100%;overflow: auto;}#sk-container-id-3 input.sk-toggleable__control:checked~label.sk-toggleable__label-arrow:before {content: \"▾\";}#sk-container-id-3 div.sk-estimator input.sk-toggleable__control:checked~label.sk-toggleable__label {background-color: #d4ebff;}#sk-container-id-3 div.sk-label input.sk-toggleable__control:checked~label.sk-toggleable__label {background-color: #d4ebff;}#sk-container-id-3 input.sk-hidden--visually {border: 0;clip: rect(1px 1px 1px 1px);clip: rect(1px, 1px, 1px, 1px);height: 1px;margin: -1px;overflow: hidden;padding: 0;position: absolute;width: 1px;}#sk-container-id-3 div.sk-estimator {font-family: monospace;background-color: #f0f8ff;border: 1px dotted black;border-radius: 0.25em;box-sizing: border-box;margin-bottom: 0.5em;}#sk-container-id-3 div.sk-estimator:hover {background-color: #d4ebff;}#sk-container-id-3 div.sk-parallel-item::after {content: \"\";width: 100%;border-bottom: 1px solid gray;flex-grow: 1;}#sk-container-id-3 div.sk-label:hover label.sk-toggleable__label {background-color: #d4ebff;}#sk-container-id-3 div.sk-serial::before {content: \"\";position: absolute;border-left: 1px solid gray;box-sizing: border-box;top: 0;bottom: 0;left: 50%;z-index: 0;}#sk-container-id-3 div.sk-serial {display: flex;flex-direction: column;align-items: center;background-color: white;padding-right: 0.2em;padding-left: 0.2em;position: relative;}#sk-container-id-3 div.sk-item {position: relative;z-index: 1;}#sk-container-id-3 div.sk-parallel {display: flex;align-items: stretch;justify-content: center;background-color: white;position: relative;}#sk-container-id-3 div.sk-item::before, #sk-container-id-3 div.sk-parallel-item::before {content: \"\";position: absolute;border-left: 1px solid gray;box-sizing: border-box;top: 0;bottom: 0;left: 50%;z-index: -1;}#sk-container-id-3 div.sk-parallel-item {display: flex;flex-direction: column;z-index: 1;position: relative;background-color: white;}#sk-container-id-3 div.sk-parallel-item:first-child::after {align-self: flex-end;width: 50%;}#sk-container-id-3 div.sk-parallel-item:last-child::after {align-self: flex-start;width: 50%;}#sk-container-id-3 div.sk-parallel-item:only-child::after {width: 0;}#sk-container-id-3 div.sk-dashed-wrapped {border: 1px dashed gray;margin: 0 0.4em 0.5em 0.4em;box-sizing: border-box;padding-bottom: 0.4em;background-color: white;}#sk-container-id-3 div.sk-label label {font-family: monospace;font-weight: bold;display: inline-block;line-height: 1.2em;}#sk-container-id-3 div.sk-label-container {text-align: center;}#sk-container-id-3 div.sk-container {/* jupyter's `normalize.less` sets `[hidden] { display: none; }` but bootstrap.min.css set `[hidden] { display: none !important; }` so we also need the `!important` here to be able to override the default hidden behavior on the sphinx rendered scikit-learn.org. See: https://github.com/scikit-learn/scikit-learn/issues/21755 */display: inline-block !important;position: relative;}#sk-container-id-3 div.sk-text-repr-fallback {display: none;}</style><div id=\"sk-container-id-3\" class=\"sk-top-container\"><div class=\"sk-text-repr-fallback\"><pre>RandomForestClassifier(random_state=0)</pre><b>In a Jupyter environment, please rerun this cell to show the HTML representation or trust the notebook. <br />On GitHub, the HTML representation is unable to render, please try loading this page with nbviewer.org.</b></div><div class=\"sk-container\" hidden><div class=\"sk-item\"><div class=\"sk-estimator sk-toggleable\"><input class=\"sk-toggleable__control sk-hidden--visually\" id=\"sk-estimator-id-3\" type=\"checkbox\" checked><label for=\"sk-estimator-id-3\" class=\"sk-toggleable__label sk-toggleable__label-arrow\">RandomForestClassifier</label><div class=\"sk-toggleable__content\"><pre>RandomForestClassifier(random_state=0)</pre></div></div></div></div></div>"
     },
     "metadata": {},
     "execution_count": 89
    }
   ],
   "source": [
    "clf.fit(train_input, train_output)"
   ]
  },
  {
   "source": [
    "## Оценка качества модели"
   ],
   "cell_type": "markdown",
   "metadata": {}
  },
  {
   "cell_type": "code",
   "execution_count": 90,
   "metadata": {},
   "outputs": [],
   "source": [
    "pred = clf.predict(test_input)"
   ]
  },
  {
   "cell_type": "code",
   "execution_count": 91,
   "metadata": {},
   "outputs": [
    {
     "output_type": "execute_result",
     "data": {
      "text/plain": "ind\n3703     4\n4616     4\n13254    4\nName: Статус, dtype: int64"
     },
     "metadata": {},
     "execution_count": 91
    }
   ],
   "source": [
    "test_output.head(3)"
   ]
  },
  {
   "cell_type": "code",
   "execution_count": 92,
   "metadata": {},
   "outputs": [
    {
     "output_type": "execute_result",
     "data": {
      "text/plain": "0.7522114993726753"
     },
     "metadata": {},
     "execution_count": 92
    }
   ],
   "source": [
    "f1_score(test_output, pred, average='macro', zero_division = 0)"
   ]
  },
  {
   "source": [
    "## Формирование файла для загрузки на сайт"
   ],
   "cell_type": "markdown",
   "metadata": {}
  },
  {
   "cell_type": "code",
   "execution_count": 93,
   "metadata": {},
   "outputs": [],
   "source": [
    "df_test_base = pd.read_csv(\"data/test_frame.csv\")\n",
    "df_submission = pd.read_csv(\"data/sample_submission.csv\")"
   ]
  },
  {
   "cell_type": "code",
   "execution_count": 94,
   "metadata": {},
   "outputs": [
    {
     "output_type": "execute_result",
     "data": {
      "text/plain": "Index([&#39;ind&#39;, &#39;ID&#39;, &#39;Код_группы&#39;, &#39;Год_Поступления&#39;, &#39;Год_Окончания_УЗ&#39;,\n       &#39;Пособие&#39;, &#39;Общежитие&#39;, &#39;Наличие_Матери&#39;, &#39;Наличие_Отца&#39;, &#39;Опекунство&#39;,\n       &#39;Село&#39;, &#39;Иностранец&#39;, &#39;КодФакультета&#39;, &#39;СрБаллАттестата&#39;, &#39;male&#39;,\n       &#39;female&#39;, &#39;sex_summ&#39;, &#39;birth_year_int&#39;, &#39;Статус&#39;, &#39;basis&#39;, &#39;language&#39;,\n       &#39;country&#39;, &#39;parents_country&#39;],\n      dtype=&#39;object&#39;)"
     },
     "metadata": {},
     "execution_count": 94
    }
   ],
   "source": [
    "df_test_base.columns"
   ]
  },
  {
   "cell_type": "code",
   "execution_count": 95,
   "metadata": {},
   "outputs": [
    {
     "output_type": "execute_result",
     "data": {
      "text/plain": "[&#39;Код_группы&#39;,\n &#39;Год_Поступления&#39;,\n &#39;Год_Окончания_УЗ&#39;,\n &#39;Пособие&#39;,\n &#39;Общежитие&#39;,\n &#39;Наличие_Матери&#39;,\n &#39;Наличие_Отца&#39;,\n &#39;Опекунство&#39;,\n &#39;Село&#39;,\n &#39;Иностранец&#39;,\n &#39;КодФакультета&#39;,\n &#39;СрБаллАттестата&#39;,\n &#39;Статус&#39;,\n &#39;male&#39;,\n &#39;birth_year_int&#39;,\n &#39;basis&#39;,\n &#39;language&#39;,\n &#39;country&#39;,\n &#39;parents_country&#39;]"
     },
     "metadata": {},
     "execution_count": 95
    }
   ],
   "source": [
    "columns"
   ]
  },
  {
   "cell_type": "code",
   "execution_count": 96,
   "metadata": {},
   "outputs": [
    {
     "output_type": "execute_result",
     "data": {
      "text/plain": "      Код_группы  Год_Поступления  Год_Окончания_УЗ  Пособие  Общежитие  \\\n0          20608             2014            2014.0      0.0        0.0   \n1          20613             2015            2014.0      0.0        0.0   \n2          21210             2018            1997.0      0.0        0.0   \n3          22254             2015            2006.0      0.0        0.0   \n4          15040             2012               NaN      0.0        0.0   \n...          ...              ...               ...      ...        ...   \n6630       20680             2016            2011.0      0.0        1.0   \n6631       16921             2013               NaN      0.0        0.0   \n6632       19400             2014            2014.0      0.0        0.0   \n6633       18152             2014            2014.0      0.0        1.0   \n6634       17312             2015            2014.0      0.0        0.0   \n\n      Наличие_Матери  Наличие_Отца  Опекунство  Село  Иностранец  \\\n0                  0           0.0         0.0   0.0         0.0   \n1                  0           0.0         0.0   1.0         0.0   \n2                  1           1.0         0.0   0.0         0.0   \n3                  0           0.0         0.0   0.0         0.0   \n4                  1           1.0         0.0   0.0         0.0   \n...              ...           ...         ...   ...         ...   \n6630               1           1.0         0.0   0.0         1.0   \n6631               1           1.0         0.0   0.0         0.0   \n6632               0           0.0         0.0   0.0         0.0   \n6633               0           0.0         0.0   1.0         0.0   \n6634               0           0.0         0.0   0.0         0.0   \n\n      КодФакультета  СрБаллАттестата  male  birth_year_int  basis  language  \\\n0              40.0             49.0     0            1995      1         1   \n1              26.0             77.0     0            1995      1         2   \n2              34.0             74.0     0            1973      2         1   \n3              53.0             57.0     0            1983      2         1   \n4              36.0             55.0     0            1994      2         0   \n...             ...              ...   ...             ...    ...       ...   \n6630           34.0             77.0     1            1992      0         1   \n6631           36.0             62.0     0            1995      2         0   \n6632           26.0             52.0     0            1996      3         1   \n6633           27.0             69.0     1            1996      2         2   \n6634           51.0             84.0     1            1992      2         1   \n\n      country  parents_country  \n0           8               10  \n1           8               10  \n2           8               10  \n3           8               10  \n4           8               10  \n...       ...              ...  \n6630        6                7  \n6631        8               10  \n6632        8               10  \n6633        8               10  \n6634        8               10  \n\n[6635 rows x 18 columns]",
      "text/html": "<div>\n<style scoped>\n    .dataframe tbody tr th:only-of-type {\n        vertical-align: middle;\n    }\n\n    .dataframe tbody tr th {\n        vertical-align: top;\n    }\n\n    .dataframe thead th {\n        text-align: right;\n    }\n</style>\n<table border=\"1\" class=\"dataframe\">\n  <thead>\n    <tr style=\"text-align: right;\">\n      <th></th>\n      <th>Код_группы</th>\n      <th>Год_Поступления</th>\n      <th>Год_Окончания_УЗ</th>\n      <th>Пособие</th>\n      <th>Общежитие</th>\n      <th>Наличие_Матери</th>\n      <th>Наличие_Отца</th>\n      <th>Опекунство</th>\n      <th>Село</th>\n      <th>Иностранец</th>\n      <th>КодФакультета</th>\n      <th>СрБаллАттестата</th>\n      <th>male</th>\n      <th>birth_year_int</th>\n      <th>basis</th>\n      <th>language</th>\n      <th>country</th>\n      <th>parents_country</th>\n    </tr>\n  </thead>\n  <tbody>\n    <tr>\n      <th>0</th>\n      <td>20608</td>\n      <td>2014</td>\n      <td>2014.0</td>\n      <td>0.0</td>\n      <td>0.0</td>\n      <td>0</td>\n      <td>0.0</td>\n      <td>0.0</td>\n      <td>0.0</td>\n      <td>0.0</td>\n      <td>40.0</td>\n      <td>49.0</td>\n      <td>0</td>\n      <td>1995</td>\n      <td>1</td>\n      <td>1</td>\n      <td>8</td>\n      <td>10</td>\n    </tr>\n    <tr>\n      <th>1</th>\n      <td>20613</td>\n      <td>2015</td>\n      <td>2014.0</td>\n      <td>0.0</td>\n      <td>0.0</td>\n      <td>0</td>\n      <td>0.0</td>\n      <td>0.0</td>\n      <td>1.0</td>\n      <td>0.0</td>\n      <td>26.0</td>\n      <td>77.0</td>\n      <td>0</td>\n      <td>1995</td>\n      <td>1</td>\n      <td>2</td>\n      <td>8</td>\n      <td>10</td>\n    </tr>\n    <tr>\n      <th>2</th>\n      <td>21210</td>\n      <td>2018</td>\n      <td>1997.0</td>\n      <td>0.0</td>\n      <td>0.0</td>\n      <td>1</td>\n      <td>1.0</td>\n      <td>0.0</td>\n      <td>0.0</td>\n      <td>0.0</td>\n      <td>34.0</td>\n      <td>74.0</td>\n      <td>0</td>\n      <td>1973</td>\n      <td>2</td>\n      <td>1</td>\n      <td>8</td>\n      <td>10</td>\n    </tr>\n    <tr>\n      <th>3</th>\n      <td>22254</td>\n      <td>2015</td>\n      <td>2006.0</td>\n      <td>0.0</td>\n      <td>0.0</td>\n      <td>0</td>\n      <td>0.0</td>\n      <td>0.0</td>\n      <td>0.0</td>\n      <td>0.0</td>\n      <td>53.0</td>\n      <td>57.0</td>\n      <td>0</td>\n      <td>1983</td>\n      <td>2</td>\n      <td>1</td>\n      <td>8</td>\n      <td>10</td>\n    </tr>\n    <tr>\n      <th>4</th>\n      <td>15040</td>\n      <td>2012</td>\n      <td>NaN</td>\n      <td>0.0</td>\n      <td>0.0</td>\n      <td>1</td>\n      <td>1.0</td>\n      <td>0.0</td>\n      <td>0.0</td>\n      <td>0.0</td>\n      <td>36.0</td>\n      <td>55.0</td>\n      <td>0</td>\n      <td>1994</td>\n      <td>2</td>\n      <td>0</td>\n      <td>8</td>\n      <td>10</td>\n    </tr>\n    <tr>\n      <th>...</th>\n      <td>...</td>\n      <td>...</td>\n      <td>...</td>\n      <td>...</td>\n      <td>...</td>\n      <td>...</td>\n      <td>...</td>\n      <td>...</td>\n      <td>...</td>\n      <td>...</td>\n      <td>...</td>\n      <td>...</td>\n      <td>...</td>\n      <td>...</td>\n      <td>...</td>\n      <td>...</td>\n      <td>...</td>\n      <td>...</td>\n    </tr>\n    <tr>\n      <th>6630</th>\n      <td>20680</td>\n      <td>2016</td>\n      <td>2011.0</td>\n      <td>0.0</td>\n      <td>1.0</td>\n      <td>1</td>\n      <td>1.0</td>\n      <td>0.0</td>\n      <td>0.0</td>\n      <td>1.0</td>\n      <td>34.0</td>\n      <td>77.0</td>\n      <td>1</td>\n      <td>1992</td>\n      <td>0</td>\n      <td>1</td>\n      <td>6</td>\n      <td>7</td>\n    </tr>\n    <tr>\n      <th>6631</th>\n      <td>16921</td>\n      <td>2013</td>\n      <td>NaN</td>\n      <td>0.0</td>\n      <td>0.0</td>\n      <td>1</td>\n      <td>1.0</td>\n      <td>0.0</td>\n      <td>0.0</td>\n      <td>0.0</td>\n      <td>36.0</td>\n      <td>62.0</td>\n      <td>0</td>\n      <td>1995</td>\n      <td>2</td>\n      <td>0</td>\n      <td>8</td>\n      <td>10</td>\n    </tr>\n    <tr>\n      <th>6632</th>\n      <td>19400</td>\n      <td>2014</td>\n      <td>2014.0</td>\n      <td>0.0</td>\n      <td>0.0</td>\n      <td>0</td>\n      <td>0.0</td>\n      <td>0.0</td>\n      <td>0.0</td>\n      <td>0.0</td>\n      <td>26.0</td>\n      <td>52.0</td>\n      <td>0</td>\n      <td>1996</td>\n      <td>3</td>\n      <td>1</td>\n      <td>8</td>\n      <td>10</td>\n    </tr>\n    <tr>\n      <th>6633</th>\n      <td>18152</td>\n      <td>2014</td>\n      <td>2014.0</td>\n      <td>0.0</td>\n      <td>1.0</td>\n      <td>0</td>\n      <td>0.0</td>\n      <td>0.0</td>\n      <td>1.0</td>\n      <td>0.0</td>\n      <td>27.0</td>\n      <td>69.0</td>\n      <td>1</td>\n      <td>1996</td>\n      <td>2</td>\n      <td>2</td>\n      <td>8</td>\n      <td>10</td>\n    </tr>\n    <tr>\n      <th>6634</th>\n      <td>17312</td>\n      <td>2015</td>\n      <td>2014.0</td>\n      <td>0.0</td>\n      <td>0.0</td>\n      <td>0</td>\n      <td>0.0</td>\n      <td>0.0</td>\n      <td>0.0</td>\n      <td>0.0</td>\n      <td>51.0</td>\n      <td>84.0</td>\n      <td>1</td>\n      <td>1992</td>\n      <td>2</td>\n      <td>1</td>\n      <td>8</td>\n      <td>10</td>\n    </tr>\n  </tbody>\n</table>\n<p>6635 rows × 18 columns</p>\n</div>"
     },
     "metadata": {},
     "execution_count": 96
    }
   ],
   "source": [
    "df_test = df_test_base.loc[:, columns]\n",
    "#df_test = df_test_base.drop('ind', axis=1)\n",
    "#df_test = df_test.drop('ID', axis=1)\n",
    "df_test = df_test.drop('Статус', axis=1)\n",
    "df_test"
   ]
  },
  {
   "cell_type": "code",
   "execution_count": 97,
   "metadata": {},
   "outputs": [
    {
     "output_type": "execute_result",
     "data": {
      "text/plain": "(6635, 18)"
     },
     "metadata": {},
     "execution_count": 97
    }
   ],
   "source": [
    "df_test = df_test.fillna(0)\n",
    "df_test.shape"
   ]
  },
  {
   "cell_type": "code",
   "execution_count": 98,
   "metadata": {},
   "outputs": [
    {
     "output_type": "execute_result",
     "data": {
      "text/plain": "[&#39;Код_группы&#39;,\n &#39;Год_Поступления&#39;,\n &#39;Год_Окончания_УЗ&#39;,\n &#39;Пособие&#39;,\n &#39;Общежитие&#39;,\n &#39;Наличие_Матери&#39;,\n &#39;Наличие_Отца&#39;,\n &#39;Опекунство&#39;,\n &#39;Село&#39;,\n &#39;Иностранец&#39;,\n &#39;КодФакультета&#39;,\n &#39;СрБаллАттестата&#39;,\n &#39;male&#39;,\n &#39;birth_year_int&#39;,\n &#39;basis&#39;,\n &#39;language&#39;,\n &#39;country&#39;,\n &#39;parents_country&#39;]"
     },
     "metadata": {},
     "execution_count": 98
    }
   ],
   "source": [
    "df_test.columns.to_list()"
   ]
  },
  {
   "cell_type": "code",
   "execution_count": 99,
   "metadata": {
    "tags": []
   },
   "outputs": [],
   "source": [
    "df_test_pred = clf.predict(df_test)"
   ]
  },
  {
   "cell_type": "code",
   "execution_count": 100,
   "metadata": {},
   "outputs": [
    {
     "output_type": "execute_result",
     "data": {
      "text/plain": "   ind     ID  Код_группы  Год_Поступления  Год_Окончания_УЗ  Пособие  \\\n0    0  64996       20608             2014            2014.0      0.0   \n1    1  71837       20613             2015            2014.0      0.0   \n2    2  86587       21210             2018            1997.0      0.0   \n3    3  73673       22254             2015            2006.0      0.0   \n\n   Общежитие  Наличие_Матери  Наличие_Отца  Опекунство  ...  СрБаллАттестата  \\\n0        0.0               0           0.0         0.0  ...             49.0   \n1        0.0               0           0.0         0.0  ...             77.0   \n2        0.0               1           1.0         0.0  ...             74.0   \n3        0.0               0           0.0         0.0  ...             57.0   \n\n   male  female  sex_summ  birth_year_int  Статус  basis  language  country  \\\n0     0       1         1            1995       4      1         1        8   \n1     0       1         1            1995       4      1         2        8   \n2     0       1         1            1973       3      2         1        8   \n3     0       1         1            1983       3      2         1        8   \n\n   parents_country  \n0               10  \n1               10  \n2               10  \n3               10  \n\n[4 rows x 23 columns]",
      "text/html": "<div>\n<style scoped>\n    .dataframe tbody tr th:only-of-type {\n        vertical-align: middle;\n    }\n\n    .dataframe tbody tr th {\n        vertical-align: top;\n    }\n\n    .dataframe thead th {\n        text-align: right;\n    }\n</style>\n<table border=\"1\" class=\"dataframe\">\n  <thead>\n    <tr style=\"text-align: right;\">\n      <th></th>\n      <th>ind</th>\n      <th>ID</th>\n      <th>Код_группы</th>\n      <th>Год_Поступления</th>\n      <th>Год_Окончания_УЗ</th>\n      <th>Пособие</th>\n      <th>Общежитие</th>\n      <th>Наличие_Матери</th>\n      <th>Наличие_Отца</th>\n      <th>Опекунство</th>\n      <th>...</th>\n      <th>СрБаллАттестата</th>\n      <th>male</th>\n      <th>female</th>\n      <th>sex_summ</th>\n      <th>birth_year_int</th>\n      <th>Статус</th>\n      <th>basis</th>\n      <th>language</th>\n      <th>country</th>\n      <th>parents_country</th>\n    </tr>\n  </thead>\n  <tbody>\n    <tr>\n      <th>0</th>\n      <td>0</td>\n      <td>64996</td>\n      <td>20608</td>\n      <td>2014</td>\n      <td>2014.0</td>\n      <td>0.0</td>\n      <td>0.0</td>\n      <td>0</td>\n      <td>0.0</td>\n      <td>0.0</td>\n      <td>...</td>\n      <td>49.0</td>\n      <td>0</td>\n      <td>1</td>\n      <td>1</td>\n      <td>1995</td>\n      <td>4</td>\n      <td>1</td>\n      <td>1</td>\n      <td>8</td>\n      <td>10</td>\n    </tr>\n    <tr>\n      <th>1</th>\n      <td>1</td>\n      <td>71837</td>\n      <td>20613</td>\n      <td>2015</td>\n      <td>2014.0</td>\n      <td>0.0</td>\n      <td>0.0</td>\n      <td>0</td>\n      <td>0.0</td>\n      <td>0.0</td>\n      <td>...</td>\n      <td>77.0</td>\n      <td>0</td>\n      <td>1</td>\n      <td>1</td>\n      <td>1995</td>\n      <td>4</td>\n      <td>1</td>\n      <td>2</td>\n      <td>8</td>\n      <td>10</td>\n    </tr>\n    <tr>\n      <th>2</th>\n      <td>2</td>\n      <td>86587</td>\n      <td>21210</td>\n      <td>2018</td>\n      <td>1997.0</td>\n      <td>0.0</td>\n      <td>0.0</td>\n      <td>1</td>\n      <td>1.0</td>\n      <td>0.0</td>\n      <td>...</td>\n      <td>74.0</td>\n      <td>0</td>\n      <td>1</td>\n      <td>1</td>\n      <td>1973</td>\n      <td>3</td>\n      <td>2</td>\n      <td>1</td>\n      <td>8</td>\n      <td>10</td>\n    </tr>\n    <tr>\n      <th>3</th>\n      <td>3</td>\n      <td>73673</td>\n      <td>22254</td>\n      <td>2015</td>\n      <td>2006.0</td>\n      <td>0.0</td>\n      <td>0.0</td>\n      <td>0</td>\n      <td>0.0</td>\n      <td>0.0</td>\n      <td>...</td>\n      <td>57.0</td>\n      <td>0</td>\n      <td>1</td>\n      <td>1</td>\n      <td>1983</td>\n      <td>3</td>\n      <td>2</td>\n      <td>1</td>\n      <td>8</td>\n      <td>10</td>\n    </tr>\n  </tbody>\n</table>\n<p>4 rows × 23 columns</p>\n</div>"
     },
     "metadata": {},
     "execution_count": 100
    }
   ],
   "source": [
    "df_test_base[\"Статус\"] = df_test_pred\n",
    "df_test_base.head(4)"
   ]
  },
  {
   "cell_type": "code",
   "execution_count": 101,
   "metadata": {},
   "outputs": [
    {
     "output_type": "execute_result",
     "data": {
      "text/plain": "         ID  Статус\n0     64996     NaN\n1     71837     NaN\n2     86587     NaN\n3     73673     NaN\n4     54709     NaN\n...     ...     ...\n6686  74342     NaN\n6687  54876     NaN\n6688  66879     NaN\n6689  64982     NaN\n6690  69975     NaN\n\n[6691 rows x 2 columns]",
      "text/html": "<div>\n<style scoped>\n    .dataframe tbody tr th:only-of-type {\n        vertical-align: middle;\n    }\n\n    .dataframe tbody tr th {\n        vertical-align: top;\n    }\n\n    .dataframe thead th {\n        text-align: right;\n    }\n</style>\n<table border=\"1\" class=\"dataframe\">\n  <thead>\n    <tr style=\"text-align: right;\">\n      <th></th>\n      <th>ID</th>\n      <th>Статус</th>\n    </tr>\n  </thead>\n  <tbody>\n    <tr>\n      <th>0</th>\n      <td>64996</td>\n      <td>NaN</td>\n    </tr>\n    <tr>\n      <th>1</th>\n      <td>71837</td>\n      <td>NaN</td>\n    </tr>\n    <tr>\n      <th>2</th>\n      <td>86587</td>\n      <td>NaN</td>\n    </tr>\n    <tr>\n      <th>3</th>\n      <td>73673</td>\n      <td>NaN</td>\n    </tr>\n    <tr>\n      <th>4</th>\n      <td>54709</td>\n      <td>NaN</td>\n    </tr>\n    <tr>\n      <th>...</th>\n      <td>...</td>\n      <td>...</td>\n    </tr>\n    <tr>\n      <th>6686</th>\n      <td>74342</td>\n      <td>NaN</td>\n    </tr>\n    <tr>\n      <th>6687</th>\n      <td>54876</td>\n      <td>NaN</td>\n    </tr>\n    <tr>\n      <th>6688</th>\n      <td>66879</td>\n      <td>NaN</td>\n    </tr>\n    <tr>\n      <th>6689</th>\n      <td>64982</td>\n      <td>NaN</td>\n    </tr>\n    <tr>\n      <th>6690</th>\n      <td>69975</td>\n      <td>NaN</td>\n    </tr>\n  </tbody>\n</table>\n<p>6691 rows × 2 columns</p>\n</div>"
     },
     "metadata": {},
     "execution_count": 101
    }
   ],
   "source": [
    "df_submission"
   ]
  },
  {
   "cell_type": "code",
   "execution_count": 102,
   "metadata": {},
   "outputs": [
    {
     "output_type": "execute_result",
     "data": {
      "text/plain": "         ID  Статус\n0     64996       4\n1     71837       4\n2     86587       3\n3     73673       3\n4     54709       4\n...     ...     ...\n6630  74342       4\n6631  54876       4\n6632  66879       4\n6633  64982       4\n6634  69975       4\n\n[6635 rows x 2 columns]",
      "text/html": "<div>\n<style scoped>\n    .dataframe tbody tr th:only-of-type {\n        vertical-align: middle;\n    }\n\n    .dataframe tbody tr th {\n        vertical-align: top;\n    }\n\n    .dataframe thead th {\n        text-align: right;\n    }\n</style>\n<table border=\"1\" class=\"dataframe\">\n  <thead>\n    <tr style=\"text-align: right;\">\n      <th></th>\n      <th>ID</th>\n      <th>Статус</th>\n    </tr>\n  </thead>\n  <tbody>\n    <tr>\n      <th>0</th>\n      <td>64996</td>\n      <td>4</td>\n    </tr>\n    <tr>\n      <th>1</th>\n      <td>71837</td>\n      <td>4</td>\n    </tr>\n    <tr>\n      <th>2</th>\n      <td>86587</td>\n      <td>3</td>\n    </tr>\n    <tr>\n      <th>3</th>\n      <td>73673</td>\n      <td>3</td>\n    </tr>\n    <tr>\n      <th>4</th>\n      <td>54709</td>\n      <td>4</td>\n    </tr>\n    <tr>\n      <th>...</th>\n      <td>...</td>\n      <td>...</td>\n    </tr>\n    <tr>\n      <th>6630</th>\n      <td>74342</td>\n      <td>4</td>\n    </tr>\n    <tr>\n      <th>6631</th>\n      <td>54876</td>\n      <td>4</td>\n    </tr>\n    <tr>\n      <th>6632</th>\n      <td>66879</td>\n      <td>4</td>\n    </tr>\n    <tr>\n      <th>6633</th>\n      <td>64982</td>\n      <td>4</td>\n    </tr>\n    <tr>\n      <th>6634</th>\n      <td>69975</td>\n      <td>4</td>\n    </tr>\n  </tbody>\n</table>\n<p>6635 rows × 2 columns</p>\n</div>"
     },
     "metadata": {},
     "execution_count": 102
    }
   ],
   "source": [
    "make_csv = df_test_base.loc[:, ['ID', 'Статус']]\n",
    "#make_csv['reg'] = np.arange(0, make_csv.shape[0])\n",
    "make_csv"
   ]
  },
  {
   "cell_type": "code",
   "execution_count": 103,
   "metadata": {},
   "outputs": [
    {
     "output_type": "execute_result",
     "data": {
      "text/plain": "      ID  Статус\n0  64996       4",
      "text/html": "<div>\n<style scoped>\n    .dataframe tbody tr th:only-of-type {\n        vertical-align: middle;\n    }\n\n    .dataframe tbody tr th {\n        vertical-align: top;\n    }\n\n    .dataframe thead th {\n        text-align: right;\n    }\n</style>\n<table border=\"1\" class=\"dataframe\">\n  <thead>\n    <tr style=\"text-align: right;\">\n      <th></th>\n      <th>ID</th>\n      <th>Статус</th>\n    </tr>\n  </thead>\n  <tbody>\n    <tr>\n      <th>0</th>\n      <td>64996</td>\n      <td>4</td>\n    </tr>\n  </tbody>\n</table>\n</div>"
     },
     "metadata": {},
     "execution_count": 103
    }
   ],
   "source": [
    "id_hum = 64996\n",
    "make_csv.loc[make_csv['ID'] == id_hum]"
   ]
  },
  {
   "cell_type": "code",
   "execution_count": 104,
   "metadata": {
    "tags": [
     "outputPrepend"
    ]
   },
   "outputs": [
    {
     "output_type": "stream",
     "name": "stdout",
     "text": "  4.0\nName: 6203, dtype: float64\nСтатус    4.0\nName: 6204, dtype: float64\nСтатус    4.0\nName: 6205, dtype: float64\nСтатус    3.0\nName: 6206, dtype: float64\nСтатус    4.0\nName: 6207, dtype: float64\nСтатус    4.0\nName: 6208, dtype: float64\nСтатус    4.0\nName: 6209, dtype: float64\nСтатус    3.0\nName: 6210, dtype: float64\nСтатус    4.0\nName: 6211, dtype: float64\nСтатус    4.0\nName: 6212, dtype: float64\nСтатус    4.0\nName: 6213, dtype: float64\nСтатус   -1.0\nName: 6214, dtype: float64\nСтатус    4.0\nName: 6215, dtype: float64\nСтатус    4.0\nName: 6216, dtype: float64\nСтатус    4.0\nName: 6217, dtype: float64\nСтатус    4.0\nName: 6218, dtype: float64\nСтатус    3.0\nName: 6219, dtype: float64\nСтатус    4.0\nName: 6220, dtype: float64\nСтатус    3.0\nName: 6221, dtype: float64\nСтатус    4.0\nName: 6222, dtype: float64\nСтатус    3.0\nName: 6223, dtype: float64\nСтатус    3.0\nName: 6224, dtype: float64\nСтатус    3.0\nName: 6225, dtype: float64\nСтатус    4.0\nName: 6226, dtype: float64\nСтатус    3.0\nName: 6227, dtype: float64\nСтатус    3.0\nName: 6228, dtype: float64\nСтатус    4.0\nName: 6229, dtype: float64\nСтатус    3.0\nName: 6230, dtype: float64\nСтатус    3.0\nName: 6231, dtype: float64\nСтатус    4.0\nName: 6232, dtype: float64\nСтатус    4.0\nName: 6233, dtype: float64\nСтатус    4.0\nName: 6234, dtype: float64\nСтатус    4.0\nName: 6235, dtype: float64\nСтатус    3.0\nName: 6236, dtype: float64\nСтатус    4.0\nName: 6237, dtype: float64\nСтатус    3.0\nName: 6238, dtype: float64\nСтатус    4.0\nName: 6239, dtype: float64\nСтатус    4.0\nName: 6240, dtype: float64\nСтатус    3.0\nName: 6241, dtype: float64\nСтатус    4.0\nName: 6242, dtype: float64\nСтатус    3.0\nName: 6243, dtype: float64\nСтатус    3.0\nName: 6244, dtype: float64\nСтатус    3.0\nName: 6245, dtype: float64\nСтатус    4.0\nName: 6246, dtype: float64\nСтатус    4.0\nName: 6247, dtype: float64\nСтатус    4.0\nName: 6248, dtype: float64\nСтатус    3.0\nName: 6249, dtype: float64\nСтатус    4.0\nName: 6250, dtype: float64\nСтатус    4.0\nName: 6251, dtype: float64\nСтатус    3.0\nName: 6252, dtype: float64\nСтатус    3.0\nName: 6253, dtype: float64\nСтатус    3.0\nName: 6254, dtype: float64\nСтатус    4.0\nName: 6255, dtype: float64\nСтатус    4.0\nName: 6256, dtype: float64\nСтатус    4.0\nName: 6257, dtype: float64\nСтатус    3.0\nName: 6258, dtype: float64\nСтатус    3.0\nName: 6259, dtype: float64\nСтатус    3.0\nName: 6260, dtype: float64\nСтатус    3.0\nName: 6261, dtype: float64\nСтатус    4.0\nName: 6262, dtype: float64\nСтатус    4.0\nName: 6263, dtype: float64\nСтатус    3.0\nName: 6264, dtype: float64\nСтатус    4.0\nName: 6265, dtype: float64\nСтатус    3.0\nName: 6266, dtype: float64\nСтатус    4.0\nName: 6267, dtype: float64\nСтатус    4.0\nName: 6268, dtype: float64\nСтатус    4.0\nName: 6269, dtype: float64\nСтатус    4.0\nName: 6270, dtype: float64\nСтатус    4.0\nName: 6271, dtype: float64\nСтатус    3.0\nName: 6272, dtype: float64\nСтатус    4.0\nName: 6273, dtype: float64\nСтатус    4.0\nName: 6274, dtype: float64\nСтатус    4.0\nName: 6275, dtype: float64\nСтатус    4.0\nName: 6276, dtype: float64\nСтатус    3.0\nName: 6277, dtype: float64\nСтатус    4.0\nName: 6278, dtype: float64\nСтатус    3.0\nName: 6279, dtype: float64\nСтатус    4.0\nName: 6280, dtype: float64\nСтатус    4.0\nName: 6281, dtype: float64\nСтатус    3.0\nName: 6282, dtype: float64\nСтатус    4.0\nName: 6283, dtype: float64\nСтатус    4.0\nName: 6284, dtype: float64\nСтатус    4.0\nName: 6285, dtype: float64\nСтатус    4.0\nName: 6286, dtype: float64\nСтатус    3.0\nName: 6287, dtype: float64\nСтатус    4.0\nName: 6288, dtype: float64\nСтатус    4.0\nName: 6289, dtype: float64\nСтатус    4.0\nName: 6290, dtype: float64\nСтатус    3.0\nName: 6291, dtype: float64\nСтатус    3.0\nName: 6292, dtype: float64\nСтатус    4.0\nName: 6293, dtype: float64\nСтатус    4.0\nName: 6294, dtype: float64\nСтатус    3.0\nName: 6295, dtype: float64\nСтатус    4.0\nName: 6296, dtype: float64\nСтатус    3.0\nName: 6297, dtype: float64\nСтатус    3.0\nName: 6298, dtype: float64\nСтатус    4.0\nName: 6299, dtype: float64\nСтатус    3.0\nName: 6300, dtype: float64\nСтатус    4.0\nName: 6301, dtype: float64\nСтатус    3.0\nName: 6302, dtype: float64\nСтатус    4.0\nName: 6303, dtype: float64\nСтатус    4.0\nName: 6304, dtype: float64\nСтатус   -1.0\nName: 6305, dtype: float64\nСтатус    4.0\nName: 6306, dtype: float64\nСтатус    4.0\nName: 6307, dtype: float64\nСтатус    3.0\nName: 6308, dtype: float64\nСтатус    4.0\nName: 6309, dtype: float64\nСтатус    3.0\nName: 6310, dtype: float64\nСтатус    4.0\nName: 6311, dtype: float64\nСтатус    4.0\nName: 6312, dtype: float64\nСтатус    4.0\nName: 6313, dtype: float64\nСтатус    4.0\nName: 6314, dtype: float64\nСтатус   -1.0\nName: 6315, dtype: float64\nСтатус    4.0\nName: 6316, dtype: float64\nСтатус    3.0\nName: 6317, dtype: float64\nСтатус    4.0\nName: 6318, dtype: float64\nСтатус    3.0\nName: 6319, dtype: float64\nСтатус    3.0\nName: 6320, dtype: float64\nСтатус    4.0\nName: 6321, dtype: float64\nСтатус    4.0\nName: 6322, dtype: float64\nСтатус    3.0\nName: 6323, dtype: float64\nСтатус    4.0\nName: 6324, dtype: float64\nСтатус    4.0\nName: 6325, dtype: float64\nСтатус    3.0\nName: 6326, dtype: float64\nСтатус    4.0\nName: 6327, dtype: float64\nСтатус    3.0\nName: 6328, dtype: float64\nСтатус    4.0\nName: 6329, dtype: float64\nСтатус    3.0\nName: 6330, dtype: float64\nСтатус    4.0\nName: 6331, dtype: float64\nСтатус    4.0\nName: 6332, dtype: float64\nСтатус    4.0\nName: 6333, dtype: float64\nСтатус    4.0\nName: 6334, dtype: float64\nСтатус    3.0\nName: 6335, dtype: float64\nСтатус    3.0\nName: 6336, dtype: float64\nСтатус    3.0\nName: 6337, dtype: float64\nСтатус    3.0\nName: 6338, dtype: float64\nСтатус    4.0\nName: 6339, dtype: float64\nСтатус    3.0\nName: 6340, dtype: float64\nСтатус    4.0\nName: 6341, dtype: float64\nСтатус   -1.0\nName: 6342, dtype: float64\nСтатус    4.0\nName: 6343, dtype: float64\nСтатус    4.0\nName: 6344, dtype: float64\nСтатус    4.0\nName: 6345, dtype: float64\nСтатус    3.0\nName: 6346, dtype: float64\nСтатус    3.0\nName: 6347, dtype: float64\nСтатус    4.0\nName: 6348, dtype: float64\nСтатус    4.0\nName: 6349, dtype: float64\nСтатус    4.0\nName: 6350, dtype: float64\nСтатус    3.0\nName: 6351, dtype: float64\nСтатус    3.0\nName: 6352, dtype: float64\nСтатус    4.0\nName: 6353, dtype: float64\nСтатус   -1.0\nName: 6354, dtype: float64\nСтатус    4.0\nName: 6355, dtype: float64\nСтатус    4.0\nName: 6356, dtype: float64\nСтатус    3.0\nName: 6357, dtype: float64\nСтатус    3.0\nName: 6358, dtype: float64\nСтатус    3.0\nName: 6359, dtype: float64\nСтатус    4.0\nName: 6360, dtype: float64\nСтатус    3.0\nName: 6361, dtype: float64\nСтатус    4.0\nName: 6362, dtype: float64\nСтатус    4.0\nName: 6363, dtype: float64\nСтатус    4.0\nName: 6364, dtype: float64\nСтатус    4.0\nName: 6365, dtype: float64\nСтатус    4.0\nName: 6366, dtype: float64\nСтатус    4.0\nName: 6367, dtype: float64\nСтатус    3.0\nName: 6368, dtype: float64\nСтатус    3.0\nName: 6369, dtype: float64\nСтатус    4.0\nName: 6370, dtype: float64\nСтатус    4.0\nName: 6371, dtype: float64\nСтатус    4.0\nName: 6372, dtype: float64\nСтатус    3.0\nName: 6373, dtype: float64\nСтатус    3.0\nName: 6374, dtype: float64\nСтатус    4.0\nName: 6375, dtype: float64\nСтатус    3.0\nName: 6376, dtype: float64\nСтатус    3.0\nName: 6377, dtype: float64\nСтатус    3.0\nName: 6378, dtype: float64\nСтатус    4.0\nName: 6379, dtype: float64\nСтатус    4.0\nName: 6380, dtype: float64\nСтатус    4.0\nName: 6381, dtype: float64\nСтатус    3.0\nName: 6382, dtype: float64\nСтатус    4.0\nName: 6383, dtype: float64\nСтатус    4.0\nName: 6384, dtype: float64\nСтатус    4.0\nName: 6385, dtype: float64\nСтатус    4.0\nName: 6386, dtype: float64\nСтатус    4.0\nName: 6387, dtype: float64\nСтатус    4.0\nName: 6388, dtype: float64\nСтатус    3.0\nName: 6389, dtype: float64\nСтатус    4.0\nName: 6390, dtype: float64\nСтатус    3.0\nName: 6391, dtype: float64\nСтатус    4.0\nName: 6392, dtype: float64\nСтатус   -1.0\nName: 6393, dtype: float64\nСтатус    4.0\nName: 6394, dtype: float64\nСтатус    4.0\nName: 6395, dtype: float64\nСтатус    4.0\nName: 6396, dtype: float64\nСтатус    4.0\nName: 6397, dtype: float64\nСтатус    3.0\nName: 6398, dtype: float64\nСтатус    4.0\nName: 6399, dtype: float64\nСтатус    4.0\nName: 6400, dtype: float64\nСтатус    4.0\nName: 6401, dtype: float64\nСтатус    4.0\nName: 6402, dtype: float64\nСтатус   -1.0\nName: 6403, dtype: float64\nСтатус    4.0\nName: 6404, dtype: float64\nСтатус    3.0\nName: 6405, dtype: float64\nСтатус    3.0\nName: 6406, dtype: float64\nСтатус    4.0\nName: 6407, dtype: float64\nСтатус    4.0\nName: 6408, dtype: float64\nСтатус    4.0\nName: 6409, dtype: float64\nСтатус    3.0\nName: 6410, dtype: float64\nСтатус    4.0\nName: 6411, dtype: float64\nСтатус    3.0\nName: 6412, dtype: float64\nСтатус    4.0\nName: 6413, dtype: float64\nСтатус    4.0\nName: 6414, dtype: float64\nСтатус    3.0\nName: 6415, dtype: float64\nСтатус    4.0\nName: 6416, dtype: float64\nСтатус    3.0\nName: 6417, dtype: float64\nСтатус    4.0\nName: 6418, dtype: float64\nСтатус    4.0\nName: 6419, dtype: float64\nСтатус    4.0\nName: 6420, dtype: float64\nСтатус    3.0\nName: 6421, dtype: float64\nСтатус    4.0\nName: 6422, dtype: float64\nСтатус    4.0\nName: 6423, dtype: float64\nСтатус    4.0\nName: 6424, dtype: float64\nСтатус    4.0\nName: 6425, dtype: float64\nСтатус    4.0\nName: 6426, dtype: float64\nСтатус    4.0\nName: 6427, dtype: float64\nСтатус    4.0\nName: 6428, dtype: float64\nСтатус    4.0\nName: 6429, dtype: float64\nСтатус    3.0\nName: 6430, dtype: float64\nСтатус    4.0\nName: 6431, dtype: float64\nСтатус    4.0\nName: 6432, dtype: float64\nСтатус    3.0\nName: 6433, dtype: float64\nСтатус    3.0\nName: 6434, dtype: float64\nСтатус    4.0\nName: 6435, dtype: float64\nСтатус    3.0\nName: 6436, dtype: float64\nСтатус    4.0\nName: 6437, dtype: float64\nСтатус    3.0\nName: 6438, dtype: float64\nСтатус    4.0\nName: 6439, dtype: float64\nСтатус    4.0\nName: 6440, dtype: float64\nСтатус    3.0\nName: 6441, dtype: float64\nСтатус    4.0\nName: 6442, dtype: float64\nСтатус    4.0\nName: 6443, dtype: float64\nСтатус    4.0\nName: 6444, dtype: float64\nСтатус    4.0\nName: 6445, dtype: float64\nСтатус    3.0\nName: 6446, dtype: float64\nСтатус    4.0\nName: 6447, dtype: float64\nСтатус    3.0\nName: 6448, dtype: float64\nСтатус    4.0\nName: 6449, dtype: float64\nСтатус    3.0\nName: 6450, dtype: float64\nСтатус    4.0\nName: 6451, dtype: float64\nСтатус    4.0\nName: 6452, dtype: float64\nСтатус    3.0\nName: 6453, dtype: float64\nСтатус    3.0\nName: 6454, dtype: float64\nСтатус    4.0\nName: 6455, dtype: float64\nСтатус    4.0\nName: 6456, dtype: float64\nСтатус    4.0\nName: 6457, dtype: float64\nСтатус    4.0\nName: 6458, dtype: float64\nСтатус    3.0\nName: 6459, dtype: float64\nСтатус    3.0\nName: 6460, dtype: float64\nСтатус    3.0\nName: 6461, dtype: float64\nСтатус    3.0\nName: 6462, dtype: float64\nСтатус    4.0\nName: 6463, dtype: float64\nСтатус    4.0\nName: 6464, dtype: float64\nСтатус    3.0\nName: 6465, dtype: float64\nСтатус    3.0\nName: 6466, dtype: float64\nСтатус    3.0\nName: 6467, dtype: float64\nСтатус    3.0\nName: 6468, dtype: float64\nСтатус    3.0\nName: 6469, dtype: float64\nСтатус    3.0\nName: 6470, dtype: float64\nСтатус    4.0\nName: 6471, dtype: float64\nСтатус    3.0\nName: 6472, dtype: float64\nСтатус    4.0\nName: 6473, dtype: float64\nСтатус    3.0\nName: 6474, dtype: float64\nСтатус    4.0\nName: 6475, dtype: float64\nСтатус    4.0\nName: 6476, dtype: float64\nСтатус    4.0\nName: 6477, dtype: float64\nСтатус    3.0\nName: 6478, dtype: float64\nСтатус    4.0\nName: 6479, dtype: float64\nСтатус    3.0\nName: 6480, dtype: float64\nСтатус   -1.0\nName: 6481, dtype: float64\nСтатус    3.0\nName: 6482, dtype: float64\nСтатус    3.0\nName: 6483, dtype: float64\nСтатус    4.0\nName: 6484, dtype: float64\nСтатус    3.0\nName: 6485, dtype: float64\nСтатус    3.0\nName: 6486, dtype: float64\nСтатус    4.0\nName: 6487, dtype: float64\nСтатус    4.0\nName: 6488, dtype: float64\nСтатус    4.0\nName: 6489, dtype: float64\nСтатус    4.0\nName: 6490, dtype: float64\nСтатус    4.0\nName: 6491, dtype: float64\nСтатус    3.0\nName: 6492, dtype: float64\nСтатус    4.0\nName: 6493, dtype: float64\nСтатус    4.0\nName: 6494, dtype: float64\nСтатус    4.0\nName: 6495, dtype: float64\nСтатус    4.0\nName: 6496, dtype: float64\nСтатус    3.0\nName: 6497, dtype: float64\nСтатус    4.0\nName: 6498, dtype: float64\nСтатус    4.0\nName: 6499, dtype: float64\nСтатус   -1.0\nName: 6500, dtype: float64\nСтатус    3.0\nName: 6501, dtype: float64\nСтатус    4.0\nName: 6502, dtype: float64\nСтатус    3.0\nName: 6503, dtype: float64\nСтатус    4.0\nName: 6504, dtype: float64\nСтатус    4.0\nName: 6505, dtype: float64\nСтатус    4.0\nName: 6506, dtype: float64\nСтатус    4.0\nName: 6507, dtype: float64\nСтатус    4.0\nName: 6508, dtype: float64\nСтатус    4.0\nName: 6509, dtype: float64\nСтатус    4.0\nName: 6510, dtype: float64\nСтатус    3.0\nName: 6511, dtype: float64\nСтатус    4.0\nName: 6512, dtype: float64\nСтатус    4.0\nName: 6513, dtype: float64\nСтатус    4.0\nName: 6514, dtype: float64\nСтатус    3.0\nName: 6515, dtype: float64\nСтатус    4.0\nName: 6516, dtype: float64\nСтатус    4.0\nName: 6517, dtype: float64\nСтатус    4.0\nName: 6518, dtype: float64\nСтатус    3.0\nName: 6519, dtype: float64\nСтатус    4.0\nName: 6520, dtype: float64\nСтатус    3.0\nName: 6521, dtype: float64\nСтатус    3.0\nName: 6522, dtype: float64\nСтатус    3.0\nName: 6523, dtype: float64\nСтатус    4.0\nName: 6524, dtype: float64\nСтатус    4.0\nName: 6525, dtype: float64\nСтатус    4.0\nName: 6526, dtype: float64\nСтатус    4.0\nName: 6527, dtype: float64\nСтатус    3.0\nName: 6528, dtype: float64\nСтатус    4.0\nName: 6529, dtype: float64\nСтатус    4.0\nName: 6530, dtype: float64\nСтатус    3.0\nName: 6531, dtype: float64\nСтатус    4.0\nName: 6532, dtype: float64\nСтатус    4.0\nName: 6533, dtype: float64\nСтатус    4.0\nName: 6534, dtype: float64\nСтатус    4.0\nName: 6535, dtype: float64\nСтатус    3.0\nName: 6536, dtype: float64\nСтатус    3.0\nName: 6537, dtype: float64\nСтатус    3.0\nName: 6538, dtype: float64\nСтатус    3.0\nName: 6539, dtype: float64\nСтатус    4.0\nName: 6540, dtype: float64\nСтатус    3.0\nName: 6541, dtype: float64\nСтатус    3.0\nName: 6542, dtype: float64\nСтатус    4.0\nName: 6543, dtype: float64\nСтатус    4.0\nName: 6544, dtype: float64\nСтатус    4.0\nName: 6545, dtype: float64\nСтатус    3.0\nName: 6546, dtype: float64\nСтатус    3.0\nName: 6547, dtype: float64\nСтатус    3.0\nName: 6548, dtype: float64\nСтатус    4.0\nName: 6549, dtype: float64\nСтатус    3.0\nName: 6550, dtype: float64\nСтатус    3.0\nName: 6551, dtype: float64\nСтатус    4.0\nName: 6552, dtype: float64\nСтатус    3.0\nName: 6553, dtype: float64\nСтатус    3.0\nName: 6554, dtype: float64\nСтатус    3.0\nName: 6555, dtype: float64\nСтатус    4.0\nName: 6556, dtype: float64\nСтатус    3.0\nName: 6557, dtype: float64\nСтатус    4.0\nName: 6558, dtype: float64\nСтатус    3.0\nName: 6559, dtype: float64\nСтатус    3.0\nName: 6560, dtype: float64\nСтатус    4.0\nName: 6561, dtype: float64\nСтатус    4.0\nName: 6562, dtype: float64\nСтатус    4.0\nName: 6563, dtype: float64\nСтатус    4.0\nName: 6564, dtype: float64\nСтатус    4.0\nName: 6565, dtype: float64\nСтатус    4.0\nName: 6566, dtype: float64\nСтатус    4.0\nName: 6567, dtype: float64\nСтатус    4.0\nName: 6568, dtype: float64\nСтатус    3.0\nName: 6569, dtype: float64\nСтатус    4.0\nName: 6570, dtype: float64\nСтатус    4.0\nName: 6571, dtype: float64\nСтатус    4.0\nName: 6572, dtype: float64\nСтатус    3.0\nName: 6573, dtype: float64\nСтатус    4.0\nName: 6574, dtype: float64\nСтатус    4.0\nName: 6575, dtype: float64\nСтатус    3.0\nName: 6576, dtype: float64\nСтатус    3.0\nName: 6577, dtype: float64\nСтатус    3.0\nName: 6578, dtype: float64\nСтатус    4.0\nName: 6579, dtype: float64\nСтатус    3.0\nName: 6580, dtype: float64\nСтатус    4.0\nName: 6581, dtype: float64\nСтатус    3.0\nName: 6582, dtype: float64\nСтатус    4.0\nName: 6583, dtype: float64\nСтатус    4.0\nName: 6584, dtype: float64\nСтатус    3.0\nName: 6585, dtype: float64\nСтатус    4.0\nName: 6586, dtype: float64\nСтатус    4.0\nName: 6587, dtype: float64\nСтатус    4.0\nName: 6588, dtype: float64\nСтатус    3.0\nName: 6589, dtype: float64\nСтатус    3.0\nName: 6590, dtype: float64\nСтатус    4.0\nName: 6591, dtype: float64\nСтатус    4.0\nName: 6592, dtype: float64\nСтатус   -1.0\nName: 6593, dtype: float64\nСтатус    4.0\nName: 6594, dtype: float64\nСтатус    4.0\nName: 6595, dtype: float64\nСтатус    4.0\nName: 6596, dtype: float64\nСтатус    4.0\nName: 6597, dtype: float64\nСтатус    4.0\nName: 6598, dtype: float64\nСтатус    4.0\nName: 6599, dtype: float64\nСтатус    4.0\nName: 6600, dtype: float64\nСтатус    3.0\nName: 6601, dtype: float64\nСтатус   -1.0\nName: 6602, dtype: float64\nСтатус   -1.0\nName: 6603, dtype: float64\nСтатус    3.0\nName: 6604, dtype: float64\nСтатус    4.0\nName: 6605, dtype: float64\nСтатус    3.0\nName: 6606, dtype: float64\nСтатус    3.0\nName: 6607, dtype: float64\nСтатус    4.0\nName: 6608, dtype: float64\nСтатус    4.0\nName: 6609, dtype: float64\nСтатус    3.0\nName: 6610, dtype: float64\nСтатус    3.0\nName: 6611, dtype: float64\nСтатус    4.0\nName: 6612, dtype: float64\nСтатус    3.0\nName: 6613, dtype: float64\nСтатус    4.0\nName: 6614, dtype: float64\nСтатус    4.0\nName: 6615, dtype: float64\nСтатус    3.0\nName: 6616, dtype: float64\nСтатус    3.0\nName: 6617, dtype: float64\nСтатус    4.0\nName: 6618, dtype: float64\nСтатус    3.0\nName: 6619, dtype: float64\nСтатус    4.0\nName: 6620, dtype: float64\nСтатус    4.0\nName: 6621, dtype: float64\nСтатус    4.0\nName: 6622, dtype: float64\nСтатус    3.0\nName: 6623, dtype: float64\nСтатус    3.0\nName: 6624, dtype: float64\nСтатус    3.0\nName: 6625, dtype: float64\nСтатус    4.0\nName: 6626, dtype: float64\nСтатус    3.0\nName: 6627, dtype: float64\nСтатус    3.0\nName: 6628, dtype: float64\nСтатус    4.0\nName: 6629, dtype: float64\nСтатус    4.0\nName: 6630, dtype: float64\nСтатус    4.0\nName: 6631, dtype: float64\nСтатус    3.0\nName: 6632, dtype: float64\nСтатус    4.0\nName: 6633, dtype: float64\nСтатус    3.0\nName: 6634, dtype: float64\nСтатус    4.0\nName: 6635, dtype: float64\nСтатус    3.0\nName: 6636, dtype: float64\nСтатус    3.0\nName: 6637, dtype: float64\nСтатус    4.0\nName: 6638, dtype: float64\nСтатус    3.0\nName: 6639, dtype: float64\nСтатус    4.0\nName: 6640, dtype: float64\nСтатус    4.0\nName: 6641, dtype: float64\nСтатус    3.0\nName: 6642, dtype: float64\nСтатус    4.0\nName: 6643, dtype: float64\nСтатус    3.0\nName: 6644, dtype: float64\nСтатус    4.0\nName: 6645, dtype: float64\nСтатус    3.0\nName: 6646, dtype: float64\nСтатус    4.0\nName: 6647, dtype: float64\nСтатус    4.0\nName: 6648, dtype: float64\nСтатус    4.0\nName: 6649, dtype: float64\nСтатус    4.0\nName: 6650, dtype: float64\nСтатус    4.0\nName: 6651, dtype: float64\nСтатус    4.0\nName: 6652, dtype: float64\nСтатус    3.0\nName: 6653, dtype: float64\nСтатус    4.0\nName: 6654, dtype: float64\nСтатус    4.0\nName: 6655, dtype: float64\nСтатус    4.0\nName: 6656, dtype: float64\nСтатус    4.0\nName: 6657, dtype: float64\nСтатус    4.0\nName: 6658, dtype: float64\nСтатус    4.0\nName: 6659, dtype: float64\nСтатус    3.0\nName: 6660, dtype: float64\nСтатус    3.0\nName: 6661, dtype: float64\nСтатус    4.0\nName: 6662, dtype: float64\nСтатус    4.0\nName: 6663, dtype: float64\nСтатус    4.0\nName: 6664, dtype: float64\nСтатус    4.0\nName: 6665, dtype: float64\nСтатус    4.0\nName: 6666, dtype: float64\nСтатус    3.0\nName: 6667, dtype: float64\nСтатус    3.0\nName: 6668, dtype: float64\nСтатус    3.0\nName: 6669, dtype: float64\nСтатус    4.0\nName: 6670, dtype: float64\nСтатус    4.0\nName: 6671, dtype: float64\nСтатус    3.0\nName: 6672, dtype: float64\nСтатус    3.0\nName: 6673, dtype: float64\nСтатус    4.0\nName: 6674, dtype: float64\nСтатус    4.0\nName: 6675, dtype: float64\nСтатус    4.0\nName: 6676, dtype: float64\nСтатус    4.0\nName: 6677, dtype: float64\nСтатус    4.0\nName: 6678, dtype: float64\nСтатус    3.0\nName: 6679, dtype: float64\nСтатус    4.0\nName: 6680, dtype: float64\nСтатус    4.0\nName: 6681, dtype: float64\nСтатус    4.0\nName: 6682, dtype: float64\nСтатус    4.0\nName: 6683, dtype: float64\nСтатус    3.0\nName: 6684, dtype: float64\nСтатус    4.0\nName: 6685, dtype: float64\nСтатус    4.0\nName: 6686, dtype: float64\nСтатус    4.0\nName: 6687, dtype: float64\nСтатус    4.0\nName: 6688, dtype: float64\nСтатус    4.0\nName: 6689, dtype: float64\nСтатус    4.0\nName: 6690, dtype: float64\n"
    }
   ],
   "source": [
    "for i in range(df_submission.shape[0]):\n",
    "    id_hum = df_submission.loc[i, ['ID']]\n",
    "    #print(id_hum)\n",
    "    status = make_csv.loc[make_csv['ID'] == id_hum.values[0], 'Статус']\n",
    "    try:\n",
    "        df_submission.loc[i, ['Статус']] = status.values[0]\n",
    "    except:\n",
    "        df_submission.loc[i, ['Статус']] = 4\n",
    "    print(df_submission.loc[i, ['Статус']])"
   ]
  },
  {
   "cell_type": "code",
   "execution_count": 109,
   "metadata": {},
   "outputs": [],
   "source": [
    "df_submission.to_csv('data/result/sample_submission_sklearn_3.csv', index=False)"
   ]
  },
  {
   "cell_type": "code",
   "execution_count": 106,
   "metadata": {},
   "outputs": [
    {
     "output_type": "execute_result",
     "data": {
      "text/plain": "array([0, 1, 2, 3, 4, 5, 6, 7, 8, 9])"
     },
     "metadata": {},
     "execution_count": 106
    }
   ],
   "source": [
    "np.arange(0, 10)"
   ]
  },
  {
   "cell_type": "code",
   "execution_count": 107,
   "metadata": {},
   "outputs": [
    {
     "output_type": "execute_result",
     "data": {
      "text/plain": "False"
     },
     "metadata": {},
     "execution_count": 107
    }
   ],
   "source": [
    "make_csv.isna().any().all()"
   ]
  },
  {
   "cell_type": "code",
   "execution_count": 112,
   "metadata": {},
   "outputs": [
    {
     "output_type": "execute_result",
     "data": {
      "text/plain": "          ID\nСтатус      \n-1.0     183\n 3.0    2124\n 4.0    4384",
      "text/html": "<div>\n<style scoped>\n    .dataframe tbody tr th:only-of-type {\n        vertical-align: middle;\n    }\n\n    .dataframe tbody tr th {\n        vertical-align: top;\n    }\n\n    .dataframe thead th {\n        text-align: right;\n    }\n</style>\n<table border=\"1\" class=\"dataframe\">\n  <thead>\n    <tr style=\"text-align: right;\">\n      <th></th>\n      <th>ID</th>\n    </tr>\n    <tr>\n      <th>Статус</th>\n      <th></th>\n    </tr>\n  </thead>\n  <tbody>\n    <tr>\n      <th>-1.0</th>\n      <td>183</td>\n    </tr>\n    <tr>\n      <th>3.0</th>\n      <td>2124</td>\n    </tr>\n    <tr>\n      <th>4.0</th>\n      <td>4384</td>\n    </tr>\n  </tbody>\n</table>\n</div>"
     },
     "metadata": {},
     "execution_count": 112
    }
   ],
   "source": [
    "df_submission.groupby('Статус').count()"
   ]
  },
  {
   "cell_type": "code",
   "execution_count": 122,
   "metadata": {},
   "outputs": [
    {
     "output_type": "execute_result",
     "data": {
      "text/plain": "[&#39;Код_группы&#39;,\n &#39;Год_Поступления&#39;,\n &#39;Год_Окончания_УЗ&#39;,\n &#39;Пособие&#39;,\n &#39;Общежитие&#39;,\n &#39;Наличие_Матери&#39;,\n &#39;Наличие_Отца&#39;,\n &#39;Опекунство&#39;,\n &#39;Село&#39;,\n &#39;Иностранец&#39;,\n &#39;КодФакультета&#39;,\n &#39;СрБаллАттестата&#39;,\n &#39;male&#39;,\n &#39;female&#39;,\n &#39;sex_summ&#39;,\n &#39;birth_year_int&#39;,\n &#39;basis&#39;,\n &#39;language&#39;,\n &#39;country&#39;,\n &#39;region&#39;,\n &#39;city&#39;,\n &#39;parents_country&#39;]"
     },
     "metadata": {},
     "execution_count": 122
    }
   ],
   "source": [
    "all_columns_list = base_df.columns.to_list()\n",
    "all_columns_list.remove('ID')\n",
    "all_columns_list.remove('Статус')\n",
    "all_columns_list"
   ]
  },
  {
   "cell_type": "code",
   "execution_count": 123,
   "metadata": {},
   "outputs": [
    {
     "output_type": "execute_result",
     "data": {
      "text/plain": "22"
     },
     "metadata": {},
     "execution_count": 123
    }
   ],
   "source": [
    "elements_num = len(all_columns_list)\n",
    "elements_num"
   ]
  },
  {
   "cell_type": "code",
   "execution_count": 133,
   "metadata": {
    "tags": []
   },
   "outputs": [
    {
     "output_type": "execute_result",
     "data": {
      "text/plain": "0"
     },
     "metadata": {},
     "execution_count": 133
    }
   ],
   "source": [
    "all_combinations = []\n",
    "list_sizes = 0\n",
    "for i in range(2, elements_num+1):\n",
    "    curent_list = list(combinations(all_columns_list, i))\n",
    "    list_sizes += len(curent_list)\n",
    "    all_combinations = all_combinations + curent_list\n",
    "len(all_combinations) - list_sizes"
   ]
  },
  {
   "cell_type": "code",
   "execution_count": 134,
   "metadata": {
    "tags": [
     "outputPrepend"
    ]
   },
   "outputs": [
    {
     "output_type": "stream",
     "name": "stdout",
     "text": "39;, &#39;Пособие&#39;, &#39;Общежитие&#39;, &#39;Наличие_Матери&#39;, &#39;Наличие_Отца&#39;, &#39;Опекунство&#39;, &#39;Село&#39;, &#39;Иностранец&#39;, &#39;КодФакультета&#39;, &#39;СрБаллАттестата&#39;, &#39;male&#39;, &#39;female&#39;, &#39;sex_summ&#39;, &#39;birth_year_int&#39;, &#39;basis&#39;, &#39;language&#39;, &#39;country&#39;, &#39;region&#39;, &#39;city&#39;, &#39;parents_country&#39;)\n(&#39;Год_Поступления&#39;, &#39;Год_Окончания_УЗ&#39;, &#39;Пособие&#39;, &#39;Общежитие&#39;, &#39;Наличие_Матери&#39;, &#39;Наличие_Отца&#39;, &#39;Опекунство&#39;, &#39;Село&#39;, &#39;Иностранец&#39;, &#39;КодФакультета&#39;, &#39;СрБаллАттестата&#39;, &#39;male&#39;, &#39;female&#39;, &#39;sex_summ&#39;, &#39;birth_year_int&#39;, &#39;basis&#39;, &#39;language&#39;, &#39;country&#39;, &#39;region&#39;, &#39;city&#39;)\n(&#39;Год_Поступления&#39;, &#39;Год_Окончания_УЗ&#39;, &#39;Пособие&#39;, &#39;Общежитие&#39;, &#39;Наличие_Матери&#39;, &#39;Наличие_Отца&#39;, &#39;Опекунство&#39;, &#39;Село&#39;, &#39;Иностранец&#39;, &#39;КодФакультета&#39;, &#39;СрБаллАттестата&#39;, &#39;male&#39;, &#39;female&#39;, &#39;sex_summ&#39;, &#39;birth_year_int&#39;, &#39;basis&#39;, &#39;language&#39;, &#39;country&#39;, &#39;region&#39;, &#39;parents_country&#39;)\n(&#39;Год_Поступления&#39;, &#39;Год_Окончания_УЗ&#39;, &#39;Пособие&#39;, &#39;Общежитие&#39;, &#39;Наличие_Матери&#39;, &#39;Наличие_Отца&#39;, &#39;Опекунство&#39;, &#39;Село&#39;, &#39;Иностранец&#39;, &#39;КодФакультета&#39;, &#39;СрБаллАттестата&#39;, &#39;male&#39;, &#39;female&#39;, &#39;sex_summ&#39;, &#39;birth_year_int&#39;, &#39;basis&#39;, &#39;language&#39;, &#39;country&#39;, &#39;city&#39;, &#39;parents_country&#39;)\n(&#39;Год_Поступления&#39;, &#39;Год_Окончания_УЗ&#39;, &#39;Пособие&#39;, &#39;Общежитие&#39;, &#39;Наличие_Матери&#39;, &#39;Наличие_Отца&#39;, &#39;Опекунство&#39;, &#39;Село&#39;, &#39;Иностранец&#39;, &#39;КодФакультета&#39;, &#39;СрБаллАттестата&#39;, &#39;male&#39;, &#39;female&#39;, &#39;sex_summ&#39;, &#39;birth_year_int&#39;, &#39;basis&#39;, &#39;language&#39;, &#39;region&#39;, &#39;city&#39;, &#39;parents_country&#39;)\n(&#39;Год_Поступления&#39;, &#39;Год_Окончания_УЗ&#39;, &#39;Пособие&#39;, &#39;Общежитие&#39;, &#39;Наличие_Матери&#39;, &#39;Наличие_Отца&#39;, &#39;Опекунство&#39;, &#39;Село&#39;, &#39;Иностранец&#39;, &#39;КодФакультета&#39;, &#39;СрБаллАттестата&#39;, &#39;male&#39;, &#39;female&#39;, &#39;sex_summ&#39;, &#39;birth_year_int&#39;, &#39;basis&#39;, &#39;country&#39;, &#39;region&#39;, &#39;city&#39;, &#39;parents_country&#39;)\n(&#39;Год_Поступления&#39;, &#39;Год_Окончания_УЗ&#39;, &#39;Пособие&#39;, &#39;Общежитие&#39;, &#39;Наличие_Матери&#39;, &#39;Наличие_Отца&#39;, &#39;Опекунство&#39;, &#39;Село&#39;, &#39;Иностранец&#39;, &#39;КодФакультета&#39;, &#39;СрБаллАттестата&#39;, &#39;male&#39;, &#39;female&#39;, &#39;sex_summ&#39;, &#39;birth_year_int&#39;, &#39;language&#39;, &#39;country&#39;, &#39;region&#39;, &#39;city&#39;, &#39;parents_country&#39;)\n(&#39;Год_Поступления&#39;, &#39;Год_Окончания_УЗ&#39;, &#39;Пособие&#39;, &#39;Общежитие&#39;, &#39;Наличие_Матери&#39;, &#39;Наличие_Отца&#39;, &#39;Опекунство&#39;, &#39;Село&#39;, &#39;Иностранец&#39;, &#39;КодФакультета&#39;, &#39;СрБаллАттестата&#39;, &#39;male&#39;, &#39;female&#39;, &#39;sex_summ&#39;, &#39;basis&#39;, &#39;language&#39;, &#39;country&#39;, &#39;region&#39;, &#39;city&#39;, &#39;parents_country&#39;)\n(&#39;Год_Поступления&#39;, &#39;Год_Окончания_УЗ&#39;, &#39;Пособие&#39;, &#39;Общежитие&#39;, &#39;Наличие_Матери&#39;, &#39;Наличие_Отца&#39;, &#39;Опекунство&#39;, &#39;Село&#39;, &#39;Иностранец&#39;, &#39;КодФакультета&#39;, &#39;СрБаллАттестата&#39;, &#39;male&#39;, &#39;female&#39;, &#39;birth_year_int&#39;, &#39;basis&#39;, &#39;language&#39;, &#39;country&#39;, &#39;region&#39;, &#39;city&#39;, &#39;parents_country&#39;)\n(&#39;Год_Поступления&#39;, &#39;Год_Окончания_УЗ&#39;, &#39;Пособие&#39;, &#39;Общежитие&#39;, &#39;Наличие_Матери&#39;, &#39;Наличие_Отца&#39;, &#39;Опекунство&#39;, &#39;Село&#39;, &#39;Иностранец&#39;, &#39;КодФакультета&#39;, &#39;СрБаллАттестата&#39;, &#39;male&#39;, &#39;sex_summ&#39;, &#39;birth_year_int&#39;, &#39;basis&#39;, &#39;language&#39;, &#39;country&#39;, &#39;region&#39;, &#39;city&#39;, &#39;parents_country&#39;)\n(&#39;Год_Поступления&#39;, &#39;Год_Окончания_УЗ&#39;, &#39;Пособие&#39;, &#39;Общежитие&#39;, &#39;Наличие_Матери&#39;, &#39;Наличие_Отца&#39;, &#39;Опекунство&#39;, &#39;Село&#39;, &#39;Иностранец&#39;, &#39;КодФакультета&#39;, &#39;СрБаллАттестата&#39;, &#39;female&#39;, &#39;sex_summ&#39;, &#39;birth_year_int&#39;, &#39;basis&#39;, &#39;language&#39;, &#39;country&#39;, &#39;region&#39;, &#39;city&#39;, &#39;parents_country&#39;)\n(&#39;Год_Поступления&#39;, &#39;Год_Окончания_УЗ&#39;, &#39;Пособие&#39;, &#39;Общежитие&#39;, &#39;Наличие_Матери&#39;, &#39;Наличие_Отца&#39;, &#39;Опекунство&#39;, &#39;Село&#39;, &#39;Иностранец&#39;, &#39;КодФакультета&#39;, &#39;male&#39;, &#39;female&#39;, &#39;sex_summ&#39;, &#39;birth_year_int&#39;, &#39;basis&#39;, &#39;language&#39;, &#39;country&#39;, &#39;region&#39;, &#39;city&#39;, &#39;parents_country&#39;)\n(&#39;Год_Поступления&#39;, &#39;Год_Окончания_УЗ&#39;, &#39;Пособие&#39;, &#39;Общежитие&#39;, &#39;Наличие_Матери&#39;, &#39;Наличие_Отца&#39;, &#39;Опекунство&#39;, &#39;Село&#39;, &#39;Иностранец&#39;, &#39;СрБаллАттестата&#39;, &#39;male&#39;, &#39;female&#39;, &#39;sex_summ&#39;, &#39;birth_year_int&#39;, &#39;basis&#39;, &#39;language&#39;, &#39;country&#39;, &#39;region&#39;, &#39;city&#39;, &#39;parents_country&#39;)\n(&#39;Год_Поступления&#39;, &#39;Год_Окончания_УЗ&#39;, &#39;Пособие&#39;, &#39;Общежитие&#39;, &#39;Наличие_Матери&#39;, &#39;Наличие_Отца&#39;, &#39;Опекунство&#39;, &#39;Село&#39;, &#39;КодФакультета&#39;, &#39;СрБаллАттестата&#39;, &#39;male&#39;, &#39;female&#39;, &#39;sex_summ&#39;, &#39;birth_year_int&#39;, &#39;basis&#39;, &#39;language&#39;, &#39;country&#39;, &#39;region&#39;, &#39;city&#39;, &#39;parents_country&#39;)\n(&#39;Год_Поступления&#39;, &#39;Год_Окончания_УЗ&#39;, &#39;Пособие&#39;, &#39;Общежитие&#39;, &#39;Наличие_Матери&#39;, &#39;Наличие_Отца&#39;, &#39;Опекунство&#39;, &#39;Иностранец&#39;, &#39;КодФакультета&#39;, &#39;СрБаллАттестата&#39;, &#39;male&#39;, &#39;female&#39;, &#39;sex_summ&#39;, &#39;birth_year_int&#39;, &#39;basis&#39;, &#39;language&#39;, &#39;country&#39;, &#39;region&#39;, &#39;city&#39;, &#39;parents_country&#39;)\n(&#39;Год_Поступления&#39;, &#39;Год_Окончания_УЗ&#39;, &#39;Пособие&#39;, &#39;Общежитие&#39;, &#39;Наличие_Матери&#39;, &#39;Наличие_Отца&#39;, &#39;Село&#39;, &#39;Иностранец&#39;, &#39;КодФакультета&#39;, &#39;СрБаллАттестата&#39;, &#39;male&#39;, &#39;female&#39;, &#39;sex_summ&#39;, &#39;birth_year_int&#39;, &#39;basis&#39;, &#39;language&#39;, &#39;country&#39;, &#39;region&#39;, &#39;city&#39;, &#39;parents_country&#39;)\n(&#39;Год_Поступления&#39;, &#39;Год_Окончания_УЗ&#39;, &#39;Пособие&#39;, &#39;Общежитие&#39;, &#39;Наличие_Матери&#39;, &#39;Опекунство&#39;, &#39;Село&#39;, &#39;Иностранец&#39;, &#39;КодФакультета&#39;, &#39;СрБаллАттестата&#39;, &#39;male&#39;, &#39;female&#39;, &#39;sex_summ&#39;, &#39;birth_year_int&#39;, &#39;basis&#39;, &#39;language&#39;, &#39;country&#39;, &#39;region&#39;, &#39;city&#39;, &#39;parents_country&#39;)\n(&#39;Год_Поступления&#39;, &#39;Год_Окончания_УЗ&#39;, &#39;Пособие&#39;, &#39;Общежитие&#39;, &#39;Наличие_Отца&#39;, &#39;Опекунство&#39;, &#39;Село&#39;, &#39;Иностранец&#39;, &#39;КодФакультета&#39;, &#39;СрБаллАттестата&#39;, &#39;male&#39;, &#39;female&#39;, &#39;sex_summ&#39;, &#39;birth_year_int&#39;, &#39;basis&#39;, &#39;language&#39;, &#39;country&#39;, &#39;region&#39;, &#39;city&#39;, &#39;parents_country&#39;)\n(&#39;Год_Поступления&#39;, &#39;Год_Окончания_УЗ&#39;, &#39;Пособие&#39;, &#39;Наличие_Матери&#39;, &#39;Наличие_Отца&#39;, &#39;Опекунство&#39;, &#39;Село&#39;, &#39;Иностранец&#39;, &#39;КодФакультета&#39;, &#39;СрБаллАттестата&#39;, &#39;male&#39;, &#39;female&#39;, &#39;sex_summ&#39;, &#39;birth_year_int&#39;, &#39;basis&#39;, &#39;language&#39;, &#39;country&#39;, &#39;region&#39;, &#39;city&#39;, &#39;parents_country&#39;)\n(&#39;Год_Поступления&#39;, &#39;Год_Окончания_УЗ&#39;, &#39;Общежитие&#39;, &#39;Наличие_Матери&#39;, &#39;Наличие_Отца&#39;, &#39;Опекунство&#39;, &#39;Село&#39;, &#39;Иностранец&#39;, &#39;КодФакультета&#39;, &#39;СрБаллАттестата&#39;, &#39;male&#39;, &#39;female&#39;, &#39;sex_summ&#39;, &#39;birth_year_int&#39;, &#39;basis&#39;, &#39;language&#39;, &#39;country&#39;, &#39;region&#39;, &#39;city&#39;, &#39;parents_country&#39;)\n(&#39;Год_Поступления&#39;, &#39;Пособие&#39;, &#39;Общежитие&#39;, &#39;Наличие_Матери&#39;, &#39;Наличие_Отца&#39;, &#39;Опекунство&#39;, &#39;Село&#39;, &#39;Иностранец&#39;, &#39;КодФакультета&#39;, &#39;СрБаллАттестата&#39;, &#39;male&#39;, &#39;female&#39;, &#39;sex_summ&#39;, &#39;birth_year_int&#39;, &#39;basis&#39;, &#39;language&#39;, &#39;country&#39;, &#39;region&#39;, &#39;city&#39;, &#39;parents_country&#39;)\n(&#39;Год_Окончания_УЗ&#39;, &#39;Пособие&#39;, &#39;Общежитие&#39;, &#39;Наличие_Матери&#39;, &#39;Наличие_Отца&#39;, &#39;Опекунство&#39;, &#39;Село&#39;, &#39;Иностранец&#39;, &#39;КодФакультета&#39;, &#39;СрБаллАттестата&#39;, &#39;male&#39;, &#39;female&#39;, &#39;sex_summ&#39;, &#39;birth_year_int&#39;, &#39;basis&#39;, &#39;language&#39;, &#39;country&#39;, &#39;region&#39;, &#39;city&#39;, &#39;parents_country&#39;)\n(&#39;Код_группы&#39;, &#39;Год_Поступления&#39;, &#39;Год_Окончания_УЗ&#39;, &#39;Пособие&#39;, &#39;Общежитие&#39;, &#39;Наличие_Матери&#39;, &#39;Наличие_Отца&#39;, &#39;Опекунство&#39;, &#39;Село&#39;, &#39;Иностранец&#39;, &#39;КодФакультета&#39;, &#39;СрБаллАттестата&#39;, &#39;male&#39;, &#39;female&#39;, &#39;sex_summ&#39;, &#39;birth_year_int&#39;, &#39;basis&#39;, &#39;language&#39;, &#39;country&#39;, &#39;region&#39;, &#39;city&#39;)\n(&#39;Код_группы&#39;, &#39;Год_Поступления&#39;, &#39;Год_Окончания_УЗ&#39;, &#39;Пособие&#39;, &#39;Общежитие&#39;, &#39;Наличие_Матери&#39;, &#39;Наличие_Отца&#39;, &#39;Опекунство&#39;, &#39;Село&#39;, &#39;Иностранец&#39;, &#39;КодФакультета&#39;, &#39;СрБаллАттестата&#39;, &#39;male&#39;, &#39;female&#39;, &#39;sex_summ&#39;, &#39;birth_year_int&#39;, &#39;basis&#39;, &#39;language&#39;, &#39;country&#39;, &#39;region&#39;, &#39;parents_country&#39;)\n(&#39;Код_группы&#39;, &#39;Год_Поступления&#39;, &#39;Год_Окончания_УЗ&#39;, &#39;Пособие&#39;, &#39;Общежитие&#39;, &#39;Наличие_Матери&#39;, &#39;Наличие_Отца&#39;, &#39;Опекунство&#39;, &#39;Село&#39;, &#39;Иностранец&#39;, &#39;КодФакультета&#39;, &#39;СрБаллАттестата&#39;, &#39;male&#39;, &#39;female&#39;, &#39;sex_summ&#39;, &#39;birth_year_int&#39;, &#39;basis&#39;, &#39;language&#39;, &#39;country&#39;, &#39;city&#39;, &#39;parents_country&#39;)\n(&#39;Код_группы&#39;, &#39;Год_Поступления&#39;, &#39;Год_Окончания_УЗ&#39;, &#39;Пособие&#39;, &#39;Общежитие&#39;, &#39;Наличие_Матери&#39;, &#39;Наличие_Отца&#39;, &#39;Опекунство&#39;, &#39;Село&#39;, &#39;Иностранец&#39;, &#39;КодФакультета&#39;, &#39;СрБаллАттестата&#39;, &#39;male&#39;, &#39;female&#39;, &#39;sex_summ&#39;, &#39;birth_year_int&#39;, &#39;basis&#39;, &#39;language&#39;, &#39;region&#39;, &#39;city&#39;, &#39;parents_country&#39;)\n(&#39;Код_группы&#39;, &#39;Год_Поступления&#39;, &#39;Год_Окончания_УЗ&#39;, &#39;Пособие&#39;, &#39;Общежитие&#39;, &#39;Наличие_Матери&#39;, &#39;Наличие_Отца&#39;, &#39;Опекунство&#39;, &#39;Село&#39;, &#39;Иностранец&#39;, &#39;КодФакультета&#39;, &#39;СрБаллАттестата&#39;, &#39;male&#39;, &#39;female&#39;, &#39;sex_summ&#39;, &#39;birth_year_int&#39;, &#39;basis&#39;, &#39;country&#39;, &#39;region&#39;, &#39;city&#39;, &#39;parents_country&#39;)\n(&#39;Код_группы&#39;, &#39;Год_Поступления&#39;, &#39;Год_Окончания_УЗ&#39;, &#39;Пособие&#39;, &#39;Общежитие&#39;, &#39;Наличие_Матери&#39;, &#39;Наличие_Отца&#39;, &#39;Опекунство&#39;, &#39;Село&#39;, &#39;Иностранец&#39;, &#39;КодФакультета&#39;, &#39;СрБаллАттестата&#39;, &#39;male&#39;, &#39;female&#39;, &#39;sex_summ&#39;, &#39;birth_year_int&#39;, &#39;language&#39;, &#39;country&#39;, &#39;region&#39;, &#39;city&#39;, &#39;parents_country&#39;)\n(&#39;Код_группы&#39;, &#39;Год_Поступления&#39;, &#39;Год_Окончания_УЗ&#39;, &#39;Пособие&#39;, &#39;Общежитие&#39;, &#39;Наличие_Матери&#39;, &#39;Наличие_Отца&#39;, &#39;Опекунство&#39;, &#39;Село&#39;, &#39;Иностранец&#39;, &#39;КодФакультета&#39;, &#39;СрБаллАттестата&#39;, &#39;male&#39;, &#39;female&#39;, &#39;sex_summ&#39;, &#39;basis&#39;, &#39;language&#39;, &#39;country&#39;, &#39;region&#39;, &#39;city&#39;, &#39;parents_country&#39;)\n(&#39;Код_группы&#39;, &#39;Год_Поступления&#39;, &#39;Год_Окончания_УЗ&#39;, &#39;Пособие&#39;, &#39;Общежитие&#39;, &#39;Наличие_Матери&#39;, &#39;Наличие_Отца&#39;, &#39;Опекунство&#39;, &#39;Село&#39;, &#39;Иностранец&#39;, &#39;КодФакультета&#39;, &#39;СрБаллАттестата&#39;, &#39;male&#39;, &#39;female&#39;, &#39;birth_year_int&#39;, &#39;basis&#39;, &#39;language&#39;, &#39;country&#39;, &#39;region&#39;, &#39;city&#39;, &#39;parents_country&#39;)\n(&#39;Код_группы&#39;, &#39;Год_Поступления&#39;, &#39;Год_Окончания_УЗ&#39;, &#39;Пособие&#39;, &#39;Общежитие&#39;, &#39;Наличие_Матери&#39;, &#39;Наличие_Отца&#39;, &#39;Опекунство&#39;, &#39;Село&#39;, &#39;Иностранец&#39;, &#39;КодФакультета&#39;, &#39;СрБаллАттестата&#39;, &#39;male&#39;, &#39;sex_summ&#39;, &#39;birth_year_int&#39;, &#39;basis&#39;, &#39;language&#39;, &#39;country&#39;, &#39;region&#39;, &#39;city&#39;, &#39;parents_country&#39;)\n(&#39;Код_группы&#39;, &#39;Год_Поступления&#39;, &#39;Год_Окончания_УЗ&#39;, &#39;Пособие&#39;, &#39;Общежитие&#39;, &#39;Наличие_Матери&#39;, &#39;Наличие_Отца&#39;, &#39;Опекунство&#39;, &#39;Село&#39;, &#39;Иностранец&#39;, &#39;КодФакультета&#39;, &#39;СрБаллАттестата&#39;, &#39;female&#39;, &#39;sex_summ&#39;, &#39;birth_year_int&#39;, &#39;basis&#39;, &#39;language&#39;, &#39;country&#39;, &#39;region&#39;, &#39;city&#39;, &#39;parents_country&#39;)\n(&#39;Код_группы&#39;, &#39;Год_Поступления&#39;, &#39;Год_Окончания_УЗ&#39;, &#39;Пособие&#39;, &#39;Общежитие&#39;, &#39;Наличие_Матери&#39;, &#39;Наличие_Отца&#39;, &#39;Опекунство&#39;, &#39;Село&#39;, &#39;Иностранец&#39;, &#39;КодФакультета&#39;, &#39;male&#39;, &#39;female&#39;, &#39;sex_summ&#39;, &#39;birth_year_int&#39;, &#39;basis&#39;, &#39;language&#39;, &#39;country&#39;, &#39;region&#39;, &#39;city&#39;, &#39;parents_country&#39;)\n(&#39;Код_группы&#39;, &#39;Год_Поступления&#39;, &#39;Год_Окончания_УЗ&#39;, &#39;Пособие&#39;, &#39;Общежитие&#39;, &#39;Наличие_Матери&#39;, &#39;Наличие_Отца&#39;, &#39;Опекунство&#39;, &#39;Село&#39;, &#39;Иностранец&#39;, &#39;СрБаллАттестата&#39;, &#39;male&#39;, &#39;female&#39;, &#39;sex_summ&#39;, &#39;birth_year_int&#39;, &#39;basis&#39;, &#39;language&#39;, &#39;country&#39;, &#39;region&#39;, &#39;city&#39;, &#39;parents_country&#39;)\n(&#39;Код_группы&#39;, &#39;Год_Поступления&#39;, &#39;Год_Окончания_УЗ&#39;, &#39;Пособие&#39;, &#39;Общежитие&#39;, &#39;Наличие_Матери&#39;, &#39;Наличие_Отца&#39;, &#39;Опекунство&#39;, &#39;Село&#39;, &#39;КодФакультета&#39;, &#39;СрБаллАттестата&#39;, &#39;male&#39;, &#39;female&#39;, &#39;sex_summ&#39;, &#39;birth_year_int&#39;, &#39;basis&#39;, &#39;language&#39;, &#39;country&#39;, &#39;region&#39;, &#39;city&#39;, &#39;parents_country&#39;)\n(&#39;Код_группы&#39;, &#39;Год_Поступления&#39;, &#39;Год_Окончания_УЗ&#39;, &#39;Пособие&#39;, &#39;Общежитие&#39;, &#39;Наличие_Матери&#39;, &#39;Наличие_Отца&#39;, &#39;Опекунство&#39;, &#39;Иностранец&#39;, &#39;КодФакультета&#39;, &#39;СрБаллАттестата&#39;, &#39;male&#39;, &#39;female&#39;, &#39;sex_summ&#39;, &#39;birth_year_int&#39;, &#39;basis&#39;, &#39;language&#39;, &#39;country&#39;, &#39;region&#39;, &#39;city&#39;, &#39;parents_country&#39;)\n(&#39;Код_группы&#39;, &#39;Год_Поступления&#39;, &#39;Год_Окончания_УЗ&#39;, &#39;Пособие&#39;, &#39;Общежитие&#39;, &#39;Наличие_Матери&#39;, &#39;Наличие_Отца&#39;, &#39;Село&#39;, &#39;Иностранец&#39;, &#39;КодФакультета&#39;, &#39;СрБаллАттестата&#39;, &#39;male&#39;, &#39;female&#39;, &#39;sex_summ&#39;, &#39;birth_year_int&#39;, &#39;basis&#39;, &#39;language&#39;, &#39;country&#39;, &#39;region&#39;, &#39;city&#39;, &#39;parents_country&#39;)\n(&#39;Код_группы&#39;, &#39;Год_Поступления&#39;, &#39;Год_Окончания_УЗ&#39;, &#39;Пособие&#39;, &#39;Общежитие&#39;, &#39;Наличие_Матери&#39;, &#39;Опекунство&#39;, &#39;Село&#39;, &#39;Иностранец&#39;, &#39;КодФакультета&#39;, &#39;СрБаллАттестата&#39;, &#39;male&#39;, &#39;female&#39;, &#39;sex_summ&#39;, &#39;birth_year_int&#39;, &#39;basis&#39;, &#39;language&#39;, &#39;country&#39;, &#39;region&#39;, &#39;city&#39;, &#39;parents_country&#39;)\n(&#39;Код_группы&#39;, &#39;Год_Поступления&#39;, &#39;Год_Окончания_УЗ&#39;, &#39;Пособие&#39;, &#39;Общежитие&#39;, &#39;Наличие_Отца&#39;, &#39;Опекунство&#39;, &#39;Село&#39;, &#39;Иностранец&#39;, &#39;КодФакультета&#39;, &#39;СрБаллАттестата&#39;, &#39;male&#39;, &#39;female&#39;, &#39;sex_summ&#39;, &#39;birth_year_int&#39;, &#39;basis&#39;, &#39;language&#39;, &#39;country&#39;, &#39;region&#39;, &#39;city&#39;, &#39;parents_country&#39;)\n(&#39;Код_группы&#39;, &#39;Год_Поступления&#39;, &#39;Год_Окончания_УЗ&#39;, &#39;Пособие&#39;, &#39;Наличие_Матери&#39;, &#39;Наличие_Отца&#39;, &#39;Опекунство&#39;, &#39;Село&#39;, &#39;Иностранец&#39;, &#39;КодФакультета&#39;, &#39;СрБаллАттестата&#39;, &#39;male&#39;, &#39;female&#39;, &#39;sex_summ&#39;, &#39;birth_year_int&#39;, &#39;basis&#39;, &#39;language&#39;, &#39;country&#39;, &#39;region&#39;, &#39;city&#39;, &#39;parents_country&#39;)\n(&#39;Код_группы&#39;, &#39;Год_Поступления&#39;, &#39;Год_Окончания_УЗ&#39;, &#39;Общежитие&#39;, &#39;Наличие_Матери&#39;, &#39;Наличие_Отца&#39;, &#39;Опекунство&#39;, &#39;Село&#39;, &#39;Иностранец&#39;, &#39;КодФакультета&#39;, &#39;СрБаллАттестата&#39;, &#39;male&#39;, &#39;female&#39;, &#39;sex_summ&#39;, &#39;birth_year_int&#39;, &#39;basis&#39;, &#39;language&#39;, &#39;country&#39;, &#39;region&#39;, &#39;city&#39;, &#39;parents_country&#39;)\n(&#39;Код_группы&#39;, &#39;Год_Поступления&#39;, &#39;Пособие&#39;, &#39;Общежитие&#39;, &#39;Наличие_Матери&#39;, &#39;Наличие_Отца&#39;, &#39;Опекунство&#39;, &#39;Село&#39;, &#39;Иностранец&#39;, &#39;КодФакультета&#39;, &#39;СрБаллАттестата&#39;, &#39;male&#39;, &#39;female&#39;, &#39;sex_summ&#39;, &#39;birth_year_int&#39;, &#39;basis&#39;, &#39;language&#39;, &#39;country&#39;, &#39;region&#39;, &#39;city&#39;, &#39;parents_country&#39;)\n(&#39;Код_группы&#39;, &#39;Год_Окончания_УЗ&#39;, &#39;Пособие&#39;, &#39;Общежитие&#39;, &#39;Наличие_Матери&#39;, &#39;Наличие_Отца&#39;, &#39;Опекунство&#39;, &#39;Село&#39;, &#39;Иностранец&#39;, &#39;КодФакультета&#39;, &#39;СрБаллАттестата&#39;, &#39;male&#39;, &#39;female&#39;, &#39;sex_summ&#39;, &#39;birth_year_int&#39;, &#39;basis&#39;, &#39;language&#39;, &#39;country&#39;, &#39;region&#39;, &#39;city&#39;, &#39;parents_country&#39;)\n(&#39;Год_Поступления&#39;, &#39;Год_Окончания_УЗ&#39;, &#39;Пособие&#39;, &#39;Общежитие&#39;, &#39;Наличие_Матери&#39;, &#39;Наличие_Отца&#39;, &#39;Опекунство&#39;, &#39;Село&#39;, &#39;Иностранец&#39;, &#39;КодФакультета&#39;, &#39;СрБаллАттестата&#39;, &#39;male&#39;, &#39;female&#39;, &#39;sex_summ&#39;, &#39;birth_year_int&#39;, &#39;basis&#39;, &#39;language&#39;, &#39;country&#39;, &#39;region&#39;, &#39;city&#39;, &#39;parents_country&#39;)\n(&#39;Код_группы&#39;, &#39;Год_Поступления&#39;, &#39;Год_Окончания_УЗ&#39;, &#39;Пособие&#39;, &#39;Общежитие&#39;, &#39;Наличие_Матери&#39;, &#39;Наличие_Отца&#39;, &#39;Опекунство&#39;, &#39;Село&#39;, &#39;Иностранец&#39;, &#39;КодФакультета&#39;, &#39;СрБаллАттестата&#39;, &#39;male&#39;, &#39;female&#39;, &#39;sex_summ&#39;, &#39;birth_year_int&#39;, &#39;basis&#39;, &#39;language&#39;, &#39;country&#39;, &#39;region&#39;, &#39;city&#39;, &#39;parents_country&#39;)\n"
    }
   ],
   "source": [
    "for columns in all_combinations:\n",
    "    print(columns)\n"
   ]
  },
  {
   "cell_type": "code",
   "execution_count": null,
   "metadata": {},
   "outputs": [],
   "source": []
  }
 ],
 "metadata": {
  "kernelspec": {
   "name": "Python 3.8.5 32-bit ('env')",
   "display_name": "Python 3.8.5 32-bit ('env')",
   "metadata": {
    "interpreter": {
     "hash": "8886abb10cce8c3f6558295c47ca7bc0e50621cd0179a6645cc0c7c145b2909f"
    }
   }
  },
  "language_info": {
   "codemirror_mode": {
    "name": "ipython",
    "version": 3
   },
   "file_extension": ".py",
   "mimetype": "text/x-python",
   "name": "python",
   "nbconvert_exporter": "python",
   "pygments_lexer": "ipython3",
   "version": "3.8.5-final"
  },
  "orig_nbformat": 4,
  "vscode": {
   "interpreter": {
    "hash": "51c73a6595d20bbc39952c03157596619c73f94de3e8d7812583abf83cf493bf"
   }
  }
 },
 "nbformat": 4,
 "nbformat_minor": 2
}
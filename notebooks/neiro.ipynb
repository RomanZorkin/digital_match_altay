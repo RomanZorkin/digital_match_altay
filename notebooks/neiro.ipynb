{
 "cells": [
  {
   "cell_type": "code",
   "execution_count": 1,
   "metadata": {},
   "outputs": [],
   "source": [
    "from itertools import combinations\n",
    "\n",
    "import matplotlib.pyplot as plt\n",
    "import numpy as np\n",
    "import pandas as pd\n",
    "from sklearn import ensemble \n",
    "from sklearn.ensemble import RandomForestClassifier, ExtraTreesClassifier\n",
    "from sklearn.metrics import classification_report, f1_score\n",
    "from sklearn.model_selection import train_test_split\n",
    "from sklearn.preprocessing import MinMaxScaler\n"
   ]
  },
  {
   "cell_type": "markdown",
   "metadata": {},
   "source": [
    "# Подготовка датасета для загрузки в сеть"
   ]
  },
  {
   "cell_type": "code",
   "execution_count": 2,
   "metadata": {},
   "outputs": [
    {
     "output_type": "execute_result",
     "data": {
      "text/plain": "Index([&#39;ID&#39;, &#39;Код_группы&#39;, &#39;Год_Поступления&#39;, &#39;Год_Окончания_УЗ&#39;, &#39;Пособие&#39;,\n       &#39;Общежитие&#39;, &#39;Наличие_Матери&#39;, &#39;Наличие_Отца&#39;, &#39;Опекунство&#39;, &#39;Село&#39;,\n       &#39;Иностранец&#39;, &#39;КодФакультета&#39;, &#39;СрБаллАттестата&#39;, &#39;Статус&#39;, &#39;one&#39;,\n       &#39;three&#39;, &#39;four&#39;, &#39;male&#39;, &#39;female&#39;, &#39;sex_summ&#39;, &#39;birth_year_int&#39;,\n       &#39;basis&#39;, &#39;language&#39;, &#39;country&#39;, &#39;region&#39;, &#39;city&#39;, &#39;parents_country&#39;],\n      dtype=&#39;object&#39;)"
     },
     "metadata": {},
     "execution_count": 2
    }
   ],
   "source": [
    "base_df = pd.read_csv('data/clean_frame.csv', index_col='ind')\n",
    "base_df.columns"
   ]
  },
  {
   "cell_type": "markdown",
   "metadata": {},
   "source": [
    "### Проверка и удаление отрицательных значений"
   ]
  },
  {
   "cell_type": "code",
   "execution_count": 3,
   "metadata": {},
   "outputs": [
    {
     "output_type": "execute_result",
     "data": {
      "text/plain": "False"
     },
     "metadata": {},
     "execution_count": 3
    }
   ],
   "source": [
    "base_df.isna().any().all()"
   ]
  },
  {
   "cell_type": "code",
   "execution_count": 4,
   "metadata": {},
   "outputs": [],
   "source": [
    "base_df = base_df.fillna(0)"
   ]
  },
  {
   "cell_type": "code",
   "execution_count": 5,
   "metadata": {},
   "outputs": [],
   "source": [
    "columns = ['Код_группы','Пособие','Наличие_Матери','КодФакультета','basis','country','Статус','birth_year_int']"
   ]
  },
  {
   "cell_type": "code",
   "execution_count": 6,
   "metadata": {},
   "outputs": [
    {
     "output_type": "execute_result",
     "data": {
      "text/plain": "     Код_группы  Пособие  Наличие_Матери  КодФакультета  basis  country  \\\nind                                                                       \n0         16019      0.0               0           41.0      2        8   \n1         14895      0.0               1           28.0      4        8   \n\n     Статус  birth_year_int  \nind                          \n0         3            1998  \n1         4            1992  ",
      "text/html": "<div>\n<style scoped>\n    .dataframe tbody tr th:only-of-type {\n        vertical-align: middle;\n    }\n\n    .dataframe tbody tr th {\n        vertical-align: top;\n    }\n\n    .dataframe thead th {\n        text-align: right;\n    }\n</style>\n<table border=\"1\" class=\"dataframe\">\n  <thead>\n    <tr style=\"text-align: right;\">\n      <th></th>\n      <th>Код_группы</th>\n      <th>Пособие</th>\n      <th>Наличие_Матери</th>\n      <th>КодФакультета</th>\n      <th>basis</th>\n      <th>country</th>\n      <th>Статус</th>\n      <th>birth_year_int</th>\n    </tr>\n    <tr>\n      <th>ind</th>\n      <th></th>\n      <th></th>\n      <th></th>\n      <th></th>\n      <th></th>\n      <th></th>\n      <th></th>\n      <th></th>\n    </tr>\n  </thead>\n  <tbody>\n    <tr>\n      <th>0</th>\n      <td>16019</td>\n      <td>0.0</td>\n      <td>0</td>\n      <td>41.0</td>\n      <td>2</td>\n      <td>8</td>\n      <td>3</td>\n      <td>1998</td>\n    </tr>\n    <tr>\n      <th>1</th>\n      <td>14895</td>\n      <td>0.0</td>\n      <td>1</td>\n      <td>28.0</td>\n      <td>4</td>\n      <td>8</td>\n      <td>4</td>\n      <td>1992</td>\n    </tr>\n  </tbody>\n</table>\n</div>"
     },
     "metadata": {},
     "execution_count": 6
    }
   ],
   "source": [
    "frame_to_train = base_df.loc[:, columns]\n",
    "frame_to_train.head(2)"
   ]
  },
  {
   "cell_type": "markdown",
   "metadata": {},
   "source": [
    "## Создание тренировочного и тестового датафремов"
   ]
  },
  {
   "cell_type": "code",
   "execution_count": 7,
   "metadata": {},
   "outputs": [],
   "source": [
    "train, test = train_test_split(frame_to_train, test_size=0.20)\n",
    "\n",
    "train_input = train.drop(['Статус'], axis=1)\n",
    "train_output = train['Статус']\n",
    "\n",
    "test_input = test.drop(['Статус'], axis=1)\n",
    "test_output = test['Статус']"
   ]
  },
  {
   "cell_type": "markdown",
   "metadata": {},
   "source": [
    "# SKlearn модель обучения"
   ]
  },
  {
   "source": [
    "### Тренировка модели без академического отпуска"
   ],
   "cell_type": "markdown",
   "metadata": {}
  },
  {
   "cell_type": "code",
   "execution_count": 8,
   "metadata": {},
   "outputs": [
    {
     "output_type": "execute_result",
     "data": {
      "text/plain": "GradientBoostingClassifier(learning_rate=0.5, max_depth=20, n_estimators=200,\n                           random_state=0)",
      "text/html": "<style>#sk-container-id-1 {color: black;background-color: white;}#sk-container-id-1 pre{padding: 0;}#sk-container-id-1 div.sk-toggleable {background-color: white;}#sk-container-id-1 label.sk-toggleable__label {cursor: pointer;display: block;width: 100%;margin-bottom: 0;padding: 0.3em;box-sizing: border-box;text-align: center;}#sk-container-id-1 label.sk-toggleable__label-arrow:before {content: \"▸\";float: left;margin-right: 0.25em;color: #696969;}#sk-container-id-1 label.sk-toggleable__label-arrow:hover:before {color: black;}#sk-container-id-1 div.sk-estimator:hover label.sk-toggleable__label-arrow:before {color: black;}#sk-container-id-1 div.sk-toggleable__content {max-height: 0;max-width: 0;overflow: hidden;text-align: left;background-color: #f0f8ff;}#sk-container-id-1 div.sk-toggleable__content pre {margin: 0.2em;color: black;border-radius: 0.25em;background-color: #f0f8ff;}#sk-container-id-1 input.sk-toggleable__control:checked~div.sk-toggleable__content {max-height: 200px;max-width: 100%;overflow: auto;}#sk-container-id-1 input.sk-toggleable__control:checked~label.sk-toggleable__label-arrow:before {content: \"▾\";}#sk-container-id-1 div.sk-estimator input.sk-toggleable__control:checked~label.sk-toggleable__label {background-color: #d4ebff;}#sk-container-id-1 div.sk-label input.sk-toggleable__control:checked~label.sk-toggleable__label {background-color: #d4ebff;}#sk-container-id-1 input.sk-hidden--visually {border: 0;clip: rect(1px 1px 1px 1px);clip: rect(1px, 1px, 1px, 1px);height: 1px;margin: -1px;overflow: hidden;padding: 0;position: absolute;width: 1px;}#sk-container-id-1 div.sk-estimator {font-family: monospace;background-color: #f0f8ff;border: 1px dotted black;border-radius: 0.25em;box-sizing: border-box;margin-bottom: 0.5em;}#sk-container-id-1 div.sk-estimator:hover {background-color: #d4ebff;}#sk-container-id-1 div.sk-parallel-item::after {content: \"\";width: 100%;border-bottom: 1px solid gray;flex-grow: 1;}#sk-container-id-1 div.sk-label:hover label.sk-toggleable__label {background-color: #d4ebff;}#sk-container-id-1 div.sk-serial::before {content: \"\";position: absolute;border-left: 1px solid gray;box-sizing: border-box;top: 0;bottom: 0;left: 50%;z-index: 0;}#sk-container-id-1 div.sk-serial {display: flex;flex-direction: column;align-items: center;background-color: white;padding-right: 0.2em;padding-left: 0.2em;position: relative;}#sk-container-id-1 div.sk-item {position: relative;z-index: 1;}#sk-container-id-1 div.sk-parallel {display: flex;align-items: stretch;justify-content: center;background-color: white;position: relative;}#sk-container-id-1 div.sk-item::before, #sk-container-id-1 div.sk-parallel-item::before {content: \"\";position: absolute;border-left: 1px solid gray;box-sizing: border-box;top: 0;bottom: 0;left: 50%;z-index: -1;}#sk-container-id-1 div.sk-parallel-item {display: flex;flex-direction: column;z-index: 1;position: relative;background-color: white;}#sk-container-id-1 div.sk-parallel-item:first-child::after {align-self: flex-end;width: 50%;}#sk-container-id-1 div.sk-parallel-item:last-child::after {align-self: flex-start;width: 50%;}#sk-container-id-1 div.sk-parallel-item:only-child::after {width: 0;}#sk-container-id-1 div.sk-dashed-wrapped {border: 1px dashed gray;margin: 0 0.4em 0.5em 0.4em;box-sizing: border-box;padding-bottom: 0.4em;background-color: white;}#sk-container-id-1 div.sk-label label {font-family: monospace;font-weight: bold;display: inline-block;line-height: 1.2em;}#sk-container-id-1 div.sk-label-container {text-align: center;}#sk-container-id-1 div.sk-container {/* jupyter's `normalize.less` sets `[hidden] { display: none; }` but bootstrap.min.css set `[hidden] { display: none !important; }` so we also need the `!important` here to be able to override the default hidden behavior on the sphinx rendered scikit-learn.org. See: https://github.com/scikit-learn/scikit-learn/issues/21755 */display: inline-block !important;position: relative;}#sk-container-id-1 div.sk-text-repr-fallback {display: none;}</style><div id=\"sk-container-id-1\" class=\"sk-top-container\"><div class=\"sk-text-repr-fallback\"><pre>GradientBoostingClassifier(learning_rate=0.5, max_depth=20, n_estimators=200,\n                           random_state=0)</pre><b>In a Jupyter environment, please rerun this cell to show the HTML representation or trust the notebook. <br />On GitHub, the HTML representation is unable to render, please try loading this page with nbviewer.org.</b></div><div class=\"sk-container\" hidden><div class=\"sk-item\"><div class=\"sk-estimator sk-toggleable\"><input class=\"sk-toggleable__control sk-hidden--visually\" id=\"sk-estimator-id-1\" type=\"checkbox\" checked><label for=\"sk-estimator-id-1\" class=\"sk-toggleable__label sk-toggleable__label-arrow\">GradientBoostingClassifier</label><div class=\"sk-toggleable__content\"><pre>GradientBoostingClassifier(learning_rate=0.5, max_depth=20, n_estimators=200,\n                           random_state=0)</pre></div></div></div></div></div>"
     },
     "metadata": {},
     "execution_count": 8
    }
   ],
   "source": [
    "#clf = RandomForestClassifier(random_state=0)\n",
    "#clf = ensemble.BaggingClassifier(random_state=0)\n",
    "clf = ensemble.GradientBoostingClassifier(n_estimators=200, learning_rate=0.5, max_depth=20, random_state=0)\n",
    "clf.fit(train_input, train_output)\n"
   ]
  },
  {
   "cell_type": "markdown",
   "metadata": {},
   "source": [
    "## Оценка качества модели"
   ]
  },
  {
   "cell_type": "code",
   "execution_count": 9,
   "metadata": {
    "tags": []
   },
   "outputs": [
    {
     "output_type": "stream",
     "name": "stdout",
     "text": "              precision    recall  f1-score   support\n\n          -1       0.55      0.49      0.52       118\n           3       0.86      0.81      0.84       941\n           4       0.91      0.95      0.93      1658\n\n    accuracy                           0.88      2717\n   macro avg       0.78      0.75      0.76      2717\nweighted avg       0.88      0.88      0.88      2717\n\n"
    },
    {
     "output_type": "execute_result",
     "data": {
      "text/plain": "0.7621395799918623"
     },
     "metadata": {},
     "execution_count": 9
    }
   ],
   "source": [
    "pred = clf.predict(test_input)\n",
    "report = classification_report(test_output, pred)\n",
    "print(report)\n",
    "accure = f1_score(test_output, pred, average='macro', zero_division = 0)\n",
    "accure"
   ]
  },
  {
   "cell_type": "code",
   "execution_count": 10,
   "metadata": {},
   "outputs": [
    {
     "output_type": "execute_result",
     "data": {
      "text/plain": "&#39;GradientBoostingClassifier&#39;"
     },
     "metadata": {},
     "execution_count": 10
    }
   ],
   "source": [
    "clf.__str__().split('(')[0]"
   ]
  },
  {
   "source": [
    "## Формирование файла для загрузки на сайт"
   ],
   "cell_type": "markdown",
   "metadata": {}
  },
  {
   "cell_type": "code",
   "execution_count": 11,
   "metadata": {},
   "outputs": [],
   "source": [
    "df_test_base = pd.read_csv(\"data/test_frame.csv\")\n",
    "df_submission = pd.read_csv(\"data/sample_submission.csv\")"
   ]
  },
  {
   "cell_type": "code",
   "execution_count": 12,
   "metadata": {},
   "outputs": [
    {
     "output_type": "execute_result",
     "data": {
      "text/plain": "      Код_группы  Пособие  Наличие_Матери  КодФакультета  basis  country  \\\n0          20608      0.0               0           40.0      1        8   \n1          20613      0.0               0           26.0      1        8   \n2          21210      0.0               1           34.0      2        8   \n3          22254      0.0               0           53.0      2        8   \n4          15040      0.0               1           36.0      2        8   \n...          ...      ...             ...            ...    ...      ...   \n6630       20680      0.0               1           34.0      0        6   \n6631       16921      0.0               1           36.0      2        8   \n6632       19400      0.0               0           26.0      3        8   \n6633       18152      0.0               0           27.0      2        8   \n6634       17312      0.0               0           51.0      2        8   \n\n      birth_year_int  \n0               1995  \n1               1995  \n2               1973  \n3               1983  \n4               1994  \n...              ...  \n6630            1992  \n6631            1995  \n6632            1996  \n6633            1996  \n6634            1992  \n\n[6635 rows x 7 columns]",
      "text/html": "<div>\n<style scoped>\n    .dataframe tbody tr th:only-of-type {\n        vertical-align: middle;\n    }\n\n    .dataframe tbody tr th {\n        vertical-align: top;\n    }\n\n    .dataframe thead th {\n        text-align: right;\n    }\n</style>\n<table border=\"1\" class=\"dataframe\">\n  <thead>\n    <tr style=\"text-align: right;\">\n      <th></th>\n      <th>Код_группы</th>\n      <th>Пособие</th>\n      <th>Наличие_Матери</th>\n      <th>КодФакультета</th>\n      <th>basis</th>\n      <th>country</th>\n      <th>birth_year_int</th>\n    </tr>\n  </thead>\n  <tbody>\n    <tr>\n      <th>0</th>\n      <td>20608</td>\n      <td>0.0</td>\n      <td>0</td>\n      <td>40.0</td>\n      <td>1</td>\n      <td>8</td>\n      <td>1995</td>\n    </tr>\n    <tr>\n      <th>1</th>\n      <td>20613</td>\n      <td>0.0</td>\n      <td>0</td>\n      <td>26.0</td>\n      <td>1</td>\n      <td>8</td>\n      <td>1995</td>\n    </tr>\n    <tr>\n      <th>2</th>\n      <td>21210</td>\n      <td>0.0</td>\n      <td>1</td>\n      <td>34.0</td>\n      <td>2</td>\n      <td>8</td>\n      <td>1973</td>\n    </tr>\n    <tr>\n      <th>3</th>\n      <td>22254</td>\n      <td>0.0</td>\n      <td>0</td>\n      <td>53.0</td>\n      <td>2</td>\n      <td>8</td>\n      <td>1983</td>\n    </tr>\n    <tr>\n      <th>4</th>\n      <td>15040</td>\n      <td>0.0</td>\n      <td>1</td>\n      <td>36.0</td>\n      <td>2</td>\n      <td>8</td>\n      <td>1994</td>\n    </tr>\n    <tr>\n      <th>...</th>\n      <td>...</td>\n      <td>...</td>\n      <td>...</td>\n      <td>...</td>\n      <td>...</td>\n      <td>...</td>\n      <td>...</td>\n    </tr>\n    <tr>\n      <th>6630</th>\n      <td>20680</td>\n      <td>0.0</td>\n      <td>1</td>\n      <td>34.0</td>\n      <td>0</td>\n      <td>6</td>\n      <td>1992</td>\n    </tr>\n    <tr>\n      <th>6631</th>\n      <td>16921</td>\n      <td>0.0</td>\n      <td>1</td>\n      <td>36.0</td>\n      <td>2</td>\n      <td>8</td>\n      <td>1995</td>\n    </tr>\n    <tr>\n      <th>6632</th>\n      <td>19400</td>\n      <td>0.0</td>\n      <td>0</td>\n      <td>26.0</td>\n      <td>3</td>\n      <td>8</td>\n      <td>1996</td>\n    </tr>\n    <tr>\n      <th>6633</th>\n      <td>18152</td>\n      <td>0.0</td>\n      <td>0</td>\n      <td>27.0</td>\n      <td>2</td>\n      <td>8</td>\n      <td>1996</td>\n    </tr>\n    <tr>\n      <th>6634</th>\n      <td>17312</td>\n      <td>0.0</td>\n      <td>0</td>\n      <td>51.0</td>\n      <td>2</td>\n      <td>8</td>\n      <td>1992</td>\n    </tr>\n  </tbody>\n</table>\n<p>6635 rows × 7 columns</p>\n</div>"
     },
     "metadata": {},
     "execution_count": 12
    }
   ],
   "source": [
    "df_test = df_test_base.loc[:, columns]\n",
    "df_test = df_test.drop(['Статус',], axis=1)\n",
    "df_test"
   ]
  },
  {
   "cell_type": "code",
   "execution_count": 13,
   "metadata": {},
   "outputs": [
    {
     "output_type": "execute_result",
     "data": {
      "text/plain": "(6635, 7)"
     },
     "metadata": {},
     "execution_count": 13
    }
   ],
   "source": [
    "df_test = df_test.fillna(0)\n",
    "df_test.shape"
   ]
  },
  {
   "cell_type": "code",
   "execution_count": 14,
   "metadata": {
    "tags": []
   },
   "outputs": [],
   "source": [
    "df_test_pred = clf.predict(df_test)"
   ]
  },
  {
   "cell_type": "code",
   "execution_count": 15,
   "metadata": {},
   "outputs": [
    {
     "output_type": "execute_result",
     "data": {
      "text/plain": "   ind     ID  Код_группы  Год_Поступления  Год_Окончания_УЗ  Пособие  \\\n0    0  64996       20608             2014            2014.0      0.0   \n1    1  71837       20613             2015            2014.0      0.0   \n2    2  86587       21210             2018            1997.0      0.0   \n3    3  73673       22254             2015            2006.0      0.0   \n\n   Общежитие  Наличие_Матери  Наличие_Отца  Опекунство  ...  СрБаллАттестата  \\\n0        0.0               0           0.0         0.0  ...             49.0   \n1        0.0               0           0.0         0.0  ...             77.0   \n2        0.0               1           1.0         0.0  ...             74.0   \n3        0.0               0           0.0         0.0  ...             57.0   \n\n   male  female  sex_summ  birth_year_int  Статус  basis  language  country  \\\n0     0       1         1            1995       4      1         1        8   \n1     0       1         1            1995       4      1         2        8   \n2     0       1         1            1973       3      2         1        8   \n3     0       1         1            1983       3      2         1        8   \n\n   parents_country  \n0               10  \n1               10  \n2               10  \n3               10  \n\n[4 rows x 23 columns]",
      "text/html": "<div>\n<style scoped>\n    .dataframe tbody tr th:only-of-type {\n        vertical-align: middle;\n    }\n\n    .dataframe tbody tr th {\n        vertical-align: top;\n    }\n\n    .dataframe thead th {\n        text-align: right;\n    }\n</style>\n<table border=\"1\" class=\"dataframe\">\n  <thead>\n    <tr style=\"text-align: right;\">\n      <th></th>\n      <th>ind</th>\n      <th>ID</th>\n      <th>Код_группы</th>\n      <th>Год_Поступления</th>\n      <th>Год_Окончания_УЗ</th>\n      <th>Пособие</th>\n      <th>Общежитие</th>\n      <th>Наличие_Матери</th>\n      <th>Наличие_Отца</th>\n      <th>Опекунство</th>\n      <th>...</th>\n      <th>СрБаллАттестата</th>\n      <th>male</th>\n      <th>female</th>\n      <th>sex_summ</th>\n      <th>birth_year_int</th>\n      <th>Статус</th>\n      <th>basis</th>\n      <th>language</th>\n      <th>country</th>\n      <th>parents_country</th>\n    </tr>\n  </thead>\n  <tbody>\n    <tr>\n      <th>0</th>\n      <td>0</td>\n      <td>64996</td>\n      <td>20608</td>\n      <td>2014</td>\n      <td>2014.0</td>\n      <td>0.0</td>\n      <td>0.0</td>\n      <td>0</td>\n      <td>0.0</td>\n      <td>0.0</td>\n      <td>...</td>\n      <td>49.0</td>\n      <td>0</td>\n      <td>1</td>\n      <td>1</td>\n      <td>1995</td>\n      <td>4</td>\n      <td>1</td>\n      <td>1</td>\n      <td>8</td>\n      <td>10</td>\n    </tr>\n    <tr>\n      <th>1</th>\n      <td>1</td>\n      <td>71837</td>\n      <td>20613</td>\n      <td>2015</td>\n      <td>2014.0</td>\n      <td>0.0</td>\n      <td>0.0</td>\n      <td>0</td>\n      <td>0.0</td>\n      <td>0.0</td>\n      <td>...</td>\n      <td>77.0</td>\n      <td>0</td>\n      <td>1</td>\n      <td>1</td>\n      <td>1995</td>\n      <td>4</td>\n      <td>1</td>\n      <td>2</td>\n      <td>8</td>\n      <td>10</td>\n    </tr>\n    <tr>\n      <th>2</th>\n      <td>2</td>\n      <td>86587</td>\n      <td>21210</td>\n      <td>2018</td>\n      <td>1997.0</td>\n      <td>0.0</td>\n      <td>0.0</td>\n      <td>1</td>\n      <td>1.0</td>\n      <td>0.0</td>\n      <td>...</td>\n      <td>74.0</td>\n      <td>0</td>\n      <td>1</td>\n      <td>1</td>\n      <td>1973</td>\n      <td>3</td>\n      <td>2</td>\n      <td>1</td>\n      <td>8</td>\n      <td>10</td>\n    </tr>\n    <tr>\n      <th>3</th>\n      <td>3</td>\n      <td>73673</td>\n      <td>22254</td>\n      <td>2015</td>\n      <td>2006.0</td>\n      <td>0.0</td>\n      <td>0.0</td>\n      <td>0</td>\n      <td>0.0</td>\n      <td>0.0</td>\n      <td>...</td>\n      <td>57.0</td>\n      <td>0</td>\n      <td>1</td>\n      <td>1</td>\n      <td>1983</td>\n      <td>3</td>\n      <td>2</td>\n      <td>1</td>\n      <td>8</td>\n      <td>10</td>\n    </tr>\n  </tbody>\n</table>\n<p>4 rows × 23 columns</p>\n</div>"
     },
     "metadata": {},
     "execution_count": 15
    }
   ],
   "source": [
    "df_test_base[\"Статус\"] = df_test_pred\n",
    "df_test_base.head(4)"
   ]
  },
  {
   "cell_type": "code",
   "execution_count": 16,
   "metadata": {},
   "outputs": [
    {
     "output_type": "execute_result",
     "data": {
      "text/plain": "         ID  Статус\n0     64996     NaN\n1     71837     NaN\n2     86587     NaN\n3     73673     NaN\n4     54709     NaN\n...     ...     ...\n6686  74342     NaN\n6687  54876     NaN\n6688  66879     NaN\n6689  64982     NaN\n6690  69975     NaN\n\n[6691 rows x 2 columns]",
      "text/html": "<div>\n<style scoped>\n    .dataframe tbody tr th:only-of-type {\n        vertical-align: middle;\n    }\n\n    .dataframe tbody tr th {\n        vertical-align: top;\n    }\n\n    .dataframe thead th {\n        text-align: right;\n    }\n</style>\n<table border=\"1\" class=\"dataframe\">\n  <thead>\n    <tr style=\"text-align: right;\">\n      <th></th>\n      <th>ID</th>\n      <th>Статус</th>\n    </tr>\n  </thead>\n  <tbody>\n    <tr>\n      <th>0</th>\n      <td>64996</td>\n      <td>NaN</td>\n    </tr>\n    <tr>\n      <th>1</th>\n      <td>71837</td>\n      <td>NaN</td>\n    </tr>\n    <tr>\n      <th>2</th>\n      <td>86587</td>\n      <td>NaN</td>\n    </tr>\n    <tr>\n      <th>3</th>\n      <td>73673</td>\n      <td>NaN</td>\n    </tr>\n    <tr>\n      <th>4</th>\n      <td>54709</td>\n      <td>NaN</td>\n    </tr>\n    <tr>\n      <th>...</th>\n      <td>...</td>\n      <td>...</td>\n    </tr>\n    <tr>\n      <th>6686</th>\n      <td>74342</td>\n      <td>NaN</td>\n    </tr>\n    <tr>\n      <th>6687</th>\n      <td>54876</td>\n      <td>NaN</td>\n    </tr>\n    <tr>\n      <th>6688</th>\n      <td>66879</td>\n      <td>NaN</td>\n    </tr>\n    <tr>\n      <th>6689</th>\n      <td>64982</td>\n      <td>NaN</td>\n    </tr>\n    <tr>\n      <th>6690</th>\n      <td>69975</td>\n      <td>NaN</td>\n    </tr>\n  </tbody>\n</table>\n<p>6691 rows × 2 columns</p>\n</div>"
     },
     "metadata": {},
     "execution_count": 16
    }
   ],
   "source": [
    "df_submission"
   ]
  },
  {
   "cell_type": "code",
   "execution_count": 17,
   "metadata": {},
   "outputs": [
    {
     "output_type": "execute_result",
     "data": {
      "text/plain": "         ID  Статус\n0     64996       4\n1     71837       4\n2     86587       3\n3     73673       3\n4     54709       4\n...     ...     ...\n6630  74342       4\n6631  54876       4\n6632  66879       4\n6633  64982       4\n6634  69975       3\n\n[6635 rows x 2 columns]",
      "text/html": "<div>\n<style scoped>\n    .dataframe tbody tr th:only-of-type {\n        vertical-align: middle;\n    }\n\n    .dataframe tbody tr th {\n        vertical-align: top;\n    }\n\n    .dataframe thead th {\n        text-align: right;\n    }\n</style>\n<table border=\"1\" class=\"dataframe\">\n  <thead>\n    <tr style=\"text-align: right;\">\n      <th></th>\n      <th>ID</th>\n      <th>Статус</th>\n    </tr>\n  </thead>\n  <tbody>\n    <tr>\n      <th>0</th>\n      <td>64996</td>\n      <td>4</td>\n    </tr>\n    <tr>\n      <th>1</th>\n      <td>71837</td>\n      <td>4</td>\n    </tr>\n    <tr>\n      <th>2</th>\n      <td>86587</td>\n      <td>3</td>\n    </tr>\n    <tr>\n      <th>3</th>\n      <td>73673</td>\n      <td>3</td>\n    </tr>\n    <tr>\n      <th>4</th>\n      <td>54709</td>\n      <td>4</td>\n    </tr>\n    <tr>\n      <th>...</th>\n      <td>...</td>\n      <td>...</td>\n    </tr>\n    <tr>\n      <th>6630</th>\n      <td>74342</td>\n      <td>4</td>\n    </tr>\n    <tr>\n      <th>6631</th>\n      <td>54876</td>\n      <td>4</td>\n    </tr>\n    <tr>\n      <th>6632</th>\n      <td>66879</td>\n      <td>4</td>\n    </tr>\n    <tr>\n      <th>6633</th>\n      <td>64982</td>\n      <td>4</td>\n    </tr>\n    <tr>\n      <th>6634</th>\n      <td>69975</td>\n      <td>3</td>\n    </tr>\n  </tbody>\n</table>\n<p>6635 rows × 2 columns</p>\n</div>"
     },
     "metadata": {},
     "execution_count": 17
    }
   ],
   "source": [
    "make_csv = df_test_base.loc[:, ['ID', 'Статус']]\n",
    "#make_csv['reg'] = np.arange(0, make_csv.shape[0])\n",
    "make_csv"
   ]
  },
  {
   "cell_type": "code",
   "execution_count": 18,
   "metadata": {
    "tags": [
     "outputPrepend"
    ]
   },
   "outputs": [
    {
     "output_type": "stream",
     "name": "stdout",
     "text": "  3.0\nName: 6203, dtype: float64\nСтатус    4.0\nName: 6204, dtype: float64\nСтатус    4.0\nName: 6205, dtype: float64\nСтатус    3.0\nName: 6206, dtype: float64\nСтатус    4.0\nName: 6207, dtype: float64\nСтатус    4.0\nName: 6208, dtype: float64\nСтатус    4.0\nName: 6209, dtype: float64\nСтатус    3.0\nName: 6210, dtype: float64\nСтатус    4.0\nName: 6211, dtype: float64\nСтатус    4.0\nName: 6212, dtype: float64\nСтатус    4.0\nName: 6213, dtype: float64\nСтатус   -1.0\nName: 6214, dtype: float64\nСтатус    4.0\nName: 6215, dtype: float64\nСтатус    4.0\nName: 6216, dtype: float64\nСтатус    4.0\nName: 6217, dtype: float64\nСтатус    4.0\nName: 6218, dtype: float64\nСтатус    3.0\nName: 6219, dtype: float64\nСтатус    4.0\nName: 6220, dtype: float64\nСтатус    4.0\nName: 6221, dtype: float64\nСтатус    3.0\nName: 6222, dtype: float64\nСтатус    3.0\nName: 6223, dtype: float64\nСтатус    3.0\nName: 6224, dtype: float64\nСтатус    3.0\nName: 6225, dtype: float64\nСтатус    3.0\nName: 6226, dtype: float64\nСтатус    3.0\nName: 6227, dtype: float64\nСтатус    3.0\nName: 6228, dtype: float64\nСтатус    4.0\nName: 6229, dtype: float64\nСтатус    3.0\nName: 6230, dtype: float64\nСтатус    3.0\nName: 6231, dtype: float64\nСтатус    3.0\nName: 6232, dtype: float64\nСтатус    4.0\nName: 6233, dtype: float64\nСтатус    4.0\nName: 6234, dtype: float64\nСтатус    4.0\nName: 6235, dtype: float64\nСтатус    3.0\nName: 6236, dtype: float64\nСтатус    4.0\nName: 6237, dtype: float64\nСтатус    3.0\nName: 6238, dtype: float64\nСтатус    4.0\nName: 6239, dtype: float64\nСтатус    4.0\nName: 6240, dtype: float64\nСтатус    3.0\nName: 6241, dtype: float64\nСтатус    4.0\nName: 6242, dtype: float64\nСтатус    3.0\nName: 6243, dtype: float64\nСтатус    3.0\nName: 6244, dtype: float64\nСтатус    3.0\nName: 6245, dtype: float64\nСтатус    4.0\nName: 6246, dtype: float64\nСтатус    4.0\nName: 6247, dtype: float64\nСтатус    4.0\nName: 6248, dtype: float64\nСтатус    3.0\nName: 6249, dtype: float64\nСтатус    4.0\nName: 6250, dtype: float64\nСтатус    4.0\nName: 6251, dtype: float64\nСтатус    3.0\nName: 6252, dtype: float64\nСтатус    3.0\nName: 6253, dtype: float64\nСтатус    3.0\nName: 6254, dtype: float64\nСтатус    4.0\nName: 6255, dtype: float64\nСтатус    4.0\nName: 6256, dtype: float64\nСтатус    4.0\nName: 6257, dtype: float64\nСтатус    3.0\nName: 6258, dtype: float64\nСтатус    3.0\nName: 6259, dtype: float64\nСтатус    3.0\nName: 6260, dtype: float64\nСтатус    3.0\nName: 6261, dtype: float64\nСтатус    4.0\nName: 6262, dtype: float64\nСтатус    4.0\nName: 6263, dtype: float64\nСтатус    3.0\nName: 6264, dtype: float64\nСтатус    4.0\nName: 6265, dtype: float64\nСтатус    3.0\nName: 6266, dtype: float64\nСтатус    4.0\nName: 6267, dtype: float64\nСтатус    4.0\nName: 6268, dtype: float64\nСтатус    4.0\nName: 6269, dtype: float64\nСтатус    4.0\nName: 6270, dtype: float64\nСтатус    4.0\nName: 6271, dtype: float64\nСтатус    3.0\nName: 6272, dtype: float64\nСтатус    4.0\nName: 6273, dtype: float64\nСтатус    4.0\nName: 6274, dtype: float64\nСтатус    4.0\nName: 6275, dtype: float64\nСтатус    4.0\nName: 6276, dtype: float64\nСтатус    3.0\nName: 6277, dtype: float64\nСтатус    4.0\nName: 6278, dtype: float64\nСтатус    3.0\nName: 6279, dtype: float64\nСтатус    4.0\nName: 6280, dtype: float64\nСтатус    3.0\nName: 6281, dtype: float64\nСтатус    3.0\nName: 6282, dtype: float64\nСтатус    4.0\nName: 6283, dtype: float64\nСтатус    4.0\nName: 6284, dtype: float64\nСтатус    4.0\nName: 6285, dtype: float64\nСтатус    4.0\nName: 6286, dtype: float64\nСтатус    3.0\nName: 6287, dtype: float64\nСтатус    4.0\nName: 6288, dtype: float64\nСтатус    3.0\nName: 6289, dtype: float64\nСтатус    4.0\nName: 6290, dtype: float64\nСтатус    3.0\nName: 6291, dtype: float64\nСтатус    3.0\nName: 6292, dtype: float64\nСтатус    4.0\nName: 6293, dtype: float64\nСтатус    4.0\nName: 6294, dtype: float64\nСтатус    3.0\nName: 6295, dtype: float64\nСтатус    4.0\nName: 6296, dtype: float64\nСтатус   -1.0\nName: 6297, dtype: float64\nСтатус    3.0\nName: 6298, dtype: float64\nСтатус    4.0\nName: 6299, dtype: float64\nСтатус    3.0\nName: 6300, dtype: float64\nСтатус    4.0\nName: 6301, dtype: float64\nСтатус    4.0\nName: 6302, dtype: float64\nСтатус    4.0\nName: 6303, dtype: float64\nСтатус    4.0\nName: 6304, dtype: float64\nСтатус   -1.0\nName: 6305, dtype: float64\nСтатус    4.0\nName: 6306, dtype: float64\nСтатус    4.0\nName: 6307, dtype: float64\nСтатус    3.0\nName: 6308, dtype: float64\nСтатус    4.0\nName: 6309, dtype: float64\nСтатус    3.0\nName: 6310, dtype: float64\nСтатус    4.0\nName: 6311, dtype: float64\nСтатус    4.0\nName: 6312, dtype: float64\nСтатус    4.0\nName: 6313, dtype: float64\nСтатус    4.0\nName: 6314, dtype: float64\nСтатус    4.0\nName: 6315, dtype: float64\nСтатус    4.0\nName: 6316, dtype: float64\nСтатус    3.0\nName: 6317, dtype: float64\nСтатус    4.0\nName: 6318, dtype: float64\nСтатус    4.0\nName: 6319, dtype: float64\nСтатус    3.0\nName: 6320, dtype: float64\nСтатус    4.0\nName: 6321, dtype: float64\nСтатус    3.0\nName: 6322, dtype: float64\nСтатус    3.0\nName: 6323, dtype: float64\nСтатус    4.0\nName: 6324, dtype: float64\nСтатус    4.0\nName: 6325, dtype: float64\nСтатус   -1.0\nName: 6326, dtype: float64\nСтатус    4.0\nName: 6327, dtype: float64\nСтатус    3.0\nName: 6328, dtype: float64\nСтатус    4.0\nName: 6329, dtype: float64\nСтатус    3.0\nName: 6330, dtype: float64\nСтатус    4.0\nName: 6331, dtype: float64\nСтатус    4.0\nName: 6332, dtype: float64\nСтатус    4.0\nName: 6333, dtype: float64\nСтатус    4.0\nName: 6334, dtype: float64\nСтатус    3.0\nName: 6335, dtype: float64\nСтатус    3.0\nName: 6336, dtype: float64\nСтатус    4.0\nName: 6337, dtype: float64\nСтатус    3.0\nName: 6338, dtype: float64\nСтатус    4.0\nName: 6339, dtype: float64\nСтатус    3.0\nName: 6340, dtype: float64\nСтатус    4.0\nName: 6341, dtype: float64\nСтатус    3.0\nName: 6342, dtype: float64\nСтатус    4.0\nName: 6343, dtype: float64\nСтатус    4.0\nName: 6344, dtype: float64\nСтатус    4.0\nName: 6345, dtype: float64\nСтатус    3.0\nName: 6346, dtype: float64\nСтатус    3.0\nName: 6347, dtype: float64\nСтатус    4.0\nName: 6348, dtype: float64\nСтатус    4.0\nName: 6349, dtype: float64\nСтатус    4.0\nName: 6350, dtype: float64\nСтатус    3.0\nName: 6351, dtype: float64\nСтатус    3.0\nName: 6352, dtype: float64\nСтатус    4.0\nName: 6353, dtype: float64\nСтатус   -1.0\nName: 6354, dtype: float64\nСтатус   -1.0\nName: 6355, dtype: float64\nСтатус    4.0\nName: 6356, dtype: float64\nСтатус   -1.0\nName: 6357, dtype: float64\nСтатус    3.0\nName: 6358, dtype: float64\nСтатус    3.0\nName: 6359, dtype: float64\nСтатус    4.0\nName: 6360, dtype: float64\nСтатус    3.0\nName: 6361, dtype: float64\nСтатус    4.0\nName: 6362, dtype: float64\nСтатус    4.0\nName: 6363, dtype: float64\nСтатус    4.0\nName: 6364, dtype: float64\nСтатус    4.0\nName: 6365, dtype: float64\nСтатус    4.0\nName: 6366, dtype: float64\nСтатус    4.0\nName: 6367, dtype: float64\nСтатус   -1.0\nName: 6368, dtype: float64\nСтатус    3.0\nName: 6369, dtype: float64\nСтатус    4.0\nName: 6370, dtype: float64\nСтатус    4.0\nName: 6371, dtype: float64\nСтатус    4.0\nName: 6372, dtype: float64\nСтатус    3.0\nName: 6373, dtype: float64\nСтатус    3.0\nName: 6374, dtype: float64\nСтатус    4.0\nName: 6375, dtype: float64\nСтатус    3.0\nName: 6376, dtype: float64\nСтатус    3.0\nName: 6377, dtype: float64\nСтатус   -1.0\nName: 6378, dtype: float64\nСтатус    4.0\nName: 6379, dtype: float64\nСтатус    4.0\nName: 6380, dtype: float64\nСтатус    4.0\nName: 6381, dtype: float64\nСтатус    3.0\nName: 6382, dtype: float64\nСтатус    4.0\nName: 6383, dtype: float64\nСтатус    4.0\nName: 6384, dtype: float64\nСтатус    4.0\nName: 6385, dtype: float64\nСтатус    4.0\nName: 6386, dtype: float64\nСтатус   -1.0\nName: 6387, dtype: float64\nСтатус    4.0\nName: 6388, dtype: float64\nСтатус    4.0\nName: 6389, dtype: float64\nСтатус    4.0\nName: 6390, dtype: float64\nСтатус    3.0\nName: 6391, dtype: float64\nСтатус    3.0\nName: 6392, dtype: float64\nСтатус   -1.0\nName: 6393, dtype: float64\nСтатус    4.0\nName: 6394, dtype: float64\nСтатус    4.0\nName: 6395, dtype: float64\nСтатус    3.0\nName: 6396, dtype: float64\nСтатус    3.0\nName: 6397, dtype: float64\nСтатус    3.0\nName: 6398, dtype: float64\nСтатус    4.0\nName: 6399, dtype: float64\nСтатус    4.0\nName: 6400, dtype: float64\nСтатус    4.0\nName: 6401, dtype: float64\nСтатус    4.0\nName: 6402, dtype: float64\nСтатус    3.0\nName: 6403, dtype: float64\nСтатус    4.0\nName: 6404, dtype: float64\nСтатус    4.0\nName: 6405, dtype: float64\nСтатус    3.0\nName: 6406, dtype: float64\nСтатус    4.0\nName: 6407, dtype: float64\nСтатус    4.0\nName: 6408, dtype: float64\nСтатус    4.0\nName: 6409, dtype: float64\nСтатус    3.0\nName: 6410, dtype: float64\nСтатус    4.0\nName: 6411, dtype: float64\nСтатус    3.0\nName: 6412, dtype: float64\nСтатус    4.0\nName: 6413, dtype: float64\nСтатус    4.0\nName: 6414, dtype: float64\nСтатус   -1.0\nName: 6415, dtype: float64\nСтатус    4.0\nName: 6416, dtype: float64\nСтатус    3.0\nName: 6417, dtype: float64\nСтатус    3.0\nName: 6418, dtype: float64\nСтатус    4.0\nName: 6419, dtype: float64\nСтатус    4.0\nName: 6420, dtype: float64\nСтатус    3.0\nName: 6421, dtype: float64\nСтатус    4.0\nName: 6422, dtype: float64\nСтатус    4.0\nName: 6423, dtype: float64\nСтатус    3.0\nName: 6424, dtype: float64\nСтатус    4.0\nName: 6425, dtype: float64\nСтатус    4.0\nName: 6426, dtype: float64\nСтатус    4.0\nName: 6427, dtype: float64\nСтатус    3.0\nName: 6428, dtype: float64\nСтатус    3.0\nName: 6429, dtype: float64\nСтатус    3.0\nName: 6430, dtype: float64\nСтатус    3.0\nName: 6431, dtype: float64\nСтатус    4.0\nName: 6432, dtype: float64\nСтатус    3.0\nName: 6433, dtype: float64\nСтатус    3.0\nName: 6434, dtype: float64\nСтатус    4.0\nName: 6435, dtype: float64\nСтатус    3.0\nName: 6436, dtype: float64\nСтатус    4.0\nName: 6437, dtype: float64\nСтатус    3.0\nName: 6438, dtype: float64\nСтатус    4.0\nName: 6439, dtype: float64\nСтатус    4.0\nName: 6440, dtype: float64\nСтатус    3.0\nName: 6441, dtype: float64\nСтатус    4.0\nName: 6442, dtype: float64\nСтатус    4.0\nName: 6443, dtype: float64\nСтатус    4.0\nName: 6444, dtype: float64\nСтатус    4.0\nName: 6445, dtype: float64\nСтатус    3.0\nName: 6446, dtype: float64\nСтатус    4.0\nName: 6447, dtype: float64\nСтатус    3.0\nName: 6448, dtype: float64\nСтатус    3.0\nName: 6449, dtype: float64\nСтатус    3.0\nName: 6450, dtype: float64\nСтатус    4.0\nName: 6451, dtype: float64\nСтатус    4.0\nName: 6452, dtype: float64\nСтатус    3.0\nName: 6453, dtype: float64\nСтатус    3.0\nName: 6454, dtype: float64\nСтатус    3.0\nName: 6455, dtype: float64\nСтатус    4.0\nName: 6456, dtype: float64\nСтатус    4.0\nName: 6457, dtype: float64\nСтатус    4.0\nName: 6458, dtype: float64\nСтатус    3.0\nName: 6459, dtype: float64\nСтатус    3.0\nName: 6460, dtype: float64\nСтатус    3.0\nName: 6461, dtype: float64\nСтатус    3.0\nName: 6462, dtype: float64\nСтатус    4.0\nName: 6463, dtype: float64\nСтатус    4.0\nName: 6464, dtype: float64\nСтатус    4.0\nName: 6465, dtype: float64\nСтатус    3.0\nName: 6466, dtype: float64\nСтатус    3.0\nName: 6467, dtype: float64\nСтатус    3.0\nName: 6468, dtype: float64\nСтатус    3.0\nName: 6469, dtype: float64\nСтатус    3.0\nName: 6470, dtype: float64\nСтатус    4.0\nName: 6471, dtype: float64\nСтатус    3.0\nName: 6472, dtype: float64\nСтатус    4.0\nName: 6473, dtype: float64\nСтатус    4.0\nName: 6474, dtype: float64\nСтатус    4.0\nName: 6475, dtype: float64\nСтатус    4.0\nName: 6476, dtype: float64\nСтатус    4.0\nName: 6477, dtype: float64\nСтатус    3.0\nName: 6478, dtype: float64\nСтатус    4.0\nName: 6479, dtype: float64\nСтатус    3.0\nName: 6480, dtype: float64\nСтатус   -1.0\nName: 6481, dtype: float64\nСтатус    3.0\nName: 6482, dtype: float64\nСтатус    3.0\nName: 6483, dtype: float64\nСтатус    4.0\nName: 6484, dtype: float64\nСтатус    3.0\nName: 6485, dtype: float64\nСтатус    3.0\nName: 6486, dtype: float64\nСтатус    4.0\nName: 6487, dtype: float64\nСтатус    4.0\nName: 6488, dtype: float64\nСтатус    4.0\nName: 6489, dtype: float64\nСтатус    4.0\nName: 6490, dtype: float64\nСтатус    4.0\nName: 6491, dtype: float64\nСтатус    3.0\nName: 6492, dtype: float64\nСтатус    4.0\nName: 6493, dtype: float64\nСтатус    4.0\nName: 6494, dtype: float64\nСтатус    4.0\nName: 6495, dtype: float64\nСтатус    4.0\nName: 6496, dtype: float64\nСтатус    3.0\nName: 6497, dtype: float64\nСтатус    4.0\nName: 6498, dtype: float64\nСтатус    4.0\nName: 6499, dtype: float64\nСтатус    3.0\nName: 6500, dtype: float64\nСтатус    3.0\nName: 6501, dtype: float64\nСтатус    3.0\nName: 6502, dtype: float64\nСтатус    3.0\nName: 6503, dtype: float64\nСтатус    4.0\nName: 6504, dtype: float64\nСтатус    4.0\nName: 6505, dtype: float64\nСтатус    4.0\nName: 6506, dtype: float64\nСтатус    4.0\nName: 6507, dtype: float64\nСтатус    4.0\nName: 6508, dtype: float64\nСтатус    4.0\nName: 6509, dtype: float64\nСтатус    4.0\nName: 6510, dtype: float64\nСтатус    3.0\nName: 6511, dtype: float64\nСтатус    4.0\nName: 6512, dtype: float64\nСтатус    4.0\nName: 6513, dtype: float64\nСтатус    4.0\nName: 6514, dtype: float64\nСтатус    3.0\nName: 6515, dtype: float64\nСтатус    4.0\nName: 6516, dtype: float64\nСтатус    3.0\nName: 6517, dtype: float64\nСтатус    4.0\nName: 6518, dtype: float64\nСтатус    3.0\nName: 6519, dtype: float64\nСтатус    4.0\nName: 6520, dtype: float64\nСтатус    3.0\nName: 6521, dtype: float64\nСтатус    3.0\nName: 6522, dtype: float64\nСтатус    3.0\nName: 6523, dtype: float64\nСтатус    4.0\nName: 6524, dtype: float64\nСтатус    4.0\nName: 6525, dtype: float64\nСтатус    4.0\nName: 6526, dtype: float64\nСтатус    4.0\nName: 6527, dtype: float64\nСтатус    3.0\nName: 6528, dtype: float64\nСтатус    4.0\nName: 6529, dtype: float64\nСтатус    4.0\nName: 6530, dtype: float64\nСтатус    4.0\nName: 6531, dtype: float64\nСтатус    4.0\nName: 6532, dtype: float64\nСтатус    4.0\nName: 6533, dtype: float64\nСтатус    4.0\nName: 6534, dtype: float64\nСтатус    4.0\nName: 6535, dtype: float64\nСтатус    3.0\nName: 6536, dtype: float64\nСтатус    3.0\nName: 6537, dtype: float64\nСтатус    4.0\nName: 6538, dtype: float64\nСтатус    3.0\nName: 6539, dtype: float64\nСтатус    4.0\nName: 6540, dtype: float64\nСтатус   -1.0\nName: 6541, dtype: float64\nСтатус    3.0\nName: 6542, dtype: float64\nСтатус    4.0\nName: 6543, dtype: float64\nСтатус    4.0\nName: 6544, dtype: float64\nСтатус    4.0\nName: 6545, dtype: float64\nСтатус    3.0\nName: 6546, dtype: float64\nСтатус    3.0\nName: 6547, dtype: float64\nСтатус    3.0\nName: 6548, dtype: float64\nСтатус    4.0\nName: 6549, dtype: float64\nСтатус    3.0\nName: 6550, dtype: float64\nСтатус   -1.0\nName: 6551, dtype: float64\nСтатус    4.0\nName: 6552, dtype: float64\nСтатус    3.0\nName: 6553, dtype: float64\nСтатус    3.0\nName: 6554, dtype: float64\nСтатус    3.0\nName: 6555, dtype: float64\nСтатус    4.0\nName: 6556, dtype: float64\nСтатус    3.0\nName: 6557, dtype: float64\nСтатус    4.0\nName: 6558, dtype: float64\nСтатус    3.0\nName: 6559, dtype: float64\nСтатус    4.0\nName: 6560, dtype: float64\nСтатус    4.0\nName: 6561, dtype: float64\nСтатус    4.0\nName: 6562, dtype: float64\nСтатус    4.0\nName: 6563, dtype: float64\nСтатус    4.0\nName: 6564, dtype: float64\nСтатус    4.0\nName: 6565, dtype: float64\nСтатус    4.0\nName: 6566, dtype: float64\nСтатус    4.0\nName: 6567, dtype: float64\nСтатус    4.0\nName: 6568, dtype: float64\nСтатус    3.0\nName: 6569, dtype: float64\nСтатус    4.0\nName: 6570, dtype: float64\nСтатус    4.0\nName: 6571, dtype: float64\nСтатус    4.0\nName: 6572, dtype: float64\nСтатус    3.0\nName: 6573, dtype: float64\nСтатус    4.0\nName: 6574, dtype: float64\nСтатус    3.0\nName: 6575, dtype: float64\nСтатус   -1.0\nName: 6576, dtype: float64\nСтатус    3.0\nName: 6577, dtype: float64\nСтатус    3.0\nName: 6578, dtype: float64\nСтатус    4.0\nName: 6579, dtype: float64\nСтатус    3.0\nName: 6580, dtype: float64\nСтатус    4.0\nName: 6581, dtype: float64\nСтатус    3.0\nName: 6582, dtype: float64\nСтатус    4.0\nName: 6583, dtype: float64\nСтатус    4.0\nName: 6584, dtype: float64\nСтатус    3.0\nName: 6585, dtype: float64\nСтатус    4.0\nName: 6586, dtype: float64\nСтатус    4.0\nName: 6587, dtype: float64\nСтатус    4.0\nName: 6588, dtype: float64\nСтатус    3.0\nName: 6589, dtype: float64\nСтатус    4.0\nName: 6590, dtype: float64\nСтатус    4.0\nName: 6591, dtype: float64\nСтатус    4.0\nName: 6592, dtype: float64\nСтатус   -1.0\nName: 6593, dtype: float64\nСтатус    4.0\nName: 6594, dtype: float64\nСтатус    4.0\nName: 6595, dtype: float64\nСтатус    4.0\nName: 6596, dtype: float64\nСтатус    4.0\nName: 6597, dtype: float64\nСтатус    4.0\nName: 6598, dtype: float64\nСтатус    4.0\nName: 6599, dtype: float64\nСтатус    4.0\nName: 6600, dtype: float64\nСтатус    3.0\nName: 6601, dtype: float64\nСтатус   -1.0\nName: 6602, dtype: float64\nСтатус    3.0\nName: 6603, dtype: float64\nСтатус    3.0\nName: 6604, dtype: float64\nСтатус    3.0\nName: 6605, dtype: float64\nСтатус    3.0\nName: 6606, dtype: float64\nСтатус    3.0\nName: 6607, dtype: float64\nСтатус    4.0\nName: 6608, dtype: float64\nСтатус    4.0\nName: 6609, dtype: float64\nСтатус    3.0\nName: 6610, dtype: float64\nСтатус    3.0\nName: 6611, dtype: float64\nСтатус    4.0\nName: 6612, dtype: float64\nСтатус    3.0\nName: 6613, dtype: float64\nСтатус    4.0\nName: 6614, dtype: float64\nСтатус    4.0\nName: 6615, dtype: float64\nСтатус    3.0\nName: 6616, dtype: float64\nСтатус    3.0\nName: 6617, dtype: float64\nСтатус    4.0\nName: 6618, dtype: float64\nСтатус    3.0\nName: 6619, dtype: float64\nСтатус    4.0\nName: 6620, dtype: float64\nСтатус    4.0\nName: 6621, dtype: float64\nСтатус    4.0\nName: 6622, dtype: float64\nСтатус    3.0\nName: 6623, dtype: float64\nСтатус   -1.0\nName: 6624, dtype: float64\nСтатус    3.0\nName: 6625, dtype: float64\nСтатус    4.0\nName: 6626, dtype: float64\nСтатус   -1.0\nName: 6627, dtype: float64\nСтатус    3.0\nName: 6628, dtype: float64\nСтатус    4.0\nName: 6629, dtype: float64\nСтатус    4.0\nName: 6630, dtype: float64\nСтатус    4.0\nName: 6631, dtype: float64\nСтатус    3.0\nName: 6632, dtype: float64\nСтатус    4.0\nName: 6633, dtype: float64\nСтатус    3.0\nName: 6634, dtype: float64\nСтатус    4.0\nName: 6635, dtype: float64\nСтатус    3.0\nName: 6636, dtype: float64\nСтатус    3.0\nName: 6637, dtype: float64\nСтатус    4.0\nName: 6638, dtype: float64\nСтатус    3.0\nName: 6639, dtype: float64\nСтатус    4.0\nName: 6640, dtype: float64\nСтатус    4.0\nName: 6641, dtype: float64\nСтатус    4.0\nName: 6642, dtype: float64\nСтатус    4.0\nName: 6643, dtype: float64\nСтатус    3.0\nName: 6644, dtype: float64\nСтатус    3.0\nName: 6645, dtype: float64\nСтатус    3.0\nName: 6646, dtype: float64\nСтатус    4.0\nName: 6647, dtype: float64\nСтатус    3.0\nName: 6648, dtype: float64\nСтатус    4.0\nName: 6649, dtype: float64\nСтатус    4.0\nName: 6650, dtype: float64\nСтатус    4.0\nName: 6651, dtype: float64\nСтатус    4.0\nName: 6652, dtype: float64\nСтатус    3.0\nName: 6653, dtype: float64\nСтатус    4.0\nName: 6654, dtype: float64\nСтатус    4.0\nName: 6655, dtype: float64\nСтатус    3.0\nName: 6656, dtype: float64\nСтатус    4.0\nName: 6657, dtype: float64\nСтатус    4.0\nName: 6658, dtype: float64\nСтатус    4.0\nName: 6659, dtype: float64\nСтатус    3.0\nName: 6660, dtype: float64\nСтатус    3.0\nName: 6661, dtype: float64\nСтатус    4.0\nName: 6662, dtype: float64\nСтатус    4.0\nName: 6663, dtype: float64\nСтатус    4.0\nName: 6664, dtype: float64\nСтатус    4.0\nName: 6665, dtype: float64\nСтатус    4.0\nName: 6666, dtype: float64\nСтатус    3.0\nName: 6667, dtype: float64\nСтатус    3.0\nName: 6668, dtype: float64\nСтатус   -1.0\nName: 6669, dtype: float64\nСтатус    4.0\nName: 6670, dtype: float64\nСтатус    4.0\nName: 6671, dtype: float64\nСтатус    4.0\nName: 6672, dtype: float64\nСтатус    4.0\nName: 6673, dtype: float64\nСтатус    4.0\nName: 6674, dtype: float64\nСтатус    4.0\nName: 6675, dtype: float64\nСтатус    4.0\nName: 6676, dtype: float64\nСтатус    4.0\nName: 6677, dtype: float64\nСтатус    4.0\nName: 6678, dtype: float64\nСтатус    3.0\nName: 6679, dtype: float64\nСтатус    4.0\nName: 6680, dtype: float64\nСтатус    4.0\nName: 6681, dtype: float64\nСтатус    4.0\nName: 6682, dtype: float64\nСтатус   -1.0\nName: 6683, dtype: float64\nСтатус    3.0\nName: 6684, dtype: float64\nСтатус    4.0\nName: 6685, dtype: float64\nСтатус    4.0\nName: 6686, dtype: float64\nСтатус    4.0\nName: 6687, dtype: float64\nСтатус    4.0\nName: 6688, dtype: float64\nСтатус    4.0\nName: 6689, dtype: float64\nСтатус    3.0\nName: 6690, dtype: float64\n"
    }
   ],
   "source": [
    "for i in range(df_submission.shape[0]):\n",
    "    id_hum = df_submission.loc[i, ['ID']]\n",
    "    #print(id_hum)\n",
    "    status = make_csv.loc[make_csv['ID'] == id_hum.values[0], 'Статус']\n",
    "    try:\n",
    "        df_submission.loc[i, ['Статус']] = status.values[0]\n",
    "    except:\n",
    "        df_submission.loc[i, ['Статус']] = 4\n",
    "    print(df_submission.loc[i, ['Статус']])"
   ]
  },
  {
   "cell_type": "code",
   "execution_count": 20,
   "metadata": {},
   "outputs": [],
   "source": [
    "value = f'{accure:.4f}\n",
    "method = clf.__str__().split('(')[0]\n",
    "col_name = \"_\".join(columns)\n",
    "df_submission.to_csv(f'data/result/{value}_{method}_{col_name}.csv', index=False)"
   ]
  },
  {
   "cell_type": "code",
   "execution_count": null,
   "metadata": {},
   "outputs": [],
   "source": []
  }
 ],
 "metadata": {
  "kernelspec": {
   "display_name": "Python 3 (ipykernel)",
   "language": "python",
   "name": "python3"
  },
  "language_info": {
   "codemirror_mode": {
    "name": "ipython",
    "version": 3
   },
   "file_extension": ".py",
   "mimetype": "text/x-python",
   "name": "python",
   "nbconvert_exporter": "python",
   "pygments_lexer": "ipython3",
   "version": "3.8.5-final"
  },
  "orig_nbformat": 4,
  "vscode": {
   "interpreter": {
    "hash": "51c73a6595d20bbc39952c03157596619c73f94de3e8d7812583abf83cf493bf"
   }
  }
 },
 "nbformat": 4,
 "nbformat_minor": 2
}
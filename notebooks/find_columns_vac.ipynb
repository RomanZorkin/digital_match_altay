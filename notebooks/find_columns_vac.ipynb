{
 "cells": [
  {
   "cell_type": "code",
   "execution_count": 1,
   "metadata": {},
   "outputs": [],
   "source": [
    "from itertools import combinations\n",
    "\n",
    "import matplotlib.pyplot as plt\n",
    "import numpy as np\n",
    "import pandas as pd\n",
    "from sklearn.ensemble import RandomForestClassifier\n",
    "from sklearn.metrics import classification_report, f1_score\n",
    "from sklearn.model_selection import train_test_split\n",
    "from sklearn.preprocessing import MinMaxScaler\n"
   ]
  },
  {
   "cell_type": "markdown",
   "metadata": {},
   "source": [
    "# Подготовка датасета для загрузки в сеть"
   ]
  },
  {
   "cell_type": "code",
   "execution_count": 2,
   "metadata": {},
   "outputs": [
    {
     "output_type": "execute_result",
     "data": {
      "text/plain": "Index([&#39;ID&#39;, &#39;Код_группы&#39;, &#39;Год_Поступления&#39;, &#39;Год_Окончания_УЗ&#39;, &#39;Пособие&#39;,\n       &#39;Общежитие&#39;, &#39;Наличие_Матери&#39;, &#39;Наличие_Отца&#39;, &#39;Опекунство&#39;, &#39;Село&#39;,\n       &#39;Иностранец&#39;, &#39;КодФакультета&#39;, &#39;СрБаллАттестата&#39;, &#39;Статус&#39;,\n       &#39;vacation_status&#39;, &#39;non_vacation_status&#39;, &#39;male&#39;, &#39;female&#39;, &#39;sex_summ&#39;,\n       &#39;birth_year_int&#39;, &#39;basis&#39;, &#39;language&#39;, &#39;country&#39;, &#39;region&#39;, &#39;city&#39;,\n       &#39;parents_country&#39;],\n      dtype=&#39;object&#39;)"
     },
     "metadata": {},
     "execution_count": 2
    }
   ],
   "source": [
    "base_df = pd.read_csv('data/clean_frame.csv', index_col='ind')\n",
    "base_df.columns"
   ]
  },
  {
   "cell_type": "markdown",
   "metadata": {},
   "source": [
    "### Проверка и удаление отрицательных значений"
   ]
  },
  {
   "cell_type": "code",
   "execution_count": 3,
   "metadata": {},
   "outputs": [
    {
     "output_type": "execute_result",
     "data": {
      "text/plain": "False"
     },
     "metadata": {},
     "execution_count": 3
    }
   ],
   "source": [
    "base_df.isna().any().all()"
   ]
  },
  {
   "cell_type": "code",
   "execution_count": 4,
   "metadata": {},
   "outputs": [],
   "source": [
    "base_df = base_df.fillna(0)"
   ]
  },
  {
   "cell_type": "code",
   "execution_count": 5,
   "metadata": {},
   "outputs": [],
   "source": [
    "drop_col = ['Статус', 'vacation_status', 'non_vacation_status']\n",
    "control_col = 'vacation_status'"
   ]
  },
  {
   "cell_type": "code",
   "execution_count": 6,
   "metadata": {},
   "outputs": [
    {
     "output_type": "execute_result",
     "data": {
      "text/plain": "[&#39;Код_группы&#39;,\n &#39;Год_Поступления&#39;,\n &#39;Год_Окончания_УЗ&#39;,\n &#39;Пособие&#39;,\n &#39;Общежитие&#39;,\n &#39;Наличие_Матери&#39;,\n &#39;Наличие_Отца&#39;,\n &#39;Опекунство&#39;,\n &#39;Село&#39;,\n &#39;Иностранец&#39;,\n &#39;КодФакультета&#39;,\n &#39;СрБаллАттестата&#39;,\n &#39;male&#39;,\n &#39;female&#39;,\n &#39;sex_summ&#39;,\n &#39;birth_year_int&#39;,\n &#39;basis&#39;,\n &#39;language&#39;,\n &#39;country&#39;,\n &#39;region&#39;,\n &#39;city&#39;,\n &#39;parents_country&#39;]"
     },
     "metadata": {},
     "execution_count": 6
    }
   ],
   "source": [
    "all_columns_list = base_df.columns.to_list()\n",
    "all_columns_list.remove('ID')\n",
    "for col in drop_col:\n",
    "    all_columns_list.remove(col)\n",
    "all_columns_list"
   ]
  },
  {
   "cell_type": "code",
   "execution_count": 7,
   "metadata": {},
   "outputs": [],
   "source": [
    "bad_columns = []"
   ]
  },
  {
   "cell_type": "code",
   "execution_count": 8,
   "metadata": {},
   "outputs": [],
   "source": [
    "elements_num = len(all_columns_list)\n",
    "elements_num = 2"
   ]
  },
  {
   "cell_type": "code",
   "execution_count": 9,
   "metadata": {
    "tags": []
   },
   "outputs": [
    {
     "output_type": "execute_result",
     "data": {
      "text/plain": "231"
     },
     "metadata": {},
     "execution_count": 9
    }
   ],
   "source": [
    "all_combinations = []\n",
    "list_sizes = 0\n",
    "min_col = 2\n",
    "for i in range(min_col, elements_num+1):\n",
    "    curent_list = list(combinations(all_columns_list, i))\n",
    "    list_sizes += len(curent_list)\n",
    "    all_combinations = all_combinations + curent_list\n",
    "comb_size = len(all_combinations)\n",
    "comb_size"
   ]
  },
  {
   "cell_type": "code",
   "execution_count": 10,
   "metadata": {},
   "outputs": [
    {
     "output_type": "execute_result",
     "data": {
      "text/plain": "[(&#39;Код_группы&#39;, &#39;Год_Поступления&#39;),\n (&#39;Код_группы&#39;, &#39;Год_Окончания_УЗ&#39;),\n (&#39;Код_группы&#39;, &#39;Пособие&#39;),\n (&#39;Код_группы&#39;, &#39;Общежитие&#39;),\n (&#39;Код_группы&#39;, &#39;Наличие_Матери&#39;),\n (&#39;Код_группы&#39;, &#39;Наличие_Отца&#39;),\n (&#39;Код_группы&#39;, &#39;Опекунство&#39;),\n (&#39;Код_группы&#39;, &#39;Село&#39;),\n (&#39;Код_группы&#39;, &#39;Иностранец&#39;),\n (&#39;Код_группы&#39;, &#39;КодФакультета&#39;),\n (&#39;Код_группы&#39;, &#39;СрБаллАттестата&#39;),\n (&#39;Код_группы&#39;, &#39;male&#39;),\n (&#39;Код_группы&#39;, &#39;female&#39;),\n (&#39;Код_группы&#39;, &#39;sex_summ&#39;),\n (&#39;Код_группы&#39;, &#39;birth_year_int&#39;),\n (&#39;Код_группы&#39;, &#39;basis&#39;),\n (&#39;Код_группы&#39;, &#39;language&#39;),\n (&#39;Код_группы&#39;, &#39;country&#39;),\n (&#39;Код_группы&#39;, &#39;region&#39;),\n (&#39;Код_группы&#39;, &#39;city&#39;),\n (&#39;Код_группы&#39;, &#39;parents_country&#39;),\n (&#39;Год_Поступления&#39;, &#39;Год_Окончания_УЗ&#39;),\n (&#39;Год_Поступления&#39;, &#39;Пособие&#39;),\n (&#39;Год_Поступления&#39;, &#39;Общежитие&#39;),\n (&#39;Год_Поступления&#39;, &#39;Наличие_Матери&#39;),\n (&#39;Год_Поступления&#39;, &#39;Наличие_Отца&#39;),\n (&#39;Год_Поступления&#39;, &#39;Опекунство&#39;),\n (&#39;Год_Поступления&#39;, &#39;Село&#39;),\n (&#39;Год_Поступления&#39;, &#39;Иностранец&#39;),\n (&#39;Год_Поступления&#39;, &#39;КодФакультета&#39;),\n (&#39;Год_Поступления&#39;, &#39;СрБаллАттестата&#39;),\n (&#39;Год_Поступления&#39;, &#39;male&#39;),\n (&#39;Год_Поступления&#39;, &#39;female&#39;),\n (&#39;Год_Поступления&#39;, &#39;sex_summ&#39;),\n (&#39;Год_Поступления&#39;, &#39;birth_year_int&#39;),\n (&#39;Год_Поступления&#39;, &#39;basis&#39;),\n (&#39;Год_Поступления&#39;, &#39;language&#39;),\n (&#39;Год_Поступления&#39;, &#39;country&#39;),\n (&#39;Год_Поступления&#39;, &#39;region&#39;),\n (&#39;Год_Поступления&#39;, &#39;city&#39;),\n (&#39;Год_Поступления&#39;, &#39;parents_country&#39;),\n (&#39;Год_Окончания_УЗ&#39;, &#39;Пособие&#39;),\n (&#39;Год_Окончания_УЗ&#39;, &#39;Общежитие&#39;),\n (&#39;Год_Окончания_УЗ&#39;, &#39;Наличие_Матери&#39;),\n (&#39;Год_Окончания_УЗ&#39;, &#39;Наличие_Отца&#39;),\n (&#39;Год_Окончания_УЗ&#39;, &#39;Опекунство&#39;),\n (&#39;Год_Окончания_УЗ&#39;, &#39;Село&#39;),\n (&#39;Год_Окончания_УЗ&#39;, &#39;Иностранец&#39;),\n (&#39;Год_Окончания_УЗ&#39;, &#39;КодФакультета&#39;),\n (&#39;Год_Окончания_УЗ&#39;, &#39;СрБаллАттестата&#39;),\n (&#39;Год_Окончания_УЗ&#39;, &#39;male&#39;),\n (&#39;Год_Окончания_УЗ&#39;, &#39;female&#39;),\n (&#39;Год_Окончания_УЗ&#39;, &#39;sex_summ&#39;),\n (&#39;Год_Окончания_УЗ&#39;, &#39;birth_year_int&#39;),\n (&#39;Год_Окончания_УЗ&#39;, &#39;basis&#39;),\n (&#39;Год_Окончания_УЗ&#39;, &#39;language&#39;),\n (&#39;Год_Окончания_УЗ&#39;, &#39;country&#39;),\n (&#39;Год_Окончания_УЗ&#39;, &#39;region&#39;),\n (&#39;Год_Окончания_УЗ&#39;, &#39;city&#39;),\n (&#39;Год_Окончания_УЗ&#39;, &#39;parents_country&#39;),\n (&#39;Пособие&#39;, &#39;Общежитие&#39;),\n (&#39;Пособие&#39;, &#39;Наличие_Матери&#39;),\n (&#39;Пособие&#39;, &#39;Наличие_Отца&#39;),\n (&#39;Пособие&#39;, &#39;Опекунство&#39;),\n (&#39;Пособие&#39;, &#39;Село&#39;),\n (&#39;Пособие&#39;, &#39;Иностранец&#39;),\n (&#39;Пособие&#39;, &#39;КодФакультета&#39;),\n (&#39;Пособие&#39;, &#39;СрБаллАттестата&#39;),\n (&#39;Пособие&#39;, &#39;male&#39;),\n (&#39;Пособие&#39;, &#39;female&#39;),\n (&#39;Пособие&#39;, &#39;sex_summ&#39;),\n (&#39;Пособие&#39;, &#39;birth_year_int&#39;),\n (&#39;Пособие&#39;, &#39;basis&#39;),\n (&#39;Пособие&#39;, &#39;language&#39;),\n (&#39;Пособие&#39;, &#39;country&#39;),\n (&#39;Пособие&#39;, &#39;region&#39;),\n (&#39;Пособие&#39;, &#39;city&#39;),\n (&#39;Пособие&#39;, &#39;parents_country&#39;),\n (&#39;Общежитие&#39;, &#39;Наличие_Матери&#39;),\n (&#39;Общежитие&#39;, &#39;Наличие_Отца&#39;),\n (&#39;Общежитие&#39;, &#39;Опекунство&#39;),\n (&#39;Общежитие&#39;, &#39;Село&#39;),\n (&#39;Общежитие&#39;, &#39;Иностранец&#39;),\n (&#39;Общежитие&#39;, &#39;КодФакультета&#39;),\n (&#39;Общежитие&#39;, &#39;СрБаллАттестата&#39;),\n (&#39;Общежитие&#39;, &#39;male&#39;),\n (&#39;Общежитие&#39;, &#39;female&#39;),\n (&#39;Общежитие&#39;, &#39;sex_summ&#39;),\n (&#39;Общежитие&#39;, &#39;birth_year_int&#39;),\n (&#39;Общежитие&#39;, &#39;basis&#39;),\n (&#39;Общежитие&#39;, &#39;language&#39;),\n (&#39;Общежитие&#39;, &#39;country&#39;),\n (&#39;Общежитие&#39;, &#39;region&#39;),\n (&#39;Общежитие&#39;, &#39;city&#39;),\n (&#39;Общежитие&#39;, &#39;parents_country&#39;),\n (&#39;Наличие_Матери&#39;, &#39;Наличие_Отца&#39;),\n (&#39;Наличие_Матери&#39;, &#39;Опекунство&#39;),\n (&#39;Наличие_Матери&#39;, &#39;Село&#39;),\n (&#39;Наличие_Матери&#39;, &#39;Иностранец&#39;),\n (&#39;Наличие_Матери&#39;, &#39;КодФакультета&#39;),\n (&#39;Наличие_Матери&#39;, &#39;СрБаллАттестата&#39;),\n (&#39;Наличие_Матери&#39;, &#39;male&#39;),\n (&#39;Наличие_Матери&#39;, &#39;female&#39;),\n (&#39;Наличие_Матери&#39;, &#39;sex_summ&#39;),\n (&#39;Наличие_Матери&#39;, &#39;birth_year_int&#39;),\n (&#39;Наличие_Матери&#39;, &#39;basis&#39;),\n (&#39;Наличие_Матери&#39;, &#39;language&#39;),\n (&#39;Наличие_Матери&#39;, &#39;country&#39;),\n (&#39;Наличие_Матери&#39;, &#39;region&#39;),\n (&#39;Наличие_Матери&#39;, &#39;city&#39;),\n (&#39;Наличие_Матери&#39;, &#39;parents_country&#39;),\n (&#39;Наличие_Отца&#39;, &#39;Опекунство&#39;),\n (&#39;Наличие_Отца&#39;, &#39;Село&#39;),\n (&#39;Наличие_Отца&#39;, &#39;Иностранец&#39;),\n (&#39;Наличие_Отца&#39;, &#39;КодФакультета&#39;),\n (&#39;Наличие_Отца&#39;, &#39;СрБаллАттестата&#39;),\n (&#39;Наличие_Отца&#39;, &#39;male&#39;),\n (&#39;Наличие_Отца&#39;, &#39;female&#39;),\n (&#39;Наличие_Отца&#39;, &#39;sex_summ&#39;),\n (&#39;Наличие_Отца&#39;, &#39;birth_year_int&#39;),\n (&#39;Наличие_Отца&#39;, &#39;basis&#39;),\n (&#39;Наличие_Отца&#39;, &#39;language&#39;),\n (&#39;Наличие_Отца&#39;, &#39;country&#39;),\n (&#39;Наличие_Отца&#39;, &#39;region&#39;),\n (&#39;Наличие_Отца&#39;, &#39;city&#39;),\n (&#39;Наличие_Отца&#39;, &#39;parents_country&#39;),\n (&#39;Опекунство&#39;, &#39;Село&#39;),\n (&#39;Опекунство&#39;, &#39;Иностранец&#39;),\n (&#39;Опекунство&#39;, &#39;КодФакультета&#39;),\n (&#39;Опекунство&#39;, &#39;СрБаллАттестата&#39;),\n (&#39;Опекунство&#39;, &#39;male&#39;),\n (&#39;Опекунство&#39;, &#39;female&#39;),\n (&#39;Опекунство&#39;, &#39;sex_summ&#39;),\n (&#39;Опекунство&#39;, &#39;birth_year_int&#39;),\n (&#39;Опекунство&#39;, &#39;basis&#39;),\n (&#39;Опекунство&#39;, &#39;language&#39;),\n (&#39;Опекунство&#39;, &#39;country&#39;),\n (&#39;Опекунство&#39;, &#39;region&#39;),\n (&#39;Опекунство&#39;, &#39;city&#39;),\n (&#39;Опекунство&#39;, &#39;parents_country&#39;),\n (&#39;Село&#39;, &#39;Иностранец&#39;),\n (&#39;Село&#39;, &#39;КодФакультета&#39;),\n (&#39;Село&#39;, &#39;СрБаллАттестата&#39;),\n (&#39;Село&#39;, &#39;male&#39;),\n (&#39;Село&#39;, &#39;female&#39;),\n (&#39;Село&#39;, &#39;sex_summ&#39;),\n (&#39;Село&#39;, &#39;birth_year_int&#39;),\n (&#39;Село&#39;, &#39;basis&#39;),\n (&#39;Село&#39;, &#39;language&#39;),\n (&#39;Село&#39;, &#39;country&#39;),\n (&#39;Село&#39;, &#39;region&#39;),\n (&#39;Село&#39;, &#39;city&#39;),\n (&#39;Село&#39;, &#39;parents_country&#39;),\n (&#39;Иностранец&#39;, &#39;КодФакультета&#39;),\n (&#39;Иностранец&#39;, &#39;СрБаллАттестата&#39;),\n (&#39;Иностранец&#39;, &#39;male&#39;),\n (&#39;Иностранец&#39;, &#39;female&#39;),\n (&#39;Иностранец&#39;, &#39;sex_summ&#39;),\n (&#39;Иностранец&#39;, &#39;birth_year_int&#39;),\n (&#39;Иностранец&#39;, &#39;basis&#39;),\n (&#39;Иностранец&#39;, &#39;language&#39;),\n (&#39;Иностранец&#39;, &#39;country&#39;),\n (&#39;Иностранец&#39;, &#39;region&#39;),\n (&#39;Иностранец&#39;, &#39;city&#39;),\n (&#39;Иностранец&#39;, &#39;parents_country&#39;),\n (&#39;КодФакультета&#39;, &#39;СрБаллАттестата&#39;),\n (&#39;КодФакультета&#39;, &#39;male&#39;),\n (&#39;КодФакультета&#39;, &#39;female&#39;),\n (&#39;КодФакультета&#39;, &#39;sex_summ&#39;),\n (&#39;КодФакультета&#39;, &#39;birth_year_int&#39;),\n (&#39;КодФакультета&#39;, &#39;basis&#39;),\n (&#39;КодФакультета&#39;, &#39;language&#39;),\n (&#39;КодФакультета&#39;, &#39;country&#39;),\n (&#39;КодФакультета&#39;, &#39;region&#39;),\n (&#39;КодФакультета&#39;, &#39;city&#39;),\n (&#39;КодФакультета&#39;, &#39;parents_country&#39;),\n (&#39;СрБаллАттестата&#39;, &#39;male&#39;),\n (&#39;СрБаллАттестата&#39;, &#39;female&#39;),\n (&#39;СрБаллАттестата&#39;, &#39;sex_summ&#39;),\n (&#39;СрБаллАттестата&#39;, &#39;birth_year_int&#39;),\n (&#39;СрБаллАттестата&#39;, &#39;basis&#39;),\n (&#39;СрБаллАттестата&#39;, &#39;language&#39;),\n (&#39;СрБаллАттестата&#39;, &#39;country&#39;),\n (&#39;СрБаллАттестата&#39;, &#39;region&#39;),\n (&#39;СрБаллАттестата&#39;, &#39;city&#39;),\n (&#39;СрБаллАттестата&#39;, &#39;parents_country&#39;),\n (&#39;male&#39;, &#39;female&#39;),\n (&#39;male&#39;, &#39;sex_summ&#39;),\n (&#39;male&#39;, &#39;birth_year_int&#39;),\n (&#39;male&#39;, &#39;basis&#39;),\n (&#39;male&#39;, &#39;language&#39;),\n (&#39;male&#39;, &#39;country&#39;),\n (&#39;male&#39;, &#39;region&#39;),\n (&#39;male&#39;, &#39;city&#39;),\n (&#39;male&#39;, &#39;parents_country&#39;),\n (&#39;female&#39;, &#39;sex_summ&#39;),\n (&#39;female&#39;, &#39;birth_year_int&#39;),\n (&#39;female&#39;, &#39;basis&#39;),\n (&#39;female&#39;, &#39;language&#39;),\n (&#39;female&#39;, &#39;country&#39;),\n (&#39;female&#39;, &#39;region&#39;),\n (&#39;female&#39;, &#39;city&#39;),\n (&#39;female&#39;, &#39;parents_country&#39;),\n (&#39;sex_summ&#39;, &#39;birth_year_int&#39;),\n (&#39;sex_summ&#39;, &#39;basis&#39;),\n (&#39;sex_summ&#39;, &#39;language&#39;),\n (&#39;sex_summ&#39;, &#39;country&#39;),\n (&#39;sex_summ&#39;, &#39;region&#39;),\n (&#39;sex_summ&#39;, &#39;city&#39;),\n (&#39;sex_summ&#39;, &#39;parents_country&#39;),\n (&#39;birth_year_int&#39;, &#39;basis&#39;),\n (&#39;birth_year_int&#39;, &#39;language&#39;),\n (&#39;birth_year_int&#39;, &#39;country&#39;),\n (&#39;birth_year_int&#39;, &#39;region&#39;),\n (&#39;birth_year_int&#39;, &#39;city&#39;),\n (&#39;birth_year_int&#39;, &#39;parents_country&#39;),\n (&#39;basis&#39;, &#39;language&#39;),\n (&#39;basis&#39;, &#39;country&#39;),\n (&#39;basis&#39;, &#39;region&#39;),\n (&#39;basis&#39;, &#39;city&#39;),\n (&#39;basis&#39;, &#39;parents_country&#39;),\n (&#39;language&#39;, &#39;country&#39;),\n (&#39;language&#39;, &#39;region&#39;),\n (&#39;language&#39;, &#39;city&#39;),\n (&#39;language&#39;, &#39;parents_country&#39;),\n (&#39;country&#39;, &#39;region&#39;),\n (&#39;country&#39;, &#39;city&#39;),\n (&#39;country&#39;, &#39;parents_country&#39;),\n (&#39;region&#39;, &#39;city&#39;),\n (&#39;region&#39;, &#39;parents_country&#39;),\n (&#39;city&#39;, &#39;parents_country&#39;)]"
     },
     "metadata": {},
     "execution_count": 10
    }
   ],
   "source": [
    "all_combinations"
   ]
  },
  {
   "cell_type": "code",
   "execution_count": 10,
   "metadata": {},
   "outputs": [
    {
     "output_type": "execute_result",
     "data": {
      "text/plain": "              0                 1\n0    Код_группы   Год_Поступления\n1    Код_группы  Год_Окончания_УЗ\n2    Код_группы           Пособие\n3    Код_группы         Общежитие\n4    Код_группы    Наличие_Матери\n..          ...               ...\n226     country              city\n227     country   parents_country\n228      region              city\n229      region   parents_country\n230        city   parents_country\n\n[231 rows x 2 columns]",
      "text/html": "<div>\n<style scoped>\n    .dataframe tbody tr th:only-of-type {\n        vertical-align: middle;\n    }\n\n    .dataframe tbody tr th {\n        vertical-align: top;\n    }\n\n    .dataframe thead th {\n        text-align: right;\n    }\n</style>\n<table border=\"1\" class=\"dataframe\">\n  <thead>\n    <tr style=\"text-align: right;\">\n      <th></th>\n      <th>0</th>\n      <th>1</th>\n    </tr>\n  </thead>\n  <tbody>\n    <tr>\n      <th>0</th>\n      <td>Код_группы</td>\n      <td>Год_Поступления</td>\n    </tr>\n    <tr>\n      <th>1</th>\n      <td>Код_группы</td>\n      <td>Год_Окончания_УЗ</td>\n    </tr>\n    <tr>\n      <th>2</th>\n      <td>Код_группы</td>\n      <td>Пособие</td>\n    </tr>\n    <tr>\n      <th>3</th>\n      <td>Код_группы</td>\n      <td>Общежитие</td>\n    </tr>\n    <tr>\n      <th>4</th>\n      <td>Код_группы</td>\n      <td>Наличие_Матери</td>\n    </tr>\n    <tr>\n      <th>...</th>\n      <td>...</td>\n      <td>...</td>\n    </tr>\n    <tr>\n      <th>226</th>\n      <td>country</td>\n      <td>city</td>\n    </tr>\n    <tr>\n      <th>227</th>\n      <td>country</td>\n      <td>parents_country</td>\n    </tr>\n    <tr>\n      <th>228</th>\n      <td>region</td>\n      <td>city</td>\n    </tr>\n    <tr>\n      <th>229</th>\n      <td>region</td>\n      <td>parents_country</td>\n    </tr>\n    <tr>\n      <th>230</th>\n      <td>city</td>\n      <td>parents_country</td>\n    </tr>\n  </tbody>\n</table>\n<p>231 rows × 2 columns</p>\n</div>"
     },
     "metadata": {},
     "execution_count": 10
    }
   ],
   "source": [
    "combinations_frame = pd.DataFrame(all_combinations, columns=range(elements_num))\n",
    "combinations_frame\n"
   ]
  },
  {
   "cell_type": "code",
   "execution_count": 11,
   "metadata": {},
   "outputs": [],
   "source": [
    "def get_accuracy(frame_to_train):\n",
    "    train, test = train_test_split(frame_to_train, test_size=0.20)\n",
    "    \n",
    "    train_input = train.drop(control_col, axis=1)    \n",
    "    train_output = train[control_col]\n",
    "\n",
    "    test_input = test.drop(control_col, axis=1)\n",
    "    test_output = test[control_col]\n",
    "\n",
    "    clf = RandomForestClassifier(random_state=0)\n",
    "    clf.fit(train_input, train_output)\n",
    "    pred = clf.predict(test_input)\n",
    "    f1 = f1_score(test_output, pred, average='macro', zero_division = 0)\n",
    "    vac_f1 = classification_report(test_output, pred, output_dict=True)['1']['f1-score']\n",
    "    return vac_f1"
   ]
  },
  {
   "cell_type": "code",
   "execution_count": 12,
   "metadata": {},
   "outputs": [],
   "source": [
    "def itter_from_frame(row):\n",
    "    frame_columns = row.dropna().to_list()\n",
    "    frame_columns.append(control_col)\n",
    "    frame_to_train = base_df.loc[:, frame_columns]\n",
    "    return get_accuracy(frame_to_train)"
   ]
  },
  {
   "cell_type": "code",
   "execution_count": 13,
   "metadata": {},
   "outputs": [],
   "source": [
    "\n",
    "start, stop = 0, comb_size\n",
    "combinations_frame.loc[start:stop, 'accuracy'] = combinations_frame.iloc[start:stop, :].apply(itter_from_frame, axis=1)"
   ]
  },
  {
   "cell_type": "code",
   "execution_count": 14,
   "metadata": {},
   "outputs": [
    {
     "output_type": "execute_result",
     "data": {
      "text/plain": "                  0                 1  accuracy\n0        Код_группы   Год_Поступления  0.478261\n1        Код_группы  Год_Окончания_УЗ  0.495050\n2        Код_группы           Пособие  0.530973\n3        Код_группы         Общежитие  0.515556\n4        Код_группы    Наличие_Матери  0.566667\n5        Код_группы      Наличие_Отца  0.466667\n6        Код_группы        Опекунство  0.516432\n7        Код_группы              Село  0.574074\n8        Код_группы        Иностранец  0.495238\n9        Код_группы     КодФакультета  0.467290\n10       Код_группы   СрБаллАттестата  0.478469\n11       Код_группы              male  0.506122\n12       Код_группы            female  0.533333\n13       Код_группы          sex_summ  0.473684\n14       Код_группы    birth_year_int  0.451327\n15       Код_группы             basis  0.489796\n16       Код_группы          language  0.524017\n17       Код_группы           country  0.514056\n18       Код_группы            region  0.455357\n19       Код_группы              city  0.426667\n20       Код_группы   parents_country  0.455959\n21  Год_Поступления  Год_Окончания_УЗ  0.045455\n22  Год_Поступления           Пособие  0.000000\n23  Год_Поступления         Общежитие  0.000000\n24  Год_Поступления    Наличие_Матери  0.000000\n25  Год_Поступления      Наличие_Отца  0.000000\n26  Год_Поступления        Опекунство  0.000000\n27  Год_Поступления              Село  0.000000\n28  Год_Поступления        Иностранец  0.000000\n29  Год_Поступления     КодФакультета  0.042857",
      "text/html": "<div>\n<style scoped>\n    .dataframe tbody tr th:only-of-type {\n        vertical-align: middle;\n    }\n\n    .dataframe tbody tr th {\n        vertical-align: top;\n    }\n\n    .dataframe thead th {\n        text-align: right;\n    }\n</style>\n<table border=\"1\" class=\"dataframe\">\n  <thead>\n    <tr style=\"text-align: right;\">\n      <th></th>\n      <th>0</th>\n      <th>1</th>\n      <th>accuracy</th>\n    </tr>\n  </thead>\n  <tbody>\n    <tr>\n      <th>0</th>\n      <td>Код_группы</td>\n      <td>Год_Поступления</td>\n      <td>0.478261</td>\n    </tr>\n    <tr>\n      <th>1</th>\n      <td>Код_группы</td>\n      <td>Год_Окончания_УЗ</td>\n      <td>0.495050</td>\n    </tr>\n    <tr>\n      <th>2</th>\n      <td>Код_группы</td>\n      <td>Пособие</td>\n      <td>0.530973</td>\n    </tr>\n    <tr>\n      <th>3</th>\n      <td>Код_группы</td>\n      <td>Общежитие</td>\n      <td>0.515556</td>\n    </tr>\n    <tr>\n      <th>4</th>\n      <td>Код_группы</td>\n      <td>Наличие_Матери</td>\n      <td>0.566667</td>\n    </tr>\n    <tr>\n      <th>5</th>\n      <td>Код_группы</td>\n      <td>Наличие_Отца</td>\n      <td>0.466667</td>\n    </tr>\n    <tr>\n      <th>6</th>\n      <td>Код_группы</td>\n      <td>Опекунство</td>\n      <td>0.516432</td>\n    </tr>\n    <tr>\n      <th>7</th>\n      <td>Код_группы</td>\n      <td>Село</td>\n      <td>0.574074</td>\n    </tr>\n    <tr>\n      <th>8</th>\n      <td>Код_группы</td>\n      <td>Иностранец</td>\n      <td>0.495238</td>\n    </tr>\n    <tr>\n      <th>9</th>\n      <td>Код_группы</td>\n      <td>КодФакультета</td>\n      <td>0.467290</td>\n    </tr>\n    <tr>\n      <th>10</th>\n      <td>Код_группы</td>\n      <td>СрБаллАттестата</td>\n      <td>0.478469</td>\n    </tr>\n    <tr>\n      <th>11</th>\n      <td>Код_группы</td>\n      <td>male</td>\n      <td>0.506122</td>\n    </tr>\n    <tr>\n      <th>12</th>\n      <td>Код_группы</td>\n      <td>female</td>\n      <td>0.533333</td>\n    </tr>\n    <tr>\n      <th>13</th>\n      <td>Код_группы</td>\n      <td>sex_summ</td>\n      <td>0.473684</td>\n    </tr>\n    <tr>\n      <th>14</th>\n      <td>Код_группы</td>\n      <td>birth_year_int</td>\n      <td>0.451327</td>\n    </tr>\n    <tr>\n      <th>15</th>\n      <td>Код_группы</td>\n      <td>basis</td>\n      <td>0.489796</td>\n    </tr>\n    <tr>\n      <th>16</th>\n      <td>Код_группы</td>\n      <td>language</td>\n      <td>0.524017</td>\n    </tr>\n    <tr>\n      <th>17</th>\n      <td>Код_группы</td>\n      <td>country</td>\n      <td>0.514056</td>\n    </tr>\n    <tr>\n      <th>18</th>\n      <td>Код_группы</td>\n      <td>region</td>\n      <td>0.455357</td>\n    </tr>\n    <tr>\n      <th>19</th>\n      <td>Код_группы</td>\n      <td>city</td>\n      <td>0.426667</td>\n    </tr>\n    <tr>\n      <th>20</th>\n      <td>Код_группы</td>\n      <td>parents_country</td>\n      <td>0.455959</td>\n    </tr>\n    <tr>\n      <th>21</th>\n      <td>Год_Поступления</td>\n      <td>Год_Окончания_УЗ</td>\n      <td>0.045455</td>\n    </tr>\n    <tr>\n      <th>22</th>\n      <td>Год_Поступления</td>\n      <td>Пособие</td>\n      <td>0.000000</td>\n    </tr>\n    <tr>\n      <th>23</th>\n      <td>Год_Поступления</td>\n      <td>Общежитие</td>\n      <td>0.000000</td>\n    </tr>\n    <tr>\n      <th>24</th>\n      <td>Год_Поступления</td>\n      <td>Наличие_Матери</td>\n      <td>0.000000</td>\n    </tr>\n    <tr>\n      <th>25</th>\n      <td>Год_Поступления</td>\n      <td>Наличие_Отца</td>\n      <td>0.000000</td>\n    </tr>\n    <tr>\n      <th>26</th>\n      <td>Год_Поступления</td>\n      <td>Опекунство</td>\n      <td>0.000000</td>\n    </tr>\n    <tr>\n      <th>27</th>\n      <td>Год_Поступления</td>\n      <td>Село</td>\n      <td>0.000000</td>\n    </tr>\n    <tr>\n      <th>28</th>\n      <td>Год_Поступления</td>\n      <td>Иностранец</td>\n      <td>0.000000</td>\n    </tr>\n    <tr>\n      <th>29</th>\n      <td>Год_Поступления</td>\n      <td>КодФакультета</td>\n      <td>0.042857</td>\n    </tr>\n  </tbody>\n</table>\n</div>"
     },
     "metadata": {},
     "execution_count": 14
    }
   ],
   "source": [
    "combinations_frame.head(30)"
   ]
  },
  {
   "cell_type": "code",
   "execution_count": 15,
   "metadata": {},
   "outputs": [
    {
     "output_type": "execute_result",
     "data": {
      "text/plain": "count    231.000000\nmean       0.056845\nstd        0.141917\nmin        0.000000\n25%        0.000000\n50%        0.000000\n75%        0.028073\nmax        0.574074\nName: accuracy, dtype: float64"
     },
     "metadata": {},
     "execution_count": 15
    }
   ],
   "source": [
    "combinations_frame['accuracy'].describe()"
   ]
  },
  {
   "cell_type": "code",
   "execution_count": 16,
   "metadata": {},
   "outputs": [],
   "source": [
    "rt = combinations_frame.sort_values('accuracy', ascending=False)\n",
    "rt.to_csv(f'data/combinations/columns_from_{min_col}_to_{elements_num}.csv')\n"
   ]
  },
  {
   "cell_type": "code",
   "execution_count": 57,
   "metadata": {},
   "outputs": [],
   "source": [
    "columns = ['Код_группы', 'Год_Окончания_УЗ', '']"
   ]
  },
  {
   "cell_type": "code",
   "execution_count": 58,
   "metadata": {},
   "outputs": [],
   "source": [
    "frame_columns = columns\n",
    "frame_columns.append(control_col)\n",
    "frame_to_train = base_df.loc[:, columns]"
   ]
  },
  {
   "cell_type": "code",
   "execution_count": 59,
   "metadata": {},
   "outputs": [
    {
     "output_type": "execute_result",
     "data": {
      "text/plain": "0.7150665508895125"
     },
     "metadata": {},
     "execution_count": 59
    }
   ],
   "source": [
    "train, test = train_test_split(frame_to_train, test_size=0.20)\n",
    "\n",
    "train_input = train.drop(control_col, axis=1)    \n",
    "train_output = train[control_col]\n",
    "\n",
    "test_input = test.drop(control_col, axis=1)\n",
    "test_output = test[control_col]\n",
    "\n",
    "clf = RandomForestClassifier(random_state=0)\n",
    "clf.fit(train_input, train_output)\n",
    "pred = clf.predict(test_input)\n",
    "f1_score(test_output, pred, labels=[0,1], average='macro', zero_division = 0)"
   ]
  },
  {
   "cell_type": "code",
   "execution_count": 60,
   "metadata": {
    "tags": []
   },
   "outputs": [
    {
     "output_type": "stream",
     "name": "stdout",
     "text": "              precision    recall  f1-score   support\n\n           0       0.97      0.98      0.98      2579\n           1       0.57      0.38      0.45       138\n\n    accuracy                           0.95      2717\n   macro avg       0.77      0.68      0.72      2717\nweighted avg       0.95      0.95      0.95      2717\n\n"
    }
   ],
   "source": [
    "report = classification_report(test_output, pred, output_dict=False)\n",
    "print(report)"
   ]
  },
  {
   "cell_type": "code",
   "execution_count": 40,
   "metadata": {
    "tags": []
   },
   "outputs": [
    {
     "output_type": "stream",
     "name": "stdout",
     "text": "0.4782608695652174\n"
    }
   ],
   "source": [
    "report = classification_report(test_output, pred, output_dict=True)\n",
    "print(report['1']['f1-score'])"
   ]
  },
  {
   "cell_type": "code",
   "execution_count": 41,
   "metadata": {},
   "outputs": [
    {
     "output_type": "execute_result",
     "data": {
      "text/plain": "0.4782608695652174"
     },
     "metadata": {},
     "execution_count": 41
    }
   ],
   "source": [
    "classification_report(test_output, pred, output_dict=True)['1']['f1-score']"
   ]
  },
  {
   "cell_type": "code",
   "execution_count": null,
   "metadata": {},
   "outputs": [],
   "source": []
  },
  {
   "cell_type": "code",
   "execution_count": 53,
   "metadata": {},
   "outputs": [
    {
     "output_type": "execute_result",
     "data": {
      "text/plain": "                 accuracy\n                 &lt;lambda&gt;\n0                        \nbasis                True\nbirth_year_int       True\ncity                 True\ncountry              True\nfemale               True\nlanguage             True\nmale                 True\nregion               True\nsex_summ             True\nГод_Окончания_УЗ     True\nГод_Поступления      True\nИностранец           True\nКод_группы          False\nКодФакультета        True\nНаличие_Матери       True\nНаличие_Отца         True\nОбщежитие            True\nОпекунство           True\nПособие              True\nСело                 True\nСрБаллАттестата      True",
      "text/html": "<div>\n<style scoped>\n    .dataframe tbody tr th:only-of-type {\n        vertical-align: middle;\n    }\n\n    .dataframe tbody tr th {\n        vertical-align: top;\n    }\n\n    .dataframe thead tr th {\n        text-align: left;\n    }\n\n    .dataframe thead tr:last-of-type th {\n        text-align: right;\n    }\n</style>\n<table border=\"1\" class=\"dataframe\">\n  <thead>\n    <tr>\n      <th></th>\n      <th>accuracy</th>\n    </tr>\n    <tr>\n      <th></th>\n      <th>&lt;lambda&gt;</th>\n    </tr>\n    <tr>\n      <th>0</th>\n      <th></th>\n    </tr>\n  </thead>\n  <tbody>\n    <tr>\n      <th>basis</th>\n      <td>True</td>\n    </tr>\n    <tr>\n      <th>birth_year_int</th>\n      <td>True</td>\n    </tr>\n    <tr>\n      <th>city</th>\n      <td>True</td>\n    </tr>\n    <tr>\n      <th>country</th>\n      <td>True</td>\n    </tr>\n    <tr>\n      <th>female</th>\n      <td>True</td>\n    </tr>\n    <tr>\n      <th>language</th>\n      <td>True</td>\n    </tr>\n    <tr>\n      <th>male</th>\n      <td>True</td>\n    </tr>\n    <tr>\n      <th>region</th>\n      <td>True</td>\n    </tr>\n    <tr>\n      <th>sex_summ</th>\n      <td>True</td>\n    </tr>\n    <tr>\n      <th>Год_Окончания_УЗ</th>\n      <td>True</td>\n    </tr>\n    <tr>\n      <th>Год_Поступления</th>\n      <td>True</td>\n    </tr>\n    <tr>\n      <th>Иностранец</th>\n      <td>True</td>\n    </tr>\n    <tr>\n      <th>Код_группы</th>\n      <td>False</td>\n    </tr>\n    <tr>\n      <th>КодФакультета</th>\n      <td>True</td>\n    </tr>\n    <tr>\n      <th>Наличие_Матери</th>\n      <td>True</td>\n    </tr>\n    <tr>\n      <th>Наличие_Отца</th>\n      <td>True</td>\n    </tr>\n    <tr>\n      <th>Общежитие</th>\n      <td>True</td>\n    </tr>\n    <tr>\n      <th>Опекунство</th>\n      <td>True</td>\n    </tr>\n    <tr>\n      <th>Пособие</th>\n      <td>True</td>\n    </tr>\n    <tr>\n      <th>Село</th>\n      <td>True</td>\n    </tr>\n    <tr>\n      <th>СрБаллАттестата</th>\n      <td>True</td>\n    </tr>\n  </tbody>\n</table>\n</div>"
     },
     "metadata": {},
     "execution_count": 53
    }
   ],
   "source": [
    "combinations_frame.groupby([0]).mean().agg([lambda x: x < 0.2])\n"
   ]
  },
  {
   "cell_type": "code",
   "execution_count": 67,
   "metadata": {},
   "outputs": [
    {
     "output_type": "execute_result",
     "data": {
      "text/plain": "                 accuracy\n                 &lt;lambda&gt;\n1                        \nbasis               False\nbirth_year_int      False\ncity                False\ncountry              True\nfemale               True\nlanguage             True\nmale                 True\nparents_country     False\nregion              False\nsex_summ            False\nГод_Окончания_УЗ    False\nГод_Поступления     False\nИностранец          False\nКодФакультета       False\nНаличие_Матери       True\nНаличие_Отца        False\nОбщежитие            True\nОпекунство           True\nПособие              True\nСело                 True\nСрБаллАттестата     False",
      "text/html": "<div>\n<style scoped>\n    .dataframe tbody tr th:only-of-type {\n        vertical-align: middle;\n    }\n\n    .dataframe tbody tr th {\n        vertical-align: top;\n    }\n\n    .dataframe thead tr th {\n        text-align: left;\n    }\n\n    .dataframe thead tr:last-of-type th {\n        text-align: right;\n    }\n</style>\n<table border=\"1\" class=\"dataframe\">\n  <thead>\n    <tr>\n      <th></th>\n      <th>accuracy</th>\n    </tr>\n    <tr>\n      <th></th>\n      <th>&lt;lambda&gt;</th>\n    </tr>\n    <tr>\n      <th>1</th>\n      <th></th>\n    </tr>\n  </thead>\n  <tbody>\n    <tr>\n      <th>basis</th>\n      <td>False</td>\n    </tr>\n    <tr>\n      <th>birth_year_int</th>\n      <td>False</td>\n    </tr>\n    <tr>\n      <th>city</th>\n      <td>False</td>\n    </tr>\n    <tr>\n      <th>country</th>\n      <td>True</td>\n    </tr>\n    <tr>\n      <th>female</th>\n      <td>True</td>\n    </tr>\n    <tr>\n      <th>language</th>\n      <td>True</td>\n    </tr>\n    <tr>\n      <th>male</th>\n      <td>True</td>\n    </tr>\n    <tr>\n      <th>parents_country</th>\n      <td>False</td>\n    </tr>\n    <tr>\n      <th>region</th>\n      <td>False</td>\n    </tr>\n    <tr>\n      <th>sex_summ</th>\n      <td>False</td>\n    </tr>\n    <tr>\n      <th>Год_Окончания_УЗ</th>\n      <td>False</td>\n    </tr>\n    <tr>\n      <th>Год_Поступления</th>\n      <td>False</td>\n    </tr>\n    <tr>\n      <th>Иностранец</th>\n      <td>False</td>\n    </tr>\n    <tr>\n      <th>КодФакультета</th>\n      <td>False</td>\n    </tr>\n    <tr>\n      <th>Наличие_Матери</th>\n      <td>True</td>\n    </tr>\n    <tr>\n      <th>Наличие_Отца</th>\n      <td>False</td>\n    </tr>\n    <tr>\n      <th>Общежитие</th>\n      <td>True</td>\n    </tr>\n    <tr>\n      <th>Опекунство</th>\n      <td>True</td>\n    </tr>\n    <tr>\n      <th>Пособие</th>\n      <td>True</td>\n    </tr>\n    <tr>\n      <th>Село</th>\n      <td>True</td>\n    </tr>\n    <tr>\n      <th>СрБаллАттестата</th>\n      <td>False</td>\n    </tr>\n  </tbody>\n</table>\n</div>"
     },
     "metadata": {},
     "execution_count": 67
    }
   ],
   "source": [
    "combinations_frame.groupby([1]).max().agg([lambda x: x > 0.5])"
   ]
  },
  {
   "cell_type": "code",
   "execution_count": null,
   "metadata": {},
   "outputs": [],
   "source": []
  }
 ],
 "metadata": {
  "kernelspec": {
   "display_name": "Python 3 (ipykernel)",
   "language": "python",
   "name": "python3"
  },
  "language_info": {
   "codemirror_mode": {
    "name": "ipython",
    "version": 3
   },
   "file_extension": ".py",
   "mimetype": "text/x-python",
   "name": "python",
   "nbconvert_exporter": "python",
   "pygments_lexer": "ipython3",
   "version": "3.8.5-final"
  },
  "orig_nbformat": 4,
  "vscode": {
   "interpreter": {
    "hash": "51c73a6595d20bbc39952c03157596619c73f94de3e8d7812583abf83cf493bf"
   }
  }
 },
 "nbformat": 4,
 "nbformat_minor": 2
}
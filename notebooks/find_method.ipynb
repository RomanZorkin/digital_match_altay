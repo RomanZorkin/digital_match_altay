{
 "cells": [
  {
   "cell_type": "code",
   "execution_count": 1,
   "metadata": {},
   "outputs": [],
   "source": [
    "from itertools import combinations\n",
    "\n",
    "import matplotlib.pyplot as plt\n",
    "import numpy as np\n",
    "import pandas as pd\n",
    "from sklearn import ensemble \n",
    "from sklearn.ensemble import RandomForestClassifier, ExtraTreesClassifier\n",
    "from sklearn.metrics import classification_report, f1_score\n",
    "from sklearn.model_selection import train_test_split\n",
    "from sklearn.preprocessing import MinMaxScaler"
   ]
  },
  {
   "cell_type": "code",
   "execution_count": 2,
   "metadata": {},
   "outputs": [],
   "source": [
    "models = {\n",
    "    #ensemble.AdaBoostClassifier: 1,\n",
    "    #ensemble.AdaBoostRegressor: 2,\n",
    "    ensemble.BaggingClassifier: 1,\n",
    "    #ensemble.BaggingRegressor,\n",
    "    #ensemble.ExtraTreesClassifier: (),\n",
    "    #ensemble.ExtraTreesRegressor,\n",
    "    ensemble.GradientBoostingClassifier: 2,\n",
    "    ensemble.RandomForestClassifier: 1,\n",
    "    #ensemble.RandomForestRegressor,\n",
    "    #ensemble.RandomTreesEmbedding,\n",
    "    #ensemble.HistGradientBoostingRegressor,\n",
    "    #ensemble.HistGradientBoostingClassifier: (),\n",
    "}"
   ]
  },
  {
   "cell_type": "code",
   "execution_count": 3,
   "metadata": {},
   "outputs": [
    {
     "data": {
      "text/plain": [
       "Index([&#39;ID&#39;, &#39;Код_группы&#39;, &#39;Год_Поступления&#39;, &#39;Год_Окончания_УЗ&#39;, &#39;Пособие&#39;,\n",
       "       &#39;Общежитие&#39;, &#39;Наличие_Матери&#39;, &#39;Наличие_Отца&#39;, &#39;Опекунство&#39;, &#39;Село&#39;,\n",
       "       &#39;Иностранец&#39;, &#39;КодФакультета&#39;, &#39;СрБаллАттестата&#39;, &#39;Статус&#39;,\n",
       "       &#39;vacation_status&#39;, &#39;non_vacation_status&#39;, &#39;male&#39;, &#39;female&#39;, &#39;sex_summ&#39;,\n",
       "       &#39;birth_year_int&#39;, &#39;basis&#39;, &#39;language&#39;, &#39;country&#39;, &#39;region&#39;, &#39;city&#39;,\n",
       "       &#39;parents_country&#39;],\n",
       "      dtype=&#39;object&#39;)"
      ]
     },
     "execution_count": 3,
     "metadata": {},
     "output_type": "execute_result"
    }
   ],
   "source": [
    "base_df = pd.read_csv('data/clean_frame.csv', index_col='ind')\n",
    "base_df.columns"
   ]
  },
  {
   "cell_type": "code",
   "execution_count": 4,
   "metadata": {},
   "outputs": [],
   "source": [
    "columns = ['Код_группы','Пособие','Наличие_Матери','КодФакультета','basis','country','Статус', 'non_vacation_status', 'vacation_status']\n",
    "#columns = base_df.columns.to_list()\n",
    "priznaki = len(columns)"
   ]
  },
  {
   "cell_type": "code",
   "execution_count": 5,
   "metadata": {},
   "outputs": [],
   "source": [
    "frame_to_train = base_df.loc[:, columns]"
   ]
  },
  {
   "cell_type": "code",
   "execution_count": 6,
   "metadata": {},
   "outputs": [],
   "source": [
    "train, test = train_test_split(frame_to_train, test_size=0.20)"
   ]
  },
  {
   "cell_type": "code",
   "execution_count": 7,
   "metadata": {},
   "outputs": [],
   "source": [
    "train_input = train.drop(['Статус', 'non_vacation_status', 'vacation_status'], axis=1)\n",
    "train_output = train['Статус']"
   ]
  },
  {
   "cell_type": "code",
   "execution_count": 8,
   "metadata": {},
   "outputs": [],
   "source": [
    "test_input = test.drop(['Статус', 'non_vacation_status', 'vacation_status'], axis=1)\n",
    "test_output = test['Статус']"
   ]
  },
  {
   "cell_type": "markdown",
   "metadata": {},
   "source": [
    "## Цикл классификаторов"
   ]
  },
  {
   "cell_type": "code",
   "execution_count": 10,
   "metadata": {
    "tags": []
   },
   "outputs": [
    {
     "name": "stdout",
     "output_type": "stream",
     "text": [
      "&lt;class &#39;sklearn.ensemble._bagging.BaggingClassifier&#39;&gt;\n",
      "&lt;class &#39;sklearn.ensemble._gb.GradientBoostingClassifier&#39;&gt;\n",
      "&lt;class &#39;sklearn.ensemble._forest.RandomForestClassifier&#39;&gt;\n"
     ]
    },
    {
     "data": {
      "text/plain": [
       "[0.7709393810662554, 0.7803121270645033, 0.7734545192041248]"
      ]
     },
     "execution_count": 10,
     "metadata": {},
     "output_type": "execute_result"
    }
   ],
   "source": [
    "accure_list = []\n",
    "for model, config in models.items():\n",
    "    print(model)\n",
    "    if config == 1:\n",
    "        clf_cycle = model(random_state=0)\n",
    "    if config == 2:\n",
    "        clf_cycle = model(n_estimators=100, learning_rate=0.5, max_depth=20, random_state=0)\n",
    "    clf_cycle.fit(train_input, train_output)\n",
    "    pred_cycle =  clf_cycle.predict(test_input)\n",
    "    accure_cycle = f1_score(test_output, pred_cycle, average='macro', zero_division = 0)\n",
    "    accure_list.append(accure_cycle)\n",
    "accure_list"
   ]
  },
  {
   "cell_type": "code",
   "execution_count": null,
   "metadata": {},
   "outputs": [],
   "source": []
  }
 ],
 "metadata": {
  "kernelspec": {
   "display_name": "Python 3.10.0 ('venv': venv)",
   "language": "python",
   "name": "python3"
  },
  "language_info": {
   "codemirror_mode": {
    "name": "ipython",
    "version": 3
   },
   "file_extension": ".py",
   "mimetype": "text/x-python",
   "name": "python",
   "nbconvert_exporter": "python",
   "pygments_lexer": "ipython3",
   "version": "3.10.0"
  },
  "orig_nbformat": 2,
  "vscode": {
   "interpreter": {
    "hash": "51c73a6595d20bbc39952c03157596619c73f94de3e8d7812583abf83cf493bf"
   }
  }
 },
 "nbformat": 4,
 "nbformat_minor": 2
}

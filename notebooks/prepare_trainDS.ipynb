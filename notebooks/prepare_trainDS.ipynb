{
 "cells": [
  {
   "cell_type": "code",
   "execution_count": null,
   "metadata": {},
   "outputs": [],
   "source": [
    "import datetime\n",
    "from pathlib import Path\n",
    "\n",
    "import matplotlib.pyplot as plt\n",
    "import matplotlib as mpl\n",
    "import numpy as np\n",
    "import pandas as pd\n",
    "import seaborn as sns\n",
    "from sklearn.preprocessing import MinMaxScaler"
   ]
  },
  {
   "cell_type": "markdown",
   "metadata": {},
   "source": [
    "ССылки на файлы"
   ]
  },
  {
   "cell_type": "code",
   "execution_count": null,
   "metadata": {},
   "outputs": [],
   "source": [
    "ASU_dataset = Path('data/train_dataset_train.csv')"
   ]
  },
  {
   "cell_type": "markdown",
   "metadata": {},
   "source": [
    "Загрузка баового датасета"
   ]
  },
  {
   "cell_type": "code",
   "execution_count": null,
   "metadata": {},
   "outputs": [],
   "source": [
    "\n",
    "asu_frame = pd.read_csv(ASU_dataset)\n",
    "asu_frame.head(2)"
   ]
  },
  {
   "cell_type": "code",
   "execution_count": null,
   "metadata": {},
   "outputs": [],
   "source": [
    "asu_frame.shape"
   ]
  },
  {
   "cell_type": "code",
   "execution_count": null,
   "metadata": {},
   "outputs": [],
   "source": [
    "asu_frame['one'] = 0\n",
    "asu_frame['three'] = 0\n",
    "asu_frame['four'] = 0\n",
    "asu_frame.loc[asu_frame['Статус'] == -1, 'one'] = -1\n",
    "asu_frame.loc[asu_frame['Статус'] == 3, 'three'] = 3\n",
    "asu_frame.loc[asu_frame['Статус'] == 4, 'four'] = 4\n"
   ]
  },
  {
   "cell_type": "markdown",
   "metadata": {},
   "source": [
    "Очистка значений датафрейма"
   ]
  },
  {
   "cell_type": "code",
   "execution_count": null,
   "metadata": {},
   "outputs": [],
   "source": [
    "asu_frame.loc[asu_frame['Пол'] == 'муж', 'Пол'] = 'Муж'"
   ]
  },
  {
   "cell_type": "code",
   "execution_count": null,
   "metadata": {},
   "outputs": [],
   "source": [
    "asu_frame['male'] = 0\n",
    "asu_frame['female'] = 0\n",
    "\n",
    "asu_frame.loc[asu_frame['Пол'] == 'Муж', 'male'] = 1\n",
    "asu_frame.loc[asu_frame['Пол'] == 'Жен', 'female'] = 1\n",
    "asu_frame['sex_summ'] = asu_frame['male'] + asu_frame['female']\n",
    "asu_frame.loc[asu_frame['sex_summ'] != 1].shape[0]"
   ]
  },
  {
   "cell_type": "code",
   "execution_count": null,
   "metadata": {},
   "outputs": [],
   "source": [
    "#asu_frame['birth_year'] = asu_frame['Дата_Рождения'].dt.to_period('Y')\n",
    "asu_frame['Дата_Рождения']\n",
    "asu_frame['birth_year'] = pd.to_datetime(asu_frame['Дата_Рождения'])\n",
    "asu_frame['birth_year'].dt.to_period('Y')\n",
    "asu_frame['birth_year'].all()\n",
    "\n",
    "asu_frame['entrance'] = pd.to_datetime(asu_frame['Год_Поступления'], format='%Y')\n",
    "asu_frame['entrance'].sort_values()\n",
    "\n"
   ]
  },
  {
   "cell_type": "code",
   "execution_count": null,
   "metadata": {},
   "outputs": [],
   "source": [
    "asu_frame['birth_year_int'] = asu_frame['Дата_Рождения'].str.slice(start=0, stop=4).astype('int64')\n",
    "asu_frame['birth_year_int']"
   ]
  },
  {
   "cell_type": "code",
   "execution_count": null,
   "metadata": {},
   "outputs": [],
   "source": [
    "frame_size = asu_frame.shape\n",
    "frame_size"
   ]
  },
  {
   "cell_type": "code",
   "execution_count": null,
   "metadata": {},
   "outputs": [],
   "source": [
    "asu_frame.columns"
   ]
  },
  {
   "cell_type": "code",
   "execution_count": null,
   "metadata": {},
   "outputs": [],
   "source": [
    "asu_frame['Статус']"
   ]
  },
  {
   "cell_type": "code",
   "execution_count": null,
   "metadata": {},
   "outputs": [],
   "source": [
    "asu_frame.groupby('Статус')['Село'].value_counts()"
   ]
  },
  {
   "cell_type": "code",
   "execution_count": null,
   "metadata": {},
   "outputs": [],
   "source": [
    "asu_frame.pivot_table(index='Пол', columns='Статус')"
   ]
  },
  {
   "cell_type": "code",
   "execution_count": null,
   "metadata": {},
   "outputs": [],
   "source": [
    "graduate = asu_frame.loc[asu_frame['Статус'] == 4]['Статус'].count()\n",
    "expelled = asu_frame.loc[asu_frame['Статус'] == 3]['Статус'].count()\n",
    "vacation = asu_frame.loc[asu_frame['Статус'] == -1]['Статус'].count()\n",
    "all_students = frame_size[0]\n",
    "delta = all_students - graduate - expelled - vacation\n",
    "f'Всего позиций {all_students} закончили ВУЗ {graduate}, отчислено {expelled}, каникулы {vacation}. Отклонение по сумме {delta}'"
   ]
  },
  {
   "cell_type": "code",
   "execution_count": null,
   "metadata": {},
   "outputs": [],
   "source": [
    "graduate_frame = asu_frame.loc[asu_frame['Статус'] == 4]\n",
    "graduate_frame"
   ]
  },
  {
   "cell_type": "code",
   "execution_count": null,
   "metadata": {},
   "outputs": [],
   "source": []
  },
  {
   "cell_type": "code",
   "execution_count": null,
   "metadata": {
    "tags": []
   },
   "outputs": [],
   "source": [
    "def doly(x):\n",
    "    \n",
    "    gh = x['ID'].count() / frame_size[0]\n",
    "    print(gh)\n",
    "    return gh\n",
    "\n",
    "asu_frame.groupby(['Пол', 'Статус']).apply(doly)"
   ]
  },
  {
   "cell_type": "code",
   "execution_count": null,
   "metadata": {
    "tags": []
   },
   "outputs": [],
   "source": [
    "asu_frame.loc[asu_frame['СрБаллАттестата'] < 5].groupby(asu_frame['birth_year'].dt.to_period('Y'))['entrance'].describe()"
   ]
  },
  {
   "cell_type": "code",
   "execution_count": null,
   "metadata": {},
   "outputs": [],
   "source": [
    "old_year = datetime.datetime.strptime('1986', '%Y')\n",
    "asu_frame.loc[(asu_frame['birth_year'] < old_year) & (asu_frame['СрБаллАттестата'] > 20)]"
   ]
  },
  {
   "cell_type": "code",
   "execution_count": null,
   "metadata": {},
   "outputs": [],
   "source": [
    "old_year = datetime.datetime.strptime('2004', \"%Y\")\n"
   ]
  },
  {
   "cell_type": "code",
   "execution_count": null,
   "metadata": {},
   "outputs": [],
   "source": [
    "asu_frame.groupby('Код_группы')['ID'].count().max()"
   ]
  },
  {
   "cell_type": "markdown",
   "metadata": {},
   "source": [
    "# Очистка первичного фрейма"
   ]
  },
  {
   "cell_type": "code",
   "execution_count": null,
   "metadata": {},
   "outputs": [],
   "source": [
    "clean_frame = pd.DataFrame()"
   ]
  },
  {
   "cell_type": "code",
   "execution_count": null,
   "metadata": {},
   "outputs": [],
   "source": [
    "clean_frame = asu_frame.copy()"
   ]
  },
  {
   "cell_type": "markdown",
   "metadata": {},
   "source": [
    "Колонка иностранный язык"
   ]
  },
  {
   "cell_type": "code",
   "execution_count": null,
   "metadata": {},
   "outputs": [],
   "source": [
    "clean_frame.loc[clean_frame['Изучаемый_Язык'].isnull(), 'Изучаемый_Язык'] = '-'\n",
    "clean_frame.loc[clean_frame['Изучаемый_Язык'] == 'Англиийский', 'Изучаемый_Язык'] = 'Английский язык'\n",
    "clean_frame.loc[clean_frame['Изучаемый_Язык'] == 'Иностранный язык (Английский)', 'Изучаемый_Язык'] = 'Английский язык'\n",
    "clean_frame.loc[clean_frame['Изучаемый_Язык'] == 'Иностранный язык (Немецкий)', 'Изучаемый_Язык'] = 'Немецкий язык'\n",
    "clean_frame.loc[clean_frame['Изучаемый_Язык'] == 'Русский язык', 'Изучаемый_Язык'] = '-'\n",
    "clean_frame.groupby('Изучаемый_Язык')['ID'].count()"
   ]
  },
  {
   "cell_type": "code",
   "execution_count": null,
   "metadata": {},
   "outputs": [],
   "source": [
    "clean_frame.loc[clean_frame['Пол'].isnull(), 'Пол'] = '-'\n",
    "clean_frame.groupby('Пол')['ID'].count()"
   ]
  },
  {
   "cell_type": "code",
   "execution_count": null,
   "metadata": {},
   "outputs": [],
   "source": [
    "clean_frame.loc[clean_frame['Уч_Заведение'].isnull(), 'Уч_Заведение'] = '-'\n",
    "clean_frame.groupby('Уч_Заведение')['ID'].count()"
   ]
  },
  {
   "cell_type": "code",
   "execution_count": null,
   "metadata": {},
   "outputs": [],
   "source": [
    "clean_frame.loc[clean_frame['Где_Находится_УЗ'].isnull(), 'Где_Находится_УЗ'] = '-'"
   ]
  },
  {
   "cell_type": "code",
   "execution_count": null,
   "metadata": {},
   "outputs": [],
   "source": [
    "clean_frame.loc[clean_frame['Пособие'].isnull(), 'Пособие'] = 0\n",
    "clean_frame.groupby('Пособие')['ID'].count()"
   ]
  },
  {
   "cell_type": "code",
   "execution_count": null,
   "metadata": {},
   "outputs": [],
   "source": [
    "clean_frame.loc[clean_frame['Страна_ПП'].isnull(), 'Страна_ПП'] = '-'\n",
    "clean_frame.loc[clean_frame['Страна_ПП'] == 'Кыргызия', 'Страна_ПП'] = 'Кыргызская Республика'\n",
    "clean_frame.loc[clean_frame['Страна_ПП'] == 'Киргизия', 'Страна_ПП'] = 'Кыргызская Республика'\n",
    "clean_frame.loc[clean_frame['Страна_ПП'] == 'Кыргызстан', 'Страна_ПП'] = 'Кыргызская Республика'\n",
    "\n",
    "clean_frame.loc[clean_frame['Страна_ПП'] == 'Казахстан', 'Страна_ПП'] = 'Республика Казахстан'\n",
    "clean_frame.loc[clean_frame['Страна_ПП'] == 'Казахстан ВКО', 'Страна_ПП'] = 'Республика Казахстан'\n",
    "clean_frame.loc[clean_frame['Страна_ПП'] == 'Казахстан Респ', 'Страна_ПП'] = 'Республика Казахстан'\n",
    "clean_frame.loc[clean_frame['Страна_ПП'] == 'Казахстан респ', 'Страна_ПП'] = 'Республика Казахстан'\n",
    "\n",
    "clean_frame.loc[clean_frame['Страна_ПП'] == 'Таджикистан', 'Страна_ПП'] = 'Республика Таджикистан'\n",
    "clean_frame.loc[clean_frame['Страна_ПП'] == 'Таджикистан Респ', 'Страна_ПП'] = 'Республика Таджикистан'\n",
    "\n",
    "clean_frame.loc[clean_frame['Страна_ПП'] == 'РОССИЯ', 'Страна_ПП'] = 'Россия'\n",
    "clean_frame.loc[clean_frame['Страна_ПП'] == 'Росссия', 'Страна_ПП'] = 'Россия'\n",
    "\n",
    "russia_city = ['Барнаул', 'г. Барнаул' , 'Славгород', 'Рубцовск', 'Г.Барнаул', 'Г. Новоалтайск', 'Бийск', 'Белокуриха', 'Барнаул г', 'Новоалтайск', 'Благовещенка РП', 'с. Подсосново', 'Среднекрасилово с']\n",
    "clean_frame.loc[(clean_frame['Страна_ПП'] == '-') & (clean_frame['Город_ПП'].isin(russia_city)), ['Страна_ПП']] = 'Россия'\n",
    "turkmen_city = ['Туркменабат']\n",
    "clean_frame.loc[(clean_frame['Страна_ПП'] == '-') & (clean_frame['Город_ПП'].isin(turkmen_city)), ['Страна_ПП']] = 'Туркменистан'\n",
    "\n",
    "clean_frame.loc[(clean_frame['Страна_ПП'] == '-') & (clean_frame['Страна_Родители'] == 'Россия'), 'Страна_ПП'] = 'Россия'\n",
    "clean_frame.loc[(clean_frame['Страна_ПП'] == '-') & (clean_frame['Страна_Родители'] == 'Республика Казахстан'), 'Страна_ПП'] = 'Республика Казахстан'\n",
    "clean_frame.loc[(clean_frame['Страна_ПП'] == '-') & (clean_frame['Страна_Родители'] == 'Республика Таджикистан'), 'Страна_ПП'] = 'Республика Таджикистан'\n",
    "\n",
    "clean_frame.loc[(clean_frame['Страна_ПП'] == '-') & (clean_frame['Где_Находится_УЗ'].str.contains('россия', case=False)), 'Страна_ПП'] = 'Россия'\n",
    "clean_frame.loc[(clean_frame['Страна_ПП'] == '-') & (clean_frame['Где_Находится_УЗ'].str.contains('барнаул', case=False)), 'Страна_ПП'] = 'Россия'\n",
    "clean_frame.loc[(clean_frame['Страна_ПП'] == '-') & (clean_frame['Где_Находится_УЗ'].str.contains('москва', case=False)), 'Страна_ПП'] = 'Россия'\n",
    "clean_frame.loc[(clean_frame['Страна_ПП'] == '-') & (clean_frame['Где_Находится_УЗ'].str.contains('рубцовск', case=False)), 'Страна_ПП'] = 'Россия'\n",
    "clean_frame.loc[(clean_frame['Страна_ПП'] == '-') & (clean_frame['Где_Находится_УЗ'].str.contains('славгород', case=False)), 'Страна_ПП'] = 'Россия'\n",
    "\n",
    "clean_frame.loc[(clean_frame['Страна_ПП'] == '-') & (clean_frame['Уч_Заведение'].str.contains('АлтГУ', case=False)), 'Страна_ПП'] = 'Россия'\n",
    "clean_frame.loc[(clean_frame['Страна_ПП'] == '-') & (clean_frame['Уч_Заведение'].str.contains('островского', case=False)), 'Страна_ПП'] = 'Республика Казахстан'\n",
    "russia_school = ['ГКУ СОШ №9', 'ГОУ лицей №3', 'КГУ \"СОШ №3\"']\n",
    "clean_frame.loc[(clean_frame['Страна_ПП'] == '-') & (clean_frame['Уч_Заведение'].isin(russia_school)), ['Страна_ПП']] = 'Россия'\n",
    "\n",
    "clean_frame.groupby('Страна_ПП')['ID'].count()\n"
   ]
  },
  {
   "cell_type": "code",
   "execution_count": null,
   "metadata": {},
   "outputs": [],
   "source": [
    "clean_frame.loc[clean_frame['Регион_ПП'].isnull(), 'Регион_ПП'] = '-'"
   ]
  },
  {
   "cell_type": "code",
   "execution_count": null,
   "metadata": {},
   "outputs": [],
   "source": [
    "clean_frame.loc[clean_frame['Город_ПП'].isnull(), 'Город_ПП'] = '-'"
   ]
  },
  {
   "cell_type": "code",
   "execution_count": null,
   "metadata": {},
   "outputs": [],
   "source": [
    "clean_frame.loc[clean_frame['Общежитие'].isnull(), 'Общежитие'] = 0\n",
    "clean_frame.groupby('Общежитие')['ID'].count()"
   ]
  },
  {
   "cell_type": "code",
   "execution_count": null,
   "metadata": {},
   "outputs": [],
   "source": [
    "clean_frame.loc[clean_frame['Страна_Родители'].isnull(), 'Страна_Родители'] = '-'\n",
    "\n",
    "clean_frame.loc[clean_frame['Страна_Родители'] == 'КНР', 'Страна_Родители'] = 'Китай'\n",
    "clean_frame.loc[clean_frame['Страна_Родители'] == 'Казахстан', 'Страна_Родители'] = 'Республика Казахстан'\n",
    "clean_frame.loc[clean_frame['Страна_Родители'] == 'казахстан', 'Страна_Родители'] = 'Республика Казахстан'\n",
    "clean_frame.loc[clean_frame['Страна_Родители'] == 'Кыргызстан', 'Страна_Родители'] = 'Кыргызская Республика'\n",
    "clean_frame.loc[clean_frame['Страна_Родители'] == 'Киргизия', 'Страна_Родители'] = 'Кыргызская Республика'\n",
    "clean_frame.loc[clean_frame['Страна_Родители'] == 'Таджикистан', 'Страна_Родители'] = 'Республика Таджикистан'\n",
    "\n",
    "clean_frame.loc[(clean_frame['Страна_Родители'] == '-') & (clean_frame['Страна_ПП'] != '-'), 'Страна_Родители'] = clean_frame.loc[(clean_frame['Страна_Родители'] == '-') & (clean_frame['Страна_ПП'] != '-'), 'Страна_ПП']\n",
    "\n",
    "clean_frame.groupby('Страна_Родители')['ID'].count()"
   ]
  },
  {
   "cell_type": "code",
   "execution_count": null,
   "metadata": {},
   "outputs": [],
   "source": [
    "clean_frame.loc[clean_frame['Опекунство'].isnull(), 'Опекунство'] = 0\n",
    "clean_frame.groupby('Опекунство')['ID'].count()"
   ]
  },
  {
   "cell_type": "code",
   "execution_count": null,
   "metadata": {},
   "outputs": [],
   "source": [
    "\n",
    "clean_frame.loc[(clean_frame['Село'].isnull()) & (~clean_frame['Город_ПП'].isin(['Барнаул', 'Барнаул г',])), 'Село'] = 1\n",
    "clean_frame.loc[(clean_frame['Село'].isnull()) & (clean_frame['Город_ПП'].isin(['Барнаул', 'Барнаул г',])), 'Село'] = 0\n",
    "clean_frame.loc[(clean_frame['Село'].isnull())]\n",
    "clean_frame.groupby('Село')['ID'].count()"
   ]
  },
  {
   "cell_type": "code",
   "execution_count": null,
   "metadata": {},
   "outputs": [],
   "source": [
    "\n",
    "clean_frame.loc[(clean_frame['Иностранец'].isnull()) & (~clean_frame['Иностранец'].isin(['Россия'])), 'Иностранец'] = 1\n",
    "clean_frame.loc[(clean_frame['Иностранец'].isnull()) & (clean_frame['Иностранец'].isin(['Россия'])), 'Иностранец'] = 0\n",
    "clean_frame.loc[(clean_frame['Иностранец'].isnull())]\n",
    "clean_frame.groupby('Иностранец')['ID'].count()"
   ]
  },
  {
   "cell_type": "code",
   "execution_count": null,
   "metadata": {},
   "outputs": [],
   "source": [
    "clean_frame.loc[(clean_frame['КодФакультета'].isnull())]"
   ]
  },
  {
   "cell_type": "code",
   "execution_count": null,
   "metadata": {},
   "outputs": [],
   "source": [
    "clean_frame.loc[(clean_frame['СрБаллАттестата'].isnull())]\n",
    "big_atestat = clean_frame.loc[clean_frame['СрБаллАттестата'] > 100, 'ID'].to_list()\n",
    "small_atestat = clean_frame.loc[clean_frame['СрБаллАттестата'] < 5, 'ID'].to_list()\n",
    "clean_frame.loc[clean_frame['СрБаллАттестата'] > 100, 'СрБаллАттестата'] = clean_frame.loc[clean_frame['СрБаллАттестата'] > 100, 'СрБаллАттестата'] / 100\n",
    "#clean_frame.loc[clean_frame['СрБаллАттестата'] < 5, 'СрБаллАттестата'] = clean_frame.loc[clean_frame['СрБаллАттестата'] < 5, 'СрБаллАттестата'] * 10\n",
    "clean_frame.loc[clean_frame['ID'].isin(big_atestat), 'СрБаллАттестата']\n",
    "\n",
    "\n"
   ]
  },
  {
   "cell_type": "code",
   "execution_count": null,
   "metadata": {},
   "outputs": [],
   "source": [
    "clean_frame.loc[(clean_frame['Статус'].isnull())]"
   ]
  },
  {
   "cell_type": "code",
   "execution_count": null,
   "metadata": {},
   "outputs": [],
   "source": [
    "clean_frame['СрБаллАттестата'].describe()"
   ]
  },
  {
   "cell_type": "code",
   "execution_count": null,
   "metadata": {},
   "outputs": [],
   "source": [
    "asu_frame.columns"
   ]
  },
  {
   "cell_type": "code",
   "execution_count": null,
   "metadata": {},
   "outputs": [],
   "source": [
    "columns_to_csv = ['Год_Поступления', 'Пол', 'Основания', 'Изучаемый_Язык', 'Дата_Рождения', 'Страна_ПП', 'Общежитие', 'Наличие_Матери', 'Наличие_Отца', 'Страна_Родители',\n",
    "       'Опекунство', 'Село', 'Иностранец', 'КодФакультета', 'СрБаллАттестата',\n",
    "       'Статус', 'male', 'female', 'sex_summ', 'birth_year', 'entrance']"
   ]
  },
  {
   "cell_type": "code",
   "execution_count": null,
   "metadata": {},
   "outputs": [],
   "source": [
    "clean_frame.columns[clean_frame.isna().any()].tolist()"
   ]
  },
  {
   "cell_type": "code",
   "execution_count": null,
   "metadata": {},
   "outputs": [],
   "source": [
    "clean_frame.loc[:, ['Основания', 'male', 'female']].head(10)"
   ]
  },
  {
   "cell_type": "code",
   "execution_count": null,
   "metadata": {},
   "outputs": [],
   "source": []
  },
  {
   "cell_type": "markdown",
   "metadata": {},
   "source": [
    "# Составление справочников кодов для текстовых колонок"
   ]
  },
  {
   "cell_type": "code",
   "execution_count": null,
   "metadata": {},
   "outputs": [],
   "source": [
    "input_train = clean_frame.head(10).copy()\n",
    "input_train.head(2)"
   ]
  },
  {
   "cell_type": "code",
   "execution_count": null,
   "metadata": {
    "tags": []
   },
   "outputs": [],
   "source": [
    "clean_frame.info()"
   ]
  },
  {
   "cell_type": "code",
   "execution_count": null,
   "metadata": {},
   "outputs": [],
   "source": [
    "# проверка полноты формирования спика колонок по форматам\n",
    "non_digit_columns_num = clean_frame.dtypes[(clean_frame.dtypes == \"datetime64[ns]\") | (clean_frame.dtypes == \"object\")].count()\n",
    "digit_columns_num = clean_frame.dtypes[(clean_frame.dtypes == \"int64\") | (clean_frame.dtypes == \"float64\")].count()\n",
    "clean_frame.shape[1] - (non_digit_columns_num + digit_columns_num)"
   ]
  },
  {
   "cell_type": "code",
   "execution_count": null,
   "metadata": {},
   "outputs": [],
   "source": [
    "# список не числовых колонок\n",
    "non_digit_columns = clean_frame.dtypes[(clean_frame.dtypes == \"datetime64[ns]\") | (clean_frame.dtypes == \"object\")].index.to_list()\n",
    "non_digit_columns"
   ]
  },
  {
   "cell_type": "code",
   "execution_count": null,
   "metadata": {},
   "outputs": [],
   "source": [
    "# список числовых колонок\n",
    "\n",
    "digit_columns = clean_frame.dtypes[(clean_frame.dtypes == \"int64\") | (clean_frame.dtypes == \"float64\")].index.to_list()\n",
    "digit_columns"
   ]
  },
  {
   "cell_type": "code",
   "execution_count": null,
   "metadata": {},
   "outputs": [],
   "source": [
    "columns_to_code = {\n",
    "    'Основания': 'basis',\n",
    "    'Изучаемый_Язык': 'language',    \n",
    "    'Страна_ПП': 'country',\n",
    "    'Регион_ПП': 'region',\n",
    "    'Город_ПП': 'city',\n",
    "    'Страна_Родители': 'parents_country',\n",
    "}"
   ]
  },
  {
   "cell_type": "code",
   "execution_count": null,
   "metadata": {},
   "outputs": [],
   "source": [
    "def code_dict(column_name: str):\n",
    "    code_frame = clean_frame.groupby(column_name)['ID'].count()\n",
    "    code_list = code_frame.index.to_list()\n",
    "    target_dict = {}\n",
    "    for num, name in enumerate(code_list):\n",
    "        target_dict[name] = num\n",
    "    return target_dict"
   ]
  },
  {
   "cell_type": "code",
   "execution_count": null,
   "metadata": {},
   "outputs": [],
   "source": [
    "def test(x, arg):\n",
    "    mes = f'chore - {x}, change to {arg[x]}'\n",
    "    print(mes)\n",
    "\n",
    "#input_train['Изучаемый_Язык'].apply(test, args=({'Английский язык': 'o', '-': 'g'},))"
   ]
  },
  {
   "cell_type": "code",
   "execution_count": null,
   "metadata": {},
   "outputs": [],
   "source": [
    "# Функция для преобразования слова в код по заданному правилу\n",
    "\n",
    "def get_code(x: pd.Series, code_dict) -> pd.Series:    \n",
    "    return code_dict[x]\n",
    "\n"
   ]
  },
  {
   "cell_type": "code",
   "execution_count": null,
   "metadata": {},
   "outputs": [],
   "source": [
    "codes_rule = {}\n",
    "for name, code in columns_to_code.items():\n",
    "    target_dict = code_dict(name)\n",
    "    codes_rule[name] = target_dict\n",
    "    input_train[columns_to_code[name]] = input_train[name].apply(get_code, args=(target_dict,))\n",
    "\n",
    "input_train.head(3)"
   ]
  },
  {
   "cell_type": "code",
   "execution_count": null,
   "metadata": {},
   "outputs": [],
   "source": [
    "list(columns_to_code.values())"
   ]
  },
  {
   "cell_type": "code",
   "execution_count": null,
   "metadata": {},
   "outputs": [],
   "source": [
    "columns_to_model = digit_columns + list(columns_to_code.values())\n",
    "columns_to_model"
   ]
  },
  {
   "cell_type": "code",
   "execution_count": null,
   "metadata": {},
   "outputs": [],
   "source": [
    "input_train.loc[:, columns_to_model].to_csv('data/clean.csv', index_label='ind')"
   ]
  },
  {
   "cell_type": "code",
   "execution_count": null,
   "metadata": {},
   "outputs": [],
   "source": [
    "codes_rule = {}\n",
    "for name, code in columns_to_code.items():\n",
    "    target_dict = code_dict(name)\n",
    "    codes_rule[name] = target_dict    \n",
    "    clean_frame[columns_to_code[name]] = clean_frame[name].apply(get_code, args=(code_dict(name),))\n",
    "\n",
    "clean_frame.head(3)"
   ]
  },
  {
   "cell_type": "code",
   "execution_count": null,
   "metadata": {},
   "outputs": [],
   "source": [
    "frame_to_csv = clean_frame.copy()"
   ]
  },
  {
   "cell_type": "code",
   "execution_count": null,
   "metadata": {},
   "outputs": [],
   "source": [
    "\n",
    "frame_to_csv.loc[:, columns_to_model].to_csv('data/clean_frame.csv', index_label='ind')"
   ]
  },
  {
   "cell_type": "code",
   "execution_count": null,
   "metadata": {},
   "outputs": [],
   "source": [
    "import yaml\n",
    "with open('data/codes.yaml', 'w') as file:\n",
    "    yaml.dump(codes_rule, file)"
   ]
  },
  {
   "cell_type": "code",
   "execution_count": null,
   "metadata": {},
   "outputs": [],
   "source": []
  }
 ],
 "metadata": {
  "kernelspec": {
   "display_name": "Python 3.10.0 ('venv': venv)",
   "language": "python",
   "name": "python3"
  },
  "language_info": {
   "codemirror_mode": {
    "name": "ipython",
    "version": 3
   },
   "file_extension": ".py",
   "mimetype": "text/x-python",
   "name": "python",
   "nbconvert_exporter": "python",
   "pygments_lexer": "ipython3",
   "version": "3.10.0"
  },
  "orig_nbformat": 4,
  "vscode": {
   "interpreter": {
    "hash": "51c73a6595d20bbc39952c03157596619c73f94de3e8d7812583abf83cf493bf"
   }
  }
 },
 "nbformat": 4,
 "nbformat_minor": 2
}
